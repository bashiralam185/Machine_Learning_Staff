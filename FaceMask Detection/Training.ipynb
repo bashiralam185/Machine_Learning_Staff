{
 "cells": [
  {
   "cell_type": "code",
   "execution_count": 1,
   "id": "505f6f38",
   "metadata": {},
   "outputs": [
    {
     "name": "stderr",
     "output_type": "stream",
     "text": [
      "2023-06-05 15:06:19.168684: I tensorflow/tsl/cuda/cudart_stub.cc:28] Could not find cuda drivers on your machine, GPU will not be used.\n",
      "2023-06-05 15:06:19.228683: I tensorflow/tsl/cuda/cudart_stub.cc:28] Could not find cuda drivers on your machine, GPU will not be used.\n",
      "2023-06-05 15:06:19.229361: I tensorflow/core/platform/cpu_feature_guard.cc:182] This TensorFlow binary is optimized to use available CPU instructions in performance-critical operations.\n",
      "To enable the following instructions: AVX2 FMA, in other operations, rebuild TensorFlow with the appropriate compiler flags.\n",
      "2023-06-05 15:06:20.088607: W tensorflow/compiler/tf2tensorrt/utils/py_utils.cc:38] TF-TRT Warning: Could not find TensorRT\n"
     ]
    }
   ],
   "source": [
    "# importing the modules\n",
    "import numpy as np\n",
    "import keras\n",
    "import keras.backend as k\n",
    "from keras.layers import Conv2D,MaxPooling2D,SpatialDropout2D,Flatten,Dropout,Dense\n",
    "from keras.models import Sequential,load_model\n",
    "from keras.optimizers import Adam\n",
    "import keras.utils as image"
   ]
  },
  {
   "cell_type": "code",
   "execution_count": 2,
   "id": "438ee48c",
   "metadata": {},
   "outputs": [],
   "source": [
    "# building model"
   ]
  },
  {
   "cell_type": "code",
   "execution_count": 3,
   "id": "99b62cdb",
   "metadata": {},
   "outputs": [],
   "source": [
    "model=Sequential()\n",
    "model.add(Conv2D(32,(3,3),activation='relu',input_shape=(150,150,3)))\n",
    "model.add(MaxPooling2D() )\n",
    "model.add(Conv2D(32,(3,3),activation='relu'))\n",
    "model.add(MaxPooling2D() )\n",
    "model.add(Conv2D(32,(3,3),activation='relu'))\n",
    "model.add(MaxPooling2D() )\n",
    "model.add(Flatten())\n",
    "model.add(Dense(100,activation='relu'))\n",
    "model.add(Dense(1,activation='sigmoid'))"
   ]
  },
  {
   "cell_type": "code",
   "execution_count": 5,
   "id": "a8be71c9",
   "metadata": {},
   "outputs": [
    {
     "name": "stdout",
     "output_type": "stream",
     "text": [
      "Found 1314 images belonging to 2 classes.\n",
      "Found 194 images belonging to 2 classes.\n",
      "Epoch 1/10\n"
     ]
    },
    {
     "name": "stderr",
     "output_type": "stream",
     "text": [
      "/tmp/ipykernel_1613135/3627098988.py:24: UserWarning: `Model.fit_generator` is deprecated and will be removed in a future version. Please use `Model.fit`, which supports generators.\n",
      "  model_saved=model.fit_generator(\n",
      "2023-06-05 15:07:37.956574: I tensorflow/core/common_runtime/executor.cc:1197] [/device:CPU:0] (DEBUG INFO) Executor start aborting (this does not indicate an error and you can ignore this message): INVALID_ARGUMENT: You must feed a value for placeholder tensor 'Placeholder/_0' with dtype int32\n",
      "\t [[{{node Placeholder/_0}}]]\n"
     ]
    },
    {
     "name": "stdout",
     "output_type": "stream",
     "text": [
      "83/83 [==============================] - ETA: 0s - loss: 0.2802 - accuracy: 0.9011"
     ]
    },
    {
     "name": "stderr",
     "output_type": "stream",
     "text": [
      "2023-06-05 15:07:55.800886: I tensorflow/core/common_runtime/executor.cc:1197] [/device:CPU:0] (DEBUG INFO) Executor start aborting (this does not indicate an error and you can ignore this message): INVALID_ARGUMENT: You must feed a value for placeholder tensor 'Placeholder/_0' with dtype int32\n",
      "\t [[{{node Placeholder/_0}}]]\n"
     ]
    },
    {
     "name": "stdout",
     "output_type": "stream",
     "text": [
      "83/83 [==============================] - 19s 212ms/step - loss: 0.2802 - accuracy: 0.9011 - val_loss: 0.1308 - val_accuracy: 0.9485\n",
      "Epoch 2/10\n",
      "83/83 [==============================] - 19s 228ms/step - loss: 0.1379 - accuracy: 0.9490 - val_loss: 0.1573 - val_accuracy: 0.9433\n",
      "Epoch 3/10\n",
      "83/83 [==============================] - 19s 232ms/step - loss: 0.1062 - accuracy: 0.9597 - val_loss: 0.0927 - val_accuracy: 0.9691\n",
      "Epoch 4/10\n",
      "83/83 [==============================] - 19s 222ms/step - loss: 0.1031 - accuracy: 0.9581 - val_loss: 0.1100 - val_accuracy: 0.9536\n",
      "Epoch 5/10\n",
      "83/83 [==============================] - 18s 221ms/step - loss: 0.0876 - accuracy: 0.9734 - val_loss: 0.1419 - val_accuracy: 0.9485\n",
      "Epoch 6/10\n",
      "83/83 [==============================] - 18s 221ms/step - loss: 0.1088 - accuracy: 0.9589 - val_loss: 0.0938 - val_accuracy: 0.9639\n",
      "Epoch 7/10\n",
      "83/83 [==============================] - 19s 222ms/step - loss: 0.0684 - accuracy: 0.9817 - val_loss: 0.0933 - val_accuracy: 0.9742\n",
      "Epoch 8/10\n",
      "83/83 [==============================] - 18s 220ms/step - loss: 0.0492 - accuracy: 0.9817 - val_loss: 0.0955 - val_accuracy: 0.9742\n",
      "Epoch 9/10\n",
      "83/83 [==============================] - 18s 219ms/step - loss: 0.0792 - accuracy: 0.9741 - val_loss: 0.1332 - val_accuracy: 0.9588\n",
      "Epoch 10/10\n",
      "83/83 [==============================] - 19s 223ms/step - loss: 0.0529 - accuracy: 0.9810 - val_loss: 0.0771 - val_accuracy: 0.9794\n"
     ]
    }
   ],
   "source": [
    "model.compile(optimizer='adam',loss='binary_crossentropy',metrics=['accuracy'])\n",
    "\n",
    "from keras.preprocessing.image import ImageDataGenerator\n",
    "train_datagen = ImageDataGenerator(\n",
    "        rescale=1./255,\n",
    "        shear_range=0.2,\n",
    "        zoom_range=0.2,\n",
    "        horizontal_flip=True)\n",
    "\n",
    "test_datagen = ImageDataGenerator(rescale=1./255)\n",
    "\n",
    "training_set = train_datagen.flow_from_directory(\n",
    "        'train',\n",
    "        target_size=(150,150),\n",
    "        batch_size=16 ,\n",
    "        class_mode='binary')\n",
    "\n",
    "test_set = test_datagen.flow_from_directory(\n",
    "        'test',\n",
    "        target_size=(150,150),\n",
    "        batch_size=16,\n",
    "        class_mode='binary')\n",
    "\n",
    "model_saved=model.fit_generator(\n",
    "        training_set,\n",
    "        epochs=10,\n",
    "        validation_data=test_set,\n",
    "\n",
    "        )\n",
    "\n",
    "model.save('mymodel.h5',model_saved)\n"
   ]
  },
  {
   "cell_type": "code",
   "execution_count": null,
   "id": "95207f6c",
   "metadata": {},
   "outputs": [],
   "source": []
  }
 ],
 "metadata": {
  "kernelspec": {
   "display_name": "Python 3 (ipykernel)",
   "language": "python",
   "name": "python3"
  },
  "language_info": {
   "codemirror_mode": {
    "name": "ipython",
    "version": 3
   },
   "file_extension": ".py",
   "mimetype": "text/x-python",
   "name": "python",
   "nbconvert_exporter": "python",
   "pygments_lexer": "ipython3",
   "version": "3.10.6"
  }
 },
 "nbformat": 4,
 "nbformat_minor": 5
}
