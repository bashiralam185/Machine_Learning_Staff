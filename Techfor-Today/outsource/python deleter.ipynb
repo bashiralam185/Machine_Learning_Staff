{
 "cells": [
  {
   "cell_type": "code",
   "execution_count": 2,
   "id": "9478c5a7",
   "metadata": {},
   "outputs": [],
   "source": [
    "# creating the class\n",
    "class Car:\n",
    "\n",
    "    # initializing\n",
    "    def __init__(self, model):\n",
    "        \n",
    "        # private varibale or property in Python\n",
    "        self.__model = model\n",
    "\n",
    "    #getter method to get the property\n",
    "    def get(self):\n",
    "        return self.__model\n",
    "\n",
    "    #setter method to change the value\n",
    "    def set_a(self, model):\n",
    "        self.__model = model"
   ]
  },
  {
   "cell_type": "code",
   "execution_count": 4,
   "id": "e053f083",
   "metadata": {},
   "outputs": [],
   "source": [
    "# creating an object\n",
    "car = Car(2016)\n"
   ]
  },
  {
   "cell_type": "code",
   "execution_count": 6,
   "id": "98ac1917",
   "metadata": {},
   "outputs": [
    {
     "name": "stdout",
     "output_type": "stream",
     "text": [
      "2016\n"
     ]
    }
   ],
   "source": [
    "## getting the value of model\n",
    "print(car.get())\n"
   ]
  },
  {
   "cell_type": "code",
   "execution_count": 8,
   "id": "9d19b7a6",
   "metadata": {},
   "outputs": [
    {
     "name": "stdout",
     "output_type": "stream",
     "text": [
      "2019\n"
     ]
    }
   ],
   "source": [
    "## setting a new value\n",
    "car.set_a(2019)\n",
    "\n",
    "## getting the value of model\n",
    "print(car.get())"
   ]
  },
  {
   "cell_type": "code",
   "execution_count": 21,
   "id": "42ddcfa6",
   "metadata": {},
   "outputs": [],
   "source": [
    "# creating the class\n",
    "class Student:\n",
    "\n",
    "    # initializing\n",
    "    def __init__(self, name):\n",
    "        \n",
    "        # private varibale or property in Python\n",
    "        self.__name = name\n",
    "\n",
    "    #getter method to get the property\n",
    "    def get(self):\n",
    "        return self.__name\n",
    "\n",
    "    #setter method to change the value\n",
    "    def set_a(self, name):\n",
    "        self.__name = name\n",
    "    \n",
    "    # creating python deleter\n",
    "    def deleter(self):\n",
    "        del self.name"
   ]
  },
  {
   "cell_type": "code",
   "execution_count": 22,
   "id": "c92ff067",
   "metadata": {},
   "outputs": [
    {
     "name": "stdout",
     "output_type": "stream",
     "text": [
      "Bashir Alam\n"
     ]
    }
   ],
   "source": [
    "# creating an object\n",
    "student1 = Student(\"Bashir Alam\")\n",
    "\n",
    "# accessing the name of the student\n",
    "print(student1.get())"
   ]
  },
  {
   "cell_type": "code",
   "execution_count": 24,
   "id": "330f98d2",
   "metadata": {},
   "outputs": [
    {
     "ename": "AttributeError",
     "evalue": "name",
     "output_type": "error",
     "traceback": [
      "\u001b[0;31m---------------------------------------------------------------------------\u001b[0m",
      "\u001b[0;31mAttributeError\u001b[0m                            Traceback (most recent call last)",
      "\u001b[0;32m/tmp/ipykernel_67301/421661857.py\u001b[0m in \u001b[0;36m<module>\u001b[0;34m\u001b[0m\n\u001b[1;32m      1\u001b[0m \u001b[0;31m# calling python deleter\u001b[0m\u001b[0;34m\u001b[0m\u001b[0;34m\u001b[0m\u001b[0m\n\u001b[0;32m----> 2\u001b[0;31m \u001b[0mstudent1\u001b[0m\u001b[0;34m.\u001b[0m\u001b[0mdeleter\u001b[0m\u001b[0;34m(\u001b[0m\u001b[0;34m)\u001b[0m\u001b[0;34m\u001b[0m\u001b[0;34m\u001b[0m\u001b[0m\n\u001b[0m\u001b[1;32m      3\u001b[0m \u001b[0;34m\u001b[0m\u001b[0m\n\u001b[1;32m      4\u001b[0m \u001b[0;31m# printing the name\u001b[0m\u001b[0;34m\u001b[0m\u001b[0;34m\u001b[0m\u001b[0m\n\u001b[1;32m      5\u001b[0m \u001b[0mprint\u001b[0m\u001b[0;34m(\u001b[0m\u001b[0mstudent1\u001b[0m\u001b[0;34m.\u001b[0m\u001b[0mget\u001b[0m\u001b[0;34m(\u001b[0m\u001b[0;34m)\u001b[0m\u001b[0;34m)\u001b[0m\u001b[0;34m\u001b[0m\u001b[0;34m\u001b[0m\u001b[0m\n",
      "\u001b[0;32m/tmp/ipykernel_67301/1006019985.py\u001b[0m in \u001b[0;36mdeleter\u001b[0;34m(self)\u001b[0m\n\u001b[1;32m     18\u001b[0m     \u001b[0;31m# creating python deleter\u001b[0m\u001b[0;34m\u001b[0m\u001b[0;34m\u001b[0m\u001b[0m\n\u001b[1;32m     19\u001b[0m     \u001b[0;32mdef\u001b[0m \u001b[0mdeleter\u001b[0m\u001b[0;34m(\u001b[0m\u001b[0mself\u001b[0m\u001b[0;34m)\u001b[0m\u001b[0;34m:\u001b[0m\u001b[0;34m\u001b[0m\u001b[0;34m\u001b[0m\u001b[0m\n\u001b[0;32m---> 20\u001b[0;31m         \u001b[0;32mdel\u001b[0m \u001b[0mself\u001b[0m\u001b[0;34m.\u001b[0m\u001b[0mname\u001b[0m\u001b[0;34m\u001b[0m\u001b[0;34m\u001b[0m\u001b[0m\n\u001b[0m",
      "\u001b[0;31mAttributeError\u001b[0m: name"
     ]
    }
   ],
   "source": [
    "# calling python deleter\n",
    "student1.deleter()\n",
    "\n",
    "# printing the name\n",
    "print(student1.get())"
   ]
  },
  {
   "cell_type": "code",
   "execution_count": 26,
   "id": "6a903b81",
   "metadata": {},
   "outputs": [],
   "source": [
    "# creating a class\n",
    "class Student:\n",
    "    \n",
    "    def __init__(self, name):\n",
    "        self._name = name\n",
    "\n",
    "    # using decorator for property\n",
    "    @property\n",
    "    def name(self):\n",
    "        return self._name\n",
    "\n",
    "    # using decorators for setter\n",
    "    @name.setter\n",
    "    def name(self, value):\n",
    "        self._name = value\n",
    "\n",
    "    #using decorator for python deleter\n",
    "    @name.deleter\n",
    "    def name(self):\n",
    "        del self._name"
   ]
  },
  {
   "cell_type": "code",
   "execution_count": 28,
   "id": "232dda84",
   "metadata": {},
   "outputs": [
    {
     "name": "stdout",
     "output_type": "stream",
     "text": [
      "Bashir Alam\n"
     ]
    }
   ],
   "source": [
    "# creating new object\n",
    "person = Student('Bashir Alam')\n",
    "\n",
    "# printing the name\n",
    "print(person.name)"
   ]
  },
  {
   "cell_type": "code",
   "execution_count": 29,
   "id": "adc9d64f",
   "metadata": {},
   "outputs": [
    {
     "ename": "AttributeError",
     "evalue": "'Student' object has no attribute '_name'",
     "output_type": "error",
     "traceback": [
      "\u001b[0;31m---------------------------------------------------------------------------\u001b[0m",
      "\u001b[0;31mAttributeError\u001b[0m                            Traceback (most recent call last)",
      "\u001b[0;32m/tmp/ipykernel_67301/220876538.py\u001b[0m in \u001b[0;36m<module>\u001b[0;34m\u001b[0m\n\u001b[1;32m      3\u001b[0m \u001b[0;34m\u001b[0m\u001b[0m\n\u001b[1;32m      4\u001b[0m \u001b[0;31m# calling name\u001b[0m\u001b[0;34m\u001b[0m\u001b[0;34m\u001b[0m\u001b[0m\n\u001b[0;32m----> 5\u001b[0;31m \u001b[0mprint\u001b[0m\u001b[0;34m(\u001b[0m\u001b[0mperson\u001b[0m\u001b[0;34m.\u001b[0m\u001b[0mname\u001b[0m\u001b[0;34m)\u001b[0m\u001b[0;34m\u001b[0m\u001b[0;34m\u001b[0m\u001b[0m\n\u001b[0m",
      "\u001b[0;32m/tmp/ipykernel_67301/2106793373.py\u001b[0m in \u001b[0;36mname\u001b[0;34m(self)\u001b[0m\n\u001b[1;32m      6\u001b[0m     \u001b[0;34m@\u001b[0m\u001b[0mproperty\u001b[0m\u001b[0;34m\u001b[0m\u001b[0;34m\u001b[0m\u001b[0m\n\u001b[1;32m      7\u001b[0m     \u001b[0;32mdef\u001b[0m \u001b[0mname\u001b[0m\u001b[0;34m(\u001b[0m\u001b[0mself\u001b[0m\u001b[0;34m)\u001b[0m\u001b[0;34m:\u001b[0m\u001b[0;34m\u001b[0m\u001b[0;34m\u001b[0m\u001b[0m\n\u001b[0;32m----> 8\u001b[0;31m         \u001b[0;32mreturn\u001b[0m \u001b[0mself\u001b[0m\u001b[0;34m.\u001b[0m\u001b[0m_name\u001b[0m\u001b[0;34m\u001b[0m\u001b[0;34m\u001b[0m\u001b[0m\n\u001b[0m\u001b[1;32m      9\u001b[0m \u001b[0;34m\u001b[0m\u001b[0m\n\u001b[1;32m     10\u001b[0m     \u001b[0;31m# using decorators for setter\u001b[0m\u001b[0;34m\u001b[0m\u001b[0;34m\u001b[0m\u001b[0m\n",
      "\u001b[0;31mAttributeError\u001b[0m: 'Student' object has no attribute '_name'"
     ]
    }
   ],
   "source": [
    "# deleting the name \n",
    "del person.name\n",
    "\n",
    "# calling name \n",
    "print(person.name)"
   ]
  },
  {
   "cell_type": "code",
   "execution_count": null,
   "id": "3e6e0944",
   "metadata": {},
   "outputs": [],
   "source": []
  }
 ],
 "metadata": {
  "kernelspec": {
   "display_name": "Python 3 (ipykernel)",
   "language": "python",
   "name": "python3"
  },
  "language_info": {
   "codemirror_mode": {
    "name": "ipython",
    "version": 3
   },
   "file_extension": ".py",
   "mimetype": "text/x-python",
   "name": "python",
   "nbconvert_exporter": "python",
   "pygments_lexer": "ipython3",
   "version": "3.10.6"
  }
 },
 "nbformat": 4,
 "nbformat_minor": 5
}
