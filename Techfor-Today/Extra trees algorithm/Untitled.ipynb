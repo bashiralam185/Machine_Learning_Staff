{
 "cells": [
  {
   "cell_type": "code",
   "execution_count": 1,
   "id": "f2b2c0e6",
   "metadata": {},
   "outputs": [
    {
     "data": {
      "text/html": [
       "<div>\n",
       "<style scoped>\n",
       "    .dataframe tbody tr th:only-of-type {\n",
       "        vertical-align: middle;\n",
       "    }\n",
       "\n",
       "    .dataframe tbody tr th {\n",
       "        vertical-align: top;\n",
       "    }\n",
       "\n",
       "    .dataframe thead th {\n",
       "        text-align: right;\n",
       "    }\n",
       "</style>\n",
       "<table border=\"1\" class=\"dataframe\">\n",
       "  <thead>\n",
       "    <tr style=\"text-align: right;\">\n",
       "      <th></th>\n",
       "      <th>Date</th>\n",
       "      <th>Open</th>\n",
       "      <th>High</th>\n",
       "      <th>Low</th>\n",
       "      <th>Close</th>\n",
       "      <th>Adj Close</th>\n",
       "      <th>Volume</th>\n",
       "    </tr>\n",
       "  </thead>\n",
       "  <tbody>\n",
       "    <tr>\n",
       "      <th>0</th>\n",
       "      <td>2021-09-05</td>\n",
       "      <td>49937.859375</td>\n",
       "      <td>51868.679688</td>\n",
       "      <td>49538.597656</td>\n",
       "      <td>51753.410156</td>\n",
       "      <td>51753.410156</td>\n",
       "      <td>30322676319</td>\n",
       "    </tr>\n",
       "    <tr>\n",
       "      <th>1</th>\n",
       "      <td>2021-09-06</td>\n",
       "      <td>51769.003906</td>\n",
       "      <td>52700.941406</td>\n",
       "      <td>51053.679688</td>\n",
       "      <td>52633.535156</td>\n",
       "      <td>52633.535156</td>\n",
       "      <td>38884105426</td>\n",
       "    </tr>\n",
       "    <tr>\n",
       "      <th>2</th>\n",
       "      <td>2021-09-07</td>\n",
       "      <td>52660.480469</td>\n",
       "      <td>52853.765625</td>\n",
       "      <td>43285.207031</td>\n",
       "      <td>46811.128906</td>\n",
       "      <td>46811.128906</td>\n",
       "      <td>65210059683</td>\n",
       "    </tr>\n",
       "    <tr>\n",
       "      <th>3</th>\n",
       "      <td>2021-09-08</td>\n",
       "      <td>46827.761719</td>\n",
       "      <td>47334.054688</td>\n",
       "      <td>44561.394531</td>\n",
       "      <td>46091.390625</td>\n",
       "      <td>46091.390625</td>\n",
       "      <td>49007762488</td>\n",
       "    </tr>\n",
       "    <tr>\n",
       "      <th>4</th>\n",
       "      <td>2021-09-09</td>\n",
       "      <td>45774.742188</td>\n",
       "      <td>47261.949219</td>\n",
       "      <td>45669.738281</td>\n",
       "      <td>46391.421875</td>\n",
       "      <td>46391.421875</td>\n",
       "      <td>38672657013</td>\n",
       "    </tr>\n",
       "  </tbody>\n",
       "</table>\n",
       "</div>"
      ],
      "text/plain": [
       "         Date          Open          High           Low         Close  \\\n",
       "0  2021-09-05  49937.859375  51868.679688  49538.597656  51753.410156   \n",
       "1  2021-09-06  51769.003906  52700.941406  51053.679688  52633.535156   \n",
       "2  2021-09-07  52660.480469  52853.765625  43285.207031  46811.128906   \n",
       "3  2021-09-08  46827.761719  47334.054688  44561.394531  46091.390625   \n",
       "4  2021-09-09  45774.742188  47261.949219  45669.738281  46391.421875   \n",
       "\n",
       "      Adj Close       Volume  \n",
       "0  51753.410156  30322676319  \n",
       "1  52633.535156  38884105426  \n",
       "2  46811.128906  65210059683  \n",
       "3  46091.390625  49007762488  \n",
       "4  46391.421875  38672657013  "
      ]
     },
     "execution_count": 1,
     "metadata": {},
     "output_type": "execute_result"
    }
   ],
   "source": [
    "# importing pandas\n",
    "import pandas as pd\n",
    "\n",
    "# reading data file\n",
    "data = pd.read_csv(\"BTC-USD.csv\")\n",
    "\n",
    "# reading the head\n",
    "data.head()"
   ]
  },
  {
   "cell_type": "code",
   "execution_count": 2,
   "id": "d0bd4dc4",
   "metadata": {},
   "outputs": [],
   "source": [
    "# importing dataset\n",
    "from sklearn.datasets import load_iris\n",
    "\n",
    "# loading the data\n",
    "data= load_iris()\n"
   ]
  },
  {
   "cell_type": "code",
   "execution_count": 3,
   "id": "d637e88a",
   "metadata": {},
   "outputs": [],
   "source": [
    "# splitting the data into inputs and outputs\n",
    "Input, output = load_iris(return_X_y=True)\n",
    "\n",
    "# importing the module\n",
    "from sklearn.model_selection import train_test_split\n",
    "\n",
    "# splitting the dataset\n",
    "X_train, X_test, y_train, y_test = train_test_split(Input, output, test_size=0.25)"
   ]
  },
  {
   "cell_type": "code",
   "execution_count": 4,
   "id": "03ad99ec",
   "metadata": {},
   "outputs": [
    {
     "data": {
      "text/plain": [
       "ExtraTreesClassifier()"
      ]
     },
     "execution_count": 4,
     "metadata": {},
     "output_type": "execute_result"
    }
   ],
   "source": [
    "# importing the module\n",
    "from sklearn.ensemble import ExtraTreesClassifier\n",
    "\n",
    "# initializing the model\n",
    "extra_classifier = ExtraTreesClassifier()\n",
    "\n",
    "# Training the model\n",
    "extra_classifier.fit(X_train, y_train)"
   ]
  },
  {
   "cell_type": "code",
   "execution_count": 5,
   "id": "0f182395",
   "metadata": {},
   "outputs": [],
   "source": [
    "# making predictions\n",
    "y_pred = extra_classifier.predict(X_test)"
   ]
  },
  {
   "cell_type": "code",
   "execution_count": 6,
   "id": "acee2958",
   "metadata": {},
   "outputs": [
    {
     "data": {
      "text/plain": [
       "<AxesSubplot:>"
      ]
     },
     "execution_count": 6,
     "metadata": {},
     "output_type": "execute_result"
    },
    {
     "data": {
      "image/png": "[encoded data removed]",
      "text/plain": [
       "<Figure size 432x288 with 2 Axes>"
      ]
     },
     "metadata": {
      "needs_background": "light"
     },
     "output_type": "display_data"
    }
   ],
   "source": [
    "# importing seaborn\n",
    "import seaborn as sns\n",
    "\n",
    "# Making the Confusion Matrix\n",
    "from sklearn.metrics import confusion_matrix\n",
    "\n",
    "# providing actual and predicted values\n",
    "cm = confusion_matrix(y_test, y_pred)\n",
    "\n",
    "# If True, write the data value in each cell\n",
    "sns.heatmap(cm,annot=True)"
   ]
  },
  {
   "cell_type": "code",
   "execution_count": 8,
   "id": "34e30731",
   "metadata": {},
   "outputs": [
    {
     "name": "stdout",
     "output_type": "stream",
     "text": [
      "              precision    recall  f1-score   support\n",
      "\n",
      "           0       1.00      1.00      1.00        13\n",
      "           1       0.92      0.92      0.92        12\n",
      "           2       0.92      0.92      0.92        13\n",
      "\n",
      "    accuracy                           0.95        38\n",
      "   macro avg       0.95      0.95      0.95        38\n",
      "weighted avg       0.95      0.95      0.95        38\n",
      "\n"
     ]
    }
   ],
   "source": [
    "#importing the classification report\n",
    "from sklearn.metrics import classification_report\n",
    "\n",
    "# printing the classification report\n",
    "print(classification_report(y_test, y_pred))"
   ]
  },
  {
   "cell_type": "code",
   "execution_count": 10,
   "id": "35437ff2",
   "metadata": {},
   "outputs": [],
   "source": [
    "# import Random Forest classifier\n",
    "from sklearn.ensemble import RandomForestClassifier\n",
    "\n",
    "# instantiate the classifier \n",
    "random_classifier = RandomForestClassifier()\n",
    "\n",
    "# fit the model\n",
    "random_classifier.fit(X_train, y_train)\n",
    "\n",
    "# testing the model\n",
    "random_pred = random_classifier.predict(X_test)"
   ]
  },
  {
   "cell_type": "code",
   "execution_count": 11,
   "id": "6f8e994b",
   "metadata": {},
   "outputs": [
    {
     "name": "stdout",
     "output_type": "stream",
     "text": [
      "Accuracy of extra trees algorithm:   0.9473684210526315\n",
      "Accuracy of random forest algorithm:  0.9736842105263158\n"
     ]
    }
   ],
   "source": [
    "# importing accuracy score\n",
    "from sklearn.metrics import accuracy_score\n",
    "\n",
    "#accuracy score\n",
    "print(\"Accuracy of extra trees algorithm:  \", accuracy_score(y_test,y_pred))\n",
    "print(\"Accuracy of random forest algorithm: \", accuracy_score(y_test, random_pred))"
   ]
  },
  {
   "cell_type": "code",
   "execution_count": 14,
   "id": "0d6e5425",
   "metadata": {},
   "outputs": [],
   "source": [
    "# importing decision tree algorithm\n",
    "from sklearn.tree import DecisionTreeClassifier\n",
    "\n",
    "# entropy means information gain\n",
    "decision_classifer = DecisionTreeClassifier()\n",
    "\n",
    "# providing the training dataset\n",
    "decision_classifer.fit(X_train,y_train)\n",
    "\n",
    "# making predictions\n",
    "decision_pred = decision_classifer.predict(X_test)"
   ]
  },
  {
   "cell_type": "code",
   "execution_count": 16,
   "id": "84530f6b",
   "metadata": {},
   "outputs": [
    {
     "name": "stdout",
     "output_type": "stream",
     "text": [
      "Accuracy of extra trees algorithm:   0.9473684210526315\n",
      "Accuracy of decision tree algorithm:  0.9736842105263158\n"
     ]
    }
   ],
   "source": [
    "#accuracy score\n",
    "print(\"Accuracy of extra trees algorithm:  \", accuracy_score(y_test,y_pred))\n",
    "print(\"Accuracy of decision tree algorithm: \", accuracy_score(y_test, decision_pred))"
   ]
  },
  {
   "cell_type": "code",
   "execution_count": 17,
   "id": "ca3bcc07",
   "metadata": {},
   "outputs": [
    {
     "data": {
      "text/html": [
       "<div>\n",
       "<style scoped>\n",
       "    .dataframe tbody tr th:only-of-type {\n",
       "        vertical-align: middle;\n",
       "    }\n",
       "\n",
       "    .dataframe tbody tr th {\n",
       "        vertical-align: top;\n",
       "    }\n",
       "\n",
       "    .dataframe thead th {\n",
       "        text-align: right;\n",
       "    }\n",
       "</style>\n",
       "<table border=\"1\" class=\"dataframe\">\n",
       "  <thead>\n",
       "    <tr style=\"text-align: right;\">\n",
       "      <th></th>\n",
       "      <th>Date</th>\n",
       "      <th>Open</th>\n",
       "      <th>High</th>\n",
       "      <th>Low</th>\n",
       "      <th>Close</th>\n",
       "      <th>Adj Close</th>\n",
       "      <th>Volume</th>\n",
       "    </tr>\n",
       "  </thead>\n",
       "  <tbody>\n",
       "    <tr>\n",
       "      <th>0</th>\n",
       "      <td>2021-09-05</td>\n",
       "      <td>49937.859375</td>\n",
       "      <td>51868.679688</td>\n",
       "      <td>49538.597656</td>\n",
       "      <td>51753.410156</td>\n",
       "      <td>51753.410156</td>\n",
       "      <td>30322676319</td>\n",
       "    </tr>\n",
       "    <tr>\n",
       "      <th>1</th>\n",
       "      <td>2021-09-06</td>\n",
       "      <td>51769.003906</td>\n",
       "      <td>52700.941406</td>\n",
       "      <td>51053.679688</td>\n",
       "      <td>52633.535156</td>\n",
       "      <td>52633.535156</td>\n",
       "      <td>38884105426</td>\n",
       "    </tr>\n",
       "    <tr>\n",
       "      <th>2</th>\n",
       "      <td>2021-09-07</td>\n",
       "      <td>52660.480469</td>\n",
       "      <td>52853.765625</td>\n",
       "      <td>43285.207031</td>\n",
       "      <td>46811.128906</td>\n",
       "      <td>46811.128906</td>\n",
       "      <td>65210059683</td>\n",
       "    </tr>\n",
       "    <tr>\n",
       "      <th>3</th>\n",
       "      <td>2021-09-08</td>\n",
       "      <td>46827.761719</td>\n",
       "      <td>47334.054688</td>\n",
       "      <td>44561.394531</td>\n",
       "      <td>46091.390625</td>\n",
       "      <td>46091.390625</td>\n",
       "      <td>49007762488</td>\n",
       "    </tr>\n",
       "    <tr>\n",
       "      <th>4</th>\n",
       "      <td>2021-09-09</td>\n",
       "      <td>45774.742188</td>\n",
       "      <td>47261.949219</td>\n",
       "      <td>45669.738281</td>\n",
       "      <td>46391.421875</td>\n",
       "      <td>46391.421875</td>\n",
       "      <td>38672657013</td>\n",
       "    </tr>\n",
       "  </tbody>\n",
       "</table>\n",
       "</div>"
      ],
      "text/plain": [
       "         Date          Open          High           Low         Close  \\\n",
       "0  2021-09-05  49937.859375  51868.679688  49538.597656  51753.410156   \n",
       "1  2021-09-06  51769.003906  52700.941406  51053.679688  52633.535156   \n",
       "2  2021-09-07  52660.480469  52853.765625  43285.207031  46811.128906   \n",
       "3  2021-09-08  46827.761719  47334.054688  44561.394531  46091.390625   \n",
       "4  2021-09-09  45774.742188  47261.949219  45669.738281  46391.421875   \n",
       "\n",
       "      Adj Close       Volume  \n",
       "0  51753.410156  30322676319  \n",
       "1  52633.535156  38884105426  \n",
       "2  46811.128906  65210059683  \n",
       "3  46091.390625  49007762488  \n",
       "4  46391.421875  38672657013  "
      ]
     },
     "execution_count": 17,
     "metadata": {},
     "output_type": "execute_result"
    }
   ],
   "source": [
    "# importing pandas\n",
    "import pandas as pd\n",
    "\n",
    "# reading data file\n",
    "data = pd.read_csv(\"BTC-USD.csv\")\n",
    "\n",
    "# reading the head\n",
    "data.head()"
   ]
  },
  {
   "cell_type": "code",
   "execution_count": 18,
   "id": "e8a9a870",
   "metadata": {},
   "outputs": [],
   "source": [
    "# droping the column\n",
    "data.drop(\"Date\", inplace=True, axis=1)\n",
    "data.drop(\"High\", inplace=True, axis=1)\n",
    "data.drop(\"Low\", inplace=True, axis=1)\n",
    "data.drop(\"Adj Close\", inplace=True, axis=1)"
   ]
  },
  {
   "cell_type": "code",
   "execution_count": 19,
   "id": "d8284b4a",
   "metadata": {},
   "outputs": [],
   "source": [
    "Input = data.drop(\"Volume\", axis=1)\n",
    "output = data['Volume']\n",
    "\n",
    "# importing the module\n",
    "from sklearn.model_selection import train_test_split\n",
    "\n",
    "# splitting the dataset\n",
    "X_train, X_test, y_train, y_test = train_test_split(Input, output, test_size=0.25)"
   ]
  },
  {
   "cell_type": "code",
   "execution_count": 28,
   "id": "617b08e6",
   "metadata": {},
   "outputs": [
    {
     "data": {
      "text/plain": [
       "ExtraTreesRegressor()"
      ]
     },
     "execution_count": 28,
     "metadata": {},
     "output_type": "execute_result"
    }
   ],
   "source": [
    "# importing the module\n",
    "from sklearn.ensemble import ExtraTreesRegressor\n",
    "\n",
    "# initializing the model\n",
    "regressor = ExtraTreesRegressor()\n",
    "\n",
    "# Training the model\n",
    "regressor.fit(X_train, y_train)"
   ]
  },
  {
   "cell_type": "code",
   "execution_count": 29,
   "id": "e8e65520",
   "metadata": {},
   "outputs": [],
   "source": [
    "# Making predictions\n",
    "y_pred = regressor.predict(X_test)\n"
   ]
  },
  {
   "cell_type": "code",
   "execution_count": 30,
   "id": "22db96c3",
   "metadata": {},
   "outputs": [
    {
     "data": {
      "image/png": "[encoded data removed]",
      "text/plain": [
       "<Figure size 1080x576 with 1 Axes>"
      ]
     },
     "metadata": {
      "needs_background": "light"
     },
     "output_type": "display_data"
    }
   ],
   "source": [
    "# importing module\n",
    "import matplotlib.pyplot as plt\n",
    "\n",
    "# fitting the size of the plot\n",
    "plt.figure(figsize=(15, 8))\n",
    "\n",
    "# plotting the graphs\n",
    "plt.plot([i for i in range(len(y_test))],y_test, color = 'green',label=\"actual values\")\n",
    "plt.plot([i for i in range(len(y_test))],y_pred, color='red', label=\"Predicted values\")\n",
    "\n",
    "# showing the plotting\n",
    "plt.legend()\n",
    "plt.show()"
   ]
  },
  {
   "cell_type": "code",
   "execution_count": 31,
   "id": "577b7328",
   "metadata": {},
   "outputs": [
    {
     "name": "stdout",
     "output_type": "stream",
     "text": [
      "R-square score is : 0.12210586981989358\n"
     ]
    }
   ],
   "source": [
    "# Importing the required module\n",
    "from sklearn.metrics import  r2_score\n",
    "\n",
    "# Evaluating model performance\n",
    "print('R-square score is :', r2_score(y_test, y_pred))"
   ]
  },
  {
   "cell_type": "code",
   "execution_count": 32,
   "id": "674d7210",
   "metadata": {},
   "outputs": [],
   "source": [
    "# import Random forest using python\n",
    "from sklearn.ensemble import RandomForestRegressor\n",
    "\n",
    "# instantiate Random forest using python\n",
    "regressor = RandomForestRegressor()\n",
    "\n",
    "# fit Random forest using python model\n",
    "regressor.fit(X_train, y_train)\n",
    "\n",
    "# making predictions for Random forest using python\n",
    "random_pred = regressor.predict(X_test)"
   ]
  },
  {
   "cell_type": "code",
   "execution_count": 36,
   "id": "acfa312a",
   "metadata": {},
   "outputs": [
    {
     "name": "stdout",
     "output_type": "stream",
     "text": [
      "R-square score of extra trees is  : 0.12210586981989358\n",
      "R-square score of decision forest is  : -0.4449136653180039\n"
     ]
    }
   ],
   "source": [
    "# Evaluating model performance\n",
    "print('R-square score of extra trees is  :', r2_score(y_test, y_pred))\n",
    "print('R-square score of decision forest is  :', r2_score(y_test, decision_pred))"
   ]
  },
  {
   "cell_type": "code",
   "execution_count": 34,
   "id": "1a26e449",
   "metadata": {},
   "outputs": [],
   "source": [
    "# importing decision tree using Python\n",
    "from sklearn.tree import DecisionTreeRegressor\n",
    "\n",
    "# initializing decision tree using Python model\n",
    "regressor = DecisionTreeRegressor()\n",
    "\n",
    "# training decision tree using Python\n",
    "regressor.fit(X_train,y_train)\n",
    "\n",
    "# making predictions / decision tree using Python\n",
    "decision_pred = regressor.predict(X_test)"
   ]
  },
  {
   "cell_type": "code",
   "execution_count": null,
   "id": "7ec8a1d1",
   "metadata": {},
   "outputs": [],
   "source": []
  }
 ],
 "metadata": {
  "kernelspec": {
   "display_name": "Python 3 (ipykernel)",
   "language": "python",
   "name": "python3"
  },
  "language_info": {
   "codemirror_mode": {
    "name": "ipython",
    "version": 3
   },
   "file_extension": ".py",
   "mimetype": "text/x-python",
   "name": "python",
   "nbconvert_exporter": "python",
   "pygments_lexer": "ipython3",
   "version": "3.9.12"
  }
 },
 "nbformat": 4,
 "nbformat_minor": 5
}
