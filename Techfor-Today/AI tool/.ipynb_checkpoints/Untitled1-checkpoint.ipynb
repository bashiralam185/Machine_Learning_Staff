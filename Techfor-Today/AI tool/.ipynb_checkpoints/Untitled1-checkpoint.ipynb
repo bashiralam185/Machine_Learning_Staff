{
 "cells": [
  {
   "cell_type": "code",
   "execution_count": 8,
   "id": "d984badd",
   "metadata": {},
   "outputs": [
    {
     "data": {
      "text/plain": [
       "<tensorflow.python.client.session.Session at 0x7f58e86e7dc0>"
      ]
     },
     "execution_count": 8,
     "metadata": {},
     "output_type": "execute_result"
    }
   ],
   "source": [
    "# importing the tensorflow\n",
    "import tensorflow.compat.v1 as tf\n",
    "\n",
    "# session \n",
    "tf.compat.v1.Session()"
   ]
  },
  {
   "cell_type": "code",
   "execution_count": 4,
   "id": "0ae6e97a",
   "metadata": {},
   "outputs": [
    {
     "data": {
      "text/plain": [
       "'2.11.0'"
      ]
     },
     "execution_count": 4,
     "metadata": {},
     "output_type": "execute_result"
    }
   ],
   "source": [
    "# checking the version\n",
    "tf.__version__"
   ]
  },
  {
   "cell_type": "code",
   "execution_count": 10,
   "id": "a8f635f3",
   "metadata": {},
   "outputs": [
    {
     "name": "stdout",
     "output_type": "stream",
     "text": [
      "b'Hello, TensorFlow!'\n"
     ]
    }
   ],
   "source": [
    "# importing tensorflow\n",
    "import tensorflow as tf\n",
    "\n",
    "# using compat.v1\n",
    "tf.compat.v1.disable_eager_execution()\n",
    "\n",
    "# printing \n",
    "hello = tf.constant('Hello, TensorFlow!')\n",
    "\n",
    "# session\n",
    "sess = tf.compat.v1.Session()\n",
    "print(sess.run(hello))"
   ]
  },
  {
   "cell_type": "code",
   "execution_count": 11,
   "id": "f8a470b5",
   "metadata": {},
   "outputs": [
    {
     "name": "stdout",
     "output_type": "stream",
     "text": [
      "b'hello world'\n"
     ]
    }
   ],
   "source": [
    "# importing the tensorflow\n",
    "import tensorflow as tf\n",
    "\n",
    "# using session()\n",
    "with tf.compat.v1.Session() as sess:\n",
    "    hello = tf.constant('hello world')\n",
    "    print(sess.run(hello))"
   ]
  },
  {
   "cell_type": "code",
   "execution_count": 6,
   "id": "7b6f8dc6",
   "metadata": {},
   "outputs": [
    {
     "ename": "TypeError",
     "evalue": "unsupported operand type(s) for /: 'list' and 'list'",
     "output_type": "error",
     "traceback": [
      "\u001b[0;31m---------------------------------------------------------------------------\u001b[0m",
      "\u001b[0;31mTypeError\u001b[0m                                 Traceback (most recent call last)",
      "\u001b[0;32m/tmp/ipykernel_6238/2439444741.py\u001b[0m in \u001b[0;36m<module>\u001b[0;34m\u001b[0m\n\u001b[1;32m      4\u001b[0m \u001b[0;34m\u001b[0m\u001b[0m\n\u001b[1;32m      5\u001b[0m \u001b[0;31m# subtracting the list\u001b[0m\u001b[0;34m\u001b[0m\u001b[0;34m\u001b[0m\u001b[0m\n\u001b[0;32m----> 6\u001b[0;31m \u001b[0mresult\u001b[0m \u001b[0;34m=\u001b[0m \u001b[0mlist1\u001b[0m \u001b[0;34m/\u001b[0m \u001b[0mlist2\u001b[0m\u001b[0;34m\u001b[0m\u001b[0;34m\u001b[0m\u001b[0m\n\u001b[0m",
      "\u001b[0;31mTypeError\u001b[0m: unsupported operand type(s) for /: 'list' and 'list'"
     ]
    }
   ],
   "source": [
    "# creating lists\n",
    "list1 = [2, 3]\n",
    "list2 = [3, 2]\n",
    "\n",
    "# subtracting the list\n",
    "result = list1 / list2 "
   ]
  },
  {
   "cell_type": "code",
   "execution_count": 8,
   "id": "2af07228",
   "metadata": {},
   "outputs": [
    {
     "name": "stdout",
     "output_type": "stream",
     "text": [
      "[0.66666667 1.5       ]\n"
     ]
    }
   ],
   "source": [
    "# importng the numpy array\n",
    "import numpy as np\n",
    "\n",
    "# converting the lists into array\n",
    "array1 = np.array([2, 3])\n",
    "array2 = np.array([3, 2])\n",
    "\n",
    "# subtracting the arrays\n",
    "result = array1 / array2\n",
    "\n",
    "# results\n",
    "print(result) "
   ]
  },
  {
   "cell_type": "code",
   "execution_count": 9,
   "id": "844f1112",
   "metadata": {},
   "outputs": [
    {
     "name": "stdout",
     "output_type": "stream",
     "text": [
      "[1]\n"
     ]
    }
   ],
   "source": [
    "# creating the lists \n",
    "list1 = [1, 2, 3]\n",
    "list2 = [2, 3, 4]\n",
    "\n",
    "# using list comprehension\n",
    "result = [x for x in list1 if x not in list2]\n",
    "\n",
    "# printing results\n",
    "print(result)"
   ]
  },
  {
   "cell_type": "code",
   "execution_count": 10,
   "id": "dc7464d4",
   "metadata": {},
   "outputs": [
    {
     "name": "stdout",
     "output_type": "stream",
     "text": [
      "[1]\n"
     ]
    }
   ],
   "source": [
    "# lists in python\n",
    "list1 = [1, 2, 3]\n",
    "list2 = [2, 3, 4]\n",
    "\n",
    "# sutracting the list \n",
    "result = set(list1) - set(list2)\n",
    "\n",
    "# convert the result back to list\n",
    "result = list(result)\n",
    "\n",
    "# printing\n",
    "print(result)"
   ]
  },
  {
   "cell_type": "code",
   "execution_count": 11,
   "id": "e1fb82eb",
   "metadata": {},
   "outputs": [
    {
     "name": "stdout",
     "output_type": "stream",
     "text": [
      "[-1, -1, -1]\n"
     ]
    }
   ],
   "source": [
    "# lists in python\n",
    "list1 = [1, 2, 3]\n",
    "list2 = [2, 3, 4]\n",
    " \n",
    "# creating an empty list\n",
    "result = []\n",
    " \n",
    "# using for loop and zip method\n",
    "for i, j in zip(list1,list2):\n",
    " \n",
    "    result.append(i - j)\n",
    "\n",
    "# printing\n",
    "print(result)"
   ]
  },
  {
   "cell_type": "code",
   "execution_count": 17,
   "id": "f957b563",
   "metadata": {},
   "outputs": [
    {
     "name": "stdout",
     "output_type": "stream",
     "text": [
      "[-1, -1, -1]\n"
     ]
    }
   ],
   "source": [
    "# imorting operator\n",
    "import operator\n",
    "\n",
    "# lists in python\n",
    "list1 = [1, 2, 3]\n",
    "list2 = [2, 3, 4]\n",
    "\n",
    "# subtracting \n",
    "subtracted_list = list(map(operator.sub, list1, list2))\n",
    "\n",
    "print(subtracted_list)\n",
    "\n"
   ]
  },
  {
   "cell_type": "code",
   "execution_count": null,
   "id": "1306b534",
   "metadata": {},
   "outputs": [],
   "source": []
  }
 ],
 "metadata": {
  "kernelspec": {
   "display_name": "Python 3 (ipykernel)",
   "language": "python",
   "name": "python3"
  },
  "language_info": {
   "codemirror_mode": {
    "name": "ipython",
    "version": 3
   },
   "file_extension": ".py",
   "mimetype": "text/x-python",
   "name": "python",
   "nbconvert_exporter": "python",
   "pygments_lexer": "ipython3",
   "version": "3.10.6"
  }
 },
 "nbformat": 4,
 "nbformat_minor": 5
}
