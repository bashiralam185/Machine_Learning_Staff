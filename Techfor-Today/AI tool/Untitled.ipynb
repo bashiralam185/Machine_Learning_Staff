{
 "cells": [
  {
   "cell_type": "code",
   "execution_count": 2,
   "id": "36a067e4",
   "metadata": {},
   "outputs": [
    {
     "data": {
      "text/plain": [
       "Text(0.5, 0.98, 'Categorical Plotting')"
      ]
     },
     "execution_count": 2,
     "metadata": {},
     "output_type": "execute_result"
    },
    {
     "data": {
      "image/png": "[encoded data removed]",
      "text/plain": [
       "<Figure size 648x216 with 3 Axes>"
      ]
     },
     "metadata": {
      "needs_background": "light"
     },
     "output_type": "display_data"
    }
   ],
   "source": [
    "# importing matplotlib module\n",
    "import matplotlib.pyplot as plt\n",
    "\n",
    "# creating dataset\n",
    "data = {'apple': 10, 'orange': 15, 'lemon': 5, 'lime': 20}\n",
    "names = list(data.keys())\n",
    "values = list(data.values())\n",
    "\n",
    "# plotting different subplots\n",
    "fig, axs = plt.subplots(1, 3, figsize=(9, 3), sharey=True)\n",
    "axs[0].bar(names, values)\n",
    "axs[1].scatter(names, values)\n",
    "axs[2].plot(names, values)\n",
    "fig.suptitle('Categorical Plotting')"
   ]
  },
  {
   "cell_type": "code",
   "execution_count": 3,
   "id": "bea49d71",
   "metadata": {},
   "outputs": [
    {
     "name": "stdout",
     "output_type": "stream",
     "text": [
      "     Name  CGPA Major\n",
      "0  Bashir   2.5    CS\n",
      "1    Alam   3.4    CS\n",
      "2   Erlan   3.6    CS\n",
      "3   Mirzo   3.8    Cs\n"
     ]
    },
    {
     "ename": "IndexError",
     "evalue": "index 10 is out of bounds for axis 0 with size 3",
     "output_type": "error",
     "traceback": [
      "\u001b[0;31m---------------------------------------------------------------------------\u001b[0m",
      "\u001b[0;31mIndexError\u001b[0m                                Traceback (most recent call last)",
      "\u001b[0;32m/tmp/ipykernel_57159/413889589.py\u001b[0m in \u001b[0;36m<module>\u001b[0;34m\u001b[0m\n\u001b[1;32m     11\u001b[0m \u001b[0;34m\u001b[0m\u001b[0m\n\u001b[1;32m     12\u001b[0m \u001b[0;31m# accessing elements\u001b[0m\u001b[0;34m\u001b[0m\u001b[0;34m\u001b[0m\u001b[0m\n\u001b[0;32m---> 13\u001b[0;31m \u001b[0mitem\u001b[0m \u001b[0;34m=\u001b[0m \u001b[0mdf\u001b[0m\u001b[0;34m.\u001b[0m\u001b[0miloc\u001b[0m\u001b[0;34m[\u001b[0m\u001b[0;36m0\u001b[0m\u001b[0;34m,\u001b[0m \u001b[0;36m10\u001b[0m\u001b[0;34m]\u001b[0m\u001b[0;34m\u001b[0m\u001b[0;34m\u001b[0m\u001b[0m\n\u001b[0m",
      "\u001b[0;32m~/.local/lib/python3.10/site-packages/pandas/core/indexing.py\u001b[0m in \u001b[0;36m__getitem__\u001b[0;34m(self, key)\u001b[0m\n\u001b[1;32m   1065\u001b[0m             \u001b[0mkey\u001b[0m \u001b[0;34m=\u001b[0m \u001b[0mtuple\u001b[0m\u001b[0;34m(\u001b[0m\u001b[0mcom\u001b[0m\u001b[0;34m.\u001b[0m\u001b[0mapply_if_callable\u001b[0m\u001b[0;34m(\u001b[0m\u001b[0mx\u001b[0m\u001b[0;34m,\u001b[0m \u001b[0mself\u001b[0m\u001b[0;34m.\u001b[0m\u001b[0mobj\u001b[0m\u001b[0;34m)\u001b[0m \u001b[0;32mfor\u001b[0m \u001b[0mx\u001b[0m \u001b[0;32min\u001b[0m \u001b[0mkey\u001b[0m\u001b[0;34m)\u001b[0m\u001b[0;34m\u001b[0m\u001b[0;34m\u001b[0m\u001b[0m\n\u001b[1;32m   1066\u001b[0m             \u001b[0;32mif\u001b[0m \u001b[0mself\u001b[0m\u001b[0;34m.\u001b[0m\u001b[0m_is_scalar_access\u001b[0m\u001b[0;34m(\u001b[0m\u001b[0mkey\u001b[0m\u001b[0;34m)\u001b[0m\u001b[0;34m:\u001b[0m\u001b[0;34m\u001b[0m\u001b[0;34m\u001b[0m\u001b[0m\n\u001b[0;32m-> 1067\u001b[0;31m                 \u001b[0;32mreturn\u001b[0m \u001b[0mself\u001b[0m\u001b[0;34m.\u001b[0m\u001b[0mobj\u001b[0m\u001b[0;34m.\u001b[0m\u001b[0m_get_value\u001b[0m\u001b[0;34m(\u001b[0m\u001b[0;34m*\u001b[0m\u001b[0mkey\u001b[0m\u001b[0;34m,\u001b[0m \u001b[0mtakeable\u001b[0m\u001b[0;34m=\u001b[0m\u001b[0mself\u001b[0m\u001b[0;34m.\u001b[0m\u001b[0m_takeable\u001b[0m\u001b[0;34m)\u001b[0m\u001b[0;34m\u001b[0m\u001b[0;34m\u001b[0m\u001b[0m\n\u001b[0m\u001b[1;32m   1068\u001b[0m             \u001b[0;32mreturn\u001b[0m \u001b[0mself\u001b[0m\u001b[0;34m.\u001b[0m\u001b[0m_getitem_tuple\u001b[0m\u001b[0;34m(\u001b[0m\u001b[0mkey\u001b[0m\u001b[0;34m)\u001b[0m\u001b[0;34m\u001b[0m\u001b[0;34m\u001b[0m\u001b[0m\n\u001b[1;32m   1069\u001b[0m         \u001b[0;32melse\u001b[0m\u001b[0;34m:\u001b[0m\u001b[0;34m\u001b[0m\u001b[0;34m\u001b[0m\u001b[0m\n",
      "\u001b[0;32m~/.local/lib/python3.10/site-packages/pandas/core/frame.py\u001b[0m in \u001b[0;36m_get_value\u001b[0;34m(self, index, col, takeable)\u001b[0m\n\u001b[1;32m   3910\u001b[0m         \"\"\"\n\u001b[1;32m   3911\u001b[0m         \u001b[0;32mif\u001b[0m \u001b[0mtakeable\u001b[0m\u001b[0;34m:\u001b[0m\u001b[0;34m\u001b[0m\u001b[0;34m\u001b[0m\u001b[0m\n\u001b[0;32m-> 3912\u001b[0;31m             \u001b[0mseries\u001b[0m \u001b[0;34m=\u001b[0m \u001b[0mself\u001b[0m\u001b[0;34m.\u001b[0m\u001b[0m_ixs\u001b[0m\u001b[0;34m(\u001b[0m\u001b[0mcol\u001b[0m\u001b[0;34m,\u001b[0m \u001b[0maxis\u001b[0m\u001b[0;34m=\u001b[0m\u001b[0;36m1\u001b[0m\u001b[0;34m)\u001b[0m\u001b[0;34m\u001b[0m\u001b[0;34m\u001b[0m\u001b[0m\n\u001b[0m\u001b[1;32m   3913\u001b[0m             \u001b[0;32mreturn\u001b[0m \u001b[0mseries\u001b[0m\u001b[0;34m.\u001b[0m\u001b[0m_values\u001b[0m\u001b[0;34m[\u001b[0m\u001b[0mindex\u001b[0m\u001b[0;34m]\u001b[0m\u001b[0;34m\u001b[0m\u001b[0;34m\u001b[0m\u001b[0m\n\u001b[1;32m   3914\u001b[0m \u001b[0;34m\u001b[0m\u001b[0m\n",
      "\u001b[0;32m~/.local/lib/python3.10/site-packages/pandas/core/frame.py\u001b[0m in \u001b[0;36m_ixs\u001b[0;34m(self, i, axis)\u001b[0m\n\u001b[1;32m   3724\u001b[0m         \u001b[0;31m# icol\u001b[0m\u001b[0;34m\u001b[0m\u001b[0;34m\u001b[0m\u001b[0m\n\u001b[1;32m   3725\u001b[0m         \u001b[0;32melse\u001b[0m\u001b[0;34m:\u001b[0m\u001b[0;34m\u001b[0m\u001b[0;34m\u001b[0m\u001b[0m\n\u001b[0;32m-> 3726\u001b[0;31m             \u001b[0mlabel\u001b[0m \u001b[0;34m=\u001b[0m \u001b[0mself\u001b[0m\u001b[0;34m.\u001b[0m\u001b[0mcolumns\u001b[0m\u001b[0;34m[\u001b[0m\u001b[0mi\u001b[0m\u001b[0;34m]\u001b[0m\u001b[0;34m\u001b[0m\u001b[0;34m\u001b[0m\u001b[0m\n\u001b[0m\u001b[1;32m   3727\u001b[0m \u001b[0;34m\u001b[0m\u001b[0m\n\u001b[1;32m   3728\u001b[0m             \u001b[0mcol_mgr\u001b[0m \u001b[0;34m=\u001b[0m \u001b[0mself\u001b[0m\u001b[0;34m.\u001b[0m\u001b[0m_mgr\u001b[0m\u001b[0;34m.\u001b[0m\u001b[0miget\u001b[0m\u001b[0;34m(\u001b[0m\u001b[0mi\u001b[0m\u001b[0;34m)\u001b[0m\u001b[0;34m\u001b[0m\u001b[0;34m\u001b[0m\u001b[0m\n",
      "\u001b[0;32m~/.local/lib/python3.10/site-packages/pandas/core/indexes/base.py\u001b[0m in \u001b[0;36m__getitem__\u001b[0;34m(self, key)\u001b[0m\n\u001b[1;32m   5356\u001b[0m             \u001b[0;31m# GH#44051 exclude bool, which would return a 2d ndarray\u001b[0m\u001b[0;34m\u001b[0m\u001b[0;34m\u001b[0m\u001b[0m\n\u001b[1;32m   5357\u001b[0m             \u001b[0mkey\u001b[0m \u001b[0;34m=\u001b[0m \u001b[0mcom\u001b[0m\u001b[0;34m.\u001b[0m\u001b[0mcast_scalar_indexer\u001b[0m\u001b[0;34m(\u001b[0m\u001b[0mkey\u001b[0m\u001b[0;34m,\u001b[0m \u001b[0mwarn_float\u001b[0m\u001b[0;34m=\u001b[0m\u001b[0;32mTrue\u001b[0m\u001b[0;34m)\u001b[0m\u001b[0;34m\u001b[0m\u001b[0;34m\u001b[0m\u001b[0m\n\u001b[0;32m-> 5358\u001b[0;31m             \u001b[0;32mreturn\u001b[0m \u001b[0mgetitem\u001b[0m\u001b[0;34m(\u001b[0m\u001b[0mkey\u001b[0m\u001b[0;34m)\u001b[0m\u001b[0;34m\u001b[0m\u001b[0;34m\u001b[0m\u001b[0m\n\u001b[0m\u001b[1;32m   5359\u001b[0m \u001b[0;34m\u001b[0m\u001b[0m\n\u001b[1;32m   5360\u001b[0m         \u001b[0;32mif\u001b[0m \u001b[0misinstance\u001b[0m\u001b[0;34m(\u001b[0m\u001b[0mkey\u001b[0m\u001b[0;34m,\u001b[0m \u001b[0mslice\u001b[0m\u001b[0;34m)\u001b[0m\u001b[0;34m:\u001b[0m\u001b[0;34m\u001b[0m\u001b[0;34m\u001b[0m\u001b[0m\n",
      "\u001b[0;31mIndexError\u001b[0m: index 10 is out of bounds for axis 0 with size 3"
     ]
    }
   ],
   "source": [
    "# importing pandas\n",
    "import pandas as pd\n",
    "\n",
    "\n",
    "\n",
    "# printing dataset\n",
    "print(df)\n",
    "\n",
    "# accessing elements\n",
    "item = df.iloc[0, 10]\n"
   ]
  },
  {
   "cell_type": "code",
   "execution_count": 5,
   "id": "428c8c9f",
   "metadata": {},
   "outputs": [
    {
     "name": "stdout",
     "output_type": "stream",
     "text": [
      "4\n"
     ]
    }
   ],
   "source": [
    "# using len() method\n",
    "x = len(df)\n",
    "\n",
    "# print\n",
    "print(x)"
   ]
  },
  {
   "cell_type": "code",
   "execution_count": 9,
   "id": "89c47354",
   "metadata": {},
   "outputs": [
    {
     "name": "stdout",
     "output_type": "stream",
     "text": [
      "There is an error in the try-block. Most probably the index is out of range\n"
     ]
    }
   ],
   "source": [
    "# creating data frame\n",
    "df = pd.DataFrame({'Name':[\"Bashir\", \"Alam\", \"Erlan\", \"Mirzo\"],\n",
    "                  \"CGPA\": [2.5, 3.4, 3.6, 3.8], \n",
    "                  \"Major\": [\"CS\", 'CS', \"CS\", \"Cs\"]})\n",
    "# index\n",
    "ind = 10\n",
    "\n",
    "# if statement\n",
    "if len(df)>ind:\n",
    "    x = df.iloc[0, ind]\n",
    "\n",
    "else:\n",
    "    print(\"There is an error in the try-block. Most probably the index is out of range\")"
   ]
  },
  {
   "cell_type": "code",
   "execution_count": 9,
   "id": "e9ebf920",
   "metadata": {},
   "outputs": [
    {
     "name": "stdout",
     "output_type": "stream",
     "text": [
      "3.0\n"
     ]
    }
   ],
   "source": [
    "# importing the module\n",
    "from math import sqrt\n",
    "\n",
    "# printing square of the number\n",
    "print(sqrt(9))"
   ]
  },
  {
   "cell_type": "code",
   "execution_count": 21,
   "id": "37413a0a",
   "metadata": {},
   "outputs": [
    {
     "name": "stdout",
     "output_type": "stream",
     "text": [
      "0 a\n",
      "1 b\n",
      "2 c\n",
      "3 d\n",
      "4 e\n",
      "5 f\n"
     ]
    }
   ],
   "source": [
    "# creating a tuple\n",
    "tup = ('a', 'b', 'c', 'd','e', 'f')\n",
    "\n",
    "# using for loop to find the index\n",
    "for index, item in enumerate(tup):\n",
    "    print(index, item)  "
   ]
  },
  {
   "cell_type": "code",
   "execution_count": 30,
   "id": "ed83cbab",
   "metadata": {},
   "outputs": [
    {
     "name": "stdout",
     "output_type": "stream",
     "text": [
      "Cannot covert the given string into float\n"
     ]
    }
   ],
   "source": [
    "# empty string\n",
    "string =\"Bashir\"\n",
    "\n",
    "# using try block\n",
    "try:\n",
    "    # converting the string into float\n",
    "    f = float(string)\n",
    "    \n",
    "# except block\n",
    "except:\n",
    "    print(\"Cannot covert the given string into float\")"
   ]
  },
  {
   "cell_type": "code",
   "execution_count": 29,
   "id": "9145d298",
   "metadata": {},
   "outputs": [
    {
     "name": "stdout",
     "output_type": "stream",
     "text": [
      "32.32\n"
     ]
    }
   ],
   "source": [
    "\n",
    "# string\n",
    "input_string ='32.32%'\n",
    "\n",
    "# replacing special character\n",
    "to_convert = input_string.replace('%', '')\n",
    "\n",
    "# coverting string to float\n",
    "converted = float(to_convert)\n",
    "\n",
    "# printing\n",
    "print(converted)"
   ]
  },
  {
   "cell_type": "code",
   "execution_count": 39,
   "id": "c773a799",
   "metadata": {},
   "outputs": [
    {
     "name": "stdout",
     "output_type": "stream",
     "text": [
      "the variable is none\n"
     ]
    }
   ],
   "source": [
    "# defining a nonetype\n",
    "f = None\n",
    "\n",
    "# checking the type\n",
    "if f is None:\n",
    "    print(\"the variable is none\")\n",
    "    \n",
    "# else statement\n",
    "else:\n",
    "    len(f)"
   ]
  },
  {
   "cell_type": "code",
   "execution_count": 35,
   "id": "caf8406c",
   "metadata": {},
   "outputs": [
    {
     "name": "stdout",
     "output_type": "stream",
     "text": [
      "6\n"
     ]
    }
   ],
   "source": [
    "# defining a function\n",
    "def main():\n",
    "    return [1,2,3,4,5,6]\n",
    "    \n",
    "# calling the function\n",
    "list1 = main()\n",
    "\n",
    "# using len() method\n",
    "print(len(list1))"
   ]
  },
  {
   "cell_type": "code",
   "execution_count": 44,
   "id": "211697a3",
   "metadata": {},
   "outputs": [
    {
     "name": "stdout",
     "output_type": "stream",
     "text": [
      "there is an error in the try block\n"
     ]
    }
   ],
   "source": [
    "# creating a list\n",
    "list1 = ['1', '2' ,'3', '5', '0']\n",
    "\n",
    "# applying the sort method\n",
    "sort = list1.sort()\n",
    "\n",
    "try:\n",
    "    len(sort)\n",
    "    \n",
    "except:\n",
    "    print(\"there is an error in the try block\")"
   ]
  },
  {
   "cell_type": "code",
   "execution_count": 9,
   "id": "3138c0af",
   "metadata": {},
   "outputs": [],
   "source": [
    "# defining a dictionary\n",
    "dic = {'a': 1, 'b': 2, 'c': 3}\n",
    "\n",
    "# using for loop\n",
    "for key, value in list(dic.items()):\n",
    "    if key == 'b':\n",
    "        del dic[key]"
   ]
  },
  {
   "cell_type": "code",
   "execution_count": 6,
   "id": "93e909ae",
   "metadata": {},
   "outputs": [
    {
     "data": {
      "text/plain": [
       "dict_items([('a', 1), ('b', 2)])"
      ]
     },
     "execution_count": 6,
     "metadata": {},
     "output_type": "execute_result"
    }
   ],
   "source": [
    "dic.items()"
   ]
  },
  {
   "cell_type": "code",
   "execution_count": 15,
   "id": "38d49bc7",
   "metadata": {},
   "outputs": [
    {
     "data": {
      "text/plain": [
       "20"
      ]
     },
     "execution_count": 15,
     "metadata": {},
     "output_type": "execute_result"
    }
   ],
   "source": [
    "# defining a function\n",
    "def main(a , b ):\n",
    "    return a+b\n",
    "\n",
    "# calling the function\n",
    "main(10, 3)"
   ]
  },
  {
   "cell_type": "code",
   "execution_count": 9,
   "id": "f8bb346f",
   "metadata": {},
   "outputs": [
    {
     "name": "stdout",
     "output_type": "stream",
     "text": [
      "The data type of argument is: <class 'int'>\n"
     ]
    }
   ],
   "source": [
    "# importing regular expressions\n",
    "import re \n",
    "\n",
    "# integer type \n",
    "variable = 23\n",
    "\n",
    "# try block\n",
    "try:\n",
    "    # providing integer to function\n",
    "    textonly = re.sub(\"[^a-zA-Z]\", \" \",variable)\n",
    "\n",
    "# except block\n",
    "except:\n",
    "    print(\"The data type of argument is:\", type(variable))\n"
   ]
  },
  {
   "cell_type": "code",
   "execution_count": 16,
   "id": "1a8700cf",
   "metadata": {},
   "outputs": [
    {
     "name": "stdout",
     "output_type": "stream",
     "text": [
      "The denominator is zero\n"
     ]
    }
   ],
   "source": [
    "# first value\n",
    "var1 = 10\n",
    "\n",
    "# denominator value\n",
    "den = 0\n",
    "\n",
    "try:\n",
    "    # dividing by non-zero\n",
    "    result = var1/den\n",
    "    \n",
    "except:\n",
    "    print(\"The denominator is zero\")"
   ]
  },
  {
   "cell_type": "code",
   "execution_count": 2,
   "id": "60e9fa29",
   "metadata": {},
   "outputs": [
    {
     "name": "stdout",
     "output_type": "stream",
     "text": [
      "30\n"
     ]
    }
   ],
   "source": [
    "def multiply(a, b):\n",
    "    result = 0\n",
    "    for i in range(b):\n",
    "        result += a\n",
    "    return result\n",
    "\n",
    "print(multiply(10, 3))"
   ]
  },
  {
   "cell_type": "code",
   "execution_count": 3,
   "id": "87caa835",
   "metadata": {},
   "outputs": [],
   "source": [
    "def divide(a, b):\n",
    "    quotient = 0\n",
    "    while a >= b:\n",
    "        a -= b\n",
    "        quotient += 1\n",
    "    return quotient\n"
   ]
  },
  {
   "cell_type": "code",
   "execution_count": 5,
   "id": "9c5bdd48",
   "metadata": {},
   "outputs": [
    {
     "data": {
      "text/plain": [
       "2"
      ]
     },
     "execution_count": 5,
     "metadata": {},
     "output_type": "execute_result"
    }
   ],
   "source": [
    "divide(10, 5)"
   ]
  },
  {
   "cell_type": "code",
   "execution_count": 7,
   "id": "11bdb2cc",
   "metadata": {},
   "outputs": [
    {
     "name": "stdout",
     "output_type": "stream",
     "text": [
      "[1, 2, 3, 4, 5]\n"
     ]
    }
   ],
   "source": [
    "# original list\n",
    "original_list = [1, 2, 3, 3, 4, 4, 5, 5]\n",
    "\n",
    "#  list to set\n",
    "unique_list = list(set(original_list))\n",
    "\n",
    "# printing the list\n",
    "print(unique_list)\n"
   ]
  },
  {
   "cell_type": "code",
   "execution_count": 8,
   "id": "38f5d2d9",
   "metadata": {},
   "outputs": [
    {
     "name": "stdout",
     "output_type": "stream",
     "text": [
      "{3, 4, 5}\n"
     ]
    }
   ],
   "source": [
    "list1 = [1, 2, 3, 4, 5]\n",
    "list2 = [3, 4, 5, 6, 7]\n",
    "common_elements = set(list1).intersection(list2)\n",
    "print(common_elements)\n"
   ]
  },
  {
   "cell_type": "code",
   "execution_count": 10,
   "id": "aa94200e",
   "metadata": {},
   "outputs": [
    {
     "name": "stdout",
     "output_type": "stream",
     "text": [
      "[3, 4, 5]\n"
     ]
    }
   ],
   "source": [
    "#\n",
    "list1 = [1, 2, 3, 4, 5]\n",
    "list2 = [3, 4, 5, 6, 7]\n",
    "common_elements = [x for x in list1 if x in list2]\n",
    "print(common_elements)\n"
   ]
  },
  {
   "cell_type": "code",
   "execution_count": 12,
   "id": "85aa57c0",
   "metadata": {},
   "outputs": [
    {
     "name": "stdout",
     "output_type": "stream",
     "text": [
      "[1, 2, 3, 4, 5]\n"
     ]
    }
   ],
   "source": [
    "# string values with comma\n",
    "string_of_values = \"1, 2, 3, 4, 5\"\n",
    "\n",
    "# converting to list\n",
    "list_of_integers = [int(x) for x in string_of_values.split(',')]\n",
    "print(list_of_integers)\n"
   ]
  },
  {
   "cell_type": "code",
   "execution_count": 14,
   "id": "9cba9689",
   "metadata": {},
   "outputs": [
    {
     "name": "stdout",
     "output_type": "stream",
     "text": [
      "[1, 2, 3, 4, 5]\n"
     ]
    }
   ],
   "source": [
    "string_of_values = \"1, 2, 3, 4, 5\"\n",
    "\n",
    "# using map function\n",
    "list_of_integers = list(map(int,string_of_values.split(',')))\n",
    "print(list_of_integers)\n"
   ]
  },
  {
   "cell_type": "code",
   "execution_count": 1,
   "id": "295bcc94",
   "metadata": {},
   "outputs": [
    {
     "ename": "AttributeError",
     "evalue": "'int' object has no attribute 'append'",
     "output_type": "error",
     "traceback": [
      "\u001b[0;31m---------------------------------------------------------------------------\u001b[0m",
      "\u001b[0;31mAttributeError\u001b[0m                            Traceback (most recent call last)",
      "\u001b[0;32m/tmp/ipykernel_133362/1203961237.py\u001b[0m in \u001b[0;36m<module>\u001b[0;34m\u001b[0m\n\u001b[1;32m      3\u001b[0m \u001b[0;34m\u001b[0m\u001b[0m\n\u001b[1;32m      4\u001b[0m \u001b[0;31m# using append method\u001b[0m\u001b[0;34m\u001b[0m\u001b[0;34m\u001b[0m\u001b[0m\n\u001b[0;32m----> 5\u001b[0;31m \u001b[0minteger\u001b[0m\u001b[0;34m.\u001b[0m\u001b[0mappend\u001b[0m\u001b[0;34m(\u001b[0m\u001b[0;36m10\u001b[0m\u001b[0;34m)\u001b[0m\u001b[0;34m\u001b[0m\u001b[0;34m\u001b[0m\u001b[0m\n\u001b[0m",
      "\u001b[0;31mAttributeError\u001b[0m: 'int' object has no attribute 'append'"
     ]
    }
   ],
   "source": [
    "# integer variable\n",
    "integer = 54\n",
    "\n",
    "# using append method\n",
    "integer.append(10)"
   ]
  },
  {
   "cell_type": "code",
   "execution_count": 5,
   "id": "43379a02",
   "metadata": {},
   "outputs": [
    {
     "name": "stdout",
     "output_type": "stream",
     "text": [
      "<class 'str'>\n",
      "<class 'int'>\n",
      "<class 'float'>\n",
      "<class 'NoneType'>\n"
     ]
    }
   ],
   "source": [
    "# variables\n",
    "string = \"bashir\"\n",
    "integer = 4323\n",
    "floating = 3.32\n",
    "NoneType = None\n",
    "\n",
    "# types\n",
    "print(type(string))\n",
    "print(type(integer))\n",
    "print(type(floating))\n",
    "print(type(NoneType))"
   ]
  },
  {
   "cell_type": "code",
   "execution_count": 6,
   "id": "fd0169fd",
   "metadata": {
    "collapsed": true
   },
   "outputs": [
    {
     "ename": "IndexError",
     "evalue": "list index out of range",
     "output_type": "error",
     "traceback": [
      "\u001b[0;31m---------------------------------------------------------------------------\u001b[0m",
      "\u001b[0;31mIndexError\u001b[0m                                Traceback (most recent call last)",
      "\u001b[0;32m/tmp/ipykernel_133362/1292321381.py\u001b[0m in \u001b[0;36m<module>\u001b[0;34m\u001b[0m\n\u001b[1;32m      3\u001b[0m \u001b[0;34m\u001b[0m\u001b[0m\n\u001b[1;32m      4\u001b[0m \u001b[0;31m# indexing\u001b[0m\u001b[0;34m\u001b[0m\u001b[0;34m\u001b[0m\u001b[0m\n\u001b[0;32m----> 5\u001b[0;31m \u001b[0mlist1\u001b[0m\u001b[0;34m[\u001b[0m\u001b[0;36m20\u001b[0m\u001b[0;34m]\u001b[0m\u001b[0;34m\u001b[0m\u001b[0;34m\u001b[0m\u001b[0m\n\u001b[0m",
      "\u001b[0;31mIndexError\u001b[0m: list index out of range"
     ]
    }
   ],
   "source": [
    "# creating a list\n",
    "list1 = [1,2,3,4,5]\n",
    "\n",
    "# indexing\n",
    "list1[20]"
   ]
  },
  {
   "cell_type": "code",
   "execution_count": 11,
   "id": "0d3e8d3f",
   "metadata": {},
   "outputs": [],
   "source": [
    "import sklearn as sk \n",
    "import numpy as np\n",
    "import matplotlib.pyplot as plt"
   ]
  },
  {
   "cell_type": "code",
   "execution_count": 12,
   "id": "5e400dc3",
   "metadata": {},
   "outputs": [
    {
     "name": "stdout",
     "output_type": "stream",
     "text": [
      "2\n"
     ]
    }
   ],
   "source": [
    "x = 1\n",
    "x += 1\n",
    "print(x)"
   ]
  },
  {
   "cell_type": "code",
   "execution_count": 15,
   "id": "3feed759",
   "metadata": {},
   "outputs": [
    {
     "ename": "SyntaxError",
     "evalue": "invalid syntax (4050753807.py, line 1)",
     "output_type": "error",
     "traceback": [
      "\u001b[0;36m  File \u001b[0;32m\"/tmp/ipykernel_133362/4050753807.py\"\u001b[0;36m, line \u001b[0;32m1\u001b[0m\n\u001b[0;31m    import sklearn as sk;import numpy as np;import matplotlib.pyplot as pltn x=6\u001b[0m\n\u001b[0m                                                                             ^\u001b[0m\n\u001b[0;31mSyntaxError\u001b[0m\u001b[0;31m:\u001b[0m invalid syntax\n"
     ]
    }
   ],
   "source": [
    "import sklearn as sk;import numpy as np;import matplotlib.pyplot as pltn x=6"
   ]
  },
  {
   "cell_type": "code",
   "execution_count": 4,
   "id": "053f9a71",
   "metadata": {},
   "outputs": [
    {
     "name": "stdout",
     "output_type": "stream",
     "text": [
      "1\n",
      "3\n",
      "5\n",
      "7\n",
      "9\n"
     ]
    }
   ],
   "source": [
    "my_list = [1, 2, 3, 4, 5, 6, 7, 8, 9, 10]\n",
    "\n",
    "# Solution\n",
    "for i in range(0, len(my_list), 2):\n",
    "    print(my_list[i])\n",
    "\n"
   ]
  },
  {
   "cell_type": "code",
   "execution_count": 5,
   "id": "ffef9d5f",
   "metadata": {
    "scrolled": true
   },
   "outputs": [
    {
     "name": "stdout",
     "output_type": "stream",
     "text": [
      "[0. 0. 0.]\n",
      "[1. 1. 1.]\n"
     ]
    }
   ],
   "source": [
    "from sklearn.preprocessing import StandardScaler\n",
    "import numpy as np\n",
    "\n",
    "# Example dataset\n",
    "X = np.array([[1, 2, 3], [4, 5, 6], [7, 8, 9]])\n",
    "\n",
    "# Initialize the Scaler\n",
    "scaler = StandardScaler()\n",
    "\n",
    "# Fit and transform the data\n",
    "X_scaled = scaler.fit_transform(X)\n",
    "\n",
    "# Check the mean and standard deviation of the transformed data\n",
    "print(np.mean(X_scaled, axis=0)) \n",
    "print(np.std(X_scaled, axis=0)) "
   ]
  },
  {
   "cell_type": "code",
   "execution_count": 7,
   "id": "a8619ac8",
   "metadata": {},
   "outputs": [
    {
     "name": "stdout",
     "output_type": "stream",
     "text": [
      "(array([2, 3, 4]),)\n"
     ]
    }
   ],
   "source": [
    "import numpy as np\n",
    "\n",
    "arr1 = np.array([1, 2, 3, 4, 5])\n",
    "arr2 = np.array([3, 4, 5, 6, 7])\n",
    "intersection = np.intersect1d(arr1, arr2)\n",
    "indices = np.where(np.isin(arr1, intersection))\n",
    "print(indices)\n"
   ]
  },
  {
   "cell_type": "code",
   "execution_count": 10,
   "id": "aff67b8e",
   "metadata": {},
   "outputs": [
    {
     "name": "stderr",
     "output_type": "stream",
     "text": [
      "/tmp/ipykernel_142769/818545720.py:10: FutureWarning: Not prepending group keys to the result index of transform-like apply. In the future, the group keys will be included in the index, regardless of whether the applied function returns a like-indexed object.\n",
      "To preserve the previous behavior, use\n",
      "\n",
      "\t>>> .groupby(..., group_keys=False)\n",
      "\n",
      "To adopt the future behavior and silence this warning, use \n",
      "\n",
      "\t>>> .groupby(..., group_keys=True)\n",
      "  df_sum['percentage'] = df_sum.groupby('category')['value'].apply(lambda x: x / x.sum())\n"
     ]
    },
    {
     "data": {
      "image/png": "[encoded data removed]",
      "text/plain": [
       "<Figure size 432x288 with 1 Axes>"
      ]
     },
     "metadata": {
      "needs_background": "light"
     },
     "output_type": "display_data"
    }
   ],
   "source": [
    "import matplotlib.pyplot as plt\n",
    "import pandas as pd\n",
    "\n",
    "data = {'category': ['A', 'A', 'A', 'B', 'B', 'B'],\n",
    "        'sub-category': ['X', 'Y', 'Z', 'X', 'Y', 'Z'],\n",
    "        'value': [1, 2, 3, 4, 5, 6]}\n",
    "df = pd.DataFrame(data)\n",
    "\n",
    "df_sum = df.groupby(['category', 'sub-category']).sum().reset_index()\n",
    "df_sum['percentage'] = df_sum.groupby('category')['value'].apply(lambda x: x / x.sum())\n",
    "\n",
    "fig = plt.figure()\n",
    "ax = fig.add_axes([0, 0, 1, 1])\n",
    "for i, category in enumerate(df_sum['category'].unique()):\n",
    "    ax.bar(i, df_sum.loc[df_sum['category'] == category, 'percentage'], label=category)\n",
    "    for j, sub_category in enumerate(df_sum['sub-category'].unique()):\n",
    "        ax.text(i-0.1, df_sum.loc[(df_sum['category'] == category) & (df_sum['sub-category'] == sub_category), 'percentage'], \n",
    "                str(round(df_sum.loc[(df_sum['category'] == category) & (df_sum['sub-category'] == sub_category), 'percentage']*100, 2))+\"%\", color='white', fontweight='bold')\n",
    "\n",
    "ax.set_xticks(range(len(df_sum['category'].unique())))\n",
    "ax.set_xticklabels(df_sum['category'].unique())\n",
    "ax.legend()\n",
    "plt.show()\n"
   ]
  },
  {
   "cell_type": "code",
   "execution_count": 11,
   "id": "52682cc6",
   "metadata": {},
   "outputs": [
    {
     "name": "stdout",
     "output_type": "stream",
     "text": [
      "[ 3.49822076e-01 -9.42728812e-09] -1.1880696715989616\n"
     ]
    }
   ],
   "source": [
    "import scipy.optimize as optimize\n",
    "import numpy as np\n",
    "\n",
    "def func(param):\n",
    "    x, y = param\n",
    "    return -(np.sin(x) + np.cos(y)) * np.exp(-(x**2 + y**2))\n",
    "\n",
    "bounds = [( -5, 5), (-5, 5)]\n",
    "result = optimize.differential_evolution(func, bounds)\n",
    "print(result.x, result.fun)\n"
   ]
  },
  {
   "cell_type": "code",
   "execution_count": 13,
   "id": "ad7f2f9b",
   "metadata": {},
   "outputs": [
    {
     "name": "stderr",
     "output_type": "stream",
     "text": [
      "2023-01-28 14:29:58.462100: W tensorflow/compiler/xla/stream_executor/platform/default/dso_loader.cc:64] Could not load dynamic library 'libcuda.so.1'; dlerror: libcuda.so.1: cannot open shared object file: No such file or directory\n",
      "2023-01-28 14:29:58.462124: W tensorflow/compiler/xla/stream_executor/cuda/cuda_driver.cc:265] failed call to cuInit: UNKNOWN ERROR (303)\n",
      "2023-01-28 14:29:58.462146: I tensorflow/compiler/xla/stream_executor/cuda/cuda_diagnostics.cc:156] kernel driver does not appear to be running on this host (bashir): /proc/driver/nvidia/version does not exist\n",
      "2023-01-28 14:29:58.462491: I tensorflow/core/platform/cpu_feature_guard.cc:193] This TensorFlow binary is optimized with oneAPI Deep Neural Network Library (oneDNN) to use the following CPU instructions in performance-critical operations:  AVX2 FMA\n",
      "To enable them in other operations, rebuild TensorFlow with the appropriate compiler flags.\n"
     ]
    },
    {
     "name": "stdout",
     "output_type": "stream",
     "text": [
      "Epoch 1/12\n",
      "422/422 [==============================] - 23s 52ms/step - loss: 0.2561 - accuracy: 0.9222 - val_loss: 0.0558 - val_accuracy: 0.9828\n",
      "Epoch 2/12\n",
      "422/422 [==============================] - 23s 55ms/step - loss: 0.0798 - accuracy: 0.9757 - val_loss: 0.0409 - val_accuracy: 0.9885\n",
      "Epoch 3/12\n",
      "422/422 [==============================] - 23s 55ms/step - loss: 0.0576 - accuracy: 0.9817 - val_loss: 0.0402 - val_accuracy: 0.9880\n",
      "Epoch 4/12\n",
      "422/422 [==============================] - 23s 55ms/step - loss: 0.0467 - accuracy: 0.9854 - val_loss: 0.0341 - val_accuracy: 0.9910\n",
      "Epoch 5/12\n",
      "422/422 [==============================] - 23s 55ms/step - loss: 0.0388 - accuracy: 0.9881 - val_loss: 0.0358 - val_accuracy: 0.9900\n",
      "Epoch 6/12\n",
      "422/422 [==============================] - 23s 55ms/step - loss: 0.0329 - accuracy: 0.9892 - val_loss: 0.0305 - val_accuracy: 0.9922\n",
      "Epoch 7/12\n",
      "422/422 [==============================] - 24s 57ms/step - loss: 0.0281 - accuracy: 0.9910 - val_loss: 0.0339 - val_accuracy: 0.9893\n",
      "Epoch 8/12\n",
      "422/422 [==============================] - 23s 55ms/step - loss: 0.0247 - accuracy: 0.9922 - val_loss: 0.0333 - val_accuracy: 0.9905\n",
      "Epoch 9/12\n",
      "422/422 [==============================] - 23s 55ms/step - loss: 0.0209 - accuracy: 0.9934 - val_loss: 0.0283 - val_accuracy: 0.9913\n",
      "Epoch 10/12\n",
      "422/422 [==============================] - 23s 55ms/step - loss: 0.0202 - accuracy: 0.9935 - val_loss: 0.0282 - val_accuracy: 0.9922\n",
      "Epoch 11/12\n",
      "422/422 [==============================] - 24s 56ms/step - loss: 0.0168 - accuracy: 0.9944 - val_loss: 0.0315 - val_accuracy: 0.9923\n",
      "Epoch 12/12\n",
      "422/422 [==============================] - 22s 52ms/step - loss: 0.0165 - accuracy: 0.9945 - val_loss: 0.0356 - val_accuracy: 0.9913\n",
      "313/313 [==============================] - 1s 5ms/step - loss: 0.0272 - accuracy: 0.9918\n",
      "Test accuracy: 0.9918000102043152\n"
     ]
    }
   ],
   "source": [
    "from keras.datasets import mnist\n",
    "from keras.models import Sequential\n",
    "from keras.layers import Dense, Dropout, Flatten\n",
    "from keras.layers import Conv2D, MaxPooling2D\n",
    "from keras import backend as K\n",
    "import keras\n",
    "\n",
    "# load the MNIST data\n",
    "(x_train, y_train), (x_test, y_test) = mnist.load_data()\n",
    "\n",
    "# reshape the data to (num_samples, 28, 28, 1)\n",
    "x_train = x_train.reshape(x_train.shape[0], 28, 28, 1)\n",
    "x_test = x_test.reshape(x_test.shape[0], 28, 28, 1)\n",
    "input_shape = (28, 28, 1)\n",
    "\n",
    "# convert data to float32 and normalize to range [0, 1]\n",
    "x_train = x_train.astype('float32')\n",
    "x_test = x_test.astype('float32')\n",
    "x_train /= 255\n",
    "x_test /= 255\n",
    "\n",
    "# one-hot encode the labels\n",
    "num_classes = 10\n",
    "y_train = keras.utils.to_categorical(y_train, num_classes)\n",
    "y_test = keras.utils.to_categorical(y_test, num_classes)\n",
    "\n",
    "# define the model\n",
    "model = Sequential()\n",
    "model.add(Conv2D(32, kernel_size=(3, 3), activation='relu', input_shape=input_shape))\n",
    "model.add(MaxPooling2D(pool_size=(2, 2)))\n",
    "model.add(Conv2D(64, kernel_size=(3, 3), activation='relu'))\n",
    "model.add(MaxPooling2D(pool_size=(2, 2)))\n",
    "model.add(Flatten())\n",
    "model.add(Dense(256, activation='relu'))\n",
    "model.add(Dropout(0.5))\n",
    "model.add(Dense(num_classes, activation='softmax'))\n",
    "\n",
    "# compile the model\n",
    "model.compile(loss='categorical_crossentropy', optimizer='adam', metrics=['accuracy'])\n",
    "\n",
    "# train the model\n",
    "batch_size = 128\n",
    "epochs = 12\n",
    "model.fit(x_train, y_train, batch_size=batch_size, epochs=epochs, validation_split=0.1)\n",
    "\n",
    "# evaluate the model\n",
    "test_loss, test_acc = model.evaluate(x_test, y_test)\n",
    "print('Test accuracy:', test_acc)\n"
   ]
  },
  {
   "cell_type": "code",
   "execution_count": 14,
   "id": "e58c7a42",
   "metadata": {},
   "outputs": [],
   "source": [
    "import random\n",
    "import string\n",
    "\n",
    "def generate_string(length: int, uppercase: bool = True, lowercase: bool = True, digits: bool = True, special: bool = True):\n",
    "\n",
    "    # Define the character sets to use.\n",
    "    char_sets = []\n",
    "    if uppercase:\n",
    "        char_sets.append(string.ascii_uppercase)\n",
    "    if lowercase:\n",
    "        char_sets.append(string.ascii_lowercase)\n",
    "    if digits:\n",
    "        char_sets.append(string.digits)\n",
    "    if special:\n",
    "        char_sets.append(string.punctuation)\n",
    "\n",
    "    # Validate that at least one character set is specified.\n",
    "    if len(char_sets) == 0:\n",
    "        raise ValueError('At least one character set must be specified.')\n",
    "\n",
    "    # Create a list of characters to choose from.\n",
    "    chars = ''.join(char_sets)\n",
    "\n",
    "    # Generate a random string of the specified length.\n",
    "    rand_str = ''.join(random.choice(chars) for _ in range(length))\n",
    "\n",
    "    # Check that the string contains at least one of each specified character types.\n",
    "    if uppercase:\n",
    "        if not any(c.isupper() for c in rand_str):\n",
    "            raise ValueError('The generated string does not contain any uppercase letters.')\n",
    "    if lowercase:\n",
    "        if not any(c.islower() for c in rand_str):\n",
    "            raise ValueError('The generated string does not contain any lowercase letters.')\n",
    "    if digits:\n",
    "        if not any(c.isdigit() for c in rand_str):\n",
    "            raise ValueError('The generated string does not contain any digits.')\n",
    "    if special:\n",
    "        if not any(c in string.punctuation for c in rand_str):\n",
    "            raise ValueError('The generated string does not contain any special characters.')\n",
    "\n",
    "    return rand_str\n"
   ]
  },
  {
   "cell_type": "code",
   "execution_count": 15,
   "id": "176813aa",
   "metadata": {},
   "outputs": [
    {
     "data": {
      "text/plain": [
       "'9kZ}iY?&'"
      ]
     },
     "execution_count": 15,
     "metadata": {},
     "output_type": "execute_result"
    }
   ],
   "source": [
    "generate_string(8)"
   ]
  },
  {
   "cell_type": "code",
   "execution_count": 16,
   "id": "d861da72",
   "metadata": {},
   "outputs": [],
   "source": [
    "def is_prime(n: int) -> bool:\n",
    "    if n < 2:\n",
    "        return False\n",
    "    for i in range(2, int(n ** 0.5) + 1):\n",
    "        if n % i == 0:\n",
    "            return False\n",
    "    return True\n",
    "\n",
    "def prime_filter(lst: list) -> list:\n",
    "    return [x for x in lst if is_prime(x)]\n"
   ]
  },
  {
   "cell_type": "code",
   "execution_count": 17,
   "id": "c4d160ce",
   "metadata": {},
   "outputs": [
    {
     "name": "stdout",
     "output_type": "stream",
     "text": [
      "9\n"
     ]
    }
   ],
   "source": [
    "def second_largest(numbers):\n",
    "    largest = float('-inf')\n",
    "    second_largest = float('-inf')\n",
    "    for number in numbers:\n",
    "        if number > largest:\n",
    "            second_largest = largest\n",
    "            largest = number\n",
    "        elif (number > second_largest) and (number != largest):\n",
    "            second_largest = number\n",
    "    return second_largest\n",
    "\n",
    "print(second_largest([1, 2, 3, 4, 5, 6, 7, 8, 9, 10])) \n"
   ]
  },
  {
   "cell_type": "code",
   "execution_count": 18,
   "id": "f8d4b4d1",
   "metadata": {},
   "outputs": [
    {
     "name": "stdout",
     "output_type": "stream",
     "text": [
      "{'This': 2, 'is': 2, 'a': 1, 'test': 2, 'sentence.': 1, 'sentence': 1, 'used': 1, 'to': 1, 'the': 1, 'word': 1, 'count': 1, 'function.': 1}\n"
     ]
    }
   ],
   "source": [
    "def word_count(text):\n",
    "    word_count = {}\n",
    "    for word in text.split():\n",
    "        if word in word_count:\n",
    "            word_count[word] += 1\n",
    "        else:\n",
    "            word_count[word] = 1\n",
    "    return word_count\n",
    "\n",
    "print(word_count(\"This is a test sentence. This sentence is used to test the word count function.\"))\n",
    "# should return {'This': 2, 'is': 2, 'a': 1, 'test': 2, 'sentence.': 1, 'sentence': 1, 'used': 1, 'to': 1, 'the': 1, 'word': 1, 'count': 1, 'function.': 1}\n"
   ]
  },
  {
   "cell_type": "code",
   "execution_count": 2,
   "id": "d5775a00",
   "metadata": {},
   "outputs": [
    {
     "ename": "TypeError",
     "evalue": "'>=' not supported between instances of 'builtin_function_or_method' and 'int'",
     "output_type": "error",
     "traceback": [
      "\u001b[0;31m---------------------------------------------------------------------------\u001b[0m",
      "\u001b[0;31mTypeError\u001b[0m                                 Traceback (most recent call last)",
      "\u001b[0;32m/tmp/ipykernel_179876/1443188841.py\u001b[0m in \u001b[0;36m<module>\u001b[0;34m\u001b[0m\n\u001b[1;32m     86\u001b[0m     \u001b[0my2\u001b[0m \u001b[0;34m=\u001b[0m \u001b[0mceny\u001b[0m \u001b[0;34m+\u001b[0m \u001b[0mradius\u001b[0m\u001b[0;34m*\u001b[0m\u001b[0msin\u001b[0m\u001b[0;34m(\u001b[0m\u001b[0mtheta\u001b[0m\u001b[0;34m)\u001b[0m\u001b[0;34m\u001b[0m\u001b[0;34m\u001b[0m\u001b[0m\n\u001b[1;32m     87\u001b[0m     \u001b[0;32mif\u001b[0m \u001b[0;34m(\u001b[0m\u001b[0mi\u001b[0m \u001b[0;34m>\u001b[0m \u001b[0;36m0\u001b[0m\u001b[0;34m)\u001b[0m\u001b[0;34m:\u001b[0m\u001b[0;34m\u001b[0m\u001b[0;34m\u001b[0m\u001b[0m\n\u001b[0;32m---> 88\u001b[0;31m         \u001b[0mdraw_line\u001b[0m\u001b[0;34m(\u001b[0m\u001b[0mx1\u001b[0m\u001b[0;34m,\u001b[0m \u001b[0my1\u001b[0m\u001b[0;34m,\u001b[0m \u001b[0mx2\u001b[0m\u001b[0;34m,\u001b[0m \u001b[0my2\u001b[0m\u001b[0;34m)\u001b[0m\u001b[0;34m\u001b[0m\u001b[0;34m\u001b[0m\u001b[0m\n\u001b[0m\u001b[1;32m     89\u001b[0m     \u001b[0mx1\u001b[0m \u001b[0;34m=\u001b[0m \u001b[0mx2\u001b[0m\u001b[0;34m\u001b[0m\u001b[0;34m\u001b[0m\u001b[0m\n\u001b[1;32m     90\u001b[0m     \u001b[0my1\u001b[0m \u001b[0;34m=\u001b[0m \u001b[0my2\u001b[0m\u001b[0;34m\u001b[0m\u001b[0;34m\u001b[0m\u001b[0m\n",
      "\u001b[0;32m/tmp/ipykernel_179876/1443188841.py\u001b[0m in \u001b[0;36mdraw_line\u001b[0;34m(x1, y1, x2, y2)\u001b[0m\n\u001b[1;32m     64\u001b[0m             \u001b[0mdraw_line_x\u001b[0m\u001b[0;34m(\u001b[0m\u001b[0mx1\u001b[0m\u001b[0;34m,\u001b[0m \u001b[0my1\u001b[0m\u001b[0;34m,\u001b[0m \u001b[0mx2\u001b[0m\u001b[0;34m,\u001b[0m \u001b[0my2\u001b[0m\u001b[0;34m)\u001b[0m\u001b[0;34m\u001b[0m\u001b[0;34m\u001b[0m\u001b[0m\n\u001b[1;32m     65\u001b[0m         \u001b[0;32melse\u001b[0m\u001b[0;34m:\u001b[0m\u001b[0;34m\u001b[0m\u001b[0;34m\u001b[0m\u001b[0m\n\u001b[0;32m---> 66\u001b[0;31m             \u001b[0mdraw_line_x\u001b[0m\u001b[0;34m(\u001b[0m\u001b[0mx2\u001b[0m\u001b[0;34m,\u001b[0m \u001b[0my2\u001b[0m\u001b[0;34m,\u001b[0m \u001b[0mx1\u001b[0m\u001b[0;34m,\u001b[0m \u001b[0my1\u001b[0m\u001b[0;34m)\u001b[0m\u001b[0;34m\u001b[0m\u001b[0;34m\u001b[0m\u001b[0m\n\u001b[0m\u001b[1;32m     67\u001b[0m     \u001b[0;32melse\u001b[0m\u001b[0;34m:\u001b[0m\u001b[0;34m\u001b[0m\u001b[0;34m\u001b[0m\u001b[0m\n\u001b[1;32m     68\u001b[0m         \u001b[0;32mif\u001b[0m \u001b[0my2\u001b[0m \u001b[0;34m>\u001b[0m \u001b[0my1\u001b[0m\u001b[0;34m:\u001b[0m\u001b[0;34m\u001b[0m\u001b[0;34m\u001b[0m\u001b[0m\n",
      "\u001b[0;32m/tmp/ipykernel_179876/1443188841.py\u001b[0m in \u001b[0;36mdraw_line_x\u001b[0;34m(x1, y1, x2, y2)\u001b[0m\n\u001b[1;32m     32\u001b[0m     \u001b[0;32mfor\u001b[0m \u001b[0mx\u001b[0m \u001b[0;32min\u001b[0m \u001b[0mrange\u001b[0m\u001b[0;34m(\u001b[0m\u001b[0mxstart\u001b[0m\u001b[0;34m,\u001b[0m \u001b[0mxstop\u001b[0m\u001b[0;34m)\u001b[0m\u001b[0;34m:\u001b[0m \u001b[0;31m# this works only when x2 > x1\u001b[0m\u001b[0;34m\u001b[0m\u001b[0;34m\u001b[0m\u001b[0m\n\u001b[1;32m     33\u001b[0m         \u001b[0miy\u001b[0m \u001b[0;34m=\u001b[0m \u001b[0mfloor\u001b[0m\u001b[0;34m\u001b[0m\u001b[0;34m\u001b[0m\u001b[0m\n\u001b[0;32m---> 34\u001b[0;31m         \u001b[0mset_pixel_alpha\u001b[0m\u001b[0;34m(\u001b[0m\u001b[0mx\u001b[0m\u001b[0;34m,\u001b[0m \u001b[0miy\u001b[0m\u001b[0;34m,\u001b[0m \u001b[0mline_color\u001b[0m\u001b[0;34m[\u001b[0m\u001b[0;36m0\u001b[0m\u001b[0;34m]\u001b[0m\u001b[0;34m,\u001b[0m \u001b[0mline_color\u001b[0m\u001b[0;34m[\u001b[0m\u001b[0;36m1\u001b[0m\u001b[0;34m]\u001b[0m\u001b[0;34m,\u001b[0m \u001b[0mline_color\u001b[0m\u001b[0;34m[\u001b[0m\u001b[0;36m2\u001b[0m\u001b[0;34m]\u001b[0m\u001b[0;34m,\u001b[0m \u001b[0mline_color\u001b[0m\u001b[0;34m[\u001b[0m\u001b[0;36m3\u001b[0m\u001b[0;34m]\u001b[0m\u001b[0;34m)\u001b[0m \u001b[0;31m# for any color line\u001b[0m\u001b[0;34m\u001b[0m\u001b[0;34m\u001b[0m\u001b[0m\n\u001b[0m\u001b[1;32m     35\u001b[0m \u001b[0;34m\u001b[0m\u001b[0m\n\u001b[1;32m     36\u001b[0m         \u001b[0my\u001b[0m \u001b[0;34m+=\u001b[0m \u001b[0mslope\u001b[0m\u001b[0;34m\u001b[0m\u001b[0;34m\u001b[0m\u001b[0m\n",
      "\u001b[0;32m/tmp/ipykernel_179876/1443188841.py\u001b[0m in \u001b[0;36mset_pixel_alpha\u001b[0;34m(x, y, r, g, b, a)\u001b[0m\n\u001b[1;32m     14\u001b[0m \u001b[0;34m\u001b[0m\u001b[0m\n\u001b[1;32m     15\u001b[0m \u001b[0;32mdef\u001b[0m \u001b[0mset_pixel_alpha\u001b[0m\u001b[0;34m(\u001b[0m\u001b[0mx\u001b[0m\u001b[0;34m,\u001b[0m \u001b[0my\u001b[0m\u001b[0;34m,\u001b[0m \u001b[0mr\u001b[0m\u001b[0;34m,\u001b[0m \u001b[0mg\u001b[0m\u001b[0;34m,\u001b[0m \u001b[0mb\u001b[0m\u001b[0;34m,\u001b[0m \u001b[0ma\u001b[0m\u001b[0;34m)\u001b[0m\u001b[0;34m:\u001b[0m\u001b[0;34m\u001b[0m\u001b[0;34m\u001b[0m\u001b[0m\n\u001b[0;32m---> 16\u001b[0;31m     \u001b[0;32mif\u001b[0m \u001b[0;34m(\u001b[0m\u001b[0;34m(\u001b[0m\u001b[0mx\u001b[0m \u001b[0;34m>=\u001b[0m \u001b[0;36m0\u001b[0m\u001b[0;34m)\u001b[0m \u001b[0;32mand\u001b[0m \u001b[0;34m(\u001b[0m\u001b[0mx\u001b[0m \u001b[0;34m<\u001b[0m \u001b[0mWIDTH\u001b[0m\u001b[0;34m)\u001b[0m \u001b[0;32mand\u001b[0m \u001b[0;34m(\u001b[0m\u001b[0my\u001b[0m \u001b[0;34m>=\u001b[0m \u001b[0;36m0\u001b[0m\u001b[0;34m)\u001b[0m \u001b[0;32mand\u001b[0m \u001b[0;34m(\u001b[0m\u001b[0my\u001b[0m \u001b[0;34m<\u001b[0m \u001b[0mHEIGHT\u001b[0m\u001b[0;34m)\u001b[0m\u001b[0;34m)\u001b[0m\u001b[0;34m:\u001b[0m\u001b[0;34m\u001b[0m\u001b[0;34m\u001b[0m\u001b[0m\n\u001b[0m\u001b[1;32m     17\u001b[0m         \u001b[0mindex\u001b[0m \u001b[0;34m=\u001b[0m \u001b[0;36m3\u001b[0m \u001b[0;34m*\u001b[0m \u001b[0;34m(\u001b[0m\u001b[0mx\u001b[0m \u001b[0;34m+\u001b[0m \u001b[0mWIDTH\u001b[0m \u001b[0;34m*\u001b[0m \u001b[0my\u001b[0m\u001b[0;34m)\u001b[0m\u001b[0;34m\u001b[0m\u001b[0;34m\u001b[0m\u001b[0m\n\u001b[1;32m     18\u001b[0m         \u001b[0mtransparency\u001b[0m \u001b[0;34m=\u001b[0m \u001b[0;36m1\u001b[0m \u001b[0;34m-\u001b[0m \u001b[0ma\u001b[0m\u001b[0;34m\u001b[0m\u001b[0;34m\u001b[0m\u001b[0m\n",
      "\u001b[0;31mTypeError\u001b[0m: '>=' not supported between instances of 'builtin_function_or_method' and 'int'"
     ]
    }
   ],
   "source": [
    "from math import floor, sin, cos, pi\n",
    "import numpy as np\n",
    "from PIL import Image\n",
    "\n",
    "WIDTH = 400\n",
    "HEIGHT = 400\n",
    "IMAGE_SIZE = 3*WIDTH*HEIGHT\n",
    "\n",
    "line_color = [1.0, 1.0, 1.0, 1.0] # orange\n",
    "\n",
    "image = list(np.zeros(IMAGE_SIZE))\n",
    "\n",
    "# -----__----- Functions -----__-----\n",
    "\n",
    "def set_pixel_alpha(x, y, r, g, b, a):\n",
    "    if ((x >= 0) and (x < WIDTH) and (y >= 0) and (y < HEIGHT)):\n",
    "        index = 3 * (x + WIDTH * y)\n",
    "        transparency = 1 - a\n",
    "        image[index] = 255*a*r + transparency*image[index]\n",
    "        image[index+1] = 255*a*g + transparency*image[index+1]\n",
    "        image[index+2] = 255*a*b + transparency*image[index+2]\n",
    "        \n",
    "\n",
    "      \n",
    "def draw_line_x(x1, y1, x2, y2): # only works if x2 > x1\n",
    "    slope = (y2 - y1) / (x2 - x1)\n",
    "\n",
    "    xstart = floor(x1)\n",
    "    xstop = floor(x2)\n",
    "    y = y1 + (xstart + 0.5 - x1) * slope\n",
    "\n",
    "    for x in range(xstart, xstop): # this works only when x2 > x1\n",
    "        iy = floor\n",
    "        set_pixel_alpha(x, iy, line_color[0], line_color[1], line_color[2], line_color[3]) # for any color line\n",
    "            \n",
    "        y += slope\n",
    "\n",
    "\n",
    "def draw_line_y(x1, y1, x2, y2):\n",
    "    \n",
    "    slope = (x2 - x1) / (y2 - y1)\n",
    "\n",
    "    ystart = floor(y1)\n",
    "    ystop = floor(y2)\n",
    "    x = x1 + (ystart + 0.5 - y1) * slope\n",
    "\n",
    "    if y2 > y1:\n",
    "        for y in range(ystart, ystop):\n",
    "            ix = floor(x)\n",
    "            set_pixel_alpha(ix, y, line_color[0], line_color[1], line_color[2], line_color[3])\n",
    "            x += slope\n",
    "    else:\n",
    "        for y in range(ystop, ystart):\n",
    "            ix = floor(x)\n",
    "            set_pixel_alpha(ix, y, line_color[0], line_color[1], line_color[2], line_color[3])\n",
    "            x += slope\n",
    "\n",
    "    return 0\n",
    "\n",
    "def draw_line(x1, y1, x2, y2):\n",
    "   \n",
    "    if abs(x2 - x1) > abs(y2 - y1):\n",
    "        if x2 > x1:\n",
    "            draw_line_x(x1, y1, x2, y2)\n",
    "        else:\n",
    "            draw_line_x(x2, y2, x1, y1)\n",
    "    else:\n",
    "        if y2 > y1:\n",
    "            draw_line_y(x1, y1, x2, y2)\n",
    "        else:\n",
    "            draw_line_y(x2, y2, x1, y1)\n",
    "\n",
    "\n",
    "# -----__----- Functions End -----__-----\n",
    "\n",
    "n = 1000\n",
    "radius = 180.\n",
    "cenx = 199.5\n",
    "ceny = 199.5\n",
    "\n",
    "        \n",
    "\n",
    "for i in range(0, n+1):\n",
    "    theta = 2*pi*i/n\n",
    "    x2 = cenx + radius*cos(theta)\n",
    "    y2 = ceny + radius*sin(theta)\n",
    "    if (i > 0):\n",
    "        draw_line(x1, y1, x2, y2)\n",
    "    x1 = x2\n",
    "    y1 = y2\n",
    "\n",
    "    \n",
    "\n",
    "# Convert array to an image\n",
    "\n",
    "arr_3d = np.array(image).reshape((HEIGHT, WIDTH, 3))\n",
    "\n",
    "img = Image.fromarray(np.uint8(arr_3d[::-1])).convert('RGB')\n",
    "img.save(\"py_Line_x.bmp\")"
   ]
  },
  {
   "cell_type": "code",
   "execution_count": 6,
   "id": "ce8efe5e",
   "metadata": {},
   "outputs": [
    {
     "name": "stdout",
     "output_type": "stream",
     "text": [
      "5.0\n"
     ]
    }
   ],
   "source": [
    "import pandas as pd\n",
    "import numpy as np\n",
    "\n",
    "# create a sample pandas series\n",
    "s = pd.Series([1, 3, 5, np.nan, 6, 8])\n",
    "\n",
    "# find the 3rd largest value\n",
    "print(s.nlargest(3).iloc[-1])\n"
   ]
  },
  {
   "cell_type": "code",
   "execution_count": 9,
   "id": "a5d6f505",
   "metadata": {},
   "outputs": [
    {
     "name": "stdout",
     "output_type": "stream",
     "text": [
      "     col1\n",
      "0  orange\n",
      "1  banana\n",
      "2  cherry\n",
      "3  orange\n"
     ]
    }
   ],
   "source": [
    "import pandas as pd\n",
    "\n",
    "# create a sample pandas dataframe\n",
    "df = pd.DataFrame({'col1': ['apple', 'banana', 'cherry', 'apple']})\n",
    "\n",
    "# replace all occurrences of 'apple' with 'orange' in column 'col1'\n",
    "df['col1'] = df['col1'].apply(lambda x: x.replace('apple', 'orange'))\n",
    "\n",
    "# print df\n",
    "print(df)"
   ]
  },
  {
   "cell_type": "code",
   "execution_count": 10,
   "id": "32faf56c",
   "metadata": {},
   "outputs": [
    {
     "name": "stdout",
     "output_type": "stream",
     "text": [
      "3\n"
     ]
    }
   ],
   "source": [
    "import pandas as pd\n",
    "\n",
    "# create a sample pandas dataframe\n",
    "df = pd.DataFrame({'col1': ['apple', 'banana', 'cherry', 'apple']})\n",
    "\n",
    "# count the number of unique values in column 'col1'\n",
    "print(df['col1'].nunique())\n"
   ]
  },
  {
   "cell_type": "code",
   "execution_count": 15,
   "id": "c484d09d",
   "metadata": {},
   "outputs": [
    {
     "name": "stdout",
     "output_type": "stream",
     "text": [
      "My age is :  22\n"
     ]
    }
   ],
   "source": [
    "# variables\n",
    "name = \"Bashir\"\n",
    "age = 22\n"
   ]
  },
  {
   "cell_type": "code",
   "execution_count": 19,
   "id": "e3cdd6e1",
   "metadata": {},
   "outputs": [
    {
     "name": "stdout",
     "output_type": "stream",
     "text": [
      "My age is :22\n"
     ]
    }
   ],
   "source": [
    "# variables\n",
    "name = \"Bashir\"\n",
    "age = 22\n",
    "\n",
    "# printing\n",
    "print('My age is :{}'.format(age))"
   ]
  },
  {
   "cell_type": "code",
   "execution_count": 23,
   "id": "22ff1710",
   "metadata": {},
   "outputs": [
    {
     "name": "stdout",
     "output_type": "stream",
     "text": [
      "Position:CS, Salary: 80\n",
      "Position:CM, Salary: 120\n"
     ]
    }
   ],
   "source": [
    "salary_dict = {\n",
    "    'CS' : 80, \n",
    "    'CM' : 120, \n",
    "}\n",
    "\n",
    "for employee, salary in salary_dict.items():\n",
    "    print(f'Position:{employee}, Salary: {salary}')"
   ]
  },
  {
   "cell_type": "code",
   "execution_count": 10,
   "id": "85304e53",
   "metadata": {},
   "outputs": [
    {
     "name": "stdout",
     "output_type": "stream",
     "text": [
      "4.4\n",
      "nan\n"
     ]
    }
   ],
   "source": [
    "import numpy\n",
    " \n",
    "arr1 = [1, 2, 4, 7, 8]\n",
    " \n",
    "# this input array causes error\n",
    "arr2 = []\n",
    " \n",
    "result1 = numpy.mean(arr1)\n",
    "\n",
    "# this line causes the error\n",
    "result2 = numpy.mean(arr2)\n",
    " \n",
    "#  printing\n",
    "print(result1)\n",
    "print(result2)"
   ]
  },
  {
   "cell_type": "code",
   "execution_count": 13,
   "id": "0da15069",
   "metadata": {},
   "outputs": [
    {
     "name": "stdout",
     "output_type": "stream",
     "text": [
      "The Array is not valid\n"
     ]
    }
   ],
   "source": [
    "import numpy\n",
    " \n",
    "array1 = [1, 2, 4, 7, 8]\n",
    " \n",
    "# this input array causes error\n",
    "array2 = []\n",
    " \n",
    "# Here we check error\n",
    "if array1 and array2:\n",
    "    print( numpy.mean(array1))\n",
    "    print( numpy.mean(array2))\n",
    "else:\n",
    "    print(\"The Array is not valid\")"
   ]
  },
  {
   "cell_type": "code",
   "execution_count": 14,
   "id": "1db914fa",
   "metadata": {},
   "outputs": [
    {
     "name": "stdout",
     "output_type": "stream",
     "text": [
      "nan\n"
     ]
    },
    {
     "name": "stderr",
     "output_type": "stream",
     "text": [
      "/tmp/ipykernel_341710/2489633295.py:8: RuntimeWarning: overflow encountered in exp\n",
      "  sol1 = np.log(np.sum(np.exp(x)))/np.log(np.sum(np.exp(y)))\n",
      "/tmp/ipykernel_341710/2489633295.py:8: RuntimeWarning: invalid value encountered in double_scalars\n",
      "  sol1 = np.log(np.sum(np.exp(x)))/np.log(np.sum(np.exp(y)))\n"
     ]
    }
   ],
   "source": [
    "import numpy as np\n",
    "from numpy import sinh\n",
    " \n",
    "x = 900\n",
    "y = 711\n",
    " \n",
    "# This operation  raise error\n",
    "sol1 = np.log(np.sum(np.exp(x)))/np.log(np.sum(np.exp(y)))\n",
    " \n",
    "print(sol1)"
   ]
  },
  {
   "cell_type": "code",
   "execution_count": 15,
   "id": "61547cc6",
   "metadata": {},
   "outputs": [
    {
     "name": "stdout",
     "output_type": "stream",
     "text": [
      "189.0\n"
     ]
    }
   ],
   "source": [
    "import numpy as np\n",
    "from scipy.special import logsumexp\n",
    " \n",
    "x = 900\n",
    "y = 711\n",
    " \n",
    " \n",
    "# Solution of the error with the\n",
    "# help of built-in function\n",
    "sol1 = logsumexp(x) - logsumexp(y)\n",
    "\n",
    "# printing the answer\n",
    "print(sol1)"
   ]
  },
  {
   "cell_type": "code",
   "execution_count": 16,
   "id": "3be09180",
   "metadata": {},
   "outputs": [
    {
     "ename": "NameError",
     "evalue": "name 'let_mat' is not defined",
     "output_type": "error",
     "traceback": [
      "\u001b[0;31m---------------------------------------------------------------------------\u001b[0m",
      "\u001b[0;31mNameError\u001b[0m                                 Traceback (most recent call last)",
      "\u001b[0;32m/tmp/ipykernel_341710/492071695.py\u001b[0m in \u001b[0;36m<module>\u001b[0;34m\u001b[0m\n\u001b[1;32m      1\u001b[0m \u001b[0;32mfor\u001b[0m \u001b[0mj\u001b[0m \u001b[0;32min\u001b[0m \u001b[0mrange\u001b[0m\u001b[0;34m(\u001b[0m\u001b[0;36m1\u001b[0m\u001b[0;34m,\u001b[0m\u001b[0;36m27\u001b[0m\u001b[0;34m)\u001b[0m\u001b[0;34m:\u001b[0m\u001b[0;34m\u001b[0m\u001b[0;34m\u001b[0m\u001b[0m\n\u001b[1;32m      2\u001b[0m         \u001b[0;32mfor\u001b[0m \u001b[0mk\u001b[0m \u001b[0;32min\u001b[0m \u001b[0mrange\u001b[0m\u001b[0;34m(\u001b[0m\u001b[0;36m1\u001b[0m\u001b[0;34m,\u001b[0m\u001b[0;36m27\u001b[0m\u001b[0;34m)\u001b[0m\u001b[0;34m:\u001b[0m\u001b[0;34m\u001b[0m\u001b[0;34m\u001b[0m\u001b[0m\n\u001b[0;32m----> 3\u001b[0;31m                 \u001b[0mlet_prob\u001b[0m\u001b[0;34m[\u001b[0m\u001b[0mj\u001b[0m\u001b[0;34m,\u001b[0m\u001b[0mk\u001b[0m\u001b[0;34m]\u001b[0m \u001b[0;34m=\u001b[0m \u001b[0mlet_mat\u001b[0m\u001b[0;34m[\u001b[0m\u001b[0mj\u001b[0m\u001b[0;34m,\u001b[0m\u001b[0mk\u001b[0m\u001b[0;34m]\u001b[0m\u001b[0;34m*\u001b[0m\u001b[0;36m100\u001b[0m\u001b[0;34m/\u001b[0m\u001b[0;34m(\u001b[0m\u001b[0mlet_mat\u001b[0m\u001b[0;34m[\u001b[0m\u001b[0mj\u001b[0m\u001b[0;34m]\u001b[0m\u001b[0;34m.\u001b[0m\u001b[0msum\u001b[0m\u001b[0;34m(\u001b[0m\u001b[0;34m)\u001b[0m\u001b[0;34m)\u001b[0m\u001b[0;34m\u001b[0m\u001b[0;34m\u001b[0m\u001b[0m\n\u001b[0m",
      "\u001b[0;31mNameError\u001b[0m: name 'let_mat' is not defined"
     ]
    }
   ],
   "source": [
    "for j in range(1,27):\n",
    "        for k in range(1,27):\n",
    "                let_prob[j,k] = let_mat[j,k]*100/(let_mat[j].sum())"
   ]
  },
  {
   "cell_type": "code",
   "execution_count": 6,
   "id": "10892cea",
   "metadata": {},
   "outputs": [
    {
     "name": "stdout",
     "output_type": "stream",
     "text": [
      "    Name  dic Subject\n",
      "0   Jack    0    Math\n",
      "1   Rack   85    Math\n",
      "2    Max   99    Math\n",
      "3  David   56     inf\n"
     ]
    }
   ],
   "source": [
    "# importing the modules\n",
    "import pandas as pd\n",
    "import numpy as np\n",
    "   \n",
    "# creating the data frame\n",
    "data = {\n",
    "    'Name': ['Jack', 'Rack', 'Max', 'David'],\n",
    "    'dic':[np.nan,85, 99,56],\n",
    "    'Subject': ['Math', 'Math', 'Math', np.inf]\n",
    "}\n",
    "\n",
    "# creating a data frame\n",
    "dfobj = pd.DataFrame(data)\n",
    " \n",
    "# replacing the null values\n",
    "dfobj['dic'] = dfobj['dic'].replace(np.nan, 0)\n",
    "  \n",
    "# applying operation on the data frame\n",
    "dfobj['dic'] =  dfobj['dic'].astype(int)\n",
    "print(dfobj )"
   ]
  },
  {
   "cell_type": "code",
   "execution_count": 6,
   "id": "ad0a1c52",
   "metadata": {},
   "outputs": [
    {
     "ename": "AttributeError",
     "evalue": "'DataFrame' object has no attribute 'sort'",
     "output_type": "error",
     "traceback": [
      "\u001b[0;31m---------------------------------------------------------------------------\u001b[0m",
      "\u001b[0;31mAttributeError\u001b[0m                            Traceback (most recent call last)",
      "\u001b[0;32m/tmp/ipykernel_476339/2522624421.py\u001b[0m in \u001b[0;36m<module>\u001b[0;34m\u001b[0m\n\u001b[1;32m      1\u001b[0m \u001b[0;31m# sorting the dataframe\u001b[0m\u001b[0;34m\u001b[0m\u001b[0;34m\u001b[0m\u001b[0m\n\u001b[0;32m----> 2\u001b[0;31m \u001b[0mdf\u001b[0m\u001b[0;34m.\u001b[0m\u001b[0msort\u001b[0m\u001b[0;34m(\u001b[0m\u001b[0;34m)\u001b[0m\u001b[0;34m\u001b[0m\u001b[0;34m\u001b[0m\u001b[0m\n\u001b[0m",
      "\u001b[0;32m~/.local/lib/python3.10/site-packages/pandas/core/generic.py\u001b[0m in \u001b[0;36m__getattr__\u001b[0;34m(self, name)\u001b[0m\n\u001b[1;32m   5905\u001b[0m         ):\n\u001b[1;32m   5906\u001b[0m             \u001b[0;32mreturn\u001b[0m \u001b[0mself\u001b[0m\u001b[0;34m[\u001b[0m\u001b[0mname\u001b[0m\u001b[0;34m]\u001b[0m\u001b[0;34m\u001b[0m\u001b[0;34m\u001b[0m\u001b[0m\n\u001b[0;32m-> 5907\u001b[0;31m         \u001b[0;32mreturn\u001b[0m \u001b[0mobject\u001b[0m\u001b[0;34m.\u001b[0m\u001b[0m__getattribute__\u001b[0m\u001b[0;34m(\u001b[0m\u001b[0mself\u001b[0m\u001b[0;34m,\u001b[0m \u001b[0mname\u001b[0m\u001b[0;34m)\u001b[0m\u001b[0;34m\u001b[0m\u001b[0;34m\u001b[0m\u001b[0m\n\u001b[0m\u001b[1;32m   5908\u001b[0m \u001b[0;34m\u001b[0m\u001b[0m\n\u001b[1;32m   5909\u001b[0m     \u001b[0;32mdef\u001b[0m \u001b[0m__setattr__\u001b[0m\u001b[0;34m(\u001b[0m\u001b[0mself\u001b[0m\u001b[0;34m,\u001b[0m \u001b[0mname\u001b[0m\u001b[0;34m:\u001b[0m \u001b[0mstr\u001b[0m\u001b[0;34m,\u001b[0m \u001b[0mvalue\u001b[0m\u001b[0;34m)\u001b[0m \u001b[0;34m->\u001b[0m \u001b[0;32mNone\u001b[0m\u001b[0;34m:\u001b[0m\u001b[0;34m\u001b[0m\u001b[0;34m\u001b[0m\u001b[0m\n",
      "\u001b[0;31mAttributeError\u001b[0m: 'DataFrame' object has no attribute 'sort'"
     ]
    }
   ],
   "source": [
    "# sorting the dataframe\n",
    "df.sort()"
   ]
  },
  {
   "cell_type": "code",
   "execution_count": 11,
   "id": "5eeda6a5",
   "metadata": {},
   "outputs": [
    {
     "data": {
      "text/html": [
       "<div>\n",
       "<style scoped>\n",
       "    .dataframe tbody tr th:only-of-type {\n",
       "        vertical-align: middle;\n",
       "    }\n",
       "\n",
       "    .dataframe tbody tr th {\n",
       "        vertical-align: top;\n",
       "    }\n",
       "\n",
       "    .dataframe thead th {\n",
       "        text-align: right;\n",
       "    }\n",
       "</style>\n",
       "<table border=\"1\" class=\"dataframe\">\n",
       "  <thead>\n",
       "    <tr style=\"text-align: right;\">\n",
       "      <th></th>\n",
       "      <th>col1</th>\n",
       "      <th>col2</th>\n",
       "    </tr>\n",
       "  </thead>\n",
       "  <tbody>\n",
       "    <tr>\n",
       "      <th>5</th>\n",
       "      <td>u</td>\n",
       "      <td>9</td>\n",
       "    </tr>\n",
       "    <tr>\n",
       "      <th>4</th>\n",
       "      <td>t</td>\n",
       "      <td>7</td>\n",
       "    </tr>\n",
       "    <tr>\n",
       "      <th>0</th>\n",
       "      <td>p</td>\n",
       "      <td>5</td>\n",
       "    </tr>\n",
       "    <tr>\n",
       "      <th>2</th>\n",
       "      <td>r</td>\n",
       "      <td>3</td>\n",
       "    </tr>\n",
       "    <tr>\n",
       "      <th>3</th>\n",
       "      <td>s</td>\n",
       "      <td>3</td>\n",
       "    </tr>\n",
       "    <tr>\n",
       "      <th>6</th>\n",
       "      <td>v</td>\n",
       "      <td>3</td>\n",
       "    </tr>\n",
       "    <tr>\n",
       "      <th>1</th>\n",
       "      <td>q</td>\n",
       "      <td>0</td>\n",
       "    </tr>\n",
       "  </tbody>\n",
       "</table>\n",
       "</div>"
      ],
      "text/plain": [
       "  col1  col2\n",
       "5    u     9\n",
       "4    t     7\n",
       "0    p     5\n",
       "2    r     3\n",
       "3    s     3\n",
       "6    v     3\n",
       "1    q     0"
      ]
     },
     "execution_count": 11,
     "metadata": {},
     "output_type": "execute_result"
    }
   ],
   "source": [
    "# sorting the dataframe\n",
    "df = df.sort_values([\"col2\"], ascending=False)\n",
    "\n",
    "# dataframe \n",
    "df"
   ]
  },
  {
   "cell_type": "code",
   "execution_count": 1,
   "id": "9a48827a",
   "metadata": {},
   "outputs": [
    {
     "name": "stdout",
     "output_type": "stream",
     "text": [
      "   Name  Age  Salary\n",
      "2   Jim   35   65000\n",
      "3  Jack   40   70000\n",
      "4  Jill   45   80000\n",
      "   Name  Age\n",
      "2   Jim   35\n",
      "3  Jack   40\n",
      "4  Jill   45\n"
     ]
    }
   ],
   "source": [
    "import pandas as pd\n",
    "\n",
    "# Creating a sample DataFrame\n",
    "df = pd.DataFrame({\n",
    "    'Name': ['John', 'Jane', 'Jim', 'Jack', 'Jill'],\n",
    "    'Age': [25, 30, 35, 40, 45],\n",
    "    'Salary': [50000, 60000, 65000, 70000, 80000]\n",
    "})\n",
    "\n",
    "# Selecting rows where Age is greater than 30\n",
    "selected_rows = df[df['Age'] > 30]\n",
    "print(selected_rows)\n",
    "\n",
    "# Selecting columns 'Name' and 'Age' where Salary is greater than 60000\n",
    "selected_columns = df[df['Salary'] > 60000][['Name', 'Age']]\n",
    "print(selected_columns)\n"
   ]
  },
  {
   "cell_type": "code",
   "execution_count": 3,
   "id": "d4a4d604",
   "metadata": {},
   "outputs": [
    {
     "name": "stdout",
     "output_type": "stream",
     "text": [
      "  key1 key2   A   B   C   D\n",
      "0   K0   K0  A0  B0  C0  D0\n",
      "1   K1   K0  A1  B1  C1  D1\n"
     ]
    }
   ],
   "source": [
    "import pandas as pd\n",
    "\n",
    "df1 = pd.DataFrame({'key1': ['K0', 'K1', 'K2', 'K3'],\n",
    "                    'key2': ['K0', 'K0', 'K1', 'K2'],\n",
    "                    'A': ['A0', 'A1', 'A2', 'A3'],\n",
    "                    'B': ['B0', 'B1', 'B2', 'B3']})\n",
    "\n",
    "df2 = pd.DataFrame({'key1': ['K0', 'K1', 'K2', 'K3'],\n",
    "                    'key2': ['K0', 'K0', 'K0', 'K1'],\n",
    "                    'C': ['C0', 'C1', 'C2', 'C3'],\n",
    "                    'D': ['D0', 'D1', 'D2', 'D3']})\n",
    "\n",
    "result = pd.merge(df1, df2, on=['key1', 'key2'])\n",
    "\n",
    "print(result)"
   ]
  },
  {
   "cell_type": "code",
   "execution_count": 6,
   "id": "d758bfc2",
   "metadata": {},
   "outputs": [
    {
     "name": "stdout",
     "output_type": "stream",
     "text": [
      "            value\n",
      "date             \n",
      "2022-01-02    1.5\n",
      "2022-01-09    4.0\n"
     ]
    }
   ],
   "source": [
    "import pandas as pd\n",
    "import numpy as np\n",
    "\n",
    "# Creating a sample dataframe\n",
    "df = pd.DataFrame({'date': ['2022-01-01', '2022-01-02', '2022-01-03', '2022-01-04', '2022-01-05'],\n",
    "                   'value': [1, 2, 3, 4, 5]})\n",
    "\n",
    "# Converting the \"date\" column to datetime index\n",
    "df['date'] = pd.to_datetime(df['date'])\n",
    "df = df.set_index('date')\n",
    "\n",
    "# Resampling the dataframe to a different frequency\n",
    "# In this case, the frequency is changed from daily to weekly by using 'W'\n",
    "df_resampled = df.resample('W').mean()\n",
    "\n",
    "print(df_resampled)\n"
   ]
  },
  {
   "cell_type": "code",
   "execution_count": 7,
   "id": "15bdba63",
   "metadata": {},
   "outputs": [
    {
     "name": "stdout",
     "output_type": "stream",
     "text": [
      "6.5\n",
      "13.900000000000002\n"
     ]
    }
   ],
   "source": [
    "import numpy as np\n",
    "\n",
    "def linear_interpolate(x, x_values, y_values):\n",
    "    return np.interp(x, x_values, y_values)\n",
    "\n",
    "x_values = [1, 2, 3, 4]\n",
    "y_values = [1, 4, 9, 16]\n",
    "\n",
    "missing_x = [2.5, 3.7]\n",
    "\n",
    "for x in missing_x:\n",
    "    print(linear_interpolate(x, x_values, y_values))\n"
   ]
  },
  {
   "cell_type": "code",
   "execution_count": 8,
   "id": "4734d81e",
   "metadata": {},
   "outputs": [
    {
     "name": "stdout",
     "output_type": "stream",
     "text": [
      "         Date  Value  Rolling Mean  Rolling Std\n",
      "0  2021-01-31     10           NaN          NaN\n",
      "1  2021-02-28     20           NaN          NaN\n",
      "2  2021-03-31     15     15.000000     5.000000\n",
      "3  2021-04-30     25     20.000000     5.000000\n",
      "4  2021-05-31     18     19.333333     5.131601\n",
      "5  2021-06-30     22     21.666667     3.511885\n",
      "6  2021-07-31     21     20.333333     2.081666\n",
      "7  2021-08-31     23     22.000000     1.000000\n",
      "8  2021-09-30     17     20.333333     3.055050\n",
      "9  2021-10-31     26     22.000000     4.582576\n",
      "10 2021-11-30     19     20.666667     4.725816\n",
      "11 2021-12-31     24     23.000000     3.605551\n"
     ]
    }
   ],
   "source": [
    "import pandas as pd\n",
    "\n",
    "# Create a sample DataFrame with a time series column\n",
    "dates = pd.date_range('2021-01-01', periods=12, freq='M')\n",
    "data = [10, 20, 15, 25, 18, 22, 21, 23, 17, 26, 19, 24]\n",
    "df = pd.DataFrame({'Date': dates, 'Value': data})\n",
    "\n",
    "# Calculate the rolling mean with a window size of 3\n",
    "df['Rolling Mean'] = df['Value'].rolling(window=3).mean()\n",
    "\n",
    "# Calculate the rolling standard deviation with a window size of 3\n",
    "df['Rolling Std'] = df['Value'].rolling(window=3).std()\n",
    "\n",
    "print(df)\n"
   ]
  },
  {
   "cell_type": "code",
   "execution_count": 9,
   "id": "7a660af3",
   "metadata": {},
   "outputs": [
    {
     "ename": "FileNotFoundError",
     "evalue": "[Errno 2] No such file or directory: 'StudentData.xlsx'",
     "output_type": "error",
     "traceback": [
      "\u001b[0;31m---------------------------------------------------------------------------\u001b[0m",
      "\u001b[0;31mFileNotFoundError\u001b[0m                         Traceback (most recent call last)",
      "\u001b[0;32m/tmp/ipykernel_496971/2271904953.py\u001b[0m in \u001b[0;36m<module>\u001b[0;34m\u001b[0m\n\u001b[1;32m      2\u001b[0m \u001b[0;34m\u001b[0m\u001b[0m\n\u001b[1;32m      3\u001b[0m \u001b[0;31m# Load the Excel file\u001b[0m\u001b[0;34m\u001b[0m\u001b[0;34m\u001b[0m\u001b[0m\n\u001b[0;32m----> 4\u001b[0;31m \u001b[0mxlsx\u001b[0m \u001b[0;34m=\u001b[0m \u001b[0mpd\u001b[0m\u001b[0;34m.\u001b[0m\u001b[0mread_excel\u001b[0m\u001b[0;34m(\u001b[0m\u001b[0;34m\"StudentData.xlsx\"\u001b[0m\u001b[0;34m,\u001b[0m \u001b[0msheet_name\u001b[0m\u001b[0;34m=\u001b[0m\u001b[0;32mNone\u001b[0m\u001b[0;34m)\u001b[0m\u001b[0;34m\u001b[0m\u001b[0;34m\u001b[0m\u001b[0m\n\u001b[0m\u001b[1;32m      5\u001b[0m \u001b[0;34m\u001b[0m\u001b[0m\n\u001b[1;32m      6\u001b[0m \u001b[0;31m# Create separate DataFrames for each sheet\u001b[0m\u001b[0;34m\u001b[0m\u001b[0;34m\u001b[0m\u001b[0m\n",
      "\u001b[0;32m~/.local/lib/python3.10/site-packages/pandas/util/_decorators.py\u001b[0m in \u001b[0;36mwrapper\u001b[0;34m(*args, **kwargs)\u001b[0m\n\u001b[1;32m    209\u001b[0m                 \u001b[0;32melse\u001b[0m\u001b[0;34m:\u001b[0m\u001b[0;34m\u001b[0m\u001b[0;34m\u001b[0m\u001b[0m\n\u001b[1;32m    210\u001b[0m                     \u001b[0mkwargs\u001b[0m\u001b[0;34m[\u001b[0m\u001b[0mnew_arg_name\u001b[0m\u001b[0;34m]\u001b[0m \u001b[0;34m=\u001b[0m \u001b[0mnew_arg_value\u001b[0m\u001b[0;34m\u001b[0m\u001b[0;34m\u001b[0m\u001b[0m\n\u001b[0;32m--> 211\u001b[0;31m             \u001b[0;32mreturn\u001b[0m \u001b[0mfunc\u001b[0m\u001b[0;34m(\u001b[0m\u001b[0;34m*\u001b[0m\u001b[0margs\u001b[0m\u001b[0;34m,\u001b[0m \u001b[0;34m**\u001b[0m\u001b[0mkwargs\u001b[0m\u001b[0;34m)\u001b[0m\u001b[0;34m\u001b[0m\u001b[0;34m\u001b[0m\u001b[0m\n\u001b[0m\u001b[1;32m    212\u001b[0m \u001b[0;34m\u001b[0m\u001b[0m\n\u001b[1;32m    213\u001b[0m         \u001b[0;32mreturn\u001b[0m \u001b[0mcast\u001b[0m\u001b[0;34m(\u001b[0m\u001b[0mF\u001b[0m\u001b[0;34m,\u001b[0m \u001b[0mwrapper\u001b[0m\u001b[0;34m)\u001b[0m\u001b[0;34m\u001b[0m\u001b[0;34m\u001b[0m\u001b[0m\n",
      "\u001b[0;32m~/.local/lib/python3.10/site-packages/pandas/util/_decorators.py\u001b[0m in \u001b[0;36mwrapper\u001b[0;34m(*args, **kwargs)\u001b[0m\n\u001b[1;32m    315\u001b[0m                     \u001b[0mstacklevel\u001b[0m\u001b[0;34m=\u001b[0m\u001b[0mfind_stack_level\u001b[0m\u001b[0;34m(\u001b[0m\u001b[0minspect\u001b[0m\u001b[0;34m.\u001b[0m\u001b[0mcurrentframe\u001b[0m\u001b[0;34m(\u001b[0m\u001b[0;34m)\u001b[0m\u001b[0;34m)\u001b[0m\u001b[0;34m,\u001b[0m\u001b[0;34m\u001b[0m\u001b[0;34m\u001b[0m\u001b[0m\n\u001b[1;32m    316\u001b[0m                 )\n\u001b[0;32m--> 317\u001b[0;31m             \u001b[0;32mreturn\u001b[0m \u001b[0mfunc\u001b[0m\u001b[0;34m(\u001b[0m\u001b[0;34m*\u001b[0m\u001b[0margs\u001b[0m\u001b[0;34m,\u001b[0m \u001b[0;34m**\u001b[0m\u001b[0mkwargs\u001b[0m\u001b[0;34m)\u001b[0m\u001b[0;34m\u001b[0m\u001b[0;34m\u001b[0m\u001b[0m\n\u001b[0m\u001b[1;32m    318\u001b[0m \u001b[0;34m\u001b[0m\u001b[0m\n\u001b[1;32m    319\u001b[0m         \u001b[0;32mreturn\u001b[0m \u001b[0mwrapper\u001b[0m\u001b[0;34m\u001b[0m\u001b[0;34m\u001b[0m\u001b[0m\n",
      "\u001b[0;32m~/.local/lib/python3.10/site-packages/pandas/io/excel/_base.py\u001b[0m in \u001b[0;36mread_excel\u001b[0;34m(io, sheet_name, header, names, index_col, usecols, squeeze, dtype, engine, converters, true_values, false_values, skiprows, nrows, na_values, keep_default_na, na_filter, verbose, parse_dates, date_parser, thousands, decimal, comment, skipfooter, convert_float, mangle_dupe_cols, storage_options)\u001b[0m\n\u001b[1;32m    481\u001b[0m     \u001b[0;32mif\u001b[0m \u001b[0;32mnot\u001b[0m \u001b[0misinstance\u001b[0m\u001b[0;34m(\u001b[0m\u001b[0mio\u001b[0m\u001b[0;34m,\u001b[0m \u001b[0mExcelFile\u001b[0m\u001b[0;34m)\u001b[0m\u001b[0;34m:\u001b[0m\u001b[0;34m\u001b[0m\u001b[0;34m\u001b[0m\u001b[0m\n\u001b[1;32m    482\u001b[0m         \u001b[0mshould_close\u001b[0m \u001b[0;34m=\u001b[0m \u001b[0;32mTrue\u001b[0m\u001b[0;34m\u001b[0m\u001b[0;34m\u001b[0m\u001b[0m\n\u001b[0;32m--> 483\u001b[0;31m         \u001b[0mio\u001b[0m \u001b[0;34m=\u001b[0m \u001b[0mExcelFile\u001b[0m\u001b[0;34m(\u001b[0m\u001b[0mio\u001b[0m\u001b[0;34m,\u001b[0m \u001b[0mstorage_options\u001b[0m\u001b[0;34m=\u001b[0m\u001b[0mstorage_options\u001b[0m\u001b[0;34m,\u001b[0m \u001b[0mengine\u001b[0m\u001b[0;34m=\u001b[0m\u001b[0mengine\u001b[0m\u001b[0;34m)\u001b[0m\u001b[0;34m\u001b[0m\u001b[0;34m\u001b[0m\u001b[0m\n\u001b[0m\u001b[1;32m    484\u001b[0m     \u001b[0;32melif\u001b[0m \u001b[0mengine\u001b[0m \u001b[0;32mand\u001b[0m \u001b[0mengine\u001b[0m \u001b[0;34m!=\u001b[0m \u001b[0mio\u001b[0m\u001b[0;34m.\u001b[0m\u001b[0mengine\u001b[0m\u001b[0;34m:\u001b[0m\u001b[0;34m\u001b[0m\u001b[0;34m\u001b[0m\u001b[0m\n\u001b[1;32m    485\u001b[0m         raise ValueError(\n",
      "\u001b[0;32m~/.local/lib/python3.10/site-packages/pandas/io/excel/_base.py\u001b[0m in \u001b[0;36m__init__\u001b[0;34m(self, path_or_buffer, engine, storage_options)\u001b[0m\n\u001b[1;32m   1627\u001b[0m                 \u001b[0mext\u001b[0m \u001b[0;34m=\u001b[0m \u001b[0;34m\"xls\"\u001b[0m\u001b[0;34m\u001b[0m\u001b[0;34m\u001b[0m\u001b[0m\n\u001b[1;32m   1628\u001b[0m             \u001b[0;32melse\u001b[0m\u001b[0;34m:\u001b[0m\u001b[0;34m\u001b[0m\u001b[0;34m\u001b[0m\u001b[0m\n\u001b[0;32m-> 1629\u001b[0;31m                 ext = inspect_excel_format(\n\u001b[0m\u001b[1;32m   1630\u001b[0m                     \u001b[0mcontent_or_path\u001b[0m\u001b[0;34m=\u001b[0m\u001b[0mpath_or_buffer\u001b[0m\u001b[0;34m,\u001b[0m \u001b[0mstorage_options\u001b[0m\u001b[0;34m=\u001b[0m\u001b[0mstorage_options\u001b[0m\u001b[0;34m\u001b[0m\u001b[0;34m\u001b[0m\u001b[0m\n\u001b[1;32m   1631\u001b[0m                 )\n",
      "\u001b[0;32m~/.local/lib/python3.10/site-packages/pandas/io/excel/_base.py\u001b[0m in \u001b[0;36minspect_excel_format\u001b[0;34m(content_or_path, storage_options)\u001b[0m\n\u001b[1;32m   1500\u001b[0m         \u001b[0mcontent_or_path\u001b[0m \u001b[0;34m=\u001b[0m \u001b[0mBytesIO\u001b[0m\u001b[0;34m(\u001b[0m\u001b[0mcontent_or_path\u001b[0m\u001b[0;34m)\u001b[0m\u001b[0;34m\u001b[0m\u001b[0;34m\u001b[0m\u001b[0m\n\u001b[1;32m   1501\u001b[0m \u001b[0;34m\u001b[0m\u001b[0m\n\u001b[0;32m-> 1502\u001b[0;31m     with get_handle(\n\u001b[0m\u001b[1;32m   1503\u001b[0m         \u001b[0mcontent_or_path\u001b[0m\u001b[0;34m,\u001b[0m \u001b[0;34m\"rb\"\u001b[0m\u001b[0;34m,\u001b[0m \u001b[0mstorage_options\u001b[0m\u001b[0;34m=\u001b[0m\u001b[0mstorage_options\u001b[0m\u001b[0;34m,\u001b[0m \u001b[0mis_text\u001b[0m\u001b[0;34m=\u001b[0m\u001b[0;32mFalse\u001b[0m\u001b[0;34m\u001b[0m\u001b[0;34m\u001b[0m\u001b[0m\n\u001b[1;32m   1504\u001b[0m     ) as handle:\n",
      "\u001b[0;32m~/.local/lib/python3.10/site-packages/pandas/io/common.py\u001b[0m in \u001b[0;36mget_handle\u001b[0;34m(path_or_buf, mode, encoding, compression, memory_map, is_text, errors, storage_options)\u001b[0m\n\u001b[1;32m    864\u001b[0m         \u001b[0;32melse\u001b[0m\u001b[0;34m:\u001b[0m\u001b[0;34m\u001b[0m\u001b[0;34m\u001b[0m\u001b[0m\n\u001b[1;32m    865\u001b[0m             \u001b[0;31m# Binary mode\u001b[0m\u001b[0;34m\u001b[0m\u001b[0;34m\u001b[0m\u001b[0m\n\u001b[0;32m--> 866\u001b[0;31m             \u001b[0mhandle\u001b[0m \u001b[0;34m=\u001b[0m \u001b[0mopen\u001b[0m\u001b[0;34m(\u001b[0m\u001b[0mhandle\u001b[0m\u001b[0;34m,\u001b[0m \u001b[0mioargs\u001b[0m\u001b[0;34m.\u001b[0m\u001b[0mmode\u001b[0m\u001b[0;34m)\u001b[0m\u001b[0;34m\u001b[0m\u001b[0;34m\u001b[0m\u001b[0m\n\u001b[0m\u001b[1;32m    867\u001b[0m         \u001b[0mhandles\u001b[0m\u001b[0;34m.\u001b[0m\u001b[0mappend\u001b[0m\u001b[0;34m(\u001b[0m\u001b[0mhandle\u001b[0m\u001b[0;34m)\u001b[0m\u001b[0;34m\u001b[0m\u001b[0;34m\u001b[0m\u001b[0m\n\u001b[1;32m    868\u001b[0m \u001b[0;34m\u001b[0m\u001b[0m\n",
      "\u001b[0;31mFileNotFoundError\u001b[0m: [Errno 2] No such file or directory: 'StudentData.xlsx'"
     ]
    }
   ],
   "source": [
    "import pandas as pd\n",
    "\n",
    "# Load the Excel file\n",
    "xlsx = pd.read_excel(\"StudentData.xlsx\", sheet_name=None)\n",
    "\n",
    "# Create separate DataFrames for each sheet\n",
    "class1_df = xlsx[\"Class1\"]\n",
    "class2_df = xlsx[\"Class2\"]\n",
    "class3_df = xlsx[\"Class3\"]\n",
    "\n",
    "# Print the first 5 rows of each DataFrame\n",
    "print(class1_df.head())\n",
    "print(class2_df.head())\n",
    "print(class3_df.head())\n"
   ]
  },
  {
   "cell_type": "code",
   "execution_count": 11,
   "id": "103ae0b3",
   "metadata": {},
   "outputs": [
    {
     "data": {
      "image/png": "[encoded data removed]",
      "text/plain": [
       "<Figure size 432x288 with 2 Axes>"
      ]
     },
     "metadata": {
      "needs_background": "light"
     },
     "output_type": "display_data"
    }
   ],
   "source": [
    "import pandas as pd \n",
    "\n",
    "import seaborn as sns \n",
    "\n",
    "import matplotlib.pyplot as plt \n",
    "\n",
    "  \n",
    "\n",
    "data = {'col1': [1, 2, 3, 4, 5], \n",
    "\n",
    "'col2': [6, 7, 8, 9, 10], \n",
    "\n",
    "'col3': [11, 12, 13, 14, 15]} \n",
    "\n",
    "df = pd.DataFrame(data) \n",
    "\n",
    "corr = df.corr() \n",
    "\n",
    "sns.heatmap(corr, annot=True) \n",
    "\n",
    "plt.show() "
   ]
  },
  {
   "cell_type": "code",
   "execution_count": 13,
   "id": "68de19d7",
   "metadata": {},
   "outputs": [
    {
     "name": "stdout",
     "output_type": "stream",
     "text": [
      "  key  value1  value2\n",
      "0   B       2       5\n",
      "1   D       4       6\n"
     ]
    }
   ],
   "source": [
    "import pandas as pd\n",
    "\n",
    "# Create the first DataFrame\n",
    "df1 = pd.DataFrame({'key': ['A', 'B', 'C', 'D'],\n",
    "                    'value1': [1, 2, 3, 4]})\n",
    "\n",
    "# Create the second DataFrame\n",
    "df2 = pd.DataFrame({'key': ['B', 'D', 'E', 'F'],\n",
    "                    'value2': [5, 6, 7, 8]})\n",
    "\n",
    "# Merge the two DataFrames on the common column 'key'\n",
    "merged_df = pd.merge(df1, df2, on='key')\n",
    "\n",
    "print(merged_df)"
   ]
  },
  {
   "cell_type": "code",
   "execution_count": 14,
   "id": "2f7fe5dc",
   "metadata": {},
   "outputs": [
    {
     "name": "stdout",
     "output_type": "stream",
     "text": [
      "   col1 col2  col3\n",
      "3     4    D   400\n",
      "2     3    C   300\n",
      "1     2    B   200\n",
      "0     1    A   100\n"
     ]
    }
   ],
   "source": [
    "import pandas as pd\n",
    "\n",
    "# Example DataFrame\n",
    "df = pd.DataFrame({'col1': [1, 2, 3, 4],\n",
    "                   'col2': ['A', 'B', 'C', 'D'],\n",
    "                   'col3': [100, 200, 300, 400]})\n",
    "\n",
    "# Sorting by multiple columns\n",
    "df = df.sort_values(by=['col3', 'col1'], ascending=[False, True])\n",
    "\n",
    "print(df)\n"
   ]
  },
  {
   "cell_type": "code",
   "execution_count": 1,
   "id": "6013a308",
   "metadata": {},
   "outputs": [],
   "source": [
    "import yaml"
   ]
  },
  {
   "cell_type": "code",
   "execution_count": null,
   "id": "ef65097e",
   "metadata": {},
   "outputs": [],
   "source": []
  }
 ],
 "metadata": {
  "kernelspec": {
   "display_name": "Python 3 (ipykernel)",
   "language": "python",
   "name": "python3"
  },
  "language_info": {
   "codemirror_mode": {
    "name": "ipython",
    "version": 3
   },
   "file_extension": ".py",
   "mimetype": "text/x-python",
   "name": "python",
   "nbconvert_exporter": "python",
   "pygments_lexer": "ipython3",
   "version": "3.10.6"
  }
 },
 "nbformat": 4,
 "nbformat_minor": 5
}
