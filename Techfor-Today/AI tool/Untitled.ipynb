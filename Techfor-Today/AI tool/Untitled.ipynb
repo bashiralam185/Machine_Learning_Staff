{
 "cells": [
  {
   "cell_type": "code",
   "execution_count": 2,
   "id": "36a067e4",
   "metadata": {},
   "outputs": [
    {
     "data": {
      "text/plain": [
       "Text(0.5, 0.98, 'Categorical Plotting')"
      ]
     },
     "execution_count": 2,
     "metadata": {},
     "output_type": "execute_result"
    },
    {
     "data": {
      "image/png": "[encoded data removed]",
      "text/plain": [
       "<Figure size 648x216 with 3 Axes>"
      ]
     },
     "metadata": {
      "needs_background": "light"
     },
     "output_type": "display_data"
    }
   ],
   "source": [
    "# importing matplotlib module\n",
    "import matplotlib.pyplot as plt\n",
    "\n",
    "# creating dataset\n",
    "data = {'apple': 10, 'orange': 15, 'lemon': 5, 'lime': 20}\n",
    "names = list(data.keys())\n",
    "values = list(data.values())\n",
    "\n",
    "# plotting different subplots\n",
    "fig, axs = plt.subplots(1, 3, figsize=(9, 3), sharey=True)\n",
    "axs[0].bar(names, values)\n",
    "axs[1].scatter(names, values)\n",
    "axs[2].plot(names, values)\n",
    "fig.suptitle('Categorical Plotting')"
   ]
  },
  {
   "cell_type": "code",
   "execution_count": 3,
   "id": "bea49d71",
   "metadata": {},
   "outputs": [
    {
     "name": "stdout",
     "output_type": "stream",
     "text": [
      "     Name  CGPA Major\n",
      "0  Bashir   2.5    CS\n",
      "1    Alam   3.4    CS\n",
      "2   Erlan   3.6    CS\n",
      "3   Mirzo   3.8    Cs\n"
     ]
    },
    {
     "ename": "IndexError",
     "evalue": "index 10 is out of bounds for axis 0 with size 3",
     "output_type": "error",
     "traceback": [
      "\u001b[0;31m---------------------------------------------------------------------------\u001b[0m",
      "\u001b[0;31mIndexError\u001b[0m                                Traceback (most recent call last)",
      "\u001b[0;32m/tmp/ipykernel_57159/413889589.py\u001b[0m in \u001b[0;36m<module>\u001b[0;34m\u001b[0m\n\u001b[1;32m     11\u001b[0m \u001b[0;34m\u001b[0m\u001b[0m\n\u001b[1;32m     12\u001b[0m \u001b[0;31m# accessing elements\u001b[0m\u001b[0;34m\u001b[0m\u001b[0;34m\u001b[0m\u001b[0m\n\u001b[0;32m---> 13\u001b[0;31m \u001b[0mitem\u001b[0m \u001b[0;34m=\u001b[0m \u001b[0mdf\u001b[0m\u001b[0;34m.\u001b[0m\u001b[0miloc\u001b[0m\u001b[0;34m[\u001b[0m\u001b[0;36m0\u001b[0m\u001b[0;34m,\u001b[0m \u001b[0;36m10\u001b[0m\u001b[0;34m]\u001b[0m\u001b[0;34m\u001b[0m\u001b[0;34m\u001b[0m\u001b[0m\n\u001b[0m",
      "\u001b[0;32m~/.local/lib/python3.10/site-packages/pandas/core/indexing.py\u001b[0m in \u001b[0;36m__getitem__\u001b[0;34m(self, key)\u001b[0m\n\u001b[1;32m   1065\u001b[0m             \u001b[0mkey\u001b[0m \u001b[0;34m=\u001b[0m \u001b[0mtuple\u001b[0m\u001b[0;34m(\u001b[0m\u001b[0mcom\u001b[0m\u001b[0;34m.\u001b[0m\u001b[0mapply_if_callable\u001b[0m\u001b[0;34m(\u001b[0m\u001b[0mx\u001b[0m\u001b[0;34m,\u001b[0m \u001b[0mself\u001b[0m\u001b[0;34m.\u001b[0m\u001b[0mobj\u001b[0m\u001b[0;34m)\u001b[0m \u001b[0;32mfor\u001b[0m \u001b[0mx\u001b[0m \u001b[0;32min\u001b[0m \u001b[0mkey\u001b[0m\u001b[0;34m)\u001b[0m\u001b[0;34m\u001b[0m\u001b[0;34m\u001b[0m\u001b[0m\n\u001b[1;32m   1066\u001b[0m             \u001b[0;32mif\u001b[0m \u001b[0mself\u001b[0m\u001b[0;34m.\u001b[0m\u001b[0m_is_scalar_access\u001b[0m\u001b[0;34m(\u001b[0m\u001b[0mkey\u001b[0m\u001b[0;34m)\u001b[0m\u001b[0;34m:\u001b[0m\u001b[0;34m\u001b[0m\u001b[0;34m\u001b[0m\u001b[0m\n\u001b[0;32m-> 1067\u001b[0;31m                 \u001b[0;32mreturn\u001b[0m \u001b[0mself\u001b[0m\u001b[0;34m.\u001b[0m\u001b[0mobj\u001b[0m\u001b[0;34m.\u001b[0m\u001b[0m_get_value\u001b[0m\u001b[0;34m(\u001b[0m\u001b[0;34m*\u001b[0m\u001b[0mkey\u001b[0m\u001b[0;34m,\u001b[0m \u001b[0mtakeable\u001b[0m\u001b[0;34m=\u001b[0m\u001b[0mself\u001b[0m\u001b[0;34m.\u001b[0m\u001b[0m_takeable\u001b[0m\u001b[0;34m)\u001b[0m\u001b[0;34m\u001b[0m\u001b[0;34m\u001b[0m\u001b[0m\n\u001b[0m\u001b[1;32m   1068\u001b[0m             \u001b[0;32mreturn\u001b[0m \u001b[0mself\u001b[0m\u001b[0;34m.\u001b[0m\u001b[0m_getitem_tuple\u001b[0m\u001b[0;34m(\u001b[0m\u001b[0mkey\u001b[0m\u001b[0;34m)\u001b[0m\u001b[0;34m\u001b[0m\u001b[0;34m\u001b[0m\u001b[0m\n\u001b[1;32m   1069\u001b[0m         \u001b[0;32melse\u001b[0m\u001b[0;34m:\u001b[0m\u001b[0;34m\u001b[0m\u001b[0;34m\u001b[0m\u001b[0m\n",
      "\u001b[0;32m~/.local/lib/python3.10/site-packages/pandas/core/frame.py\u001b[0m in \u001b[0;36m_get_value\u001b[0;34m(self, index, col, takeable)\u001b[0m\n\u001b[1;32m   3910\u001b[0m         \"\"\"\n\u001b[1;32m   3911\u001b[0m         \u001b[0;32mif\u001b[0m \u001b[0mtakeable\u001b[0m\u001b[0;34m:\u001b[0m\u001b[0;34m\u001b[0m\u001b[0;34m\u001b[0m\u001b[0m\n\u001b[0;32m-> 3912\u001b[0;31m             \u001b[0mseries\u001b[0m \u001b[0;34m=\u001b[0m \u001b[0mself\u001b[0m\u001b[0;34m.\u001b[0m\u001b[0m_ixs\u001b[0m\u001b[0;34m(\u001b[0m\u001b[0mcol\u001b[0m\u001b[0;34m,\u001b[0m \u001b[0maxis\u001b[0m\u001b[0;34m=\u001b[0m\u001b[0;36m1\u001b[0m\u001b[0;34m)\u001b[0m\u001b[0;34m\u001b[0m\u001b[0;34m\u001b[0m\u001b[0m\n\u001b[0m\u001b[1;32m   3913\u001b[0m             \u001b[0;32mreturn\u001b[0m \u001b[0mseries\u001b[0m\u001b[0;34m.\u001b[0m\u001b[0m_values\u001b[0m\u001b[0;34m[\u001b[0m\u001b[0mindex\u001b[0m\u001b[0;34m]\u001b[0m\u001b[0;34m\u001b[0m\u001b[0;34m\u001b[0m\u001b[0m\n\u001b[1;32m   3914\u001b[0m \u001b[0;34m\u001b[0m\u001b[0m\n",
      "\u001b[0;32m~/.local/lib/python3.10/site-packages/pandas/core/frame.py\u001b[0m in \u001b[0;36m_ixs\u001b[0;34m(self, i, axis)\u001b[0m\n\u001b[1;32m   3724\u001b[0m         \u001b[0;31m# icol\u001b[0m\u001b[0;34m\u001b[0m\u001b[0;34m\u001b[0m\u001b[0m\n\u001b[1;32m   3725\u001b[0m         \u001b[0;32melse\u001b[0m\u001b[0;34m:\u001b[0m\u001b[0;34m\u001b[0m\u001b[0;34m\u001b[0m\u001b[0m\n\u001b[0;32m-> 3726\u001b[0;31m             \u001b[0mlabel\u001b[0m \u001b[0;34m=\u001b[0m \u001b[0mself\u001b[0m\u001b[0;34m.\u001b[0m\u001b[0mcolumns\u001b[0m\u001b[0;34m[\u001b[0m\u001b[0mi\u001b[0m\u001b[0;34m]\u001b[0m\u001b[0;34m\u001b[0m\u001b[0;34m\u001b[0m\u001b[0m\n\u001b[0m\u001b[1;32m   3727\u001b[0m \u001b[0;34m\u001b[0m\u001b[0m\n\u001b[1;32m   3728\u001b[0m             \u001b[0mcol_mgr\u001b[0m \u001b[0;34m=\u001b[0m \u001b[0mself\u001b[0m\u001b[0;34m.\u001b[0m\u001b[0m_mgr\u001b[0m\u001b[0;34m.\u001b[0m\u001b[0miget\u001b[0m\u001b[0;34m(\u001b[0m\u001b[0mi\u001b[0m\u001b[0;34m)\u001b[0m\u001b[0;34m\u001b[0m\u001b[0;34m\u001b[0m\u001b[0m\n",
      "\u001b[0;32m~/.local/lib/python3.10/site-packages/pandas/core/indexes/base.py\u001b[0m in \u001b[0;36m__getitem__\u001b[0;34m(self, key)\u001b[0m\n\u001b[1;32m   5356\u001b[0m             \u001b[0;31m# GH#44051 exclude bool, which would return a 2d ndarray\u001b[0m\u001b[0;34m\u001b[0m\u001b[0;34m\u001b[0m\u001b[0m\n\u001b[1;32m   5357\u001b[0m             \u001b[0mkey\u001b[0m \u001b[0;34m=\u001b[0m \u001b[0mcom\u001b[0m\u001b[0;34m.\u001b[0m\u001b[0mcast_scalar_indexer\u001b[0m\u001b[0;34m(\u001b[0m\u001b[0mkey\u001b[0m\u001b[0;34m,\u001b[0m \u001b[0mwarn_float\u001b[0m\u001b[0;34m=\u001b[0m\u001b[0;32mTrue\u001b[0m\u001b[0;34m)\u001b[0m\u001b[0;34m\u001b[0m\u001b[0;34m\u001b[0m\u001b[0m\n\u001b[0;32m-> 5358\u001b[0;31m             \u001b[0;32mreturn\u001b[0m \u001b[0mgetitem\u001b[0m\u001b[0;34m(\u001b[0m\u001b[0mkey\u001b[0m\u001b[0;34m)\u001b[0m\u001b[0;34m\u001b[0m\u001b[0;34m\u001b[0m\u001b[0m\n\u001b[0m\u001b[1;32m   5359\u001b[0m \u001b[0;34m\u001b[0m\u001b[0m\n\u001b[1;32m   5360\u001b[0m         \u001b[0;32mif\u001b[0m \u001b[0misinstance\u001b[0m\u001b[0;34m(\u001b[0m\u001b[0mkey\u001b[0m\u001b[0;34m,\u001b[0m \u001b[0mslice\u001b[0m\u001b[0;34m)\u001b[0m\u001b[0;34m:\u001b[0m\u001b[0;34m\u001b[0m\u001b[0;34m\u001b[0m\u001b[0m\n",
      "\u001b[0;31mIndexError\u001b[0m: index 10 is out of bounds for axis 0 with size 3"
     ]
    }
   ],
   "source": [
    "# importing pandas\n",
    "import pandas as pd\n",
    "\n",
    "\n",
    "\n",
    "# printing dataset\n",
    "print(df)\n",
    "\n",
    "# accessing elements\n",
    "item = df.iloc[0, 10]\n"
   ]
  },
  {
   "cell_type": "code",
   "execution_count": 5,
   "id": "428c8c9f",
   "metadata": {},
   "outputs": [
    {
     "name": "stdout",
     "output_type": "stream",
     "text": [
      "4\n"
     ]
    }
   ],
   "source": [
    "# using len() method\n",
    "x = len(df)\n",
    "\n",
    "# print\n",
    "print(x)"
   ]
  },
  {
   "cell_type": "code",
   "execution_count": 9,
   "id": "89c47354",
   "metadata": {},
   "outputs": [
    {
     "name": "stdout",
     "output_type": "stream",
     "text": [
      "There is an error in the try-block. Most probably the index is out of range\n"
     ]
    }
   ],
   "source": [
    "# creating data frame\n",
    "df = pd.DataFrame({'Name':[\"Bashir\", \"Alam\", \"Erlan\", \"Mirzo\"],\n",
    "                  \"CGPA\": [2.5, 3.4, 3.6, 3.8], \n",
    "                  \"Major\": [\"CS\", 'CS', \"CS\", \"Cs\"]})\n",
    "# index\n",
    "ind = 10\n",
    "\n",
    "# if statement\n",
    "if len(df)>ind:\n",
    "    x = df.iloc[0, ind]\n",
    "\n",
    "else:\n",
    "    print(\"There is an error in the try-block. Most probably the index is out of range\")"
   ]
  },
  {
   "cell_type": "code",
   "execution_count": 9,
   "id": "e9ebf920",
   "metadata": {},
   "outputs": [
    {
     "name": "stdout",
     "output_type": "stream",
     "text": [
      "3.0\n"
     ]
    }
   ],
   "source": [
    "# importing the module\n",
    "from math import sqrt\n",
    "\n",
    "# printing square of the number\n",
    "print(sqrt(9))"
   ]
  },
  {
   "cell_type": "code",
   "execution_count": 21,
   "id": "37413a0a",
   "metadata": {},
   "outputs": [
    {
     "name": "stdout",
     "output_type": "stream",
     "text": [
      "0 a\n",
      "1 b\n",
      "2 c\n",
      "3 d\n",
      "4 e\n",
      "5 f\n"
     ]
    }
   ],
   "source": [
    "# creating a tuple\n",
    "tup = ('a', 'b', 'c', 'd','e', 'f')\n",
    "\n",
    "# using for loop to find the index\n",
    "for index, item in enumerate(tup):\n",
    "    print(index, item)  "
   ]
  },
  {
   "cell_type": "code",
   "execution_count": 30,
   "id": "ed83cbab",
   "metadata": {},
   "outputs": [
    {
     "name": "stdout",
     "output_type": "stream",
     "text": [
      "Cannot covert the given string into float\n"
     ]
    }
   ],
   "source": [
    "# empty string\n",
    "string =\"Bashir\"\n",
    "\n",
    "# using try block\n",
    "try:\n",
    "    # converting the string into float\n",
    "    f = float(string)\n",
    "    \n",
    "# except block\n",
    "except:\n",
    "    print(\"Cannot covert the given string into float\")"
   ]
  },
  {
   "cell_type": "code",
   "execution_count": 29,
   "id": "9145d298",
   "metadata": {},
   "outputs": [
    {
     "name": "stdout",
     "output_type": "stream",
     "text": [
      "32.32\n"
     ]
    }
   ],
   "source": [
    "\n",
    "# string\n",
    "input_string ='32.32%'\n",
    "\n",
    "# replacing special character\n",
    "to_convert = input_string.replace('%', '')\n",
    "\n",
    "# coverting string to float\n",
    "converted = float(to_convert)\n",
    "\n",
    "# printing\n",
    "print(converted)"
   ]
  },
  {
   "cell_type": "code",
   "execution_count": 39,
   "id": "c773a799",
   "metadata": {},
   "outputs": [
    {
     "name": "stdout",
     "output_type": "stream",
     "text": [
      "the variable is none\n"
     ]
    }
   ],
   "source": [
    "# defining a nonetype\n",
    "f = None\n",
    "\n",
    "# checking the type\n",
    "if f is None:\n",
    "    print(\"the variable is none\")\n",
    "    \n",
    "# else statement\n",
    "else:\n",
    "    len(f)"
   ]
  },
  {
   "cell_type": "code",
   "execution_count": 35,
   "id": "caf8406c",
   "metadata": {},
   "outputs": [
    {
     "name": "stdout",
     "output_type": "stream",
     "text": [
      "6\n"
     ]
    }
   ],
   "source": [
    "# defining a function\n",
    "def main():\n",
    "    return [1,2,3,4,5,6]\n",
    "    \n",
    "# calling the function\n",
    "list1 = main()\n",
    "\n",
    "# using len() method\n",
    "print(len(list1))"
   ]
  },
  {
   "cell_type": "code",
   "execution_count": 44,
   "id": "211697a3",
   "metadata": {},
   "outputs": [
    {
     "name": "stdout",
     "output_type": "stream",
     "text": [
      "there is an error in the try block\n"
     ]
    }
   ],
   "source": [
    "# creating a list\n",
    "list1 = ['1', '2' ,'3', '5', '0']\n",
    "\n",
    "# applying the sort method\n",
    "sort = list1.sort()\n",
    "\n",
    "try:\n",
    "    len(sort)\n",
    "    \n",
    "except:\n",
    "    print(\"there is an error in the try block\")"
   ]
  },
  {
   "cell_type": "code",
   "execution_count": 9,
   "id": "3138c0af",
   "metadata": {},
   "outputs": [],
   "source": [
    "# defining a dictionary\n",
    "dic = {'a': 1, 'b': 2, 'c': 3}\n",
    "\n",
    "# using for loop\n",
    "for key, value in list(dic.items()):\n",
    "    if key == 'b':\n",
    "        del dic[key]"
   ]
  },
  {
   "cell_type": "code",
   "execution_count": 6,
   "id": "93e909ae",
   "metadata": {},
   "outputs": [
    {
     "data": {
      "text/plain": [
       "dict_items([('a', 1), ('b', 2)])"
      ]
     },
     "execution_count": 6,
     "metadata": {},
     "output_type": "execute_result"
    }
   ],
   "source": [
    "dic.items()"
   ]
  },
  {
   "cell_type": "code",
   "execution_count": 15,
   "id": "38d49bc7",
   "metadata": {},
   "outputs": [
    {
     "data": {
      "text/plain": [
       "20"
      ]
     },
     "execution_count": 15,
     "metadata": {},
     "output_type": "execute_result"
    }
   ],
   "source": [
    "# defining a function\n",
    "def main(a , b ):\n",
    "    return a+b\n",
    "\n",
    "# calling the function\n",
    "main(10, 3)"
   ]
  },
  {
   "cell_type": "code",
   "execution_count": 9,
   "id": "f8bb346f",
   "metadata": {},
   "outputs": [
    {
     "name": "stdout",
     "output_type": "stream",
     "text": [
      "The data type of argument is: <class 'int'>\n"
     ]
    }
   ],
   "source": [
    "# importing regular expressions\n",
    "import re \n",
    "\n",
    "# integer type \n",
    "variable = 23\n",
    "\n",
    "# try block\n",
    "try:\n",
    "    # providing integer to function\n",
    "    textonly = re.sub(\"[^a-zA-Z]\", \" \",variable)\n",
    "\n",
    "# except block\n",
    "except:\n",
    "    print(\"The data type of argument is:\", type(variable))\n"
   ]
  },
  {
   "cell_type": "code",
   "execution_count": 16,
   "id": "1a8700cf",
   "metadata": {},
   "outputs": [
    {
     "name": "stdout",
     "output_type": "stream",
     "text": [
      "The denominator is zero\n"
     ]
    }
   ],
   "source": [
    "# first value\n",
    "var1 = 10\n",
    "\n",
    "# denominator value\n",
    "den = 0\n",
    "\n",
    "try:\n",
    "    # dividing by non-zero\n",
    "    result = var1/den\n",
    "    \n",
    "except:\n",
    "    print(\"The denominator is zero\")"
   ]
  },
  {
   "cell_type": "code",
   "execution_count": 2,
   "id": "60e9fa29",
   "metadata": {},
   "outputs": [
    {
     "name": "stdout",
     "output_type": "stream",
     "text": [
      "30\n"
     ]
    }
   ],
   "source": [
    "def multiply(a, b):\n",
    "    result = 0\n",
    "    for i in range(b):\n",
    "        result += a\n",
    "    return result\n",
    "\n",
    "print(multiply(10, 3))"
   ]
  },
  {
   "cell_type": "code",
   "execution_count": 3,
   "id": "87caa835",
   "metadata": {},
   "outputs": [],
   "source": [
    "def divide(a, b):\n",
    "    quotient = 0\n",
    "    while a >= b:\n",
    "        a -= b\n",
    "        quotient += 1\n",
    "    return quotient\n"
   ]
  },
  {
   "cell_type": "code",
   "execution_count": 5,
   "id": "9c5bdd48",
   "metadata": {},
   "outputs": [
    {
     "data": {
      "text/plain": [
       "2"
      ]
     },
     "execution_count": 5,
     "metadata": {},
     "output_type": "execute_result"
    }
   ],
   "source": [
    "divide(10, 5)"
   ]
  },
  {
   "cell_type": "code",
   "execution_count": 7,
   "id": "11bdb2cc",
   "metadata": {},
   "outputs": [
    {
     "name": "stdout",
     "output_type": "stream",
     "text": [
      "[1, 2, 3, 4, 5]\n"
     ]
    }
   ],
   "source": [
    "# original list\n",
    "original_list = [1, 2, 3, 3, 4, 4, 5, 5]\n",
    "\n",
    "#  list to set\n",
    "unique_list = list(set(original_list))\n",
    "\n",
    "# printing the list\n",
    "print(unique_list)\n"
   ]
  },
  {
   "cell_type": "code",
   "execution_count": 8,
   "id": "38f5d2d9",
   "metadata": {},
   "outputs": [
    {
     "name": "stdout",
     "output_type": "stream",
     "text": [
      "{3, 4, 5}\n"
     ]
    }
   ],
   "source": [
    "list1 = [1, 2, 3, 4, 5]\n",
    "list2 = [3, 4, 5, 6, 7]\n",
    "common_elements = set(list1).intersection(list2)\n",
    "print(common_elements)\n"
   ]
  },
  {
   "cell_type": "code",
   "execution_count": 10,
   "id": "aa94200e",
   "metadata": {},
   "outputs": [
    {
     "name": "stdout",
     "output_type": "stream",
     "text": [
      "[3, 4, 5]\n"
     ]
    }
   ],
   "source": [
    "#\n",
    "list1 = [1, 2, 3, 4, 5]\n",
    "list2 = [3, 4, 5, 6, 7]\n",
    "common_elements = [x for x in list1 if x in list2]\n",
    "print(common_elements)\n"
   ]
  },
  {
   "cell_type": "code",
   "execution_count": 12,
   "id": "85aa57c0",
   "metadata": {},
   "outputs": [
    {
     "name": "stdout",
     "output_type": "stream",
     "text": [
      "[1, 2, 3, 4, 5]\n"
     ]
    }
   ],
   "source": [
    "# string values with comma\n",
    "string_of_values = \"1, 2, 3, 4, 5\"\n",
    "\n",
    "# converting to list\n",
    "list_of_integers = [int(x) for x in string_of_values.split(',')]\n",
    "print(list_of_integers)\n"
   ]
  },
  {
   "cell_type": "code",
   "execution_count": 14,
   "id": "9cba9689",
   "metadata": {},
   "outputs": [
    {
     "name": "stdout",
     "output_type": "stream",
     "text": [
      "[1, 2, 3, 4, 5]\n"
     ]
    }
   ],
   "source": [
    "string_of_values = \"1, 2, 3, 4, 5\"\n",
    "\n",
    "# using map function\n",
    "list_of_integers = list(map(int,string_of_values.split(',')))\n",
    "print(list_of_integers)\n"
   ]
  },
  {
   "cell_type": "code",
   "execution_count": 1,
   "id": "295bcc94",
   "metadata": {},
   "outputs": [
    {
     "ename": "AttributeError",
     "evalue": "'int' object has no attribute 'append'",
     "output_type": "error",
     "traceback": [
      "\u001b[0;31m---------------------------------------------------------------------------\u001b[0m",
      "\u001b[0;31mAttributeError\u001b[0m                            Traceback (most recent call last)",
      "\u001b[0;32m/tmp/ipykernel_133362/1203961237.py\u001b[0m in \u001b[0;36m<module>\u001b[0;34m\u001b[0m\n\u001b[1;32m      3\u001b[0m \u001b[0;34m\u001b[0m\u001b[0m\n\u001b[1;32m      4\u001b[0m \u001b[0;31m# using append method\u001b[0m\u001b[0;34m\u001b[0m\u001b[0;34m\u001b[0m\u001b[0m\n\u001b[0;32m----> 5\u001b[0;31m \u001b[0minteger\u001b[0m\u001b[0;34m.\u001b[0m\u001b[0mappend\u001b[0m\u001b[0;34m(\u001b[0m\u001b[0;36m10\u001b[0m\u001b[0;34m)\u001b[0m\u001b[0;34m\u001b[0m\u001b[0;34m\u001b[0m\u001b[0m\n\u001b[0m",
      "\u001b[0;31mAttributeError\u001b[0m: 'int' object has no attribute 'append'"
     ]
    }
   ],
   "source": [
    "# integer variable\n",
    "integer = 54\n",
    "\n",
    "# using append method\n",
    "integer.append(10)"
   ]
  },
  {
   "cell_type": "code",
   "execution_count": 5,
   "id": "43379a02",
   "metadata": {},
   "outputs": [
    {
     "name": "stdout",
     "output_type": "stream",
     "text": [
      "<class 'str'>\n",
      "<class 'int'>\n",
      "<class 'float'>\n",
      "<class 'NoneType'>\n"
     ]
    }
   ],
   "source": [
    "# variables\n",
    "string = \"bashir\"\n",
    "integer = 4323\n",
    "floating = 3.32\n",
    "NoneType = None\n",
    "\n",
    "# types\n",
    "print(type(string))\n",
    "print(type(integer))\n",
    "print(type(floating))\n",
    "print(type(NoneType))"
   ]
  },
  {
   "cell_type": "code",
   "execution_count": 6,
   "id": "fd0169fd",
   "metadata": {
    "collapsed": true
   },
   "outputs": [
    {
     "ename": "IndexError",
     "evalue": "list index out of range",
     "output_type": "error",
     "traceback": [
      "\u001b[0;31m---------------------------------------------------------------------------\u001b[0m",
      "\u001b[0;31mIndexError\u001b[0m                                Traceback (most recent call last)",
      "\u001b[0;32m/tmp/ipykernel_133362/1292321381.py\u001b[0m in \u001b[0;36m<module>\u001b[0;34m\u001b[0m\n\u001b[1;32m      3\u001b[0m \u001b[0;34m\u001b[0m\u001b[0m\n\u001b[1;32m      4\u001b[0m \u001b[0;31m# indexing\u001b[0m\u001b[0;34m\u001b[0m\u001b[0;34m\u001b[0m\u001b[0m\n\u001b[0;32m----> 5\u001b[0;31m \u001b[0mlist1\u001b[0m\u001b[0;34m[\u001b[0m\u001b[0;36m20\u001b[0m\u001b[0;34m]\u001b[0m\u001b[0;34m\u001b[0m\u001b[0;34m\u001b[0m\u001b[0m\n\u001b[0m",
      "\u001b[0;31mIndexError\u001b[0m: list index out of range"
     ]
    }
   ],
   "source": [
    "# creating a list\n",
    "list1 = [1,2,3,4,5]\n",
    "\n",
    "# indexing\n",
    "list1[20]"
   ]
  },
  {
   "cell_type": "code",
   "execution_count": 11,
   "id": "0d3e8d3f",
   "metadata": {},
   "outputs": [],
   "source": [
    "import sklearn as sk \n",
    "import numpy as np\n",
    "import matplotlib.pyplot as plt"
   ]
  },
  {
   "cell_type": "code",
   "execution_count": 12,
   "id": "5e400dc3",
   "metadata": {},
   "outputs": [
    {
     "name": "stdout",
     "output_type": "stream",
     "text": [
      "2\n"
     ]
    }
   ],
   "source": [
    "x = 1\n",
    "x += 1\n",
    "print(x)"
   ]
  },
  {
   "cell_type": "code",
   "execution_count": 15,
   "id": "3feed759",
   "metadata": {},
   "outputs": [
    {
     "ename": "SyntaxError",
     "evalue": "invalid syntax (4050753807.py, line 1)",
     "output_type": "error",
     "traceback": [
      "\u001b[0;36m  File \u001b[0;32m\"/tmp/ipykernel_133362/4050753807.py\"\u001b[0;36m, line \u001b[0;32m1\u001b[0m\n\u001b[0;31m    import sklearn as sk;import numpy as np;import matplotlib.pyplot as pltn x=6\u001b[0m\n\u001b[0m                                                                             ^\u001b[0m\n\u001b[0;31mSyntaxError\u001b[0m\u001b[0;31m:\u001b[0m invalid syntax\n"
     ]
    }
   ],
   "source": [
    "import sklearn as sk;import numpy as np;import matplotlib.pyplot as pltn x=6"
   ]
  },
  {
   "cell_type": "code",
   "execution_count": 4,
   "id": "053f9a71",
   "metadata": {},
   "outputs": [
    {
     "name": "stdout",
     "output_type": "stream",
     "text": [
      "1\n",
      "3\n",
      "5\n",
      "7\n",
      "9\n"
     ]
    }
   ],
   "source": [
    "my_list = [1, 2, 3, 4, 5, 6, 7, 8, 9, 10]\n",
    "\n",
    "# Solution\n",
    "for i in range(0, len(my_list), 2):\n",
    "    print(my_list[i])\n",
    "\n"
   ]
  },
  {
   "cell_type": "code",
   "execution_count": 5,
   "id": "ffef9d5f",
   "metadata": {
    "scrolled": true
   },
   "outputs": [
    {
     "name": "stdout",
     "output_type": "stream",
     "text": [
      "[0. 0. 0.]\n",
      "[1. 1. 1.]\n"
     ]
    }
   ],
   "source": [
    "from sklearn.preprocessing import StandardScaler\n",
    "import numpy as np\n",
    "\n",
    "# Example dataset\n",
    "X = np.array([[1, 2, 3], [4, 5, 6], [7, 8, 9]])\n",
    "\n",
    "# Initialize the Scaler\n",
    "scaler = StandardScaler()\n",
    "\n",
    "# Fit and transform the data\n",
    "X_scaled = scaler.fit_transform(X)\n",
    "\n",
    "# Check the mean and standard deviation of the transformed data\n",
    "print(np.mean(X_scaled, axis=0)) \n",
    "print(np.std(X_scaled, axis=0)) "
   ]
  },
  {
   "cell_type": "code",
   "execution_count": 7,
   "id": "a8619ac8",
   "metadata": {},
   "outputs": [
    {
     "name": "stdout",
     "output_type": "stream",
     "text": [
      "(array([2, 3, 4]),)\n"
     ]
    }
   ],
   "source": [
    "import numpy as np\n",
    "\n",
    "arr1 = np.array([1, 2, 3, 4, 5])\n",
    "arr2 = np.array([3, 4, 5, 6, 7])\n",
    "intersection = np.intersect1d(arr1, arr2)\n",
    "indices = np.where(np.isin(arr1, intersection))\n",
    "print(indices)\n"
   ]
  },
  {
   "cell_type": "code",
   "execution_count": 10,
   "id": "aff67b8e",
   "metadata": {},
   "outputs": [
    {
     "name": "stderr",
     "output_type": "stream",
     "text": [
      "/tmp/ipykernel_142769/818545720.py:10: FutureWarning: Not prepending group keys to the result index of transform-like apply. In the future, the group keys will be included in the index, regardless of whether the applied function returns a like-indexed object.\n",
      "To preserve the previous behavior, use\n",
      "\n",
      "\t>>> .groupby(..., group_keys=False)\n",
      "\n",
      "To adopt the future behavior and silence this warning, use \n",
      "\n",
      "\t>>> .groupby(..., group_keys=True)\n",
      "  df_sum['percentage'] = df_sum.groupby('category')['value'].apply(lambda x: x / x.sum())\n"
     ]
    },
    {
     "data": {
      "image/png": "[encoded data removed]",
      "text/plain": [
       "<Figure size 432x288 with 1 Axes>"
      ]
     },
     "metadata": {
      "needs_background": "light"
     },
     "output_type": "display_data"
    }
   ],
   "source": [
    "import matplotlib.pyplot as plt\n",
    "import pandas as pd\n",
    "\n",
    "data = {'category': ['A', 'A', 'A', 'B', 'B', 'B'],\n",
    "        'sub-category': ['X', 'Y', 'Z', 'X', 'Y', 'Z'],\n",
    "        'value': [1, 2, 3, 4, 5, 6]}\n",
    "df = pd.DataFrame(data)\n",
    "\n",
    "df_sum = df.groupby(['category', 'sub-category']).sum().reset_index()\n",
    "df_sum['percentage'] = df_sum.groupby('category')['value'].apply(lambda x: x / x.sum())\n",
    "\n",
    "fig = plt.figure()\n",
    "ax = fig.add_axes([0, 0, 1, 1])\n",
    "for i, category in enumerate(df_sum['category'].unique()):\n",
    "    ax.bar(i, df_sum.loc[df_sum['category'] == category, 'percentage'], label=category)\n",
    "    for j, sub_category in enumerate(df_sum['sub-category'].unique()):\n",
    "        ax.text(i-0.1, df_sum.loc[(df_sum['category'] == category) & (df_sum['sub-category'] == sub_category), 'percentage'], \n",
    "                str(round(df_sum.loc[(df_sum['category'] == category) & (df_sum['sub-category'] == sub_category), 'percentage']*100, 2))+\"%\", color='white', fontweight='bold')\n",
    "\n",
    "ax.set_xticks(range(len(df_sum['category'].unique())))\n",
    "ax.set_xticklabels(df_sum['category'].unique())\n",
    "ax.legend()\n",
    "plt.show()\n"
   ]
  },
  {
   "cell_type": "code",
   "execution_count": 11,
   "id": "52682cc6",
   "metadata": {},
   "outputs": [
    {
     "name": "stdout",
     "output_type": "stream",
     "text": [
      "[ 3.49822076e-01 -9.42728812e-09] -1.1880696715989616\n"
     ]
    }
   ],
   "source": [
    "import scipy.optimize as optimize\n",
    "import numpy as np\n",
    "\n",
    "def func(param):\n",
    "    x, y = param\n",
    "    return -(np.sin(x) + np.cos(y)) * np.exp(-(x**2 + y**2))\n",
    "\n",
    "bounds = [( -5, 5), (-5, 5)]\n",
    "result = optimize.differential_evolution(func, bounds)\n",
    "print(result.x, result.fun)\n"
   ]
  },
  {
   "cell_type": "code",
   "execution_count": 13,
   "id": "ad7f2f9b",
   "metadata": {},
   "outputs": [
    {
     "name": "stderr",
     "output_type": "stream",
     "text": [
      "2023-01-28 14:29:58.462100: W tensorflow/compiler/xla/stream_executor/platform/default/dso_loader.cc:64] Could not load dynamic library 'libcuda.so.1'; dlerror: libcuda.so.1: cannot open shared object file: No such file or directory\n",
      "2023-01-28 14:29:58.462124: W tensorflow/compiler/xla/stream_executor/cuda/cuda_driver.cc:265] failed call to cuInit: UNKNOWN ERROR (303)\n",
      "2023-01-28 14:29:58.462146: I tensorflow/compiler/xla/stream_executor/cuda/cuda_diagnostics.cc:156] kernel driver does not appear to be running on this host (bashir): /proc/driver/nvidia/version does not exist\n",
      "2023-01-28 14:29:58.462491: I tensorflow/core/platform/cpu_feature_guard.cc:193] This TensorFlow binary is optimized with oneAPI Deep Neural Network Library (oneDNN) to use the following CPU instructions in performance-critical operations:  AVX2 FMA\n",
      "To enable them in other operations, rebuild TensorFlow with the appropriate compiler flags.\n"
     ]
    },
    {
     "name": "stdout",
     "output_type": "stream",
     "text": [
      "Epoch 1/12\n",
      "422/422 [==============================] - 23s 52ms/step - loss: 0.2561 - accuracy: 0.9222 - val_loss: 0.0558 - val_accuracy: 0.9828\n",
      "Epoch 2/12\n",
      "422/422 [==============================] - 23s 55ms/step - loss: 0.0798 - accuracy: 0.9757 - val_loss: 0.0409 - val_accuracy: 0.9885\n",
      "Epoch 3/12\n",
      "422/422 [==============================] - 23s 55ms/step - loss: 0.0576 - accuracy: 0.9817 - val_loss: 0.0402 - val_accuracy: 0.9880\n",
      "Epoch 4/12\n",
      "422/422 [==============================] - 23s 55ms/step - loss: 0.0467 - accuracy: 0.9854 - val_loss: 0.0341 - val_accuracy: 0.9910\n",
      "Epoch 5/12\n",
      "422/422 [==============================] - 23s 55ms/step - loss: 0.0388 - accuracy: 0.9881 - val_loss: 0.0358 - val_accuracy: 0.9900\n",
      "Epoch 6/12\n",
      "422/422 [==============================] - 23s 55ms/step - loss: 0.0329 - accuracy: 0.9892 - val_loss: 0.0305 - val_accuracy: 0.9922\n",
      "Epoch 7/12\n",
      "422/422 [==============================] - 24s 57ms/step - loss: 0.0281 - accuracy: 0.9910 - val_loss: 0.0339 - val_accuracy: 0.9893\n",
      "Epoch 8/12\n",
      "422/422 [==============================] - 23s 55ms/step - loss: 0.0247 - accuracy: 0.9922 - val_loss: 0.0333 - val_accuracy: 0.9905\n",
      "Epoch 9/12\n",
      "422/422 [==============================] - 23s 55ms/step - loss: 0.0209 - accuracy: 0.9934 - val_loss: 0.0283 - val_accuracy: 0.9913\n",
      "Epoch 10/12\n",
      "422/422 [==============================] - 23s 55ms/step - loss: 0.0202 - accuracy: 0.9935 - val_loss: 0.0282 - val_accuracy: 0.9922\n",
      "Epoch 11/12\n",
      "422/422 [==============================] - 24s 56ms/step - loss: 0.0168 - accuracy: 0.9944 - val_loss: 0.0315 - val_accuracy: 0.9923\n",
      "Epoch 12/12\n",
      "422/422 [==============================] - 22s 52ms/step - loss: 0.0165 - accuracy: 0.9945 - val_loss: 0.0356 - val_accuracy: 0.9913\n",
      "313/313 [==============================] - 1s 5ms/step - loss: 0.0272 - accuracy: 0.9918\n",
      "Test accuracy: 0.9918000102043152\n"
     ]
    }
   ],
   "source": [
    "from keras.datasets import mnist\n",
    "from keras.models import Sequential\n",
    "from keras.layers import Dense, Dropout, Flatten\n",
    "from keras.layers import Conv2D, MaxPooling2D\n",
    "from keras import backend as K\n",
    "import keras\n",
    "\n",
    "# load the MNIST data\n",
    "(x_train, y_train), (x_test, y_test) = mnist.load_data()\n",
    "\n",
    "# reshape the data to (num_samples, 28, 28, 1)\n",
    "x_train = x_train.reshape(x_train.shape[0], 28, 28, 1)\n",
    "x_test = x_test.reshape(x_test.shape[0], 28, 28, 1)\n",
    "input_shape = (28, 28, 1)\n",
    "\n",
    "# convert data to float32 and normalize to range [0, 1]\n",
    "x_train = x_train.astype('float32')\n",
    "x_test = x_test.astype('float32')\n",
    "x_train /= 255\n",
    "x_test /= 255\n",
    "\n",
    "# one-hot encode the labels\n",
    "num_classes = 10\n",
    "y_train = keras.utils.to_categorical(y_train, num_classes)\n",
    "y_test = keras.utils.to_categorical(y_test, num_classes)\n",
    "\n",
    "# define the model\n",
    "model = Sequential()\n",
    "model.add(Conv2D(32, kernel_size=(3, 3), activation='relu', input_shape=input_shape))\n",
    "model.add(MaxPooling2D(pool_size=(2, 2)))\n",
    "model.add(Conv2D(64, kernel_size=(3, 3), activation='relu'))\n",
    "model.add(MaxPooling2D(pool_size=(2, 2)))\n",
    "model.add(Flatten())\n",
    "model.add(Dense(256, activation='relu'))\n",
    "model.add(Dropout(0.5))\n",
    "model.add(Dense(num_classes, activation='softmax'))\n",
    "\n",
    "# compile the model\n",
    "model.compile(loss='categorical_crossentropy', optimizer='adam', metrics=['accuracy'])\n",
    "\n",
    "# train the model\n",
    "batch_size = 128\n",
    "epochs = 12\n",
    "model.fit(x_train, y_train, batch_size=batch_size, epochs=epochs, validation_split=0.1)\n",
    "\n",
    "# evaluate the model\n",
    "test_loss, test_acc = model.evaluate(x_test, y_test)\n",
    "print('Test accuracy:', test_acc)\n"
   ]
  },
  {
   "cell_type": "code",
   "execution_count": 14,
   "id": "e58c7a42",
   "metadata": {},
   "outputs": [],
   "source": [
    "import random\n",
    "import string\n",
    "\n",
    "def generate_string(length: int, uppercase: bool = True, lowercase: bool = True, digits: bool = True, special: bool = True):\n",
    "\n",
    "    # Define the character sets to use.\n",
    "    char_sets = []\n",
    "    if uppercase:\n",
    "        char_sets.append(string.ascii_uppercase)\n",
    "    if lowercase:\n",
    "        char_sets.append(string.ascii_lowercase)\n",
    "    if digits:\n",
    "        char_sets.append(string.digits)\n",
    "    if special:\n",
    "        char_sets.append(string.punctuation)\n",
    "\n",
    "    # Validate that at least one character set is specified.\n",
    "    if len(char_sets) == 0:\n",
    "        raise ValueError('At least one character set must be specified.')\n",
    "\n",
    "    # Create a list of characters to choose from.\n",
    "    chars = ''.join(char_sets)\n",
    "\n",
    "    # Generate a random string of the specified length.\n",
    "    rand_str = ''.join(random.choice(chars) for _ in range(length))\n",
    "\n",
    "    # Check that the string contains at least one of each specified character types.\n",
    "    if uppercase:\n",
    "        if not any(c.isupper() for c in rand_str):\n",
    "            raise ValueError('The generated string does not contain any uppercase letters.')\n",
    "    if lowercase:\n",
    "        if not any(c.islower() for c in rand_str):\n",
    "            raise ValueError('The generated string does not contain any lowercase letters.')\n",
    "    if digits:\n",
    "        if not any(c.isdigit() for c in rand_str):\n",
    "            raise ValueError('The generated string does not contain any digits.')\n",
    "    if special:\n",
    "        if not any(c in string.punctuation for c in rand_str):\n",
    "            raise ValueError('The generated string does not contain any special characters.')\n",
    "\n",
    "    return rand_str\n"
   ]
  },
  {
   "cell_type": "code",
   "execution_count": 15,
   "id": "176813aa",
   "metadata": {},
   "outputs": [
    {
     "data": {
      "text/plain": [
       "'9kZ}iY?&'"
      ]
     },
     "execution_count": 15,
     "metadata": {},
     "output_type": "execute_result"
    }
   ],
   "source": [
    "generate_string(8)"
   ]
  },
  {
   "cell_type": "code",
   "execution_count": 16,
   "id": "d861da72",
   "metadata": {},
   "outputs": [],
   "source": [
    "def is_prime(n: int) -> bool:\n",
    "    if n < 2:\n",
    "        return False\n",
    "    for i in range(2, int(n ** 0.5) + 1):\n",
    "        if n % i == 0:\n",
    "            return False\n",
    "    return True\n",
    "\n",
    "def prime_filter(lst: list) -> list:\n",
    "    return [x for x in lst if is_prime(x)]\n"
   ]
  },
  {
   "cell_type": "code",
   "execution_count": 17,
   "id": "c4d160ce",
   "metadata": {},
   "outputs": [
    {
     "name": "stdout",
     "output_type": "stream",
     "text": [
      "9\n"
     ]
    }
   ],
   "source": [
    "def second_largest(numbers):\n",
    "    largest = float('-inf')\n",
    "    second_largest = float('-inf')\n",
    "    for number in numbers:\n",
    "        if number > largest:\n",
    "            second_largest = largest\n",
    "            largest = number\n",
    "        elif (number > second_largest) and (number != largest):\n",
    "            second_largest = number\n",
    "    return second_largest\n",
    "\n",
    "print(second_largest([1, 2, 3, 4, 5, 6, 7, 8, 9, 10])) \n"
   ]
  },
  {
   "cell_type": "code",
   "execution_count": 18,
   "id": "f8d4b4d1",
   "metadata": {},
   "outputs": [
    {
     "name": "stdout",
     "output_type": "stream",
     "text": [
      "{'This': 2, 'is': 2, 'a': 1, 'test': 2, 'sentence.': 1, 'sentence': 1, 'used': 1, 'to': 1, 'the': 1, 'word': 1, 'count': 1, 'function.': 1}\n"
     ]
    }
   ],
   "source": [
    "def word_count(text):\n",
    "    word_count = {}\n",
    "    for word in text.split():\n",
    "        if word in word_count:\n",
    "            word_count[word] += 1\n",
    "        else:\n",
    "            word_count[word] = 1\n",
    "    return word_count\n",
    "\n",
    "print(word_count(\"This is a test sentence. This sentence is used to test the word count function.\"))\n",
    "# should return {'This': 2, 'is': 2, 'a': 1, 'test': 2, 'sentence.': 1, 'sentence': 1, 'used': 1, 'to': 1, 'the': 1, 'word': 1, 'count': 1, 'function.': 1}\n"
   ]
  },
  {
   "cell_type": "code",
   "execution_count": null,
   "id": "d5775a00",
   "metadata": {},
   "outputs": [],
   "source": []
  }
 ],
 "metadata": {
  "kernelspec": {
   "display_name": "Python 3 (ipykernel)",
   "language": "python",
   "name": "python3"
  },
  "language_info": {
   "codemirror_mode": {
    "name": "ipython",
    "version": 3
   },
   "file_extension": ".py",
   "mimetype": "text/x-python",
   "name": "python",
   "nbconvert_exporter": "python",
   "pygments_lexer": "ipython3",
   "version": "3.10.6"
  }
 },
 "nbformat": 4,
 "nbformat_minor": 5
}
