{
 "cells": [
  {
   "cell_type": "code",
   "execution_count": 7,
   "id": "b01e1524",
   "metadata": {},
   "outputs": [
    {
     "name": "stdout",
     "output_type": "stream",
     "text": [
      "hello\n"
     ]
    }
   ],
   "source": [
    "import pandas as pd\n",
    "print('hello')"
   ]
  },
  {
   "cell_type": "code",
   "execution_count": 8,
   "id": "435bf1ab",
   "metadata": {},
   "outputs": [
    {
     "name": "stderr",
     "output_type": "stream",
     "text": [
      "2022-07-06 15:03:05.496519: W tensorflow/stream_executor/platform/default/dso_loader.cc:64] Could not load dynamic library 'libcudart.so.11.0'; dlerror: libcudart.so.11.0: cannot open shared object file: No such file or directory\n",
      "2022-07-06 15:03:05.496560: I tensorflow/stream_executor/cuda/cudart_stub.cc:29] Ignore above cudart dlerror if you do not have a GPU set up on your machine.\n"
     ]
    }
   ],
   "source": [
    "# importing the tensorflow module\n",
    "import tensorflow as tf\n",
    "\n",
    "# importing the training and testing dataset\n",
    "(x_train, y_train), (X_test, y_test) = tf.keras.datasets.fashion_mnist.load_data()"
   ]
  },
  {
   "cell_type": "code",
   "execution_count": 9,
   "id": "c2630c4e",
   "metadata": {},
   "outputs": [],
   "source": [
    "# Normalize pixels to values between 0 and 1\n",
    "x_train = x_train.astype('float32') / 255.0\n",
    "X_test = X_test.astype('float32') / 255.0"
   ]
  },
  {
   "cell_type": "code",
   "execution_count": 10,
   "id": "1549537b",
   "metadata": {},
   "outputs": [
    {
     "name": "stderr",
     "output_type": "stream",
     "text": [
      "2022-07-06 15:04:35.466183: W tensorflow/stream_executor/platform/default/dso_loader.cc:64] Could not load dynamic library 'libcuda.so.1'; dlerror: libcuda.so.1: cannot open shared object file: No such file or directory\n",
      "2022-07-06 15:04:35.466295: W tensorflow/stream_executor/cuda/cuda_driver.cc:269] failed call to cuInit: UNKNOWN ERROR (303)\n",
      "2022-07-06 15:04:35.466364: I tensorflow/stream_executor/cuda/cuda_diagnostics.cc:156] kernel driver does not appear to be running on this host (UCA-Nar): /proc/driver/nvidia/version does not exist\n",
      "2022-07-06 15:04:35.484149: I tensorflow/core/platform/cpu_feature_guard.cc:193] This TensorFlow binary is optimized with oneAPI Deep Neural Network Library (oneDNN) to use the following CPU instructions in performance-critical operations:  AVX2 FMA\n",
      "To enable them in other operations, rebuild TensorFlow with the appropriate compiler flags.\n"
     ]
    }
   ],
   "source": [
    "# Building  model\n",
    "model = tf.keras.Sequential()\n",
    "\n",
    "# flattening the layer\n",
    "model.add(tf.keras.layers.Flatten(input_shape=(28, 28)))\n",
    "\n",
    "# defining hidden layer with 200 nodes\n",
    "model.add(tf.keras.layers.Dense(units=200, activation='relu'))\n",
    "\n",
    "# adding a drop out in the hidden layer\n",
    "model.add(tf.keras.layers.Dropout(0.2))\n",
    "\n",
    "# adding output laers\n",
    "model.add(tf.keras.layers.Dense(10, activation='softmax'))"
   ]
  },
  {
   "cell_type": "code",
   "execution_count": 11,
   "id": "e290f8c9",
   "metadata": {},
   "outputs": [
    {
     "name": "stderr",
     "output_type": "stream",
     "text": [
      "/home/uca/anaconda3/lib/python3.9/site-packages/keras/optimizers/optimizer_v2/adam.py:110: UserWarning: The `lr` argument is deprecated, use `learning_rate` instead.\n",
      "  super(Adam, self).__init__(name, **kwargs)\n"
     ]
    }
   ],
   "source": [
    "# compiling the model with learning rate is 0.001\n",
    "model.compile(optimizer=tf.keras.optimizers.Adam(lr=0.001),\n",
    "              \n",
    "#               loss function is categorical cross entropy\n",
    "              loss=tf.keras.losses.SparseCategoricalCrossentropy(),\n",
    "              metrics=['accuracy'])"
   ]
  },
  {
   "cell_type": "code",
   "execution_count": 12,
   "id": "ebe71fef",
   "metadata": {},
   "outputs": [
    {
     "name": "stderr",
     "output_type": "stream",
     "text": [
      "2022-07-06 15:04:41.084835: W tensorflow/core/framework/cpu_allocator_impl.cc:82] Allocation of 150528000 exceeds 10% of free system memory.\n"
     ]
    },
    {
     "name": "stdout",
     "output_type": "stream",
     "text": [
      "Epoch 1/10\n"
     ]
    },
    {
     "name": "stderr",
     "output_type": "stream",
     "text": [
      "2022-07-06 15:04:51.132305: W tensorflow/core/framework/cpu_allocator_impl.cc:82] Allocation of 37632000 exceeds 10% of free system memory.\n"
     ]
    },
    {
     "name": "stdout",
     "output_type": "stream",
     "text": [
      "1500/1500 - 8s - loss: 0.5386 - accuracy: 0.8104 - val_loss: 0.4178 - val_accuracy: 0.8507 - 8s/epoch - 5ms/step\n",
      "Epoch 2/10\n",
      "1500/1500 - 4s - loss: 0.4033 - accuracy: 0.8525 - val_loss: 0.3806 - val_accuracy: 0.8597 - 4s/epoch - 3ms/step\n",
      "Epoch 3/10\n",
      "1500/1500 - 4s - loss: 0.3638 - accuracy: 0.8671 - val_loss: 0.3727 - val_accuracy: 0.8642 - 4s/epoch - 3ms/step\n",
      "Epoch 4/10\n",
      "1500/1500 - 4s - loss: 0.3428 - accuracy: 0.8726 - val_loss: 0.3477 - val_accuracy: 0.8750 - 4s/epoch - 3ms/step\n",
      "Epoch 5/10\n",
      "1500/1500 - 4s - loss: 0.3259 - accuracy: 0.8801 - val_loss: 0.3331 - val_accuracy: 0.8799 - 4s/epoch - 3ms/step\n",
      "Epoch 6/10\n",
      "1500/1500 - 5s - loss: 0.3119 - accuracy: 0.8850 - val_loss: 0.3223 - val_accuracy: 0.8835 - 5s/epoch - 3ms/step\n",
      "Epoch 7/10\n",
      "1500/1500 - 5s - loss: 0.3006 - accuracy: 0.8890 - val_loss: 0.3309 - val_accuracy: 0.8800 - 5s/epoch - 3ms/step\n",
      "Epoch 8/10\n",
      "1500/1500 - 4s - loss: 0.2918 - accuracy: 0.8910 - val_loss: 0.3293 - val_accuracy: 0.8836 - 4s/epoch - 3ms/step\n",
      "Epoch 9/10\n",
      "1500/1500 - 4s - loss: 0.2821 - accuracy: 0.8946 - val_loss: 0.3198 - val_accuracy: 0.8827 - 4s/epoch - 3ms/step\n",
      "Epoch 10/10\n",
      "1500/1500 - 4s - loss: 0.2753 - accuracy: 0.8969 - val_loss: 0.3198 - val_accuracy: 0.8862 - 4s/epoch - 3ms/step\n"
     ]
    },
    {
     "data": {
      "text/plain": [
       "<keras.callbacks.History at 0x7f4b3a0b9400>"
      ]
     },
     "execution_count": 12,
     "metadata": {},
     "output_type": "execute_result"
    }
   ],
   "source": [
    "#  Early stopping set after 4 epochs\n",
    "stop_early = tf.keras.callbacks.EarlyStopping(monitor='val_loss', patience=4)\n",
    "\n",
    "# Training the model using 10 epochs\n",
    "model.fit(x_train, y_train, epochs=10, validation_split=0.2, callbacks=[stop_early], verbose=2)"
   ]
  },
  {
   "cell_type": "code",
   "execution_count": 13,
   "id": "1f5e9225",
   "metadata": {},
   "outputs": [
    {
     "name": "stderr",
     "output_type": "stream",
     "text": [
      "2022-07-06 15:08:05.389686: W tensorflow/core/framework/cpu_allocator_impl.cc:82] Allocation of 31360000 exceeds 10% of free system memory.\n"
     ]
    },
    {
     "name": "stdout",
     "output_type": "stream",
     "text": [
      "313/313 [==============================] - 2s 3ms/step - loss: 0.3455 - accuracy: 0.8769\n"
     ]
    },
    {
     "data": {
      "text/html": [
       "<div>\n",
       "<style scoped>\n",
       "    .dataframe tbody tr th:only-of-type {\n",
       "        vertical-align: middle;\n",
       "    }\n",
       "\n",
       "    .dataframe tbody tr th {\n",
       "        vertical-align: top;\n",
       "    }\n",
       "\n",
       "    .dataframe thead tr th {\n",
       "        text-align: left;\n",
       "    }\n",
       "</style>\n",
       "<table border=\"1\" class=\"dataframe\">\n",
       "  <thead>\n",
       "    <tr>\n",
       "      <th></th>\n",
       "      <th>loss</th>\n",
       "      <th>accuracy</th>\n",
       "    </tr>\n",
       "  </thead>\n",
       "  <tbody>\n",
       "    <tr>\n",
       "      <th>0</th>\n",
       "      <td>0.345537</td>\n",
       "      <td>0.8769</td>\n",
       "    </tr>\n",
       "  </tbody>\n",
       "</table>\n",
       "</div>"
      ],
      "text/plain": [
       "       loss accuracy\n",
       "0  0.345537   0.8769"
      ]
     },
     "execution_count": 13,
     "metadata": {},
     "output_type": "execute_result"
    }
   ],
   "source": [
    "# importing the pandas module\n",
    "import pandas as pd\n",
    "\n",
    "# defining the function\n",
    "def evaluate_model(model, X_test, y_test):\n",
    "\n",
    "    # Evauting the model using teh testing dataset\n",
    "    eval_dict = model.evaluate(X_test, y_test, return_dict=True)\n",
    "    \n",
    "    # converting the evaluation ( accuracy and loss) to pandas dataframe\n",
    "    result = pd.DataFrame([eval_dict.values()], columns=[list(eval_dict.keys())])\n",
    "    \n",
    "    # returining dataframe\n",
    "    return result\n",
    "\n",
    "# calling the funtion\n",
    "results = evaluate_model(model, X_test, y_test)\n",
    "\n",
    "\n",
    "# Display results\n",
    "results.head()"
   ]
  },
  {
   "cell_type": "code",
   "execution_count": 14,
   "id": "0eaeaead",
   "metadata": {},
   "outputs": [],
   "source": [
    "# creating function\n",
    "def build_model(hyper_parameter):\n",
    "\n",
    "    # building the model\n",
    "    model = tf.keras.Sequential()\n",
    "\n",
    "    # flattenting the images\n",
    "    model.add(tf.keras.layers.Flatten(input_shape=(28,28)))\n",
    "\n",
    "    # tunning hidden layers (1-3), units ( 50 -300),\n",
    "    for i in range(1, hyper_parameter.Int(\"num_layers\", 2, 4)):\n",
    "        model.add(\n",
    "            tf.keras.layers.Dense(\n",
    "                units=hyper_parameter.Int(\"units_\" + str(i), min_value=50, max_value=300, step=30),\n",
    "                activation=\"relu\")\n",
    "            )\n",
    "        \n",
    "        # drop out layer with values form 0-0.3\n",
    "        model.add(tf.keras.layers.Dropout(hyper_parameter.Float(\"dropout_\" + str(i), 0, 0.3, step=0.1)))\n",
    "    \n",
    "    # Add output layer.\n",
    "    model.add(tf.keras.layers.Dense(units=10, activation=\"softmax\"))\n",
    "    \n",
    "    # Tune learning from 0.01, 0.001\n",
    "    hyper_parameter_learning_rate = hyper_parameter.Choice(\"learning_rate\", values=[1e-2, 1e-3, 1e-4])\n",
    "    \n",
    "    # Define optimizer, loss, and metrics\n",
    "    model.compile(optimizer=tf.keras.optimizers.Adam(learning_rate=hyper_parameter_learning_rate),\n",
    "                  loss=tf.keras.losses.SparseCategoricalCrossentropy(),\n",
    "                  metrics=[\"accuracy\"])\n",
    "    \n",
    "    return model"
   ]
  },
  {
   "cell_type": "code",
   "execution_count": 15,
   "id": "49d06046",
   "metadata": {},
   "outputs": [
    {
     "name": "stderr",
     "output_type": "stream",
     "text": [
      "/tmp/ipykernel_6008/3583274274.py:1: DeprecationWarning: `import kerastuner` is deprecated, please use `import keras_tuner`.\n",
      "  import kerastuner as kt\n"
     ]
    }
   ],
   "source": [
    "# importing the karas tuner\n",
    "import kerastuner as kt\n",
    "\n",
    "# Instantiate the tuner\n",
    "tuner = kt.Hyperband(build_model,\n",
    "                     objective=\"val_accuracy\",\n",
    "                     max_epochs=20,\n",
    "                     factor=3,\n",
    "                     hyperband_iterations=10,\n",
    "                     directory=\"kt_dir\",\n",
    "                     project_name=\"kt_hyperband\",)"
   ]
  },
  {
   "cell_type": "code",
   "execution_count": 17,
   "id": "e823f0b6",
   "metadata": {},
   "outputs": [
    {
     "name": "stdout",
     "output_type": "stream",
     "text": [
      "Search space summary\n",
      "Default search space size: 4\n",
      "num_layers (Int)\n",
      "{'default': None, 'conditions': [], 'min_value': 2, 'max_value': 4, 'step': 1, 'sampling': None}\n",
      "units_1 (Int)\n",
      "{'default': None, 'conditions': [], 'min_value': 50, 'max_value': 300, 'step': 30, 'sampling': None}\n",
      "dropout_1 (Float)\n",
      "{'default': 0.0, 'conditions': [], 'min_value': 0.0, 'max_value': 0.3, 'step': 0.1, 'sampling': None}\n",
      "learning_rate (Choice)\n",
      "{'default': 0.01, 'conditions': [], 'values': [0.01, 0.001, 0.0001], 'ordered': True}\n"
     ]
    }
   ],
   "source": [
    "\n",
    "# summary of tuner\n",
    "tuner.search_space_summary()"
   ]
  },
  {
   "cell_type": "code",
   "execution_count": 18,
   "id": "bef611c9",
   "metadata": {},
   "outputs": [],
   "source": [
    "# early stop function\n",
    "stop_early = tf.keras.callbacks.EarlyStopping(monitor='val_loss', patience=5)"
   ]
  },
  {
   "cell_type": "code",
   "execution_count": 19,
   "id": "74f22209",
   "metadata": {},
   "outputs": [
    {
     "name": "stdout",
     "output_type": "stream",
     "text": [
      "Trial 300 Complete [00h 01m 09s]\n",
      "val_accuracy: 0.887583315372467\n",
      "\n",
      "Best val_accuracy So Far: 0.8944166898727417\n",
      "Total elapsed time: 02h 27m 59s\n",
      "INFO:tensorflow:Oracle triggered exit\n"
     ]
    }
   ],
   "source": [
    "# Tunner search\n",
    "tuner.search(x_train, y_train, epochs=20, validation_split=0.2, callbacks=[stop_early], verbose=2)\n"
   ]
  },
  {
   "cell_type": "code",
   "execution_count": 20,
   "id": "6a54d73d",
   "metadata": {},
   "outputs": [
    {
     "name": "stdout",
     "output_type": "stream",
     "text": [
      "Epoch 1/10\n",
      "1500/1500 - 7s - loss: 0.7676 - accuracy: 0.7398 - val_loss: 0.4772 - val_accuracy: 0.8371 - 7s/epoch - 4ms/step\n",
      "Epoch 2/10\n",
      "1500/1500 - 5s - loss: 0.4711 - accuracy: 0.8360 - val_loss: 0.4218 - val_accuracy: 0.8508 - 5s/epoch - 4ms/step\n",
      "Epoch 3/10\n",
      "1500/1500 - 6s - loss: 0.4166 - accuracy: 0.8539 - val_loss: 0.3831 - val_accuracy: 0.8654 - 6s/epoch - 4ms/step\n",
      "Epoch 4/10\n",
      "1500/1500 - 5s - loss: 0.3814 - accuracy: 0.8676 - val_loss: 0.3782 - val_accuracy: 0.8643 - 5s/epoch - 3ms/step\n",
      "Epoch 5/10\n",
      "1500/1500 - 5s - loss: 0.3575 - accuracy: 0.8730 - val_loss: 0.3504 - val_accuracy: 0.8756 - 5s/epoch - 3ms/step\n",
      "Epoch 6/10\n",
      "1500/1500 - 5s - loss: 0.3410 - accuracy: 0.8792 - val_loss: 0.3510 - val_accuracy: 0.8753 - 5s/epoch - 4ms/step\n",
      "Epoch 7/10\n",
      "1500/1500 - 5s - loss: 0.3274 - accuracy: 0.8813 - val_loss: 0.3372 - val_accuracy: 0.8794 - 5s/epoch - 3ms/step\n",
      "Epoch 8/10\n",
      "1500/1500 - 6s - loss: 0.3122 - accuracy: 0.8866 - val_loss: 0.3446 - val_accuracy: 0.8776 - 6s/epoch - 4ms/step\n",
      "Epoch 9/10\n",
      "1500/1500 - 6s - loss: 0.2998 - accuracy: 0.8906 - val_loss: 0.3237 - val_accuracy: 0.8827 - 6s/epoch - 4ms/step\n",
      "Epoch 10/10\n",
      "1500/1500 - 8s - loss: 0.2898 - accuracy: 0.8934 - val_loss: 0.3191 - val_accuracy: 0.8849 - 8s/epoch - 5ms/step\n"
     ]
    },
    {
     "data": {
      "text/plain": [
       "<keras.callbacks.History at 0x7f4b000b5460>"
      ]
     },
     "execution_count": 20,
     "metadata": {},
     "output_type": "execute_result"
    }
   ],
   "source": [
    "\n",
    "# Get the optimum values for parameters\n",
    "best_hps=tuner.get_best_hyperparameters()[0]\n",
    "\n",
    "# Build model on optimum paramters\n",
    "optimum_model = tuner.hypermodel.build(best_hps)\n",
    "\n",
    "# Train the hypertuned model\n",
    "optimum_model.fit(x_train, y_train, epochs=10, validation_split=0.2, callbacks=[stop_early], verbose=2)"
   ]
  },
  {
   "cell_type": "code",
   "execution_count": 24,
   "id": "696adab8",
   "metadata": {},
   "outputs": [
    {
     "name": "stdout",
     "output_type": "stream",
     "text": [
      "313/313 [==============================] - 1s 2ms/step - loss: 0.3435 - accuracy: 0.8787\n"
     ]
    },
    {
     "data": {
      "text/html": [
       "<div>\n",
       "<style scoped>\n",
       "    .dataframe tbody tr th:only-of-type {\n",
       "        vertical-align: middle;\n",
       "    }\n",
       "\n",
       "    .dataframe tbody tr th {\n",
       "        vertical-align: top;\n",
       "    }\n",
       "\n",
       "    .dataframe thead tr th {\n",
       "        text-align: left;\n",
       "    }\n",
       "</style>\n",
       "<table border=\"1\" class=\"dataframe\">\n",
       "  <thead>\n",
       "    <tr>\n",
       "      <th></th>\n",
       "      <th>loss</th>\n",
       "      <th>accuracy</th>\n",
       "    </tr>\n",
       "  </thead>\n",
       "  <tbody>\n",
       "    <tr>\n",
       "      <th>0</th>\n",
       "      <td>0.343453</td>\n",
       "      <td>0.8787</td>\n",
       "    </tr>\n",
       "  </tbody>\n",
       "</table>\n",
       "</div>"
      ],
      "text/plain": [
       "       loss accuracy\n",
       "0  0.343453   0.8787"
      ]
     },
     "execution_count": 24,
     "metadata": {},
     "output_type": "execute_result"
    }
   ],
   "source": [
    "# get te optimum models results\n",
    "hyper_df = evaluate_model(optimum_model, X_test, y_test)\n",
    "\n",
    "# printing the accuracy\n",
    "hyper_df"
   ]
  },
  {
   "cell_type": "code",
   "execution_count": 25,
   "id": "cfc2b16f",
   "metadata": {},
   "outputs": [
    {
     "data": {
      "text/plain": [
       "<keras_tuner.engine.hyperparameters.HyperParameters at 0x7f4b0040c220>"
      ]
     },
     "execution_count": 25,
     "metadata": {},
     "output_type": "execute_result"
    }
   ],
   "source": [
    "best_hps"
   ]
  },
  {
   "cell_type": "code",
   "execution_count": 27,
   "id": "4ba9a913",
   "metadata": {},
   "outputs": [
    {
     "name": "stdout",
     "output_type": "stream",
     "text": [
      "Epoch 1/200\n",
      "1500/1500 [==============================] - 21s 10ms/step - loss: 0.7620 - accuracy: 0.7432 - val_loss: 0.4832 - val_accuracy: 0.8366\n",
      "Epoch 2/200\n",
      "1500/1500 [==============================] - 10s 6ms/step - loss: 0.4794 - accuracy: 0.8345 - val_loss: 0.4381 - val_accuracy: 0.8471\n",
      "Epoch 3/200\n",
      "1500/1500 [==============================] - 11s 7ms/step - loss: 0.4208 - accuracy: 0.8519 - val_loss: 0.3919 - val_accuracy: 0.8618\n",
      "Epoch 4/200\n",
      "1500/1500 [==============================] - 12s 8ms/step - loss: 0.3888 - accuracy: 0.8626 - val_loss: 0.3666 - val_accuracy: 0.8677\n",
      "Epoch 5/200\n",
      "1500/1500 [==============================] - 12s 8ms/step - loss: 0.3646 - accuracy: 0.8689 - val_loss: 0.3570 - val_accuracy: 0.8711\n",
      "Epoch 6/200\n",
      "1500/1500 [==============================] - 17s 11ms/step - loss: 0.3476 - accuracy: 0.8737 - val_loss: 0.3432 - val_accuracy: 0.8762\n",
      "Epoch 7/200\n",
      "1500/1500 [==============================] - 13s 9ms/step - loss: 0.3328 - accuracy: 0.8795 - val_loss: 0.3420 - val_accuracy: 0.8764\n",
      "Epoch 8/200\n",
      "1500/1500 [==============================] - 12s 8ms/step - loss: 0.3205 - accuracy: 0.8823 - val_loss: 0.3363 - val_accuracy: 0.8778\n",
      "Epoch 9/200\n",
      "1500/1500 [==============================] - 23s 15ms/step - loss: 0.3068 - accuracy: 0.8889 - val_loss: 0.3299 - val_accuracy: 0.8796\n",
      "Epoch 10/200\n",
      "1500/1500 [==============================] - 15s 10ms/step - loss: 0.2988 - accuracy: 0.8910 - val_loss: 0.3291 - val_accuracy: 0.8812\n",
      "Epoch 11/200\n",
      "1500/1500 [==============================] - 11s 7ms/step - loss: 0.2900 - accuracy: 0.8928 - val_loss: 0.3207 - val_accuracy: 0.8856\n",
      "Epoch 12/200\n",
      "1500/1500 [==============================] - 15s 10ms/step - loss: 0.2804 - accuracy: 0.8965 - val_loss: 0.3344 - val_accuracy: 0.8771\n",
      "Epoch 13/200\n",
      "1500/1500 [==============================] - 26s 17ms/step - loss: 0.2718 - accuracy: 0.9003 - val_loss: 0.3247 - val_accuracy: 0.8847\n",
      "Epoch 14/200\n",
      "1500/1500 [==============================] - 19s 13ms/step - loss: 0.2653 - accuracy: 0.9035 - val_loss: 0.3167 - val_accuracy: 0.8866\n",
      "Epoch 15/200\n",
      "1500/1500 [==============================] - 11s 7ms/step - loss: 0.2568 - accuracy: 0.9069 - val_loss: 0.3191 - val_accuracy: 0.8849\n",
      "Epoch 16/200\n",
      "1500/1500 [==============================] - 13s 9ms/step - loss: 0.2522 - accuracy: 0.9076 - val_loss: 0.3223 - val_accuracy: 0.8822\n",
      "Epoch 17/200\n",
      "1500/1500 [==============================] - 11s 7ms/step - loss: 0.2445 - accuracy: 0.9098 - val_loss: 0.3156 - val_accuracy: 0.8879\n",
      "Epoch 18/200\n",
      "1500/1500 [==============================] - 16s 11ms/step - loss: 0.2369 - accuracy: 0.9121 - val_loss: 0.3190 - val_accuracy: 0.8874\n",
      "Epoch 19/200\n",
      "1500/1500 [==============================] - 8s 5ms/step - loss: 0.2337 - accuracy: 0.9141 - val_loss: 0.3170 - val_accuracy: 0.8863\n",
      "Epoch 20/200\n",
      "1500/1500 [==============================] - 8s 6ms/step - loss: 0.2259 - accuracy: 0.9165 - val_loss: 0.3214 - val_accuracy: 0.8856\n",
      "Epoch 21/200\n",
      "1500/1500 [==============================] - 12s 8ms/step - loss: 0.2223 - accuracy: 0.9184 - val_loss: 0.3101 - val_accuracy: 0.8896\n",
      "Epoch 22/200\n",
      "1500/1500 [==============================] - 12s 8ms/step - loss: 0.2165 - accuracy: 0.9202 - val_loss: 0.3124 - val_accuracy: 0.8905\n",
      "Epoch 23/200\n",
      "1500/1500 [==============================] - 12s 8ms/step - loss: 0.2119 - accuracy: 0.9219 - val_loss: 0.3118 - val_accuracy: 0.8921\n",
      "Epoch 24/200\n",
      "1500/1500 [==============================] - 13s 8ms/step - loss: 0.2068 - accuracy: 0.9245 - val_loss: 0.3261 - val_accuracy: 0.8898\n",
      "Epoch 25/200\n",
      "1500/1500 [==============================] - 9s 6ms/step - loss: 0.2010 - accuracy: 0.9260 - val_loss: 0.3147 - val_accuracy: 0.8921\n",
      "Epoch 26/200\n",
      "1500/1500 [==============================] - 8s 5ms/step - loss: 0.1951 - accuracy: 0.9282 - val_loss: 0.3106 - val_accuracy: 0.8947\n",
      "Epoch 27/200\n",
      "1500/1500 [==============================] - 10s 7ms/step - loss: 0.1910 - accuracy: 0.9294 - val_loss: 0.3352 - val_accuracy: 0.8861\n",
      "Epoch 28/200\n",
      "1500/1500 [==============================] - 10s 6ms/step - loss: 0.1857 - accuracy: 0.9323 - val_loss: 0.3333 - val_accuracy: 0.8863\n",
      "Epoch 29/200\n",
      "1500/1500 [==============================] - 10s 7ms/step - loss: 0.1814 - accuracy: 0.9320 - val_loss: 0.3247 - val_accuracy: 0.8911\n",
      "Epoch 30/200\n",
      "1500/1500 [==============================] - 9s 6ms/step - loss: 0.1769 - accuracy: 0.9344 - val_loss: 0.3361 - val_accuracy: 0.8902\n",
      "Epoch 31/200\n",
      "1500/1500 [==============================] - 8s 5ms/step - loss: 0.1711 - accuracy: 0.9365 - val_loss: 0.3314 - val_accuracy: 0.8937\n",
      "Epoch 32/200\n",
      "1500/1500 [==============================] - 8s 5ms/step - loss: 0.1681 - accuracy: 0.9366 - val_loss: 0.3372 - val_accuracy: 0.8884\n",
      "Epoch 33/200\n",
      "1500/1500 [==============================] - 10s 7ms/step - loss: 0.1643 - accuracy: 0.9391 - val_loss: 0.3266 - val_accuracy: 0.8934\n",
      "Epoch 34/200\n",
      "1500/1500 [==============================] - 9s 6ms/step - loss: 0.1618 - accuracy: 0.9403 - val_loss: 0.3366 - val_accuracy: 0.8939\n",
      "Epoch 35/200\n",
      "1500/1500 [==============================] - 8s 5ms/step - loss: 0.1550 - accuracy: 0.9425 - val_loss: 0.3410 - val_accuracy: 0.8933\n",
      "Epoch 36/200\n",
      "1500/1500 [==============================] - 9s 6ms/step - loss: 0.1524 - accuracy: 0.9439 - val_loss: 0.3397 - val_accuracy: 0.8942\n",
      "Epoch 37/200\n",
      "1500/1500 [==============================] - 9s 6ms/step - loss: 0.1493 - accuracy: 0.9450 - val_loss: 0.3366 - val_accuracy: 0.8943\n",
      "Epoch 38/200\n",
      "1500/1500 [==============================] - 8s 5ms/step - loss: 0.1448 - accuracy: 0.9462 - val_loss: 0.3467 - val_accuracy: 0.8956\n",
      "Epoch 39/200\n",
      "1500/1500 [==============================] - 8s 5ms/step - loss: 0.1397 - accuracy: 0.9488 - val_loss: 0.3592 - val_accuracy: 0.8923\n",
      "Epoch 40/200\n",
      "1500/1500 [==============================] - 7s 5ms/step - loss: 0.1369 - accuracy: 0.9499 - val_loss: 0.3463 - val_accuracy: 0.8929\n",
      "Epoch 41/200\n",
      "1500/1500 [==============================] - 8s 5ms/step - loss: 0.1353 - accuracy: 0.9506 - val_loss: 0.3554 - val_accuracy: 0.8937\n",
      "Epoch 42/200\n",
      "1500/1500 [==============================] - 8s 5ms/step - loss: 0.1297 - accuracy: 0.9515 - val_loss: 0.3726 - val_accuracy: 0.8902\n",
      "Epoch 43/200\n",
      "1500/1500 [==============================] - 8s 6ms/step - loss: 0.1280 - accuracy: 0.9530 - val_loss: 0.3571 - val_accuracy: 0.8939\n",
      "Epoch 44/200\n",
      "1500/1500 [==============================] - 7s 5ms/step - loss: 0.1245 - accuracy: 0.9539 - val_loss: 0.3736 - val_accuracy: 0.8948\n",
      "Epoch 45/200\n",
      "1500/1500 [==============================] - 7s 5ms/step - loss: 0.1210 - accuracy: 0.9552 - val_loss: 0.3825 - val_accuracy: 0.8922\n",
      "Epoch 46/200\n",
      "1500/1500 [==============================] - 7s 5ms/step - loss: 0.1174 - accuracy: 0.9570 - val_loss: 0.3656 - val_accuracy: 0.8928\n",
      "Epoch 47/200\n",
      "1500/1500 [==============================] - 7s 5ms/step - loss: 0.1133 - accuracy: 0.9582 - val_loss: 0.3916 - val_accuracy: 0.8914\n",
      "Epoch 48/200\n",
      "1500/1500 [==============================] - 7s 5ms/step - loss: 0.1119 - accuracy: 0.9581 - val_loss: 0.3824 - val_accuracy: 0.8955\n",
      "Epoch 49/200\n",
      "1500/1500 [==============================] - 9s 6ms/step - loss: 0.1096 - accuracy: 0.9590 - val_loss: 0.3830 - val_accuracy: 0.8936\n",
      "Epoch 50/200\n",
      "1500/1500 [==============================] - 8s 5ms/step - loss: 0.1072 - accuracy: 0.9599 - val_loss: 0.4043 - val_accuracy: 0.8944\n",
      "Epoch 51/200\n",
      "1500/1500 [==============================] - 7s 5ms/step - loss: 0.1027 - accuracy: 0.9618 - val_loss: 0.4183 - val_accuracy: 0.8920\n",
      "Epoch 52/200\n",
      "1500/1500 [==============================] - 8s 5ms/step - loss: 0.1023 - accuracy: 0.9626 - val_loss: 0.4090 - val_accuracy: 0.8947\n",
      "Epoch 53/200\n",
      "1500/1500 [==============================] - 9s 6ms/step - loss: 0.0989 - accuracy: 0.9638 - val_loss: 0.4116 - val_accuracy: 0.8934\n",
      "Epoch 54/200\n",
      "1500/1500 [==============================] - 6s 4ms/step - loss: 0.0965 - accuracy: 0.9644 - val_loss: 0.4351 - val_accuracy: 0.8932\n",
      "Epoch 55/200\n",
      "1500/1500 [==============================] - 5s 3ms/step - loss: 0.0928 - accuracy: 0.9657 - val_loss: 0.4211 - val_accuracy: 0.8927\n",
      "Epoch 56/200\n",
      "1500/1500 [==============================] - 5s 3ms/step - loss: 0.0917 - accuracy: 0.9656 - val_loss: 0.4264 - val_accuracy: 0.8947\n",
      "Epoch 57/200\n",
      "1500/1500 [==============================] - 7s 5ms/step - loss: 0.0873 - accuracy: 0.9677 - val_loss: 0.4263 - val_accuracy: 0.8920\n",
      "Epoch 58/200\n",
      "1500/1500 [==============================] - 5s 3ms/step - loss: 0.0867 - accuracy: 0.9684 - val_loss: 0.4353 - val_accuracy: 0.8948\n",
      "Epoch 59/200\n",
      "1500/1500 [==============================] - 5s 3ms/step - loss: 0.0873 - accuracy: 0.9676 - val_loss: 0.4574 - val_accuracy: 0.8912\n",
      "Epoch 60/200\n",
      "1500/1500 [==============================] - 7s 5ms/step - loss: 0.0828 - accuracy: 0.9693 - val_loss: 0.4458 - val_accuracy: 0.8924\n",
      "Epoch 61/200\n",
      "1500/1500 [==============================] - 6s 4ms/step - loss: 0.0811 - accuracy: 0.9700 - val_loss: 0.4668 - val_accuracy: 0.8893\n",
      "Epoch 62/200\n",
      "1500/1500 [==============================] - 6s 4ms/step - loss: 0.0802 - accuracy: 0.9697 - val_loss: 0.4698 - val_accuracy: 0.8920\n",
      "Epoch 63/200\n",
      "1500/1500 [==============================] - 5s 3ms/step - loss: 0.0770 - accuracy: 0.9716 - val_loss: 0.4737 - val_accuracy: 0.8897\n",
      "Epoch 64/200\n",
      "1500/1500 [==============================] - 5s 3ms/step - loss: 0.0760 - accuracy: 0.9719 - val_loss: 0.4814 - val_accuracy: 0.8907\n",
      "Epoch 65/200\n",
      "1500/1500 [==============================] - 6s 4ms/step - loss: 0.0738 - accuracy: 0.9723 - val_loss: 0.4769 - val_accuracy: 0.8952\n",
      "Epoch 66/200\n",
      "1500/1500 [==============================] - 5s 3ms/step - loss: 0.0706 - accuracy: 0.9740 - val_loss: 0.5095 - val_accuracy: 0.8876\n",
      "Epoch 67/200\n",
      "1500/1500 [==============================] - 5s 3ms/step - loss: 0.0724 - accuracy: 0.9734 - val_loss: 0.4776 - val_accuracy: 0.8950\n",
      "Epoch 68/200\n",
      "1500/1500 [==============================] - 6s 4ms/step - loss: 0.0695 - accuracy: 0.9738 - val_loss: 0.4760 - val_accuracy: 0.8941\n",
      "Epoch 69/200\n",
      "1500/1500 [==============================] - 6s 4ms/step - loss: 0.0665 - accuracy: 0.9755 - val_loss: 0.4831 - val_accuracy: 0.8900\n",
      "Epoch 70/200\n",
      "1500/1500 [==============================] - 7s 5ms/step - loss: 0.0659 - accuracy: 0.9749 - val_loss: 0.4961 - val_accuracy: 0.8970\n",
      "Epoch 71/200\n",
      "1500/1500 [==============================] - 6s 4ms/step - loss: 0.0665 - accuracy: 0.9764 - val_loss: 0.5082 - val_accuracy: 0.8941\n",
      "Epoch 72/200\n",
      "1500/1500 [==============================] - 5s 3ms/step - loss: 0.0623 - accuracy: 0.9773 - val_loss: 0.5716 - val_accuracy: 0.8804\n",
      "Epoch 73/200\n",
      "1500/1500 [==============================] - 5s 3ms/step - loss: 0.0633 - accuracy: 0.9770 - val_loss: 0.5020 - val_accuracy: 0.8920\n",
      "Epoch 74/200\n",
      "1500/1500 [==============================] - 5s 3ms/step - loss: 0.0602 - accuracy: 0.9771 - val_loss: 0.5021 - val_accuracy: 0.8903\n",
      "Epoch 75/200\n",
      "1500/1500 [==============================] - 5s 4ms/step - loss: 0.0605 - accuracy: 0.9774 - val_loss: 0.5237 - val_accuracy: 0.8947\n",
      "Epoch 76/200\n",
      "1500/1500 [==============================] - 5s 4ms/step - loss: 0.0597 - accuracy: 0.9776 - val_loss: 0.5174 - val_accuracy: 0.8921\n",
      "Epoch 77/200\n",
      "1500/1500 [==============================] - 5s 4ms/step - loss: 0.0559 - accuracy: 0.9800 - val_loss: 0.5553 - val_accuracy: 0.8889\n",
      "Epoch 78/200\n",
      "1500/1500 [==============================] - 4s 3ms/step - loss: 0.0572 - accuracy: 0.9788 - val_loss: 0.5419 - val_accuracy: 0.8934\n",
      "Epoch 79/200\n",
      "1500/1500 [==============================] - 6s 4ms/step - loss: 0.0554 - accuracy: 0.9791 - val_loss: 0.5332 - val_accuracy: 0.8920\n",
      "Epoch 80/200\n",
      "1500/1500 [==============================] - 5s 3ms/step - loss: 0.0532 - accuracy: 0.9804 - val_loss: 0.5721 - val_accuracy: 0.8903\n",
      "Epoch 81/200\n",
      "1500/1500 [==============================] - 4s 3ms/step - loss: 0.0547 - accuracy: 0.9803 - val_loss: 0.5372 - val_accuracy: 0.8948\n",
      "Epoch 82/200\n",
      "1500/1500 [==============================] - 6s 4ms/step - loss: 0.0492 - accuracy: 0.9815 - val_loss: 0.5673 - val_accuracy: 0.8918\n",
      "Epoch 83/200\n",
      "1500/1500 [==============================] - 5s 3ms/step - loss: 0.0538 - accuracy: 0.9800 - val_loss: 0.5886 - val_accuracy: 0.8852\n",
      "Epoch 84/200\n",
      "1500/1500 [==============================] - 5s 3ms/step - loss: 0.0485 - accuracy: 0.9817 - val_loss: 0.5537 - val_accuracy: 0.8894\n",
      "Epoch 85/200\n",
      "1500/1500 [==============================] - 6s 4ms/step - loss: 0.0518 - accuracy: 0.9808 - val_loss: 0.5830 - val_accuracy: 0.8948\n",
      "Epoch 86/200\n",
      "1500/1500 [==============================] - 4s 3ms/step - loss: 0.0478 - accuracy: 0.9823 - val_loss: 0.5812 - val_accuracy: 0.8932\n",
      "Epoch 87/200\n",
      "1500/1500 [==============================] - 4s 3ms/step - loss: 0.0470 - accuracy: 0.9830 - val_loss: 0.6171 - val_accuracy: 0.8828\n",
      "Epoch 88/200\n",
      "1500/1500 [==============================] - 4s 3ms/step - loss: 0.0461 - accuracy: 0.9830 - val_loss: 0.5879 - val_accuracy: 0.8870\n",
      "Epoch 89/200\n",
      "1500/1500 [==============================] - 5s 3ms/step - loss: 0.0445 - accuracy: 0.9840 - val_loss: 0.5975 - val_accuracy: 0.8923\n",
      "Epoch 90/200\n",
      "1500/1500 [==============================] - 5s 4ms/step - loss: 0.0461 - accuracy: 0.9823 - val_loss: 0.6079 - val_accuracy: 0.8932\n",
      "Epoch 91/200\n",
      "1500/1500 [==============================] - 5s 3ms/step - loss: 0.0458 - accuracy: 0.9832 - val_loss: 0.5812 - val_accuracy: 0.8889\n",
      "Epoch 92/200\n",
      "1500/1500 [==============================] - 4s 3ms/step - loss: 0.0444 - accuracy: 0.9837 - val_loss: 0.6139 - val_accuracy: 0.8917\n",
      "Epoch 93/200\n",
      "1500/1500 [==============================] - 5s 3ms/step - loss: 0.0434 - accuracy: 0.9844 - val_loss: 0.6347 - val_accuracy: 0.8913\n",
      "Epoch 94/200\n",
      "1500/1500 [==============================] - 5s 3ms/step - loss: 0.0421 - accuracy: 0.9847 - val_loss: 0.6225 - val_accuracy: 0.8887\n",
      "Epoch 95/200\n",
      "1500/1500 [==============================] - 4s 3ms/step - loss: 0.0415 - accuracy: 0.9849 - val_loss: 0.6023 - val_accuracy: 0.8938\n",
      "Epoch 96/200\n",
      "1500/1500 [==============================] - 4s 3ms/step - loss: 0.0404 - accuracy: 0.9856 - val_loss: 0.6432 - val_accuracy: 0.8895\n",
      "Epoch 97/200\n",
      "1500/1500 [==============================] - 6s 4ms/step - loss: 0.0428 - accuracy: 0.9841 - val_loss: 0.6608 - val_accuracy: 0.8913\n",
      "Epoch 98/200\n",
      "1500/1500 [==============================] - 5s 3ms/step - loss: 0.0385 - accuracy: 0.9859 - val_loss: 0.6257 - val_accuracy: 0.8938\n",
      "Epoch 99/200\n",
      "1500/1500 [==============================] - 5s 4ms/step - loss: 0.0402 - accuracy: 0.9853 - val_loss: 0.6406 - val_accuracy: 0.8894\n",
      "Epoch 100/200\n",
      "1500/1500 [==============================] - 5s 3ms/step - loss: 0.0367 - accuracy: 0.9862 - val_loss: 0.6552 - val_accuracy: 0.8928\n",
      "Epoch 101/200\n",
      "1500/1500 [==============================] - 5s 3ms/step - loss: 0.0406 - accuracy: 0.9852 - val_loss: 0.6328 - val_accuracy: 0.8916\n",
      "Epoch 102/200\n",
      "1500/1500 [==============================] - 4s 3ms/step - loss: 0.0385 - accuracy: 0.9865 - val_loss: 0.6195 - val_accuracy: 0.8907\n",
      "Epoch 103/200\n",
      "1500/1500 [==============================] - 5s 3ms/step - loss: 0.0352 - accuracy: 0.9875 - val_loss: 0.6472 - val_accuracy: 0.8940\n",
      "Epoch 104/200\n",
      "1500/1500 [==============================] - 6s 4ms/step - loss: 0.0347 - accuracy: 0.9875 - val_loss: 0.6835 - val_accuracy: 0.8914\n",
      "Epoch 105/200\n",
      "1500/1500 [==============================] - 4s 3ms/step - loss: 0.0365 - accuracy: 0.9869 - val_loss: 0.6604 - val_accuracy: 0.8875\n",
      "Epoch 106/200\n",
      "1500/1500 [==============================] - 5s 4ms/step - loss: 0.0334 - accuracy: 0.9882 - val_loss: 0.6823 - val_accuracy: 0.8895\n",
      "Epoch 107/200\n",
      "1500/1500 [==============================] - 5s 3ms/step - loss: 0.0357 - accuracy: 0.9869 - val_loss: 0.6778 - val_accuracy: 0.8888\n",
      "Epoch 108/200\n",
      "1500/1500 [==============================] - 5s 3ms/step - loss: 0.0339 - accuracy: 0.9877 - val_loss: 0.7052 - val_accuracy: 0.8917\n",
      "Epoch 109/200\n",
      "1500/1500 [==============================] - 5s 3ms/step - loss: 0.0330 - accuracy: 0.9883 - val_loss: 0.6994 - val_accuracy: 0.8925\n",
      "Epoch 110/200\n",
      "1500/1500 [==============================] - 5s 3ms/step - loss: 0.0311 - accuracy: 0.9887 - val_loss: 0.7221 - val_accuracy: 0.8892\n",
      "Epoch 111/200\n",
      "1500/1500 [==============================] - 5s 3ms/step - loss: 0.0345 - accuracy: 0.9875 - val_loss: 0.6938 - val_accuracy: 0.8898\n",
      "Epoch 112/200\n",
      "1500/1500 [==============================] - 5s 3ms/step - loss: 0.0330 - accuracy: 0.9885 - val_loss: 0.7118 - val_accuracy: 0.8917\n",
      "Epoch 113/200\n",
      "1500/1500 [==============================] - 6s 4ms/step - loss: 0.0295 - accuracy: 0.9894 - val_loss: 0.7043 - val_accuracy: 0.8919\n",
      "Epoch 114/200\n",
      "1500/1500 [==============================] - 5s 3ms/step - loss: 0.0330 - accuracy: 0.9883 - val_loss: 0.7036 - val_accuracy: 0.8897\n",
      "Epoch 115/200\n",
      "1500/1500 [==============================] - 5s 3ms/step - loss: 0.0287 - accuracy: 0.9899 - val_loss: 0.7166 - val_accuracy: 0.8939\n",
      "Epoch 116/200\n",
      "1500/1500 [==============================] - 5s 3ms/step - loss: 0.0320 - accuracy: 0.9885 - val_loss: 0.6783 - val_accuracy: 0.8940\n",
      "Epoch 117/200\n",
      "1500/1500 [==============================] - 5s 3ms/step - loss: 0.0268 - accuracy: 0.9905 - val_loss: 0.7197 - val_accuracy: 0.8938\n",
      "Epoch 118/200\n",
      "1500/1500 [==============================] - 7s 5ms/step - loss: 0.0293 - accuracy: 0.9895 - val_loss: 0.7516 - val_accuracy: 0.8914\n",
      "Epoch 119/200\n",
      "1500/1500 [==============================] - 5s 3ms/step - loss: 0.0285 - accuracy: 0.9899 - val_loss: 0.7214 - val_accuracy: 0.8905\n",
      "Epoch 120/200\n",
      "1500/1500 [==============================] - 5s 3ms/step - loss: 0.0328 - accuracy: 0.9884 - val_loss: 0.6998 - val_accuracy: 0.8890\n",
      "Epoch 121/200\n",
      "1500/1500 [==============================] - 5s 3ms/step - loss: 0.0281 - accuracy: 0.9900 - val_loss: 0.7553 - val_accuracy: 0.8914\n",
      "Epoch 122/200\n",
      "1500/1500 [==============================] - 6s 4ms/step - loss: 0.0292 - accuracy: 0.9897 - val_loss: 0.7079 - val_accuracy: 0.8923\n",
      "Epoch 123/200\n",
      "1500/1500 [==============================] - 6s 4ms/step - loss: 0.0279 - accuracy: 0.9898 - val_loss: 0.7469 - val_accuracy: 0.8898\n",
      "Epoch 124/200\n",
      "1500/1500 [==============================] - 9s 6ms/step - loss: 0.0264 - accuracy: 0.9903 - val_loss: 0.7729 - val_accuracy: 0.8845\n",
      "Epoch 125/200\n",
      "1500/1500 [==============================] - 6s 4ms/step - loss: 0.0300 - accuracy: 0.9892 - val_loss: 0.7499 - val_accuracy: 0.8919\n",
      "Epoch 126/200\n",
      "1500/1500 [==============================] - 6s 4ms/step - loss: 0.0242 - accuracy: 0.9914 - val_loss: 0.7461 - val_accuracy: 0.8909\n",
      "Epoch 127/200\n",
      "1500/1500 [==============================] - 6s 4ms/step - loss: 0.0277 - accuracy: 0.9896 - val_loss: 0.7722 - val_accuracy: 0.8908\n",
      "Epoch 128/200\n",
      "1500/1500 [==============================] - 6s 4ms/step - loss: 0.0282 - accuracy: 0.9900 - val_loss: 0.7970 - val_accuracy: 0.8862\n",
      "Epoch 129/200\n",
      "1500/1500 [==============================] - 6s 4ms/step - loss: 0.0248 - accuracy: 0.9914 - val_loss: 0.8041 - val_accuracy: 0.8851\n",
      "Epoch 130/200\n",
      "1500/1500 [==============================] - 7s 4ms/step - loss: 0.0263 - accuracy: 0.9903 - val_loss: 0.7730 - val_accuracy: 0.8898\n",
      "Epoch 131/200\n",
      "1500/1500 [==============================] - 8s 5ms/step - loss: 0.0264 - accuracy: 0.9906 - val_loss: 0.7603 - val_accuracy: 0.8927\n",
      "Epoch 132/200\n",
      "1500/1500 [==============================] - 8s 5ms/step - loss: 0.0248 - accuracy: 0.9912 - val_loss: 0.8051 - val_accuracy: 0.8917\n",
      "Epoch 133/200\n",
      "1500/1500 [==============================] - 6s 4ms/step - loss: 0.0251 - accuracy: 0.9911 - val_loss: 0.7285 - val_accuracy: 0.8928\n",
      "Epoch 134/200\n",
      "1500/1500 [==============================] - 8s 5ms/step - loss: 0.0266 - accuracy: 0.9906 - val_loss: 0.7864 - val_accuracy: 0.8948\n",
      "Epoch 135/200\n",
      "1500/1500 [==============================] - 8s 6ms/step - loss: 0.0267 - accuracy: 0.9910 - val_loss: 0.7575 - val_accuracy: 0.8936\n",
      "Epoch 136/200\n",
      "1500/1500 [==============================] - 8s 5ms/step - loss: 0.0238 - accuracy: 0.9919 - val_loss: 0.7638 - val_accuracy: 0.8924\n",
      "Epoch 137/200\n",
      "1500/1500 [==============================] - 8s 5ms/step - loss: 0.0216 - accuracy: 0.9926 - val_loss: 0.7906 - val_accuracy: 0.8850\n",
      "Epoch 138/200\n",
      "1500/1500 [==============================] - 7s 5ms/step - loss: 0.0248 - accuracy: 0.9913 - val_loss: 0.8420 - val_accuracy: 0.8925\n",
      "Epoch 139/200\n",
      "1500/1500 [==============================] - 7s 5ms/step - loss: 0.0250 - accuracy: 0.9910 - val_loss: 0.8300 - val_accuracy: 0.8879\n",
      "Epoch 140/200\n",
      "1500/1500 [==============================] - 8s 6ms/step - loss: 0.0241 - accuracy: 0.9915 - val_loss: 0.7490 - val_accuracy: 0.8889\n",
      "Epoch 141/200\n",
      "1500/1500 [==============================] - 11s 7ms/step - loss: 0.0227 - accuracy: 0.9920 - val_loss: 0.8465 - val_accuracy: 0.8903\n",
      "Epoch 142/200\n",
      "1500/1500 [==============================] - 11s 7ms/step - loss: 0.0221 - accuracy: 0.9921 - val_loss: 0.8048 - val_accuracy: 0.8903\n",
      "Epoch 143/200\n",
      "1500/1500 [==============================] - 11s 8ms/step - loss: 0.0219 - accuracy: 0.9924 - val_loss: 0.9323 - val_accuracy: 0.8866\n",
      "Epoch 144/200\n",
      "1500/1500 [==============================] - 10s 7ms/step - loss: 0.0238 - accuracy: 0.9914 - val_loss: 0.8485 - val_accuracy: 0.8873\n",
      "Epoch 145/200\n",
      "1500/1500 [==============================] - 9s 6ms/step - loss: 0.0229 - accuracy: 0.9916 - val_loss: 0.8212 - val_accuracy: 0.8908\n",
      "Epoch 146/200\n",
      "1500/1500 [==============================] - 11s 8ms/step - loss: 0.0233 - accuracy: 0.9919 - val_loss: 0.8337 - val_accuracy: 0.8892\n",
      "Epoch 147/200\n",
      "1500/1500 [==============================] - 12s 8ms/step - loss: 0.0213 - accuracy: 0.9921 - val_loss: 0.7926 - val_accuracy: 0.8929\n",
      "Epoch 148/200\n",
      "1500/1500 [==============================] - 10s 7ms/step - loss: 0.0214 - accuracy: 0.9924 - val_loss: 0.8262 - val_accuracy: 0.8864\n",
      "Epoch 149/200\n",
      "1500/1500 [==============================] - 12s 8ms/step - loss: 0.0219 - accuracy: 0.9923 - val_loss: 0.8545 - val_accuracy: 0.8907\n",
      "Epoch 150/200\n",
      "1500/1500 [==============================] - 11s 7ms/step - loss: 0.0219 - accuracy: 0.9923 - val_loss: 0.8401 - val_accuracy: 0.8886\n",
      "Epoch 151/200\n",
      "1500/1500 [==============================] - 8s 5ms/step - loss: 0.0204 - accuracy: 0.9928 - val_loss: 0.8378 - val_accuracy: 0.8912\n",
      "Epoch 152/200\n",
      "1500/1500 [==============================] - 7s 5ms/step - loss: 0.0209 - accuracy: 0.9927 - val_loss: 0.8254 - val_accuracy: 0.8937\n",
      "Epoch 153/200\n",
      "1500/1500 [==============================] - 9s 6ms/step - loss: 0.0184 - accuracy: 0.9935 - val_loss: 0.9482 - val_accuracy: 0.8799\n",
      "Epoch 154/200\n",
      "1500/1500 [==============================] - 9s 6ms/step - loss: 0.0216 - accuracy: 0.9921 - val_loss: 0.8880 - val_accuracy: 0.8854\n",
      "Epoch 155/200\n",
      "1500/1500 [==============================] - 15s 10ms/step - loss: 0.0212 - accuracy: 0.9930 - val_loss: 0.8480 - val_accuracy: 0.8932\n",
      "Epoch 156/200\n",
      "1500/1500 [==============================] - 12s 8ms/step - loss: 0.0206 - accuracy: 0.9926 - val_loss: 0.8621 - val_accuracy: 0.8914\n",
      "Epoch 157/200\n",
      "1500/1500 [==============================] - 12s 8ms/step - loss: 0.0177 - accuracy: 0.9937 - val_loss: 0.8792 - val_accuracy: 0.8911\n",
      "Epoch 158/200\n",
      "1500/1500 [==============================] - 11s 7ms/step - loss: 0.0224 - accuracy: 0.9923 - val_loss: 0.8618 - val_accuracy: 0.8879\n",
      "Epoch 159/200\n",
      "1500/1500 [==============================] - 11s 7ms/step - loss: 0.0223 - accuracy: 0.9923 - val_loss: 0.8477 - val_accuracy: 0.8882\n",
      "Epoch 160/200\n",
      "1500/1500 [==============================] - 10s 7ms/step - loss: 0.0166 - accuracy: 0.9940 - val_loss: 0.8400 - val_accuracy: 0.8879\n",
      "Epoch 161/200\n",
      "1500/1500 [==============================] - 11s 7ms/step - loss: 0.0216 - accuracy: 0.9929 - val_loss: 0.8881 - val_accuracy: 0.8929\n",
      "Epoch 162/200\n",
      "1500/1500 [==============================] - 11s 7ms/step - loss: 0.0198 - accuracy: 0.9927 - val_loss: 0.8367 - val_accuracy: 0.8923\n",
      "Epoch 163/200\n",
      "1500/1500 [==============================] - 12s 8ms/step - loss: 0.0200 - accuracy: 0.9934 - val_loss: 0.8112 - val_accuracy: 0.8881\n",
      "Epoch 164/200\n",
      "1500/1500 [==============================] - 11s 7ms/step - loss: 0.0178 - accuracy: 0.9939 - val_loss: 0.8517 - val_accuracy: 0.8888\n",
      "Epoch 165/200\n",
      "1500/1500 [==============================] - 11s 7ms/step - loss: 0.0194 - accuracy: 0.9934 - val_loss: 0.8583 - val_accuracy: 0.8913\n",
      "Epoch 166/200\n",
      "1500/1500 [==============================] - 11s 7ms/step - loss: 0.0175 - accuracy: 0.9938 - val_loss: 0.9061 - val_accuracy: 0.8922\n",
      "Epoch 167/200\n",
      "1500/1500 [==============================] - 11s 7ms/step - loss: 0.0164 - accuracy: 0.9946 - val_loss: 0.9057 - val_accuracy: 0.8936\n",
      "Epoch 168/200\n",
      "1500/1500 [==============================] - 11s 7ms/step - loss: 0.0215 - accuracy: 0.9928 - val_loss: 0.8233 - val_accuracy: 0.8928\n",
      "Epoch 169/200\n",
      "1500/1500 [==============================] - 12s 8ms/step - loss: 0.0202 - accuracy: 0.9932 - val_loss: 0.9023 - val_accuracy: 0.8894\n",
      "Epoch 170/200\n",
      "1500/1500 [==============================] - 9s 6ms/step - loss: 0.0182 - accuracy: 0.9936 - val_loss: 0.8591 - val_accuracy: 0.8921\n",
      "Epoch 171/200\n",
      "1500/1500 [==============================] - 8s 5ms/step - loss: 0.0179 - accuracy: 0.9937 - val_loss: 0.9214 - val_accuracy: 0.8876\n",
      "Epoch 172/200\n",
      "1500/1500 [==============================] - 9s 6ms/step - loss: 0.0180 - accuracy: 0.9935 - val_loss: 0.8403 - val_accuracy: 0.8923\n",
      "Epoch 173/200\n",
      "1500/1500 [==============================] - 7s 5ms/step - loss: 0.0170 - accuracy: 0.9940 - val_loss: 0.9010 - val_accuracy: 0.8908\n",
      "Epoch 174/200\n",
      "1500/1500 [==============================] - 7s 5ms/step - loss: 0.0179 - accuracy: 0.9936 - val_loss: 0.9324 - val_accuracy: 0.8897\n",
      "Epoch 175/200\n",
      "1500/1500 [==============================] - 7s 5ms/step - loss: 0.0163 - accuracy: 0.9943 - val_loss: 0.9028 - val_accuracy: 0.8898\n",
      "Epoch 176/200\n",
      "1500/1500 [==============================] - 8s 5ms/step - loss: 0.0167 - accuracy: 0.9943 - val_loss: 0.8886 - val_accuracy: 0.8899\n",
      "Epoch 177/200\n",
      "1500/1500 [==============================] - 8s 5ms/step - loss: 0.0193 - accuracy: 0.9931 - val_loss: 0.8566 - val_accuracy: 0.8895\n",
      "Epoch 178/200\n",
      "1500/1500 [==============================] - 8s 5ms/step - loss: 0.0160 - accuracy: 0.9940 - val_loss: 0.8882 - val_accuracy: 0.8833\n",
      "Epoch 179/200\n",
      "1500/1500 [==============================] - 6s 4ms/step - loss: 0.0205 - accuracy: 0.9930 - val_loss: 0.9345 - val_accuracy: 0.8927\n",
      "Epoch 180/200\n",
      "1500/1500 [==============================] - 8s 5ms/step - loss: 0.0175 - accuracy: 0.9939 - val_loss: 0.9034 - val_accuracy: 0.8928\n",
      "Epoch 181/200\n",
      "1500/1500 [==============================] - 7s 5ms/step - loss: 0.0163 - accuracy: 0.9936 - val_loss: 0.9083 - val_accuracy: 0.8855\n",
      "Epoch 182/200\n",
      "1500/1500 [==============================] - 6s 4ms/step - loss: 0.0165 - accuracy: 0.9944 - val_loss: 0.9505 - val_accuracy: 0.8947\n",
      "Epoch 183/200\n",
      "1500/1500 [==============================] - 6s 4ms/step - loss: 0.0167 - accuracy: 0.9939 - val_loss: 0.9145 - val_accuracy: 0.8907\n",
      "Epoch 184/200\n",
      "1500/1500 [==============================] - 6s 4ms/step - loss: 0.0194 - accuracy: 0.9935 - val_loss: 0.9337 - val_accuracy: 0.8874\n",
      "Epoch 185/200\n",
      "1500/1500 [==============================] - 6s 4ms/step - loss: 0.0171 - accuracy: 0.9945 - val_loss: 0.8915 - val_accuracy: 0.8907\n",
      "Epoch 186/200\n",
      "1500/1500 [==============================] - 6s 4ms/step - loss: 0.0153 - accuracy: 0.9946 - val_loss: 0.9394 - val_accuracy: 0.8922\n",
      "Epoch 187/200\n",
      "1500/1500 [==============================] - 7s 4ms/step - loss: 0.0175 - accuracy: 0.9940 - val_loss: 0.9287 - val_accuracy: 0.8879\n",
      "Epoch 188/200\n",
      "1500/1500 [==============================] - 6s 4ms/step - loss: 0.0138 - accuracy: 0.9952 - val_loss: 1.0503 - val_accuracy: 0.8872\n",
      "Epoch 189/200\n",
      "1500/1500 [==============================] - 6s 4ms/step - loss: 0.0206 - accuracy: 0.9932 - val_loss: 0.9255 - val_accuracy: 0.8903\n",
      "Epoch 190/200\n",
      "1500/1500 [==============================] - 6s 4ms/step - loss: 0.0144 - accuracy: 0.9953 - val_loss: 0.9198 - val_accuracy: 0.8901\n",
      "Epoch 191/200\n",
      "1500/1500 [==============================] - 6s 4ms/step - loss: 0.0170 - accuracy: 0.9941 - val_loss: 0.9579 - val_accuracy: 0.8895\n",
      "Epoch 192/200\n",
      "1500/1500 [==============================] - 7s 4ms/step - loss: 0.0150 - accuracy: 0.9949 - val_loss: 0.9304 - val_accuracy: 0.8909\n",
      "Epoch 193/200\n",
      "1500/1500 [==============================] - 7s 5ms/step - loss: 0.0171 - accuracy: 0.9942 - val_loss: 0.8834 - val_accuracy: 0.8898\n",
      "Epoch 194/200\n",
      "1500/1500 [==============================] - 6s 4ms/step - loss: 0.0149 - accuracy: 0.9948 - val_loss: 0.9566 - val_accuracy: 0.8903\n",
      "Epoch 195/200\n",
      "1500/1500 [==============================] - 6s 4ms/step - loss: 0.0132 - accuracy: 0.9953 - val_loss: 0.9367 - val_accuracy: 0.8868\n",
      "Epoch 196/200\n",
      "1500/1500 [==============================] - 6s 4ms/step - loss: 0.0173 - accuracy: 0.9943 - val_loss: 0.9166 - val_accuracy: 0.8878\n",
      "Epoch 197/200\n",
      "1500/1500 [==============================] - 6s 4ms/step - loss: 0.0152 - accuracy: 0.9952 - val_loss: 0.9906 - val_accuracy: 0.8853\n",
      "Epoch 198/200\n",
      "1500/1500 [==============================] - 6s 4ms/step - loss: 0.0166 - accuracy: 0.9940 - val_loss: 0.9126 - val_accuracy: 0.8923\n",
      "Epoch 199/200\n",
      "1500/1500 [==============================] - 6s 4ms/step - loss: 0.0151 - accuracy: 0.9948 - val_loss: 0.9112 - val_accuracy: 0.8848\n",
      "Epoch 200/200\n",
      "1500/1500 [==============================] - 7s 5ms/step - loss: 0.0153 - accuracy: 0.9948 - val_loss: 0.9340 - val_accuracy: 0.8924\n",
      "Best epoch value is:  70\n"
     ]
    }
   ],
   "source": [
    "\n",
    "# creating model with optimimum parameters\n",
    "optimum_model = tuner.hypermodel.build(best_hps)\n",
    "\n",
    "# history of the model\n",
    "history = optimum_model.fit(x_train, y_train, epochs=200, validation_split=0.2)\n",
    "\n",
    "# fining the optimum epochs\n",
    "val_acc_per_epoch = history.history['val_accuracy']\n",
    "\n",
    "# printing the best epoch value\n",
    "best_epoch = val_acc_per_epoch.index(max(val_acc_per_epoch)) + 1\n",
    "print('Best epoch value is: ' ,best_epoch)"
   ]
  },
  {
   "cell_type": "code",
   "execution_count": 28,
   "id": "e9fc154e",
   "metadata": {},
   "outputs": [
    {
     "name": "stdout",
     "output_type": "stream",
     "text": [
      "Epoch 1/70\n",
      "1500/1500 - 10s - loss: 0.0155 - accuracy: 0.9948 - val_loss: 0.9317 - val_accuracy: 0.8854 - 10s/epoch - 6ms/step\n",
      "Epoch 2/70\n",
      "1500/1500 - 7s - loss: 0.0158 - accuracy: 0.9943 - val_loss: 0.9943 - val_accuracy: 0.8926 - 7s/epoch - 5ms/step\n",
      "Epoch 3/70\n",
      "1500/1500 - 7s - loss: 0.0150 - accuracy: 0.9948 - val_loss: 0.9364 - val_accuracy: 0.8932 - 7s/epoch - 5ms/step\n",
      "Epoch 4/70\n",
      "1500/1500 - 6s - loss: 0.0171 - accuracy: 0.9940 - val_loss: 0.9400 - val_accuracy: 0.8910 - 6s/epoch - 4ms/step\n",
      "Epoch 5/70\n",
      "1500/1500 - 6s - loss: 0.0130 - accuracy: 0.9960 - val_loss: 0.9536 - val_accuracy: 0.8916 - 6s/epoch - 4ms/step\n",
      "Epoch 6/70\n",
      "1500/1500 - 6s - loss: 0.0159 - accuracy: 0.9945 - val_loss: 0.9933 - val_accuracy: 0.8912 - 6s/epoch - 4ms/step\n"
     ]
    },
    {
     "data": {
      "text/plain": [
       "<keras.callbacks.History at 0x7f4ad4781250>"
      ]
     },
     "execution_count": 28,
     "metadata": {},
     "output_type": "execute_result"
    }
   ],
   "source": [
    "# Train the hypertuned model\n",
    "optimum_model.fit(x_train, y_train, epochs=70, validation_split=0.2, callbacks=[stop_early], verbose=2)"
   ]
  },
  {
   "cell_type": "code",
   "execution_count": 29,
   "id": "4f3cd766",
   "metadata": {},
   "outputs": [
    {
     "name": "stdout",
     "output_type": "stream",
     "text": [
      "313/313 [==============================] - 10s 5ms/step - loss: 1.0371 - accuracy: 0.8931\n"
     ]
    },
    {
     "data": {
      "text/html": [
       "<div>\n",
       "<style scoped>\n",
       "    .dataframe tbody tr th:only-of-type {\n",
       "        vertical-align: middle;\n",
       "    }\n",
       "\n",
       "    .dataframe tbody tr th {\n",
       "        vertical-align: top;\n",
       "    }\n",
       "\n",
       "    .dataframe thead tr th {\n",
       "        text-align: left;\n",
       "    }\n",
       "</style>\n",
       "<table border=\"1\" class=\"dataframe\">\n",
       "  <thead>\n",
       "    <tr>\n",
       "      <th></th>\n",
       "      <th>loss</th>\n",
       "      <th>accuracy</th>\n",
       "    </tr>\n",
       "  </thead>\n",
       "  <tbody>\n",
       "    <tr>\n",
       "      <th>0</th>\n",
       "      <td>1.037149</td>\n",
       "      <td>0.8931</td>\n",
       "    </tr>\n",
       "  </tbody>\n",
       "</table>\n",
       "</div>"
      ],
      "text/plain": [
       "       loss accuracy\n",
       "0  1.037149   0.8931"
      ]
     },
     "execution_count": 29,
     "metadata": {},
     "output_type": "execute_result"
    }
   ],
   "source": [
    "# get te optimum models results\n",
    "hyper_df = evaluate_model(optimum_model, X_test, y_test)\n",
    "\n",
    "# printing the accuracy\n",
    "hyper_df"
   ]
  },
  {
   "cell_type": "code",
   "execution_count": null,
   "id": "8ba951ab",
   "metadata": {},
   "outputs": [],
   "source": []
  }
 ],
 "metadata": {
  "kernelspec": {
   "display_name": "Python 3 (ipykernel)",
   "language": "python",
   "name": "python3"
  },
  "language_info": {
   "codemirror_mode": {
    "name": "ipython",
    "version": 3
   },
   "file_extension": ".py",
   "mimetype": "text/x-python",
   "name": "python",
   "nbconvert_exporter": "python",
   "pygments_lexer": "ipython3",
   "version": "3.10.6"
  },
  "vscode": {
   "interpreter": {
    "hash": "0c0bb320f608fe7c63307756c7b3312abd483f4635ab2f7c3568de61f1e14860"
   }
  }
 },
 "nbformat": 4,
 "nbformat_minor": 5
}
