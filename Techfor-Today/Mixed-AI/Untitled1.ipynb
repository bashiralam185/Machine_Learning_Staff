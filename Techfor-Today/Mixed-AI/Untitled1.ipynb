{
 "cells": [
  {
   "cell_type": "code",
   "execution_count": 8,
   "id": "a3b8f0b9",
   "metadata": {},
   "outputs": [
    {
     "name": "stdout",
     "output_type": "stream",
     "text": [
      "Name exists in the file\n"
     ]
    }
   ],
   "source": [
    "# opening the file\n",
    "with open(\"file.txt\", \"rb\") as file:\n",
    "\tname = file.readlines()\n",
    "\n",
    "# checking if name is in the file\n",
    "for i in name:\n",
    "    \n",
    "    # checking the name\n",
    "    if 'Bashir' in i.decode('utf-8'):  \n",
    "        print(\"Name exists in the file\")\n",
    "    \n"
   ]
  },
  {
   "cell_type": "code",
   "execution_count": 12,
   "id": "9eab4428",
   "metadata": {},
   "outputs": [
    {
     "name": "stdout",
     "output_type": "stream",
     "text": [
      "Sub String exists\n"
     ]
    }
   ],
   "source": [
    "# defining string\n",
    "a=(\"This is Bashir\").encode()\n",
    "\n",
    "# defining substring\n",
    "b=(\"Bashir\")\n",
    "\n",
    "# using if statement\n",
    "if b in str(a):\n",
    "  print(\"Sub String exists\")\n"
   ]
  },
  {
   "cell_type": "code",
   "execution_count": 13,
   "id": "2a552080",
   "metadata": {},
   "outputs": [
    {
     "name": "stdout",
     "output_type": "stream",
     "text": [
      "Sub String exists\n"
     ]
    }
   ],
   "source": [
    "# defining a string\n",
    "a=(\"This is Bashir\").encode()\n",
    "\n",
    "# type casting- converted string to byte\n",
    "b=bytes(\"Bashir\",\"utf-8\")\n",
    "\n",
    "# using if statement\n",
    "if b in a:\n",
    "  print(\"Sub String exists\")"
   ]
  },
  {
   "cell_type": "code",
   "execution_count": 15,
   "id": "80a35601",
   "metadata": {},
   "outputs": [
    {
     "name": "stdout",
     "output_type": "stream",
     "text": [
      "<class 'bytes'>\n"
     ]
    }
   ],
   "source": [
    "# defining string\n",
    "a = (b\"This is Bashir\")\n",
    "\n",
    "# printing type\n",
    "print(type(a))"
   ]
  },
  {
   "cell_type": "code",
   "execution_count": null,
   "id": "406d1f4f",
   "metadata": {},
   "outputs": [],
   "source": []
  },
  {
   "cell_type": "code",
   "execution_count": null,
   "id": "b15f289c",
   "metadata": {},
   "outputs": [],
   "source": []
  },
  {
   "cell_type": "code",
   "execution_count": 2,
   "id": "64bb0d01",
   "metadata": {},
   "outputs": [
    {
     "ename": "ValueError",
     "evalue": "invalid literal for int() with base 10: 'This is Bashir'",
     "output_type": "error",
     "traceback": [
      "\u001b[0;31m---------------------------------------------------------------------------\u001b[0m",
      "\u001b[0;31mValueError\u001b[0m                                Traceback (most recent call last)",
      "\u001b[0;32m/tmp/ipykernel_329137/896642843.py\u001b[0m in \u001b[0;36m<module>\u001b[0;34m\u001b[0m\n\u001b[1;32m      3\u001b[0m \u001b[0;34m\u001b[0m\u001b[0m\n\u001b[1;32m      4\u001b[0m \u001b[0;31m# applying to int function\u001b[0m\u001b[0;34m\u001b[0m\u001b[0;34m\u001b[0m\u001b[0m\n\u001b[0;32m----> 5\u001b[0;31m \u001b[0ma\u001b[0m \u001b[0;34m=\u001b[0m \u001b[0mint\u001b[0m\u001b[0;34m(\u001b[0m\u001b[0mstring\u001b[0m\u001b[0;34m)\u001b[0m\u001b[0;34m\u001b[0m\u001b[0;34m\u001b[0m\u001b[0m\n\u001b[0m",
      "\u001b[0;31mValueError\u001b[0m: invalid literal for int() with base 10: 'This is Bashir'"
     ]
    }
   ],
   "source": [
    "# defining Python\n",
    "string = \"This is Bashir\"\n",
    "\n",
    "# applying to int function\n",
    "a = int(string)"
   ]
  },
  {
   "cell_type": "code",
   "execution_count": 6,
   "id": "c24da014",
   "metadata": {},
   "outputs": [
    {
     "name": "stdout",
     "output_type": "stream",
     "text": [
      "There is an error!!!!\n"
     ]
    }
   ],
   "source": [
    "# string number\n",
    "num = 'string value'\n",
    "\n",
    "# try block\n",
    "try:\n",
    "    \n",
    "    # applying int() method\n",
    "    a = int(num)\n",
    "\n",
    "# except block\n",
    "except:\n",
    "    print(\"There is an error!!!!\")"
   ]
  },
  {
   "cell_type": "code",
   "execution_count": 7,
   "id": "0a0b3599",
   "metadata": {},
   "outputs": [],
   "source": [
    "# string\n",
    "string = '3.43'\n",
    "\n",
    "# converting to floating point\n",
    "f = float(string)\n",
    "\n",
    "# applying to int method\n",
    "i = int(f)"
   ]
  },
  {
   "cell_type": "code",
   "execution_count": 9,
   "id": "c7938224",
   "metadata": {},
   "outputs": [
    {
     "name": "stdout",
     "output_type": "stream",
     "text": [
      "False\n",
      "True\n",
      "False\n"
     ]
    }
   ],
   "source": [
    "# strings\n",
    "num1  = 'abced'\n",
    "num2 = '234'\n",
    "num3 = '4.43'\n",
    "\n",
    "\n",
    "# printing\n",
    "print(num1.isdigit())\n",
    "print(num2.isdigit())\n",
    "print(num3.isdigit())\n"
   ]
  },
  {
   "cell_type": "code",
   "execution_count": 10,
   "id": "e6f3c71c",
   "metadata": {},
   "outputs": [
    {
     "name": "stdout",
     "output_type": "stream",
     "text": [
      "2324\n"
     ]
    }
   ],
   "source": [
    "# string\n",
    "string = '23bashir24'\n",
    "\n",
    "# filtering\n",
    "num= int(''.join(filter(str.isdigit, string)))\n",
    "\n",
    "# printing\n",
    "print(num)"
   ]
  },
  {
   "cell_type": "code",
   "execution_count": 11,
   "id": "dcef0106",
   "metadata": {},
   "outputs": [
    {
     "name": "stdout",
     "output_type": "stream",
     "text": [
      "the string has no numeric values\n"
     ]
    }
   ],
   "source": [
    "# string\n",
    "string =\"Bashir\"\n",
    "\n",
    "# if statement\n",
    "if string.isdigit():\n",
    "    num = int(string)\n",
    "    \n",
    "# else statement\n",
    "else:\n",
    "    print(\"the string has no numeric values\")"
   ]
  },
  {
   "cell_type": "code",
   "execution_count": 12,
   "id": "6def10e4",
   "metadata": {},
   "outputs": [
    {
     "name": "stdout",
     "output_type": "stream",
     "text": [
      "e\n",
      "d\n",
      "c\n",
      "b\n",
      "a\n"
     ]
    }
   ],
   "source": [
    "# creating a list\n",
    "list1 = ['a', 'b', 'c', 'd', 'e']\n",
    "\n",
    "# strating index\n",
    "i  = -1\n",
    "\n",
    "# using while loop\n",
    "while i>=0-len(list1):\n",
    "    print(list1[i])\n",
    "    \n",
    "    i-=1"
   ]
  },
  {
   "cell_type": "code",
   "execution_count": 16,
   "id": "5d2cc6da",
   "metadata": {},
   "outputs": [
    {
     "data": {
      "text/plain": [
       "['d', 'e']"
      ]
     },
     "execution_count": 16,
     "metadata": {},
     "output_type": "execute_result"
    }
   ],
   "source": [
    "# creating a list\n",
    "list1 = ['a', 'b', 'c', 'd', 'e']\n",
    "\n",
    "# slicing of the list\n",
    "list1[3:30]"
   ]
  },
  {
   "cell_type": "code",
   "execution_count": 1,
   "id": "aa02bb94",
   "metadata": {},
   "outputs": [],
   "source": [
    "import random\n",
    "\n",
    "# Initialize the walk\n",
    "walk = [0]\n",
    "\n",
    "# Generate the random steps\n",
    "for i in range(100):\n",
    "    step = walk[-1]\n",
    "    coin = random.randint(0, 1)\n",
    "    if coin == 0:\n",
    "        step -= 1\n",
    "    else:\n",
    "        step += 1\n",
    "    walk.append(step)\n"
   ]
  },
  {
   "cell_type": "code",
   "execution_count": 2,
   "id": "2ca97c74",
   "metadata": {},
   "outputs": [],
   "source": [
    "import numpy as np\n",
    "\n",
    "np.random.seed(123)\n",
    "\n",
    "steps = np.random.randint(0, 2, size=(100,))\n",
    "\n",
    "walk = np.where(steps == 0, -1, 1)\n",
    "\n",
    "walk = np.cumsum(walk)\n"
   ]
  },
  {
   "cell_type": "code",
   "execution_count": 3,
   "id": "aefa0e29",
   "metadata": {},
   "outputs": [
    {
     "data": {
      "image/png": "[encoded data removed]",
      "text/plain": [
       "<Figure size 432x288 with 1 Axes>"
      ]
     },
     "metadata": {
      "needs_background": "light"
     },
     "output_type": "display_data"
    }
   ],
   "source": [
    "import matplotlib.pyplot as plt\n",
    "\n",
    "# Plot the walk\n",
    "plt.plot(walk)\n",
    "\n",
    "# Add labels and a title\n",
    "plt.xlabel('Steps')\n",
    "plt.ylabel('Position')\n",
    "plt.title('Random Walk')\n",
    "\n",
    "# Show the plot\n",
    "plt.show()\n"
   ]
  },
  {
   "cell_type": "code",
   "execution_count": 4,
   "id": "82490bb4",
   "metadata": {},
   "outputs": [
    {
     "data": {
      "image/png": "[encoded data removed]",
      "text/plain": [
       "<Figure size 432x288 with 1 Axes>"
      ]
     },
     "metadata": {
      "needs_background": "light"
     },
     "output_type": "display_data"
    }
   ],
   "source": [
    "import matplotlib.pyplot as plt\n",
    "\n",
    "# Generate the random walk\n",
    "np.random.seed(123)\n",
    "\n",
    "steps = np.random.normal(loc=0, scale=0.25, size=(100, 2))\n",
    "\n",
    "walk = np.cumsum(steps, axis=0)\n",
    "\n",
    "# Plot the walk\n",
    "plt.scatter(walk[:,0], walk[:,1])\n",
    "\n",
    "# Add labels and a title\n",
    "plt.xlabel('X-Position')\n",
    "plt.ylabel('Y-Position')\n",
    "plt.title('2D Random Walk')\n",
    "\n",
    "# Show the plot\n",
    "plt.show()\n"
   ]
  },
  {
   "cell_type": "code",
   "execution_count": 5,
   "id": "2e1b425a",
   "metadata": {},
   "outputs": [
    {
     "name": "stdout",
     "output_type": "stream",
     "text": [
      "0.36761064525644427\n"
     ]
    }
   ],
   "source": [
    "mean_position = np.mean(walk)\n",
    "print(mean_position)"
   ]
  },
  {
   "cell_type": "code",
   "execution_count": 6,
   "id": "3d2ec97b",
   "metadata": {},
   "outputs": [
    {
     "name": "stdout",
     "output_type": "stream",
     "text": [
      "2.829563277966772\n"
     ]
    }
   ],
   "source": [
    "variance = np.var(walk)\n",
    "\n",
    "print(variance)"
   ]
  },
  {
   "cell_type": "code",
   "execution_count": 15,
   "id": "52c4bd85",
   "metadata": {},
   "outputs": [
    {
     "data": {
      "text/plain": [
       "[<matplotlib.lines.Line2D at 0x7fa01642ef50>]"
      ]
     },
     "execution_count": 15,
     "metadata": {},
     "output_type": "execute_result"
    },
    {
     "data": {
      "image/png": "[encoded data removed]",
      "text/plain": [
       "<Figure size 432x288 with 1 Axes>"
      ]
     },
     "metadata": {
      "needs_background": "light"
     },
     "output_type": "display_data"
    }
   ],
   "source": [
    "# Plot the walk\n",
    "plt.scatter(walk[:,0], walk[:,1])\n",
    "plt.plot(walk[:,0], [mean_position for i in range(len(walk))], c='m')\n",
    "plt.plot(walk[:,0], [variance for i in range(len(walk))], c='r')"
   ]
  },
  {
   "cell_type": "code",
   "execution_count": 7,
   "id": "c1cbe972",
   "metadata": {},
   "outputs": [
    {
     "ename": "SyntaxError",
     "evalue": "unterminated string literal (detected at line 2) (3526611960.py, line 2)",
     "output_type": "error",
     "traceback": [
      "\u001b[0;36m  File \u001b[0;32m\"/tmp/ipykernel_18359/3526611960.py\"\u001b[0;36m, line \u001b[0;32m2\u001b[0m\n\u001b[0;31m    Going to the next line\"\u001b[0m\n\u001b[0m                          ^\u001b[0m\n\u001b[0;31mSyntaxError\u001b[0m\u001b[0;31m:\u001b[0m unterminated string literal (detected at line 2)\n"
     ]
    }
   ],
   "source": [
    "s = ''This is a string literal...\n",
    "          Going to the next line\"\n",
    "\n",
    "\n",
    "# Printing the string\n",
    "print(s)"
   ]
  },
  {
   "cell_type": "code",
   "execution_count": 9,
   "id": "215f8ba2",
   "metadata": {},
   "outputs": [],
   "source": [
    "# string 1\n",
    "string1 = 'This is incorrect way'\n",
    "\n",
    "# second string\n",
    "string2 = \"This is also incorrect\""
   ]
  },
  {
   "cell_type": "code",
   "execution_count": 11,
   "id": "0879d617",
   "metadata": {},
   "outputs": [
    {
     "data": {
      "text/plain": [
       "' This is \\nmultiple line comment'"
      ]
     },
     "execution_count": 11,
     "metadata": {},
     "output_type": "execute_result"
    }
   ],
   "source": [
    "# multiple line comments\n",
    "''' This is \n",
    "multiple line comment'''\n"
   ]
  },
  {
   "cell_type": "code",
   "execution_count": 20,
   "id": "ae717be8",
   "metadata": {},
   "outputs": [
    {
     "name": "stdout",
     "output_type": "stream",
     "text": [
      "this is multiple line of string\n"
     ]
    }
   ],
   "source": [
    "# multipe line of string\n",
    "string = \"this is multiple \\\n",
    "line of string\"\n"
   ]
  },
  {
   "cell_type": "code",
   "execution_count": 19,
   "id": "c4e9cfb5",
   "metadata": {},
   "outputs": [],
   "source": [
    "# string 1\n",
    "string1 = \"string one\"\n",
    "\n",
    "# string2\n",
    "string2 ='string'"
   ]
  },
  {
   "cell_type": "code",
   "execution_count": 25,
   "id": "20556824",
   "metadata": {},
   "outputs": [
    {
     "name": "stdout",
     "output_type": "stream",
     "text": [
      "[1 2 4 list([5, [6, 7]])]\n"
     ]
    }
   ],
   "source": [
    "# importing numpy array\n",
    "import numpy\n",
    " \n",
    "# Creating array\n",
    "array1 = [1, 2, 4, [5, [6, 7]]]\n",
    " \n",
    "# This cause Value error\n",
    "np_array = numpy.array(array1, dtype=object)\n",
    "\n",
    "\n",
    "# printing array \n",
    "print(np_array)"
   ]
  },
  {
   "cell_type": "code",
   "execution_count": 28,
   "id": "61ce8740",
   "metadata": {},
   "outputs": [
    {
     "name": "stdout",
     "output_type": "stream",
     "text": [
      "['a' 'b' 'c' 'd']\n"
     ]
    }
   ],
   "source": [
    "# importing numpy array\n",
    "import numpy\n",
    " \n",
    "# Creating array\n",
    "array1 = [\"a\" , \"b\", \"c\", \"d\"]\n",
    " \n",
    "# using string as data type \n",
    "np_array = numpy.array(array1, dtype=str)\n",
    "\n",
    "# printing\n",
    "print(np_array)"
   ]
  },
  {
   "cell_type": "code",
   "execution_count": 30,
   "id": "f7c759ec",
   "metadata": {},
   "outputs": [
    {
     "name": "stdout",
     "output_type": "stream",
     "text": [
      "[[1 2]\n",
      " [2 3]]\n"
     ]
    }
   ],
   "source": [
    "# importing numpy\n",
    "import numpy as np\n",
    "\n",
    "# different dimensional array\n",
    "numpy_array = np.array([[1,2],[2,3]],dtype=int)\n",
    "\n",
    "# printing array\n",
    "print(numpy_array)"
   ]
  },
  {
   "cell_type": "code",
   "execution_count": 32,
   "id": "9756e1fa",
   "metadata": {},
   "outputs": [
    {
     "name": "stdout",
     "output_type": "stream",
     "text": [
      "Different datatype\n"
     ]
    }
   ],
   "source": [
    "# setting an array element with a sequence\n",
    "import numpy\n",
    "\n",
    "# array\n",
    "array1 = [1, 2]\n",
    "\n",
    "# array\n",
    "array2 = numpy.array(array1, dtype=int)\n",
    "\n",
    "# defining new variable\n",
    "Variable = [\"techfor-today\", 1]\n",
    "\n",
    "if array2.dtype == type(Variable):\n",
    "    array2[1] = Variable\n",
    "else:\n",
    "    print(\"Different datatype\")\n"
   ]
  },
  {
   "cell_type": "code",
   "execution_count": 33,
   "id": "24e2dd0a",
   "metadata": {},
   "outputs": [
    {
     "name": "stdout",
     "output_type": "stream",
     "text": [
      "there is an error\n"
     ]
    }
   ],
   "source": [
    "# importing numpy array\n",
    "import numpy\n",
    " \n",
    "# Creating array\n",
    "array1 = [1, 2, 4, [5, [6, 7]]]\n",
    "\n",
    "# try block\n",
    "try:\n",
    "    # This cause Value error\n",
    "    np_array = numpy.array(array1, dtype=int)\n",
    "    \n",
    "# except block\n",
    "except:\n",
    "    print(\"there is an error\")\n"
   ]
  },
  {
   "cell_type": "code",
   "execution_count": 2,
   "id": "4d444408",
   "metadata": {},
   "outputs": [
    {
     "data": {
      "text/plain": [
       "'M'"
      ]
     },
     "execution_count": 2,
     "metadata": {},
     "output_type": "execute_result"
    }
   ],
   "source": [
    "# creating a string\n",
    "string = \"My name is bAshir\"\n",
    "\n",
    "# changing element or accessing element\n",
    "string[0]"
   ]
  },
  {
   "cell_type": "code",
   "execution_count": 5,
   "id": "c6d04d23",
   "metadata": {},
   "outputs": [
    {
     "name": "stdout",
     "output_type": "stream",
     "text": [
      "['n', 'y', ' ', 'n', 'a', 'm', 'e', ' ', 'i', 's', ' ', 'b', 'a', 's', 'h', 'i', 'r']\n"
     ]
    }
   ],
   "source": [
    "# creating a string\n",
    "string = 'ny name is bashir'\n",
    "\n",
    "# converting string into list\n",
    "my_list = list(string)\n",
    "\n",
    "# printing the list\n",
    "print(my_list) "
   ]
  },
  {
   "cell_type": "code",
   "execution_count": 6,
   "id": "b24c7aca",
   "metadata": {},
   "outputs": [
    {
     "name": "stdout",
     "output_type": "stream",
     "text": [
      "My name is bashir\n"
     ]
    }
   ],
   "source": [
    "# changing the element\n",
    "my_list[0]='M'\n",
    "\n",
    "# creating new string\n",
    "new_str = ''.join(my_list)\n",
    "\n",
    "# printing the string\n",
    "print(new_str) \n"
   ]
  },
  {
   "cell_type": "code",
   "execution_count": 9,
   "id": "dfa7310e",
   "metadata": {},
   "outputs": [
    {
     "name": "stdout",
     "output_type": "stream",
     "text": [
      "Bashir Alam\n"
     ]
    }
   ],
   "source": [
    "# string define\n",
    "string=\"Bashir%Alam\"\n",
    "\n",
    "# finding the index value\n",
    "index_value = string.index('%')\n",
    "\n",
    "# new string with a space\n",
    "new_str = string[0:index_value] + ' ' + string[index_value+1:]\n",
    "\n",
    "# printing the string\n",
    "print(new_str)"
   ]
  },
  {
   "cell_type": "code",
   "execution_count": 17,
   "id": "c13ed608",
   "metadata": {},
   "outputs": [
    {
     "name": "stdout",
     "output_type": "stream",
     "text": [
      " Bashir%Alam%\n"
     ]
    }
   ],
   "source": [
    "# creating a string\n",
    "string = '%Bashir%Alam%'\n",
    "\n",
    "# replacing the character\n",
    "new_str = string.replace('%', ' ', 1)\n",
    "\n",
    "# printing\n",
    "print(new_str)"
   ]
  },
  {
   "cell_type": "code",
   "execution_count": 24,
   "id": "cf5b5fa9",
   "metadata": {},
   "outputs": [
    {
     "name": "stdout",
     "output_type": "stream",
     "text": [
      "BashirAlam\n"
     ]
    }
   ],
   "source": [
    "# defining string\n",
    "string = \"Bashir23Alam\"\n",
    "\n",
    "string2 =''\n",
    "# using for loop to iterate\n",
    "for c in range(len(string)):\n",
    "    if not string[c].isnumeric():\n",
    "        string2 += string[c]\n",
    "\n",
    "print(string2)"
   ]
  },
  {
   "cell_type": "code",
   "execution_count": 5,
   "id": "7aebad26",
   "metadata": {},
   "outputs": [
    {
     "name": "stdout",
     "output_type": "stream",
     "text": [
      "['This is Bashir']\n"
     ]
    }
   ],
   "source": [
    "# opening the file.txt file using absolute path\n",
    "with open('/home/student/Documents/Machine_Learning_Staff/Techfor-Today/Mixed-AI/file.txt', 'r', encoding='utf-8') as f:\n",
    "    lines = f.readlines()\n",
    "    \n",
    "    # printing the lines\n",
    "    print(lines)"
   ]
  },
  {
   "cell_type": "code",
   "execution_count": 9,
   "id": "2e206f63",
   "metadata": {},
   "outputs": [
    {
     "name": "stdout",
     "output_type": "stream",
     "text": [
      "['This is Bashir']\n"
     ]
    }
   ],
   "source": [
    "\n",
    "\n",
    "with open('newfolder/file.txt', 'r', encoding='utf-8') as f:\n",
    "    lines = f.readlines()\n",
    "    \n",
    "    # printing the lines\n",
    "    print(lines)"
   ]
  },
  {
   "cell_type": "code",
   "execution_count": 12,
   "id": "649da2ae",
   "metadata": {},
   "outputs": [
    {
     "name": "stdout",
     "output_type": "stream",
     "text": [
      "There is a problem in the file name or path\n"
     ]
    }
   ],
   "source": [
    "try:\n",
    "    with open('folder/file.txt', 'r', encoding='utf-8') as f:\n",
    "        lines = f.readlines()\n",
    "except:\n",
    "    print(\"There is a problem in the file name or path\")"
   ]
  },
  {
   "cell_type": "code",
   "execution_count": 1,
   "id": "a49ca445",
   "metadata": {},
   "outputs": [
    {
     "ename": "TypeError",
     "evalue": "Strings must be encoded before hashing",
     "output_type": "error",
     "traceback": [
      "\u001b[0;31m---------------------------------------------------------------------------\u001b[0m",
      "\u001b[0;31mTypeError\u001b[0m                                 Traceback (most recent call last)",
      "\u001b[0;32m/tmp/ipykernel_126836/4292415929.py\u001b[0m in \u001b[0;36m<module>\u001b[0;34m\u001b[0m\n\u001b[1;32m      4\u001b[0m \u001b[0;34m\u001b[0m\u001b[0m\n\u001b[1;32m      5\u001b[0m \u001b[0;31m# ⛔️ TypeError: Strings must be encoded before hashing\u001b[0m\u001b[0;34m\u001b[0m\u001b[0;34m\u001b[0m\u001b[0m\n\u001b[0;32m----> 6\u001b[0;31m \u001b[0mmy_hash\u001b[0m \u001b[0;34m=\u001b[0m \u001b[0mhashlib\u001b[0m\u001b[0;34m.\u001b[0m\u001b[0msha256\u001b[0m\u001b[0;34m(\u001b[0m\u001b[0mmy_str\u001b[0m\u001b[0;34m)\u001b[0m\u001b[0;34m.\u001b[0m\u001b[0mhexdigest\u001b[0m\u001b[0;34m(\u001b[0m\u001b[0;34m)\u001b[0m\u001b[0;34m\u001b[0m\u001b[0;34m\u001b[0m\u001b[0m\n\u001b[0m",
      "\u001b[0;31mTypeError\u001b[0m: Strings must be encoded before hashing"
     ]
    }
   ],
   "source": [
    "import hashlib\n",
    "\n",
    "my_str = 'some long string'\n",
    "\n",
    "# ⛔️ TypeError: Strings must be encoded before hashing\n",
    "my_hash = hashlib.sha256(my_str).hexdigest()"
   ]
  },
  {
   "cell_type": "code",
   "execution_count": 1,
   "id": "2eedf640",
   "metadata": {},
   "outputs": [
    {
     "ename": "TypeError",
     "evalue": "can only concatenate str (not \"int\") to str",
     "output_type": "error",
     "traceback": [
      "\u001b[0;31m---------------------------------------------------------------------------\u001b[0m",
      "\u001b[0;31mTypeError\u001b[0m                                 Traceback (most recent call last)",
      "\u001b[0;32m/tmp/ipykernel_277157/529685452.py\u001b[0m in \u001b[0;36m<module>\u001b[0;34m\u001b[0m\n\u001b[1;32m      4\u001b[0m \u001b[0;34m\u001b[0m\u001b[0m\n\u001b[1;32m      5\u001b[0m \u001b[0;31m# result\u001b[0m\u001b[0;34m\u001b[0m\u001b[0;34m\u001b[0m\u001b[0m\n\u001b[0;32m----> 6\u001b[0;31m \u001b[0ma\u001b[0m \u001b[0;34m=\u001b[0m \u001b[0mstring\u001b[0m \u001b[0;34m+\u001b[0m \u001b[0minteger\u001b[0m\u001b[0;34m\u001b[0m\u001b[0;34m\u001b[0m\u001b[0m\n\u001b[0m",
      "\u001b[0;31mTypeError\u001b[0m: can only concatenate str (not \"int\") to str"
     ]
    }
   ],
   "source": [
    "# defining variables\n",
    "integer = 234\n",
    "string = \"Bashir\"\n",
    "\n",
    "# result\n",
    "a = string + integer"
   ]
  },
  {
   "cell_type": "code",
   "execution_count": 5,
   "id": "e6622f51",
   "metadata": {},
   "outputs": [
    {
     "name": "stdout",
     "output_type": "stream",
     "text": [
      "[[1 2]\n",
      " [3 4]]\n"
     ]
    }
   ],
   "source": [
    "# importing the numpy module\n",
    "import numpy as np\n",
    "\n",
    "# creating numpy array\n",
    "a = np.array([[1, 2],[ 3, 4]])\n",
    "\n",
    "# printing\n",
    "print(a)"
   ]
  },
  {
   "cell_type": "code",
   "execution_count": 4,
   "id": "28c0e2ea",
   "metadata": {},
   "outputs": [],
   "source": [
    "def array(sequence, typecode=None, copy=1, savespace=0, dtype=None):\n",
    "    dtype = convtypecode2(typecode, dtype)\n",
    "    return mu.array(sequence, dtype, copy=copy)\n",
    "\n",
    "def sarray(a, typecode=None, copy=False, dtype=None):\n",
    "    pass\n"
   ]
  },
  {
   "cell_type": "code",
   "execution_count": 5,
   "id": "ac47c6ca",
   "metadata": {},
   "outputs": [],
   "source": [
    "def sarray(a, typecode=None, copy=False, dtype=None):\n",
    "    dtype = convtypecode2(typecode, dtype)\n",
    "    return mu.array(a, dtype, copy)\n",
    "\n",
    "# def asarray(a, typecode=None, dtype=None):"
   ]
  },
  {
   "cell_type": "code",
   "execution_count": 1,
   "id": "14e07303",
   "metadata": {},
   "outputs": [
    {
     "ename": "AttributeError",
     "evalue": "'int' object has no attribute 'append'",
     "output_type": "error",
     "traceback": [
      "\u001b[0;31m---------------------------------------------------------------------------\u001b[0m",
      "\u001b[0;31mAttributeError\u001b[0m                            Traceback (most recent call last)",
      "\u001b[0;32m/tmp/ipykernel_308063/950569815.py\u001b[0m in \u001b[0;36m<module>\u001b[0;34m\u001b[0m\n\u001b[1;32m      3\u001b[0m \u001b[0;34m\u001b[0m\u001b[0m\n\u001b[1;32m      4\u001b[0m \u001b[0;31m# using append method\u001b[0m\u001b[0;34m\u001b[0m\u001b[0;34m\u001b[0m\u001b[0m\n\u001b[0;32m----> 5\u001b[0;31m \u001b[0mvar\u001b[0m\u001b[0;34m.\u001b[0m\u001b[0mappend\u001b[0m\u001b[0;34m(\u001b[0m\u001b[0;36m30\u001b[0m\u001b[0;34m)\u001b[0m\u001b[0;34m\u001b[0m\u001b[0;34m\u001b[0m\u001b[0m\n\u001b[0m",
      "\u001b[0;31mAttributeError\u001b[0m: 'int' object has no attribute 'append'"
     ]
    }
   ],
   "source": [
    "# variable defining\n",
    "var = 29\n",
    "\n",
    "# using append method\n",
    "var.append(30)"
   ]
  },
  {
   "cell_type": "code",
   "execution_count": 2,
   "id": "c251e236",
   "metadata": {},
   "outputs": [
    {
     "name": "stdout",
     "output_type": "stream",
     "text": [
      "They given operation couldn't be performed\n"
     ]
    }
   ],
   "source": [
    "# importing numpy module\n",
    "import numpy as np\n",
    "\n",
    "# creating a string array\n",
    "string = np.array([\"a\",\"b\",\"c\"])\n",
    "\n",
    "try:\n",
    "    # multiplying an array with floating number\n",
    "    string[0]*5.1\n",
    "    \n",
    "except:\n",
    "    print(\"They given operation couldn't be performed\")"
   ]
  },
  {
   "cell_type": "code",
   "execution_count": 4,
   "id": "5c7b6e3e",
   "metadata": {},
   "outputs": [
    {
     "name": "stdout",
     "output_type": "stream",
     "text": [
      "<class 'float'>\n",
      "<class 'str'>\n"
     ]
    }
   ],
   "source": [
    "# variables\n",
    "var = 5.3\n",
    "var1 =\"Bashir\"\n",
    "\n",
    "# printing\n",
    "print(type(var))\n",
    "print(type(var1))"
   ]
  },
  {
   "cell_type": "code",
   "execution_count": 1,
   "id": "b7e663ce",
   "metadata": {},
   "outputs": [
    {
     "ename": "ModuleNotFoundError",
     "evalue": "No module named 'Module'",
     "output_type": "error",
     "traceback": [
      "\u001b[0;31m---------------------------------------------------------------------------\u001b[0m",
      "\u001b[0;31mModuleNotFoundError\u001b[0m                       Traceback (most recent call last)",
      "\u001b[0;32m/tmp/ipykernel_350714/1689267883.py\u001b[0m in \u001b[0;36m<module>\u001b[0;34m\u001b[0m\n\u001b[1;32m      1\u001b[0m \u001b[0;31m# importing the module\u001b[0m\u001b[0;34m\u001b[0m\u001b[0;34m\u001b[0m\u001b[0m\n\u001b[0;32m----> 2\u001b[0;31m \u001b[0;32mimport\u001b[0m \u001b[0mModule\u001b[0m\u001b[0;34m\u001b[0m\u001b[0;34m\u001b[0m\u001b[0m\n\u001b[0m",
      "\u001b[0;31mModuleNotFoundError\u001b[0m: No module named 'Module'"
     ]
    }
   ],
   "source": [
    "# importing the module\n",
    "import Module"
   ]
  },
  {
   "cell_type": "code",
   "execution_count": 5,
   "id": "22f33141",
   "metadata": {},
   "outputs": [
    {
     "name": "stdout",
     "output_type": "stream",
     "text": [
      "There is an error in the try blocK!\n"
     ]
    }
   ],
   "source": [
    "# string and floating objects\n",
    "string = \"Bashir\"\n",
    "floating = 5.43\n",
    "\n",
    "try:\n",
    "    # adding both together\n",
    "    string+floating\n",
    "    \n",
    "except:\n",
    "    print(\"There is an error in the try blocK!\")"
   ]
  },
  {
   "cell_type": "code",
   "execution_count": 1,
   "id": "990bf382",
   "metadata": {},
   "outputs": [
    {
     "ename": "TypeError",
     "evalue": "can only concatenate str (not \"float\") to str",
     "output_type": "error",
     "traceback": [
      "\u001b[0;31m---------------------------------------------------------------------------\u001b[0m",
      "\u001b[0;31mTypeError\u001b[0m                                 Traceback (most recent call last)",
      "\u001b[0;32m/tmp/ipykernel_18036/3767693978.py\u001b[0m in \u001b[0;36m<module>\u001b[0;34m\u001b[0m\n\u001b[1;32m      4\u001b[0m \u001b[0;34m\u001b[0m\u001b[0m\n\u001b[1;32m      5\u001b[0m \u001b[0;31m# addition\u001b[0m\u001b[0;34m\u001b[0m\u001b[0;34m\u001b[0m\u001b[0m\n\u001b[0;32m----> 6\u001b[0;31m \u001b[0mstring\u001b[0m \u001b[0;34m+\u001b[0m \u001b[0mfloating\u001b[0m\u001b[0;34m\u001b[0m\u001b[0;34m\u001b[0m\u001b[0m\n\u001b[0m",
      "\u001b[0;31mTypeError\u001b[0m: can only concatenate str (not \"float\") to str"
     ]
    }
   ],
   "source": [
    "# variales\n",
    "string = \"Bashir\"\n",
    "floating = 43.32\n",
    "\n",
    "# addition\n",
    "string + floating"
   ]
  },
  {
   "cell_type": "code",
   "execution_count": 2,
   "id": "27608ef9",
   "metadata": {},
   "outputs": [
    {
     "ename": "TypeError",
     "evalue": "first argument must be callable or None",
     "output_type": "error",
     "traceback": [
      "\u001b[0;31m---------------------------------------------------------------------------\u001b[0m",
      "\u001b[0;31mTypeError\u001b[0m                                 Traceback (most recent call last)",
      "\u001b[0;32m/tmp/ipykernel_18036/14037167.py\u001b[0m in \u001b[0;36m<module>\u001b[0;34m\u001b[0m\n\u001b[1;32m      1\u001b[0m \u001b[0;32mfrom\u001b[0m \u001b[0mcollections\u001b[0m \u001b[0;32mimport\u001b[0m \u001b[0mdefaultdict\u001b[0m\u001b[0;34m\u001b[0m\u001b[0;34m\u001b[0m\u001b[0m\n\u001b[1;32m      2\u001b[0m \u001b[0mlst\u001b[0m \u001b[0;34m=\u001b[0m \u001b[0mlist\u001b[0m\u001b[0;34m(\u001b[0m\u001b[0mrange\u001b[0m\u001b[0;34m(\u001b[0m\u001b[0;36m0\u001b[0m\u001b[0;34m,\u001b[0m\u001b[0;36m5\u001b[0m\u001b[0;34m)\u001b[0m\u001b[0;34m)\u001b[0m\u001b[0;34m\u001b[0m\u001b[0;34m\u001b[0m\u001b[0m\n\u001b[0;32m----> 3\u001b[0;31m \u001b[0md\u001b[0m \u001b[0;34m=\u001b[0m \u001b[0mdefaultdict\u001b[0m\u001b[0;34m(\u001b[0m\u001b[0mlst\u001b[0m\u001b[0;34m)\u001b[0m\u001b[0;34m\u001b[0m\u001b[0;34m\u001b[0m\u001b[0m\n\u001b[0m",
      "\u001b[0;31mTypeError\u001b[0m: first argument must be callable or None"
     ]
    }
   ],
   "source": [
    "from collections import defaultdict\n",
    "lst = list(range(0,5))\n",
    "d = defaultdict(lst)"
   ]
  },
  {
   "cell_type": "code",
   "execution_count": 6,
   "id": "10b209a5",
   "metadata": {},
   "outputs": [
    {
     "name": "stdout",
     "output_type": "stream",
     "text": [
      "True\n"
     ]
    }
   ],
   "source": [
    "print(callable(input))"
   ]
  },
  {
   "cell_type": "code",
   "execution_count": 11,
   "id": "7f4cc65f",
   "metadata": {},
   "outputs": [
    {
     "name": "stdout",
     "output_type": "stream",
     "text": [
      "Error occurs in the try block\n"
     ]
    }
   ],
   "source": [
    "# importing the defaultdic\n",
    "from collections import defaultdict\n",
    "\n",
    "# using the  to create a function\n",
    "l = list(range(0,5))\n",
    "\n",
    "# try block\n",
    "try:\n",
    "    # calling b\n",
    "    d = defaultdict(lst)\n",
    "    \n",
    "# except\n",
    "except:\n",
    "    print(\"Error occurs in the try block\")\n"
   ]
  },
  {
   "cell_type": "code",
   "execution_count": 3,
   "id": "75d76afe",
   "metadata": {},
   "outputs": [
    {
     "name": "stdout",
     "output_type": "stream",
     "text": [
      "Enter the namebs\n"
     ]
    }
   ],
   "source": [
    "a, b = input(\"Enter the name\")"
   ]
  },
  {
   "cell_type": "code",
   "execution_count": 12,
   "id": "01c036e7",
   "metadata": {},
   "outputs": [
    {
     "name": "stdout",
     "output_type": "stream",
     "text": [
      "The file couldnt load\n"
     ]
    }
   ],
   "source": [
    "# importing json \n",
    "import json\n",
    "\n",
    "# creating a variable\n",
    "json_response = '{\"website_name\":\"Data Science Learner\"}'\n",
    "\n",
    "try:\n",
    "    # loading the json\n",
    "    res = json.load(json_response)\n",
    "    # printing\n",
    "    print(res)\n",
    "    \n",
    "except:\n",
    "    print(\"The file couldnt load\")"
   ]
  },
  {
   "cell_type": "code",
   "execution_count": 14,
   "id": "4cb994dc",
   "metadata": {},
   "outputs": [],
   "source": [
    "# string objects\n",
    "string1 ='B'\n",
    "string2 =\"a\"\n",
    "string3 ='2343'\n",
    "string4 ='[this is me]'"
   ]
  },
  {
   "cell_type": "code",
   "execution_count": null,
   "id": "438598fd",
   "metadata": {},
   "outputs": [],
   "source": []
  }
 ],
 "metadata": {
  "kernelspec": {
   "display_name": "Python 3 (ipykernel)",
   "language": "python",
   "name": "python3"
  },
  "language_info": {
   "codemirror_mode": {
    "name": "ipython",
    "version": 3
   },
   "file_extension": ".py",
   "mimetype": "text/x-python",
   "name": "python",
   "nbconvert_exporter": "python",
   "pygments_lexer": "ipython3",
   "version": "3.10.6"
  }
 },
 "nbformat": 4,
 "nbformat_minor": 5
}
