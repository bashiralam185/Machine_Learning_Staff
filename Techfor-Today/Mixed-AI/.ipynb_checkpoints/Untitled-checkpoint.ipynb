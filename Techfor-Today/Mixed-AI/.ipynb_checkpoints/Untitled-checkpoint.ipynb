{
 "cells": [
  {
   "cell_type": "code",
   "execution_count": 2,
   "id": "b15a4837",
   "metadata": {},
   "outputs": [
    {
     "ename": "NameError",
     "evalue": "name 'X' is not defined",
     "output_type": "error",
     "traceback": [
      "\u001b[0;31m---------------------------------------------------------------------------\u001b[0m",
      "\u001b[0;31mNameError\u001b[0m                                 Traceback (most recent call last)",
      "\u001b[0;32m/tmp/ipykernel_73325/415170823.py\u001b[0m in \u001b[0;36m<module>\u001b[0;34m\u001b[0m\n\u001b[1;32m     22\u001b[0m \u001b[0;34m\u001b[0m\u001b[0m\n\u001b[1;32m     23\u001b[0m \u001b[0;31m# Use nested cross-validation to evaluate the model performance\u001b[0m\u001b[0;34m\u001b[0m\u001b[0;34m\u001b[0m\u001b[0m\n\u001b[0;32m---> 24\u001b[0;31m \u001b[0mscores\u001b[0m \u001b[0;34m=\u001b[0m \u001b[0mcross_val_score\u001b[0m\u001b[0;34m(\u001b[0m\u001b[0mclf\u001b[0m\u001b[0;34m,\u001b[0m \u001b[0mX\u001b[0m\u001b[0;34m,\u001b[0m \u001b[0my\u001b[0m\u001b[0;34m,\u001b[0m \u001b[0mcv\u001b[0m\u001b[0;34m=\u001b[0m\u001b[0mouter_cv\u001b[0m\u001b[0;34m)\u001b[0m\u001b[0;34m\u001b[0m\u001b[0;34m\u001b[0m\u001b[0m\n\u001b[0m\u001b[1;32m     25\u001b[0m \u001b[0;34m\u001b[0m\u001b[0m\n\u001b[1;32m     26\u001b[0m \u001b[0;31m# Print the mean and standard deviation of the scores\u001b[0m\u001b[0;34m\u001b[0m\u001b[0;34m\u001b[0m\u001b[0m\n",
      "\u001b[0;31mNameError\u001b[0m: name 'X' is not defined"
     ]
    }
   ],
   "source": [
    "from sklearn.model_selection import KFold, GridSearchCV\n",
    "from sklearn.pipeline import Pipeline\n",
    "from sklearn.model_selection import cross_val_score\n",
    "from sklearn.preprocessing import StandardScaler\n",
    "from sklearn.svm import SVC\n",
    "\n",
    "# Create a pipeline with an SVC classifier and a StandardScaler\n",
    "model = Pipeline([('scaler', StandardScaler()), ('svc', SVC())])\n",
    "\n",
    "# Define the hyperparameter search space\n",
    "param_grid = {'svc__C': [0.001, 0.01, 0.1, 1, 10, 100],\n",
    "              'svc__gamma': [0.001, 0.01, 0.1, 1, 10, 100]}\n",
    "\n",
    "# Create the inner loop cross-validation object\n",
    "inner_cv = KFold(n_splits=5, shuffle=True, random_state=42)\n",
    "\n",
    "# Create the outer loop cross-validation object\n",
    "outer_cv = KFold(n_splits=5, shuffle=True, random_state=42)\n",
    "\n",
    "# Create the grid search object\n",
    "clf = GridSearchCV(estimator=model, param_grid=param_grid, cv=inner_cv)\n",
    "\n",
    "# Use nested cross-validation to evaluate the model performance\n",
    "scores = cross_val_score(clf, X, y, cv=outer_cv)\n",
    "\n",
    "# Print the mean and standard deviation of the scores\n",
    "print(f'Mean score: {scores.mean():.3f}')\n",
    "print(f'Standard deviation: {scores.std():.3f}')\n"
   ]
  },
  {
   "cell_type": "code",
   "execution_count": 4,
   "id": "1d114a35",
   "metadata": {},
   "outputs": [
    {
     "name": "stdout",
     "output_type": "stream",
     "text": [
      "[ 1  4  4  6  7 12 23]\n"
     ]
    }
   ],
   "source": [
    "# importing the numpy array\n",
    "import numpy as np\n",
    "\n",
    "#define NumPy array\n",
    "x = np.array([1, 4, 4, 6, 7, 12])\n",
    "\n",
    "# using appending method\n",
    "x = np.append(x, 23)\n",
    "\n",
    "# printing x\n",
    "print(x)"
   ]
  },
  {
   "cell_type": "code",
   "execution_count": 5,
   "id": "3af8e3a6",
   "metadata": {},
   "outputs": [
    {
     "name": "stdout",
     "output_type": "stream",
     "text": [
      "[ 1  4  4  6  7 12 25 26 26 29]\n"
     ]
    }
   ],
   "source": [
    "#define two NumPy arrays\n",
    "a = np.array([1, 4, 4, 6, 7, 12])\n",
    "b = np.array([25, 26, 26, 29])\n",
    "\n",
    "#concatenate two arrays together\n",
    "c = np.concatenate((a, b))\n",
    "\n",
    "# printing the array\n",
    "print(c)"
   ]
  },
  {
   "cell_type": "code",
   "execution_count": 6,
   "id": "7eb5fd1c",
   "metadata": {},
   "outputs": [
    {
     "name": "stdout",
     "output_type": "stream",
     "text": [
      "[ 1  4  4  6  7 12]\n",
      "[ 1  4  4  6  7 12 23]\n"
     ]
    }
   ],
   "source": [
    "#define NumPy array\n",
    "x = np.array([1, 4, 4, 6, 7, 12])\n",
    "\n",
    "# using appending method\n",
    "appended = np.append(x, 23)\n",
    "\n",
    "# printing x\n",
    "print(x)\n",
    "print(appended)"
   ]
  },
  {
   "cell_type": "code",
   "execution_count": 8,
   "id": "88a4d3a1",
   "metadata": {},
   "outputs": [
    {
     "name": "stdout",
     "output_type": "stream",
     "text": [
      "[1 2 3]\n",
      "\n",
      "\n",
      "[[1 2]\n",
      " [3 4]\n",
      " [5 6]]\n",
      "[[[1 2 3]\n",
      "  [1 2 3]]\n",
      "\n",
      " [[2 3 5]\n",
      "  [6 7 8]]]\n"
     ]
    }
   ],
   "source": [
    "\n",
    "# Creating 1 dimensional array\n",
    "a = np.array([1, 2, 3])\n",
    "print(a)\n",
    "print('\\n')\n",
    "\n",
    "#  creating 2-dimensional array\n",
    "b = np.array([[1, 2], [3, 4], [5, 6]])\n",
    "print(b)\n",
    "\n",
    "# creating 3-dimensional array\n",
    "c = np.array([[[1, 2, 3], [1, 2, 3]], [[2, 3, 5], [6, 7, 8]]])\n",
    "print(c)"
   ]
  },
  {
   "cell_type": "code",
   "execution_count": 3,
   "id": "49452ff4",
   "metadata": {},
   "outputs": [
    {
     "ename": "TypeError",
     "evalue": "only integer scalar arrays can be converted to a scalar index",
     "output_type": "error",
     "traceback": [
      "\u001b[0;31m---------------------------------------------------------------------------\u001b[0m",
      "\u001b[0;31mTypeError\u001b[0m                                 Traceback (most recent call last)",
      "\u001b[0;32m/tmp/ipykernel_46339/3366581467.py\u001b[0m in \u001b[0;36m<module>\u001b[0;34m\u001b[0m\n\u001b[1;32m      7\u001b[0m \u001b[0;34m\u001b[0m\u001b[0m\n\u001b[1;32m      8\u001b[0m \u001b[0;31m# Concatenate array ar1 & ar2\u001b[0m\u001b[0;34m\u001b[0m\u001b[0;34m\u001b[0m\u001b[0m\n\u001b[0;32m----> 9\u001b[0;31m \u001b[0mar3\u001b[0m \u001b[0;34m=\u001b[0m \u001b[0mnumpy\u001b[0m\u001b[0;34m.\u001b[0m\u001b[0mconcatenate\u001b[0m\u001b[0;34m(\u001b[0m\u001b[0mar1\u001b[0m\u001b[0;34m,\u001b[0m \u001b[0mar1\u001b[0m\u001b[0;34m)\u001b[0m\u001b[0;34m\u001b[0m\u001b[0;34m\u001b[0m\u001b[0m\n\u001b[0m",
      "\u001b[0;32m<__array_function__ internals>\u001b[0m in \u001b[0;36mconcatenate\u001b[0;34m(*args, **kwargs)\u001b[0m\n",
      "\u001b[0;31mTypeError\u001b[0m: only integer scalar arrays can be converted to a scalar index"
     ]
    }
   ],
   "source": [
    "# import numpy\n",
    "import numpy\n",
    "\n",
    "# Create array\n",
    "ar1 = numpy.array(['Red', 'Blue'])\n",
    "ar2 = numpy.array(['Black', 'Yellow'])\n",
    "\n",
    "# Concatenate array ar1 & ar2\n",
    "ar3 = numpy.concatenate(ar1, ar1)"
   ]
  },
  {
   "cell_type": "code",
   "execution_count": 4,
   "id": "683779db",
   "metadata": {},
   "outputs": [
    {
     "ename": "IndexError",
     "evalue": "only integers, slices (`:`), ellipsis (`...`), numpy.newaxis (`None`) and integer or boolean arrays are valid indices",
     "output_type": "error",
     "traceback": [
      "\u001b[0;31m---------------------------------------------------------------------------\u001b[0m",
      "\u001b[0;31mIndexError\u001b[0m                                Traceback (most recent call last)",
      "\u001b[0;32m/tmp/ipykernel_46339/720298559.py\u001b[0m in \u001b[0;36m<module>\u001b[0;34m\u001b[0m\n\u001b[1;32m      5\u001b[0m \u001b[0;34m\u001b[0m\u001b[0m\n\u001b[1;32m      6\u001b[0m \u001b[0;31m# Try to access an element using a non-integer index\u001b[0m\u001b[0;34m\u001b[0m\u001b[0;34m\u001b[0m\u001b[0m\n\u001b[0;32m----> 7\u001b[0;31m \u001b[0mprint\u001b[0m\u001b[0;34m(\u001b[0m\u001b[0marr\u001b[0m\u001b[0;34m[\u001b[0m\u001b[0;34m'a'\u001b[0m\u001b[0;34m]\u001b[0m\u001b[0;34m)\u001b[0m\u001b[0;34m\u001b[0m\u001b[0;34m\u001b[0m\u001b[0m\n\u001b[0m",
      "\u001b[0;31mIndexError\u001b[0m: only integers, slices (`:`), ellipsis (`...`), numpy.newaxis (`None`) and integer or boolean arrays are valid indices"
     ]
    }
   ],
   "source": [
    "import numpy as np\n",
    "\n",
    "# Create a NumPy array\n",
    "arr = np.array([1, 2, 3, 4, 5])\n",
    "\n",
    "# Try to access an element using a non-integer index\n",
    "print(arr['a'])"
   ]
  },
  {
   "cell_type": "code",
   "execution_count": 9,
   "id": "fee25828",
   "metadata": {},
   "outputs": [
    {
     "name": "stdout",
     "output_type": "stream",
     "text": [
      "['Red' 'Blue' 'Red' 'Blue']\n"
     ]
    }
   ],
   "source": [
    "# Create array\n",
    "ar1 = numpy.array(['Red', 'Blue'])\n",
    "ar2 = numpy.array(['Black', 'Yellow'])\n",
    "\n",
    "# Concatenate arrays using tuple\n",
    "ar3 = numpy.concatenate((ar1, ar1))\n",
    "\n",
    "# printing \n",
    "print(ar3)"
   ]
  },
  {
   "cell_type": "code",
   "execution_count": 11,
   "id": "8970d823",
   "metadata": {},
   "outputs": [
    {
     "ename": "TypeError",
     "evalue": "only integer scalar arrays can be converted to a scalar index",
     "output_type": "error",
     "traceback": [
      "\u001b[0;31m---------------------------------------------------------------------------\u001b[0m",
      "\u001b[0;31mTypeError\u001b[0m                                 Traceback (most recent call last)",
      "\u001b[0;32m/tmp/ipykernel_46339/3145723907.py\u001b[0m in \u001b[0;36m<module>\u001b[0;34m\u001b[0m\n\u001b[1;32m      3\u001b[0m \u001b[0;34m\u001b[0m\u001b[0m\n\u001b[1;32m      4\u001b[0m \u001b[0;31m# using ndindex\u001b[0m\u001b[0;34m\u001b[0m\u001b[0;34m\u001b[0m\u001b[0m\n\u001b[0;32m----> 5\u001b[0;31m \u001b[0mx\u001b[0m \u001b[0;34m=\u001b[0m \u001b[0mnp\u001b[0m\u001b[0;34m.\u001b[0m\u001b[0mndindex\u001b[0m\u001b[0;34m(\u001b[0m\u001b[0mnp\u001b[0m\u001b[0;34m.\u001b[0m\u001b[0mrandom\u001b[0m\u001b[0;34m.\u001b[0m\u001b[0mrand\u001b[0m\u001b[0;34m(\u001b[0m\u001b[0;36m128\u001b[0m\u001b[0;34m,\u001b[0m\u001b[0;36m128\u001b[0m\u001b[0;34m)\u001b[0m\u001b[0;34m)\u001b[0m\u001b[0;34m\u001b[0m\u001b[0;34m\u001b[0m\u001b[0m\n\u001b[0m",
      "\u001b[0;32m/usr/lib/python3/dist-packages/numpy/lib/index_tricks.py\u001b[0m in \u001b[0;36m__init__\u001b[0;34m(self, *shape)\u001b[0m\n\u001b[1;32m    657\u001b[0m         \u001b[0;32mif\u001b[0m \u001b[0mlen\u001b[0m\u001b[0;34m(\u001b[0m\u001b[0mshape\u001b[0m\u001b[0;34m)\u001b[0m \u001b[0;34m==\u001b[0m \u001b[0;36m1\u001b[0m \u001b[0;32mand\u001b[0m \u001b[0misinstance\u001b[0m\u001b[0;34m(\u001b[0m\u001b[0mshape\u001b[0m\u001b[0;34m[\u001b[0m\u001b[0;36m0\u001b[0m\u001b[0;34m]\u001b[0m\u001b[0;34m,\u001b[0m \u001b[0mtuple\u001b[0m\u001b[0;34m)\u001b[0m\u001b[0;34m:\u001b[0m\u001b[0;34m\u001b[0m\u001b[0;34m\u001b[0m\u001b[0m\n\u001b[1;32m    658\u001b[0m             \u001b[0mshape\u001b[0m \u001b[0;34m=\u001b[0m \u001b[0mshape\u001b[0m\u001b[0;34m[\u001b[0m\u001b[0;36m0\u001b[0m\u001b[0;34m]\u001b[0m\u001b[0;34m\u001b[0m\u001b[0;34m\u001b[0m\u001b[0m\n\u001b[0;32m--> 659\u001b[0;31m         x = as_strided(_nx.zeros(1), shape=shape,\n\u001b[0m\u001b[1;32m    660\u001b[0m                        strides=_nx.zeros_like(shape))\n\u001b[1;32m    661\u001b[0m         self._it = _nx.nditer(x, flags=['multi_index', 'zerosize_ok'],\n",
      "\u001b[0;32m/usr/lib/python3/dist-packages/numpy/lib/stride_tricks.py\u001b[0m in \u001b[0;36mas_strided\u001b[0;34m(x, shape, strides, subok, writeable)\u001b[0m\n\u001b[1;32m    102\u001b[0m         \u001b[0minterface\u001b[0m\u001b[0;34m[\u001b[0m\u001b[0;34m'strides'\u001b[0m\u001b[0;34m]\u001b[0m \u001b[0;34m=\u001b[0m \u001b[0mtuple\u001b[0m\u001b[0;34m(\u001b[0m\u001b[0mstrides\u001b[0m\u001b[0;34m)\u001b[0m\u001b[0;34m\u001b[0m\u001b[0;34m\u001b[0m\u001b[0m\n\u001b[1;32m    103\u001b[0m \u001b[0;34m\u001b[0m\u001b[0m\n\u001b[0;32m--> 104\u001b[0;31m     \u001b[0marray\u001b[0m \u001b[0;34m=\u001b[0m \u001b[0mnp\u001b[0m\u001b[0;34m.\u001b[0m\u001b[0masarray\u001b[0m\u001b[0;34m(\u001b[0m\u001b[0mDummyArray\u001b[0m\u001b[0;34m(\u001b[0m\u001b[0minterface\u001b[0m\u001b[0;34m,\u001b[0m \u001b[0mbase\u001b[0m\u001b[0;34m=\u001b[0m\u001b[0mx\u001b[0m\u001b[0;34m)\u001b[0m\u001b[0;34m)\u001b[0m\u001b[0;34m\u001b[0m\u001b[0;34m\u001b[0m\u001b[0m\n\u001b[0m\u001b[1;32m    105\u001b[0m     \u001b[0;31m# The route via `__interface__` does not preserve structured\u001b[0m\u001b[0;34m\u001b[0m\u001b[0;34m\u001b[0m\u001b[0m\n\u001b[1;32m    106\u001b[0m     \u001b[0;31m# dtypes. Since dtype should remain unchanged, we set it explicitly.\u001b[0m\u001b[0;34m\u001b[0m\u001b[0;34m\u001b[0m\u001b[0m\n",
      "\u001b[0;31mTypeError\u001b[0m: only integer scalar arrays can be converted to a scalar index"
     ]
    }
   ],
   "source": [
    "# importing the numpy \n",
    "import numpy as np\n",
    "\n",
    "# using ndindex\n",
    "x = np.ndindex(np.random.rand(128,128))\n"
   ]
  },
  {
   "cell_type": "code",
   "execution_count": 14,
   "id": "d9f3f915",
   "metadata": {},
   "outputs": [
    {
     "name": "stdout",
     "output_type": "stream",
     "text": [
      "<numpy.ndindex object at 0x7f91a43f7340>\n"
     ]
    }
   ],
   "source": [
    "# solving ndindex error typeError\n",
    "x = np.ndindex(np.random.rand(128,128).shape)"
   ]
  },
  {
   "cell_type": "code",
   "execution_count": 7,
   "id": "0cfd7074",
   "metadata": {},
   "outputs": [
    {
     "data": {
      "text/plain": [
       "'aaaaaa'"
      ]
     },
     "execution_count": 7,
     "metadata": {},
     "output_type": "execute_result"
    }
   ],
   "source": [
    "# importing numpy module\n",
    "import numpy as np\n",
    "import math\n",
    "\n",
    "# creating a string array\n",
    "string = np.array([\"a\",\"b\",\"c\"])\n",
    "\n",
    "# multiplying an array with floating number\n",
    "string[0]*math.ceil(5.1)"
   ]
  },
  {
   "cell_type": "code",
   "execution_count": 8,
   "id": "a0f7cbb9",
   "metadata": {},
   "outputs": [
    {
     "ename": "TypeError",
     "evalue": "string indices must be integers",
     "output_type": "error",
     "traceback": [
      "\u001b[0;31m---------------------------------------------------------------------------\u001b[0m",
      "\u001b[0;31mTypeError\u001b[0m                                 Traceback (most recent call last)",
      "\u001b[0;32m/tmp/ipykernel_95851/1855358915.py\u001b[0m in \u001b[0;36m<module>\u001b[0;34m\u001b[0m\n\u001b[1;32m      3\u001b[0m \u001b[0;34m\u001b[0m\u001b[0m\n\u001b[1;32m      4\u001b[0m \u001b[0;31m# accessing the element\u001b[0m\u001b[0;34m\u001b[0m\u001b[0;34m\u001b[0m\u001b[0m\n\u001b[0;32m----> 5\u001b[0;31m \u001b[0mfirst_element\u001b[0m \u001b[0;34m=\u001b[0m \u001b[0mstring\u001b[0m\u001b[0;34m[\u001b[0m\u001b[0;34m'H'\u001b[0m\u001b[0;34m]\u001b[0m\u001b[0;34m\u001b[0m\u001b[0;34m\u001b[0m\u001b[0m\n\u001b[0m",
      "\u001b[0;31mTypeError\u001b[0m: string indices must be integers"
     ]
    }
   ],
   "source": [
    "# creating a string\n",
    "string = 'Hello World'\n",
    "\n",
    "# accessing the element\n",
    "first_element = string['H']"
   ]
  },
  {
   "cell_type": "code",
   "execution_count": 9,
   "id": "acb06b01",
   "metadata": {},
   "outputs": [
    {
     "ename": "TypeError",
     "evalue": "string indices must be integers",
     "output_type": "error",
     "traceback": [
      "\u001b[0;31m---------------------------------------------------------------------------\u001b[0m",
      "\u001b[0;31mTypeError\u001b[0m                                 Traceback (most recent call last)",
      "\u001b[0;32m/tmp/ipykernel_95851/1095232311.py\u001b[0m in \u001b[0;36m<module>\u001b[0;34m\u001b[0m\n\u001b[1;32m      3\u001b[0m \u001b[0;34m\u001b[0m\u001b[0m\n\u001b[1;32m      4\u001b[0m \u001b[0;31m# accessing the element\u001b[0m\u001b[0;34m\u001b[0m\u001b[0;34m\u001b[0m\u001b[0m\n\u001b[0;32m----> 5\u001b[0;31m \u001b[0mfirst_element\u001b[0m \u001b[0;34m=\u001b[0m \u001b[0mstring\u001b[0m\u001b[0;34m[\u001b[0m\u001b[0;36m1.0\u001b[0m\u001b[0;34m]\u001b[0m\u001b[0;34m\u001b[0m\u001b[0;34m\u001b[0m\u001b[0m\n\u001b[0m",
      "\u001b[0;31mTypeError\u001b[0m: string indices must be integers"
     ]
    }
   ],
   "source": [
    "# creating a string\n",
    "string = 'Hello World'\n",
    "\n",
    "# accessing the element\n",
    "first_element = string[1.0]"
   ]
  },
  {
   "cell_type": "code",
   "execution_count": 10,
   "id": "2f4594bc",
   "metadata": {},
   "outputs": [
    {
     "name": "stdout",
     "output_type": "stream",
     "text": [
      "H\n"
     ]
    }
   ],
   "source": [
    "# creating a string\n",
    "string = 'Hello World'\n",
    "\n",
    "# accessing the element\n",
    "first_element = string[0]\n",
    "\n",
    "# printing \n",
    "print(first_element)"
   ]
  },
  {
   "cell_type": "code",
   "execution_count": 11,
   "id": "42fbd47a",
   "metadata": {},
   "outputs": [
    {
     "name": "stdout",
     "output_type": "stream",
     "text": [
      "e\n"
     ]
    }
   ],
   "source": [
    "# creating a string\n",
    "string = 'Hello World'\n",
    "\n",
    "# accessing the element\n",
    "first_element = string[round(1.0)]\n",
    "\n",
    "# printing \n",
    "print(first_element)"
   ]
  },
  {
   "cell_type": "code",
   "execution_count": 12,
   "id": "4a1ca2d1",
   "metadata": {},
   "outputs": [
    {
     "name": "stdout",
     "output_type": "stream",
     "text": [
      "Hello\n"
     ]
    }
   ],
   "source": [
    "# creating a string\n",
    "string = 'Hello World'\n",
    "\n",
    "# accessing the element\n",
    "first_element = string[0:5]\n",
    "\n",
    "# printing \n",
    "print(first_element)"
   ]
  },
  {
   "cell_type": "code",
   "execution_count": 13,
   "id": "297be293",
   "metadata": {},
   "outputs": [
    {
     "name": "stdout",
     "output_type": "stream",
     "text": [
      "d\n"
     ]
    }
   ],
   "source": [
    "# creating a string\n",
    "string = 'Hello World'\n",
    "\n",
    "# accessing the element\n",
    "first_element = string[-1]\n",
    "\n",
    "# printing \n",
    "print(first_element)"
   ]
  },
  {
   "cell_type": "code",
   "execution_count": 18,
   "id": "07905f62",
   "metadata": {},
   "outputs": [
    {
     "name": "stdout",
     "output_type": "stream",
     "text": [
      "H\n",
      "e\n",
      "l\n",
      "l\n",
      "o\n",
      " \n",
      "W\n",
      "o\n",
      "r\n",
      "l\n",
      "d\n"
     ]
    }
   ],
   "source": [
    "# creating a string\n",
    "string = 'Hello World'\n",
    "\n",
    "# using the for loop\n",
    "for i in range (0, len(string)):\n",
    "    \n",
    "    # printing \n",
    "    print(string[i])"
   ]
  },
  {
   "cell_type": "code",
   "execution_count": 1,
   "id": "af1adb82",
   "metadata": {},
   "outputs": [],
   "source": [
    "# importing the module\n",
    "import bs4"
   ]
  },
  {
   "cell_type": "code",
   "execution_count": 3,
   "id": "43a75c4a",
   "metadata": {},
   "outputs": [
    {
     "ename": "TypeError",
     "evalue": "'builtin_function_or_method' object is not subscriptable",
     "output_type": "error",
     "traceback": [
      "\u001b[0;31m---------------------------------------------------------------------------\u001b[0m",
      "\u001b[0;31mTypeError\u001b[0m                                 Traceback (most recent call last)",
      "\u001b[0;32m/tmp/ipykernel_119841/110628681.py\u001b[0m in \u001b[0;36m<module>\u001b[0;34m\u001b[0m\n\u001b[1;32m      3\u001b[0m \u001b[0;34m\u001b[0m\u001b[0m\n\u001b[1;32m      4\u001b[0m \u001b[0;31m# appending element in list\u001b[0m\u001b[0;34m\u001b[0m\u001b[0;34m\u001b[0m\u001b[0m\n\u001b[0;32m----> 5\u001b[0;31m \u001b[0ma\u001b[0m\u001b[0;34m.\u001b[0m\u001b[0mappend\u001b[0m\u001b[0;34m[\u001b[0m\u001b[0;34m'cake'\u001b[0m\u001b[0;34m]\u001b[0m\u001b[0;34m\u001b[0m\u001b[0;34m\u001b[0m\u001b[0m\n\u001b[0m",
      "\u001b[0;31mTypeError\u001b[0m: 'builtin_function_or_method' object is not subscriptable"
     ]
    }
   ],
   "source": [
    "# list\n",
    "a = ['apple', 'orange']\n",
    "\n",
    "# appending element in list\n",
    "a.append['cake']"
   ]
  },
  {
   "cell_type": "code",
   "execution_count": 5,
   "id": "421f4459",
   "metadata": {},
   "outputs": [
    {
     "name": "stdout",
     "output_type": "stream",
     "text": [
      "0\n",
      "1\n",
      "2\n"
     ]
    }
   ],
   "source": [
    "# floor division\n",
    "number = 10//3\n",
    "\n",
    "# using for loop\n",
    "for i in range(number):\n",
    "    print(i)"
   ]
  },
  {
   "cell_type": "code",
   "execution_count": 6,
   "id": "d3e28338",
   "metadata": {},
   "outputs": [
    {
     "name": "stdout",
     "output_type": "stream",
     "text": [
      "0\n",
      "1\n",
      "2\n",
      "3\n"
     ]
    }
   ],
   "source": [
    "# defining floating number \n",
    "number = 4.3\n",
    "\n",
    "# using for loop\n",
    "for i in range(int(number)):\n",
    "    print(i)"
   ]
  },
  {
   "cell_type": "code",
   "execution_count": 8,
   "id": "0365b7f3",
   "metadata": {},
   "outputs": [
    {
     "name": "stdout",
     "output_type": "stream",
     "text": [
      "TypeError: range doesn't support float values\n"
     ]
    }
   ],
   "source": [
    "# try block\n",
    "try:\n",
    "    num = 4.5\n",
    "    \n",
    "    # using for loop-- returns error\n",
    "    for i in range(num):\n",
    "        print(i)\n",
    "\n",
    "# exccpt blck\n",
    "except TypeError:\n",
    "    \n",
    "    # customize message\n",
    "    print(\"TypeError: range doesn't support float values\")\n",
    "    "
   ]
  },
  {
   "cell_type": "code",
   "execution_count": 9,
   "id": "6957a0a2",
   "metadata": {},
   "outputs": [
    {
     "name": "stdout",
     "output_type": "stream",
     "text": [
      "<class 'float'>\n"
     ]
    }
   ],
   "source": [
    "# defining a number\n",
    "num = 3.4\n",
    "\n",
    "# printing type\n",
    "print(type(num))"
   ]
  },
  {
   "cell_type": "code",
   "execution_count": 14,
   "id": "0edb20c9",
   "metadata": {},
   "outputs": [
    {
     "name": "stdout",
     "output_type": "stream",
     "text": [
      "4\n",
      ".\n",
      "3\n"
     ]
    }
   ],
   "source": [
    "# defining floating number\n",
    "num = 4.3\n",
    "\n",
    "# using for loop with typecasting\n",
    "for i in str(num):\n",
    "    print(i)"
   ]
  },
  {
   "cell_type": "code",
   "execution_count": 15,
   "id": "10e68c36",
   "metadata": {},
   "outputs": [
    {
     "name": "stdout",
     "output_type": "stream",
     "text": [
      "Couldn't iterate!!\n"
     ]
    }
   ],
   "source": [
    "# try block\n",
    "try:\n",
    "    num = 4.5\n",
    "    \n",
    "    # using for loop-- returns error\n",
    "    for i in num:\n",
    "        print(i)\n",
    "\n",
    "# exccpt blck\n",
    "except TypeError:\n",
    "    \n",
    "    # customize message\n",
    "    print(\"Couldn't iterate!!\")\n",
    "    "
   ]
  },
  {
   "cell_type": "code",
   "execution_count": 19,
   "id": "b2589e0c",
   "metadata": {},
   "outputs": [],
   "source": [
    "# floating number\n",
    "num = 2.32\n",
    "\n",
    "# emtpy list\n",
    "l = []\n",
    "\n",
    "# appending in list\n",
    "l.append(num)"
   ]
  },
  {
   "cell_type": "code",
   "execution_count": 1,
   "id": "d60ad57d",
   "metadata": {},
   "outputs": [
    {
     "name": "stdout",
     "output_type": "stream",
     "text": [
      "[ 0.84147098  0.90929743  0.14112001 -0.7568025 ]\n"
     ]
    }
   ],
   "source": [
    "import numpy as np \n",
    "\n",
    "a = np.array([1, 2, 3, 4]) \n",
    "\n",
    "\n",
    "b = np.sin(a) \n",
    "\n",
    "print(b)"
   ]
  },
  {
   "cell_type": "code",
   "execution_count": 2,
   "id": "11cbb956",
   "metadata": {},
   "outputs": [
    {
     "name": "stdout",
     "output_type": "stream",
     "text": [
      "[[1 2 3]\n",
      " [4 5 6]]\n"
     ]
    }
   ],
   "source": [
    "a = np.array([1, 2, 3, 4, 5, 6]) \n",
    "\n",
    "  \n",
    "\n",
    "b = a.reshape((2, 3))  # reshape to (2, 3) \n",
    "\n",
    " \n",
    "\n",
    "print(b) "
   ]
  },
  {
   "cell_type": "code",
   "execution_count": 3,
   "id": "ef2ceaab",
   "metadata": {},
   "outputs": [
    {
     "name": "stdout",
     "output_type": "stream",
     "text": [
      "(2, 3)\n"
     ]
    }
   ],
   "source": [
    "a = np.array([[1, 2, 3], [4, 5, 6]])\n",
    "b = a.transpose()  # transpose array\n",
    "\n",
    "print(a.shape)  # prints (2, 3)"
   ]
  },
  {
   "cell_type": "code",
   "execution_count": 7,
   "id": "f05b8aad",
   "metadata": {},
   "outputs": [
    {
     "name": "stdout",
     "output_type": "stream",
     "text": [
      "[[1 2]\n",
      " [3 4]\n",
      " [5 6]\n",
      " [7 8]]\n",
      "\n",
      "\n",
      "[[1 2 5 6]\n",
      " [3 4 7 8]]\n"
     ]
    }
   ],
   "source": [
    "import numpy as np\n",
    "\n",
    "a = np.array([[1, 2], [3, 4]])\n",
    "b = np.array([[5, 6], [7, 8]])\n",
    "\n",
    "c = np.concatenate((a, b), axis=0)  # concatenate along rows\n",
    "d = np.concatenate((a, b), axis=1)  # concatenate along columns\n",
    "\n",
    "print(c)\n",
    "print(\"\\n\")\n",
    "print(d)"
   ]
  },
  {
   "cell_type": "code",
   "execution_count": 14,
   "id": "d4a51b72",
   "metadata": {},
   "outputs": [],
   "source": [
    "a = np.array([[1, 2], [3, 4], [5, 6]]) \n",
    "\n",
    "b = np.array([10, 20, 40]) "
   ]
  },
  {
   "cell_type": "code",
   "execution_count": 15,
   "id": "932d28a7",
   "metadata": {},
   "outputs": [
    {
     "ename": "ValueError",
     "evalue": "operands could not be broadcast together with shapes (3,2) (3,) ",
     "output_type": "error",
     "traceback": [
      "\u001b[0;31m---------------------------------------------------------------------------\u001b[0m",
      "\u001b[0;31mValueError\u001b[0m                                Traceback (most recent call last)",
      "\u001b[0;32m/tmp/ipykernel_154306/3242059878.py\u001b[0m in \u001b[0;36m<module>\u001b[0;34m\u001b[0m\n\u001b[0;32m----> 1\u001b[0;31m \u001b[0mc\u001b[0m \u001b[0;34m=\u001b[0m \u001b[0ma\u001b[0m \u001b[0;34m+\u001b[0m \u001b[0mb\u001b[0m\u001b[0;34m\u001b[0m\u001b[0;34m\u001b[0m\u001b[0m\n\u001b[0m",
      "\u001b[0;31mValueError\u001b[0m: operands could not be broadcast together with shapes (3,2) (3,) "
     ]
    }
   ],
   "source": [
    "c = a + b "
   ]
  },
  {
   "cell_type": "code",
   "execution_count": 13,
   "id": "b13e43f7",
   "metadata": {},
   "outputs": [
    {
     "name": "stdout",
     "output_type": "stream",
     "text": [
      "[[11 22]\n",
      " [13 24]\n",
      " [15 26]]\n"
     ]
    }
   ],
   "source": [
    "print(c)"
   ]
  },
  {
   "cell_type": "code",
   "execution_count": 16,
   "id": "92426525",
   "metadata": {},
   "outputs": [],
   "source": [
    "a = np.array([1, 2, 3, 4, 5])\n",
    "np.save('array.npy', a)  # save array to file"
   ]
  },
  {
   "cell_type": "code",
   "execution_count": 1,
   "id": "909aa4c1",
   "metadata": {},
   "outputs": [
    {
     "ename": "AttributeError",
     "evalue": "'NoneType' object has no attribute 'shape'",
     "output_type": "error",
     "traceback": [
      "\u001b[0;31m---------------------------------------------------------------------------\u001b[0m",
      "\u001b[0;31mAttributeError\u001b[0m                            Traceback (most recent call last)",
      "\u001b[0;32m/tmp/ipykernel_161127/996916392.py\u001b[0m in \u001b[0;36m<module>\u001b[0;34m\u001b[0m\n\u001b[1;32m      3\u001b[0m \u001b[0;34m\u001b[0m\u001b[0m\n\u001b[1;32m      4\u001b[0m \u001b[0mvalue\u001b[0m \u001b[0;34m=\u001b[0m \u001b[0;32mNone\u001b[0m\u001b[0;34m\u001b[0m\u001b[0;34m\u001b[0m\u001b[0m\n\u001b[0;32m----> 5\u001b[0;31m \u001b[0mprint\u001b[0m\u001b[0;34m(\u001b[0m\u001b[0mget_shape\u001b[0m\u001b[0;34m(\u001b[0m\u001b[0mvalue\u001b[0m\u001b[0;34m)\u001b[0m\u001b[0;34m)\u001b[0m\u001b[0;34m\u001b[0m\u001b[0;34m\u001b[0m\u001b[0m\n\u001b[0m",
      "\u001b[0;32m/tmp/ipykernel_161127/996916392.py\u001b[0m in \u001b[0;36mget_shape\u001b[0;34m(x)\u001b[0m\n\u001b[1;32m      1\u001b[0m \u001b[0;32mdef\u001b[0m \u001b[0mget_shape\u001b[0m\u001b[0;34m(\u001b[0m\u001b[0mx\u001b[0m\u001b[0;34m)\u001b[0m\u001b[0;34m:\u001b[0m\u001b[0;34m\u001b[0m\u001b[0;34m\u001b[0m\u001b[0m\n\u001b[0;32m----> 2\u001b[0;31m     \u001b[0;32mreturn\u001b[0m \u001b[0mx\u001b[0m\u001b[0;34m.\u001b[0m\u001b[0mshape\u001b[0m\u001b[0;34m\u001b[0m\u001b[0;34m\u001b[0m\u001b[0m\n\u001b[0m\u001b[1;32m      3\u001b[0m \u001b[0;34m\u001b[0m\u001b[0m\n\u001b[1;32m      4\u001b[0m \u001b[0mvalue\u001b[0m \u001b[0;34m=\u001b[0m \u001b[0;32mNone\u001b[0m\u001b[0;34m\u001b[0m\u001b[0;34m\u001b[0m\u001b[0m\n\u001b[1;32m      5\u001b[0m \u001b[0mprint\u001b[0m\u001b[0;34m(\u001b[0m\u001b[0mget_shape\u001b[0m\u001b[0;34m(\u001b[0m\u001b[0mvalue\u001b[0m\u001b[0;34m)\u001b[0m\u001b[0;34m)\u001b[0m\u001b[0;34m\u001b[0m\u001b[0;34m\u001b[0m\u001b[0m\n",
      "\u001b[0;31mAttributeError\u001b[0m: 'NoneType' object has no attribute 'shape'"
     ]
    }
   ],
   "source": [
    "def get_shape(x):\n",
    "    return x.shape\n",
    "\n",
    "value = None\n",
    "print(get_shape(value))"
   ]
  },
  {
   "cell_type": "code",
   "execution_count": 9,
   "id": "64344155",
   "metadata": {},
   "outputs": [
    {
     "name": "stdout",
     "output_type": "stream",
     "text": [
      "Object is None\n"
     ]
    },
    {
     "name": "stderr",
     "output_type": "stream",
     "text": [
      "[ WARN:0@465.603] global loadsave.cpp:244 findDecoder imread_('image.png'): can't open/read file: check file path/integrity\n"
     ]
    }
   ],
   "source": [
    "import cv2\n",
    "\n",
    "# reading image\n",
    "img = cv2.imread('image.png')\n",
    "\n",
    "# using if statement\n",
    "if img is not None:\n",
    "    print(img.shape)\n",
    "\n",
    "# else statemetn\n",
    "else:\n",
    "    print('Object is None')"
   ]
  },
  {
   "cell_type": "code",
   "execution_count": 3,
   "id": "302cfb73",
   "metadata": {},
   "outputs": [
    {
     "name": "stdout",
     "output_type": "stream",
     "text": [
      "Defaulting to user installation because normal site-packages is not writeable\n",
      "Collecting opencv-python\n",
      "  Downloading opencv_python-4.7.0.68-cp37-abi3-manylinux_2_17_x86_64.manylinux2014_x86_64.whl (61.8 MB)\n",
      "\u001b[2K     \u001b[38;2;114;156;31m━━━━━━━━━━━━━━━━━━━━━━━━━━━━━━━━━━━━━━━\u001b[0m \u001b[32m61.8/61.8 MB\u001b[0m \u001b[31m603.4 kB/s\u001b[0m eta \u001b[36m0:00:00\u001b[0mm eta \u001b[36m0:00:01\u001b[0m[36m0:00:03\u001b[0m\n",
      "\u001b[?25hRequirement already satisfied: numpy>=1.21.2 in /usr/lib/python3/dist-packages (from opencv-python) (1.21.5)\n",
      "Installing collected packages: opencv-python\n",
      "Successfully installed opencv-python-4.7.0.68\n"
     ]
    }
   ],
   "source": [
    "!pip install opencv-python"
   ]
  },
  {
   "cell_type": "code",
   "execution_count": 11,
   "id": "c1114223",
   "metadata": {},
   "outputs": [
    {
     "name": "stdout",
     "output_type": "stream",
     "text": [
      "False\n",
      "/home/student/Documents/Machine_Learning_Staff/Techfor-Today/Mixed-AI\n"
     ]
    }
   ],
   "source": [
    "import os\n",
    "\n",
    "# printing the image path\n",
    "print(os.path.exists('image.png'))\n",
    "\n",
    "# printing the current directory\n",
    "print(os.getcwd()) "
   ]
  },
  {
   "cell_type": "code",
   "execution_count": 12,
   "id": "5cdd0260",
   "metadata": {},
   "outputs": [
    {
     "name": "stderr",
     "output_type": "stream",
     "text": [
      "[ WARN:0@2860.312] global loadsave.cpp:244 findDecoder imread_('myimage.png'): can't open/read file: check file path/integrity\n"
     ]
    },
    {
     "ename": "AssertionError",
     "evalue": "image not found",
     "output_type": "error",
     "traceback": [
      "\u001b[0;31m---------------------------------------------------------------------------\u001b[0m",
      "\u001b[0;31mAssertionError\u001b[0m                            Traceback (most recent call last)",
      "\u001b[0;32m/tmp/ipykernel_161127/1586077397.py\u001b[0m in \u001b[0;36m<module>\u001b[0;34m\u001b[0m\n\u001b[1;32m      1\u001b[0m \u001b[0mimage\u001b[0m \u001b[0;34m=\u001b[0m \u001b[0mcv2\u001b[0m\u001b[0;34m.\u001b[0m\u001b[0mimread\u001b[0m\u001b[0;34m(\u001b[0m\u001b[0;34m'myimage.png'\u001b[0m\u001b[0;34m)\u001b[0m\u001b[0;34m\u001b[0m\u001b[0;34m\u001b[0m\u001b[0m\n\u001b[0;32m----> 2\u001b[0;31m \u001b[0;32massert\u001b[0m \u001b[0;32mnot\u001b[0m \u001b[0misinstance\u001b[0m\u001b[0;34m(\u001b[0m\u001b[0mimage\u001b[0m\u001b[0;34m,\u001b[0m\u001b[0mtype\u001b[0m\u001b[0;34m(\u001b[0m\u001b[0;32mNone\u001b[0m\u001b[0;34m)\u001b[0m\u001b[0;34m)\u001b[0m\u001b[0;34m,\u001b[0m \u001b[0;34m'image not found'\u001b[0m\u001b[0;34m\u001b[0m\u001b[0;34m\u001b[0m\u001b[0m\n\u001b[0m",
      "\u001b[0;31mAssertionError\u001b[0m: image not found"
     ]
    }
   ],
   "source": [
    "# image reading\n",
    "image = cv2.imread('image.png')\n",
    "\n",
    "# using assert method\n",
    "assert not isinstance(image,type(None)), 'image not found-Please check the path or name'"
   ]
  },
  {
   "cell_type": "code",
   "execution_count": null,
   "id": "1d9c6dc3",
   "metadata": {},
   "outputs": [],
   "source": []
  }
 ],
 "metadata": {
  "kernelspec": {
   "display_name": "Python 3 (ipykernel)",
   "language": "python",
   "name": "python3"
  },
  "language_info": {
   "codemirror_mode": {
    "name": "ipython",
    "version": 3
   },
   "file_extension": ".py",
   "mimetype": "text/x-python",
   "name": "python",
   "nbconvert_exporter": "python",
   "pygments_lexer": "ipython3",
   "version": "3.10.6"
  }
 },
 "nbformat": 4,
 "nbformat_minor": 5
}
