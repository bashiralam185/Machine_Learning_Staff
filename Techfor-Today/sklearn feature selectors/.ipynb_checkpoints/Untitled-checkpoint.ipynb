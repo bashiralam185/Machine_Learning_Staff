{
 "cells": [
  {
   "cell_type": "code",
   "execution_count": 1,
   "id": "6a080835",
   "metadata": {},
   "outputs": [],
   "source": [
    "# importing the required modules\n",
    "from sklearn.datasets import make_regression, make_classification\n",
    "import numpy as np\n",
    "\n",
    "# creating a random number\n",
    "np.random.seed(37)\n",
    "\n",
    "# creating a classifitaion data\n",
    "def get_classification_data():\n",
    "    return make_classification(**{\n",
    "        'n_samples': 2000,\n",
    "        'n_features': 20,\n",
    "        'n_informative': 2,\n",
    "        'n_redundant': 2,\n",
    "        'n_repeated': 0,\n",
    "        'n_classes': 2,\n",
    "        'n_clusters_per_class': 2,\n",
    "        'random_state': 37\n",
    "    })\n",
    "\n",
    "# calling classification dataset\n",
    "x, y = get_classification_data()"
   ]
  },
  {
   "cell_type": "code",
   "execution_count": 2,
   "id": "82df6ad0",
   "metadata": {},
   "outputs": [
    {
     "name": "stdout",
     "output_type": "stream",
     "text": [
      "Shape of orignal data:  (2000, 20)\n",
      "Shape of extracted data:  (2000, 10)\n"
     ]
    }
   ],
   "source": [
    "# importing the required modules\n",
    "from sklearn.feature_selection import SelectKBest, f_regression\n",
    "\n",
    "# Create the selector object - we have selected 10 features\n",
    "selector = SelectKBest(f_regression, k=10)\n",
    "\n",
    "# sklearn feature selector\n",
    "X_new = selector.fit_transform(x, y)\n",
    "\n",
    "# shape of the x_new\n",
    "print(\"Shape of orignal data: \",x.shape)\n",
    "print(\"Shape of extracted data: \",X_new.shape)"
   ]
  },
  {
   "cell_type": "code",
   "execution_count": 3,
   "id": "59429ef4",
   "metadata": {},
   "outputs": [
    {
     "name": "stdout",
     "output_type": "stream",
     "text": [
      "Shape of orignal data:  (2000, 20)\n",
      "Shape of extracted data:  (2000, 10)\n"
     ]
    }
   ],
   "source": [
    "# importing the required modules\n",
    "from sklearn.feature_selection import RFE\n",
    "from sklearn.ensemble import RandomForestClassifier\n",
    "\n",
    "# Create the model\n",
    "model = RandomForestClassifier()\n",
    "\n",
    "# RFE in sklearn feature selector\n",
    "rfe = RFE(model, n_features_to_select=10)\n",
    "X_new = rfe.fit_transform(x, y)\n",
    "\n",
    "# shape of the x_new\n",
    "print(\"Shape of orignal data: \",x.shape)\n",
    "print(\"Shape of extracted data: \",X_new.shape)"
   ]
  },
  {
   "cell_type": "code",
   "execution_count": 4,
   "id": "a154cd11",
   "metadata": {},
   "outputs": [
    {
     "name": "stdout",
     "output_type": "stream",
     "text": [
      "Shape of orignal data:  (2000, 20)\n",
      "Shape of extracted data:  (2000, 10)\n"
     ]
    }
   ],
   "source": [
    "from sklearn.ensemble import RandomForestClassifier\n",
    "\n",
    "# Create the model and fit it to the data\n",
    "model = RandomForestClassifier()\n",
    "model.fit(x, y)\n",
    "\n",
    "# Get the feature importances\n",
    "importances = model.feature_importances_\n",
    "\n",
    "# Sort the features by importance\n",
    "sorted_indexes = importances.argsort()[::-1]\n",
    "\n",
    "# Select the top 10 features\n",
    "X_new = x[:, sorted_indexes[:10]]\n",
    "\n",
    "\n",
    "# shape of the x_new\n",
    "print(\"Shape of orignal data: \",x.shape)\n",
    "print(\"Shape of extracted data: \",X_new.shape)\n"
   ]
  },
  {
   "cell_type": "code",
   "execution_count": 10,
   "id": "0462661f",
   "metadata": {},
   "outputs": [
    {
     "data": {
      "text/plain": [
       "(2000, 10)"
      ]
     },
     "execution_count": 10,
     "metadata": {},
     "output_type": "execute_result"
    }
   ],
   "source": [
    "# Importing the feature selection\n",
    "from sklearn.feature_selection import SequentialFeatureSelector\n",
    "from sklearn.neighbors import KNeighborsClassifier\n",
    "\n",
    "# applying the knn_model\n",
    "knn_model = KNeighborsClassifier(n_neighbors=3)\n",
    "\n",
    "# number of feature to select\n",
    "sfs = SequentialFeatureSelector(knn_model, n_features_to_select=10)\n",
    "\n",
    "# fitting the model\n",
    "sfs.fit(x, y)\n",
    "\n",
    "# sklearn sequential feature selector\n",
    "SequentialFeatureSelector(estimator=KNeighborsClassifier(n_neighbors=3),\n",
    "                  n_features_to_select=10)\n",
    "sfs.get_support()\n",
    "sfs.transform(x).shape\n",
    "(2000, 10)"
   ]
  },
  {
   "cell_type": "code",
   "execution_count": 11,
   "id": "dc6fe5be",
   "metadata": {},
   "outputs": [
    {
     "name": "stdout",
     "output_type": "stream",
     "text": [
      "Fitting estimator with 20 features.\n",
      "Fitting estimator with 19 features.\n",
      "Fitting estimator with 18 features.\n",
      "Fitting estimator with 17 features.\n",
      "Fitting estimator with 16 features.\n",
      "Fitting estimator with 15 features.\n",
      "Fitting estimator with 14 features.\n",
      "Fitting estimator with 13 features.\n",
      "Fitting estimator with 12 features.\n",
      "Fitting estimator with 11 features.\n",
      "Shape of orignal data:  (2000, 20)\n",
      "Shape of extracted data:  (2000, 10)\n"
     ]
    }
   ],
   "source": [
    "# Importing the modules\n",
    "from sklearn.svm import SVC\n",
    "from sklearn.feature_selection import RFE\n",
    "\n",
    "# Define the model\n",
    "model = SVC(kernel='linear')\n",
    "\n",
    "# Create the RFE object and fit it to the data\n",
    "selector = RFE(model, n_features_to_select=10, verbose=2)\n",
    "\n",
    "# fitting the model\n",
    "X_new = selector.fit_transform(x, y)\n",
    "\n",
    "# shape of the x_new\n",
    "print(\"Shape of orignal data: \",x.shape)\n",
    "print(\"Shape of extracted data: \",X_new.shape)"
   ]
  },
  {
   "cell_type": "code",
   "execution_count": 12,
   "id": "e663c0ea",
   "metadata": {},
   "outputs": [
    {
     "data": {
      "text/html": [
       "<style>#sk-container-id-1 {color: black;background-color: white;}#sk-container-id-1 pre{padding: 0;}#sk-container-id-1 div.sk-toggleable {background-color: white;}#sk-container-id-1 label.sk-toggleable__label {cursor: pointer;display: block;width: 100%;margin-bottom: 0;padding: 0.3em;box-sizing: border-box;text-align: center;}#sk-container-id-1 label.sk-toggleable__label-arrow:before {content: \"▸\";float: left;margin-right: 0.25em;color: #696969;}#sk-container-id-1 label.sk-toggleable__label-arrow:hover:before {color: black;}#sk-container-id-1 div.sk-estimator:hover label.sk-toggleable__label-arrow:before {color: black;}#sk-container-id-1 div.sk-toggleable__content {max-height: 0;max-width: 0;overflow: hidden;text-align: left;background-color: #f0f8ff;}#sk-container-id-1 div.sk-toggleable__content pre {margin: 0.2em;color: black;border-radius: 0.25em;background-color: #f0f8ff;}#sk-container-id-1 input.sk-toggleable__control:checked~div.sk-toggleable__content {max-height: 200px;max-width: 100%;overflow: auto;}#sk-container-id-1 input.sk-toggleable__control:checked~label.sk-toggleable__label-arrow:before {content: \"▾\";}#sk-container-id-1 div.sk-estimator input.sk-toggleable__control:checked~label.sk-toggleable__label {background-color: #d4ebff;}#sk-container-id-1 div.sk-label input.sk-toggleable__control:checked~label.sk-toggleable__label {background-color: #d4ebff;}#sk-container-id-1 input.sk-hidden--visually {border: 0;clip: rect(1px 1px 1px 1px);clip: rect(1px, 1px, 1px, 1px);height: 1px;margin: -1px;overflow: hidden;padding: 0;position: absolute;width: 1px;}#sk-container-id-1 div.sk-estimator {font-family: monospace;background-color: #f0f8ff;border: 1px dotted black;border-radius: 0.25em;box-sizing: border-box;margin-bottom: 0.5em;}#sk-container-id-1 div.sk-estimator:hover {background-color: #d4ebff;}#sk-container-id-1 div.sk-parallel-item::after {content: \"\";width: 100%;border-bottom: 1px solid gray;flex-grow: 1;}#sk-container-id-1 div.sk-label:hover label.sk-toggleable__label {background-color: #d4ebff;}#sk-container-id-1 div.sk-serial::before {content: \"\";position: absolute;border-left: 1px solid gray;box-sizing: border-box;top: 0;bottom: 0;left: 50%;z-index: 0;}#sk-container-id-1 div.sk-serial {display: flex;flex-direction: column;align-items: center;background-color: white;padding-right: 0.2em;padding-left: 0.2em;position: relative;}#sk-container-id-1 div.sk-item {position: relative;z-index: 1;}#sk-container-id-1 div.sk-parallel {display: flex;align-items: stretch;justify-content: center;background-color: white;position: relative;}#sk-container-id-1 div.sk-item::before, #sk-container-id-1 div.sk-parallel-item::before {content: \"\";position: absolute;border-left: 1px solid gray;box-sizing: border-box;top: 0;bottom: 0;left: 50%;z-index: -1;}#sk-container-id-1 div.sk-parallel-item {display: flex;flex-direction: column;z-index: 1;position: relative;background-color: white;}#sk-container-id-1 div.sk-parallel-item:first-child::after {align-self: flex-end;width: 50%;}#sk-container-id-1 div.sk-parallel-item:last-child::after {align-self: flex-start;width: 50%;}#sk-container-id-1 div.sk-parallel-item:only-child::after {width: 0;}#sk-container-id-1 div.sk-dashed-wrapped {border: 1px dashed gray;margin: 0 0.4em 0.5em 0.4em;box-sizing: border-box;padding-bottom: 0.4em;background-color: white;}#sk-container-id-1 div.sk-label label {font-family: monospace;font-weight: bold;display: inline-block;line-height: 1.2em;}#sk-container-id-1 div.sk-label-container {text-align: center;}#sk-container-id-1 div.sk-container {/* jupyter's `normalize.less` sets `[hidden] { display: none; }` but bootstrap.min.css set `[hidden] { display: none !important; }` so we also need the `!important` here to be able to override the default hidden behavior on the sphinx rendered scikit-learn.org. See: https://github.com/scikit-learn/scikit-learn/issues/21755 */display: inline-block !important;position: relative;}#sk-container-id-1 div.sk-text-repr-fallback {display: none;}</style><div id=\"sk-container-id-1\" class=\"sk-top-container\"><div class=\"sk-text-repr-fallback\"><pre>Pipeline(steps=[(&#x27;scaler&#x27;, StandardScaler()), (&#x27;selector&#x27;, SelectKBest()),\n",
       "                (&#x27;model&#x27;, SVC(kernel=&#x27;linear&#x27;))])</pre><b>In a Jupyter environment, please rerun this cell to show the HTML representation or trust the notebook. <br />On GitHub, the HTML representation is unable to render, please try loading this page with nbviewer.org.</b></div><div class=\"sk-container\" hidden><div class=\"sk-item sk-dashed-wrapped\"><div class=\"sk-label-container\"><div class=\"sk-label sk-toggleable\"><input class=\"sk-toggleable__control sk-hidden--visually\" id=\"sk-estimator-id-1\" type=\"checkbox\" ><label for=\"sk-estimator-id-1\" class=\"sk-toggleable__label sk-toggleable__label-arrow\">Pipeline</label><div class=\"sk-toggleable__content\"><pre>Pipeline(steps=[(&#x27;scaler&#x27;, StandardScaler()), (&#x27;selector&#x27;, SelectKBest()),\n",
       "                (&#x27;model&#x27;, SVC(kernel=&#x27;linear&#x27;))])</pre></div></div></div><div class=\"sk-serial\"><div class=\"sk-item\"><div class=\"sk-estimator sk-toggleable\"><input class=\"sk-toggleable__control sk-hidden--visually\" id=\"sk-estimator-id-2\" type=\"checkbox\" ><label for=\"sk-estimator-id-2\" class=\"sk-toggleable__label sk-toggleable__label-arrow\">StandardScaler</label><div class=\"sk-toggleable__content\"><pre>StandardScaler()</pre></div></div></div><div class=\"sk-item\"><div class=\"sk-estimator sk-toggleable\"><input class=\"sk-toggleable__control sk-hidden--visually\" id=\"sk-estimator-id-3\" type=\"checkbox\" ><label for=\"sk-estimator-id-3\" class=\"sk-toggleable__label sk-toggleable__label-arrow\">SelectKBest</label><div class=\"sk-toggleable__content\"><pre>SelectKBest()</pre></div></div></div><div class=\"sk-item\"><div class=\"sk-estimator sk-toggleable\"><input class=\"sk-toggleable__control sk-hidden--visually\" id=\"sk-estimator-id-4\" type=\"checkbox\" ><label for=\"sk-estimator-id-4\" class=\"sk-toggleable__label sk-toggleable__label-arrow\">SVC</label><div class=\"sk-toggleable__content\"><pre>SVC(kernel=&#x27;linear&#x27;)</pre></div></div></div></div></div></div></div>"
      ],
      "text/plain": [
       "Pipeline(steps=[('scaler', StandardScaler()), ('selector', SelectKBest()),\n",
       "                ('model', SVC(kernel='linear'))])"
      ]
     },
     "execution_count": 12,
     "metadata": {},
     "output_type": "execute_result"
    }
   ],
   "source": [
    "# importing the required modules\n",
    "from sklearn.preprocessing import StandardScaler\n",
    "from sklearn.svm import SVC\n",
    "from sklearn.feature_selection import SelectKBest, f_classif\n",
    "from sklearn.pipeline import Pipeline\n",
    "\n",
    "\n",
    "# Define the steps in the pipeline\n",
    "steps = [\n",
    "    ('scaler', StandardScaler()),  # Feature scaling\n",
    "    ('selector', SelectKBest(f_classif, k=10)),  # Feature selection\n",
    "    ('model', SVC(kernel='linear'))  # Model fitting\n",
    "]\n",
    "\n",
    "# Create the pipeline\n",
    "pipeline = Pipeline(steps)\n",
    "\n",
    "# Fit the pipeline to the data\n",
    "pipeline.fit(x, y)\n"
   ]
  },
  {
   "cell_type": "code",
   "execution_count": null,
   "id": "a220af3a",
   "metadata": {},
   "outputs": [],
   "source": []
  }
 ],
 "metadata": {
  "kernelspec": {
   "display_name": "Python 3 (ipykernel)",
   "language": "python",
   "name": "python3"
  },
  "language_info": {
   "codemirror_mode": {
    "name": "ipython",
    "version": 3
   },
   "file_extension": ".py",
   "mimetype": "text/x-python",
   "name": "python",
   "nbconvert_exporter": "python",
   "pygments_lexer": "ipython3",
   "version": "3.10.6"
  }
 },
 "nbformat": 4,
 "nbformat_minor": 5
}
