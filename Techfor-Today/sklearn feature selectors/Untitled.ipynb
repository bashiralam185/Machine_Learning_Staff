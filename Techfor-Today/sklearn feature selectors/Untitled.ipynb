{
 "cells": [
  {
   "cell_type": "code",
   "execution_count": 1,
   "id": "6a080835",
   "metadata": {},
   "outputs": [],
   "source": [
    "# importing the required modules\n",
    "from sklearn.datasets import make_regression, make_classification\n",
    "import numpy as np\n",
    "\n",
    "# creating a random number\n",
    "np.random.seed(37)\n",
    "\n",
    "# creating a classifitaion data\n",
    "def get_classification_data():\n",
    "    return make_classification(**{\n",
    "        'n_samples': 2000,\n",
    "        'n_features': 20,\n",
    "        'n_informative': 2,\n",
    "        'n_redundant': 2,\n",
    "        'n_repeated': 0,\n",
    "        'n_classes': 2,\n",
    "        'n_clusters_per_class': 2,\n",
    "        'random_state': 37\n",
    "    })\n",
    "\n",
    "# calling classification dataset\n",
    "x, y = get_classification_data()"
   ]
  },
  {
   "cell_type": "code",
   "execution_count": 7,
   "id": "82df6ad0",
   "metadata": {},
   "outputs": [
    {
     "name": "stdout",
     "output_type": "stream",
     "text": [
      "Shape of orignal data:  (2000, 20)\n",
      "Shape of extracted data:  (2000, 10)\n"
     ]
    }
   ],
   "source": [
    "# importing the required modules\n",
    "from sklearn.feature_selection import SelectKBest, f_regression\n",
    "\n",
    "# Create the selector object - we have selected 10 features\n",
    "selector = SelectKBest(f_regression, k=10)\n",
    "\n",
    "# sklearn feature selector\n",
    "X_new = selector.fit_transform(x, y)\n",
    "\n",
    "# shape of the x_new\n",
    "print(\"Shape of orignal data: \",x.shape)\n",
    "print(\"Shape of extracted data: \",X_new.shape)"
   ]
  },
  {
   "cell_type": "code",
   "execution_count": 8,
   "id": "59429ef4",
   "metadata": {},
   "outputs": [
    {
     "name": "stdout",
     "output_type": "stream",
     "text": [
      "Shape of orignal data:  (2000, 20)\n",
      "Shape of extracted data:  (2000, 10)\n"
     ]
    }
   ],
   "source": [
    "# importing the required modules\n",
    "from sklearn.feature_selection import RFE\n",
    "from sklearn.ensemble import RandomForestClassifier\n",
    "\n",
    "# Create the model\n",
    "model = RandomForestClassifier()\n",
    "\n",
    "# RFE in sklearn feature selector\n",
    "rfe = RFE(model, n_features_to_select=10)\n",
    "X_new = rfe.fit_transform(x, y)\n",
    "\n",
    "# shape of the x_new\n",
    "print(\"Shape of orignal data: \",x.shape)\n",
    "print(\"Shape of extracted data: \",X_new.shape)"
   ]
  },
  {
   "cell_type": "code",
   "execution_count": 9,
   "id": "a154cd11",
   "metadata": {},
   "outputs": [
    {
     "name": "stdout",
     "output_type": "stream",
     "text": [
      "Shape of orignal data:  (2000, 20)\n",
      "Shape of extracted data:  (2000, 10)\n"
     ]
    }
   ],
   "source": [
    "from sklearn.ensemble import RandomForestClassifier\n",
    "\n",
    "# Create the model and fit it to the data\n",
    "model = RandomForestClassifier()\n",
    "model.fit(x, y)\n",
    "\n",
    "# Get the feature importances\n",
    "importances = model.feature_importances_\n",
    "\n",
    "# Sort the features by importance\n",
    "sorted_indexes = importances.argsort()[::-1]\n",
    "\n",
    "# Select the top 10 features\n",
    "X_new = x[:, sorted_indexes[:10]]\n",
    "\n",
    "\n",
    "# shape of the x_new\n",
    "print(\"Shape of orignal data: \",x.shape)\n",
    "print(\"Shape of extracted data: \",X_new.shape)\n"
   ]
  },
  {
   "cell_type": "code",
   "execution_count": null,
   "id": "0462661f",
   "metadata": {},
   "outputs": [],
   "source": []
  }
 ],
 "metadata": {
  "kernelspec": {
   "display_name": "Python 3 (ipykernel)",
   "language": "python",
   "name": "python3"
  },
  "language_info": {
   "codemirror_mode": {
    "name": "ipython",
    "version": 3
   },
   "file_extension": ".py",
   "mimetype": "text/x-python",
   "name": "python",
   "nbconvert_exporter": "python",
   "pygments_lexer": "ipython3",
   "version": "3.10.6"
  }
 },
 "nbformat": 4,
 "nbformat_minor": 5
}
