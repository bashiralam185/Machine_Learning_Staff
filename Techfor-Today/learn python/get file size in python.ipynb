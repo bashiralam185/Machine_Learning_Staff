{
 "cells": [
  {
   "cell_type": "code",
   "execution_count": 4,
   "id": "069a5916",
   "metadata": {},
   "outputs": [
    {
     "name": "stdout",
     "output_type": "stream",
     "text": [
      "File Size is : 0.42428112030029297 mega-bytes\n"
     ]
    }
   ],
   "source": [
    "# importing os module\n",
    "import os\n",
    " \n",
    "# get size of file in Python\n",
    "file_size = os.path.getsize('bitcoin_csv.csv')/(1024*1024)\n",
    "\n",
    "# printing size of file \n",
    "print(\"File Size is :\", file_size, \"mega-bytes\")"
   ]
  },
  {
   "cell_type": "code",
   "execution_count": 6,
   "id": "3e15f9b0",
   "metadata": {},
   "outputs": [
    {
     "name": "stdout",
     "output_type": "stream",
     "text": [
      "stats about the file is : os.stat_result(st_mode=33204, st_ino=6160388, st_dev=2053, st_nlink=1, st_uid=1000, st_gid=1000, st_size=444891, st_atime=1668422753, st_mtime=1668166135, st_ctime=1668166143)\n"
     ]
    }
   ],
   "source": [
    "# importing os module\n",
    "import os\n",
    " \n",
    "file_info = os.stat('bitcoin_csv.csv')\n",
    "\n",
    "# printing the information \n",
    "print(\"stats about the file is :\", file_size)"
   ]
  },
  {
   "cell_type": "code",
   "execution_count": 8,
   "id": "8a02f4e0",
   "metadata": {},
   "outputs": [
    {
     "name": "stdout",
     "output_type": "stream",
     "text": [
      "File Size is : 444891 bytes\n",
      "File Size is : 0.42428112030029297 megabytes\n"
     ]
    }
   ],
   "source": [
    "# importing os module\n",
    "import os\n",
    "\n",
    "# info about file\n",
    "file_info = os.stat('bitcoin_csv.csv')\n",
    " \n",
    "# printing get file size in python \n",
    "print(\"File Size is :\", file_info.st_size, \"bytes\")\n",
    "print(\"File Size is :\", file_info.st_size/(1024*1024), \"megabytes\")"
   ]
  },
  {
   "cell_type": "code",
   "execution_count": 9,
   "id": "7178086c",
   "metadata": {},
   "outputs": [
    {
     "name": "stdout",
     "output_type": "stream",
     "text": [
      "Size of file is : 444891 bytes\n",
      "Size of file is : 0.42428112030029297 megabytes\n"
     ]
    }
   ],
   "source": [
    "# open file using open method\n",
    "file = open('bitcoin_csv.csv')\n",
    " \n",
    "# get the cursor positioned at end\n",
    "file.seek(0, os.SEEK_END)\n",
    " \n",
    "# get file size in python\n",
    "print(\"Size of file is :\", file.tell(), \"bytes\")\n",
    "print(\"Size of file is :\", file.tell()/(1024*1024), \"megabytes\")"
   ]
  },
  {
   "cell_type": "code",
   "execution_count": 15,
   "id": "dd656f94",
   "metadata": {},
   "outputs": [
    {
     "name": "stdout",
     "output_type": "stream",
     "text": [
      "Size of file is : 444891 bytes\n",
      "Size of file is : 0.42428112030029297 megabytes\n"
     ]
    }
   ],
   "source": [
    "# approach 4\n",
    "# using pathlib module\n",
    "from pathlib import Path\n",
    "\n",
    "# get file size in python\n",
    "file_size=Path('bitcoin_csv.csv').stat().st_size\n",
    "\n",
    "# print the size of the file\n",
    "print(\"Size of file is :\", file_size, \"bytes\")\n",
    "print(\"Size of file is :\", file_size/(1024*1024), \"megabytes\")\n"
   ]
  },
  {
   "cell_type": "code",
   "execution_count": null,
   "id": "7fde395f",
   "metadata": {},
   "outputs": [],
   "source": []
  }
 ],
 "metadata": {
  "kernelspec": {
   "display_name": "Python 3 (ipykernel)",
   "language": "python",
   "name": "python3"
  },
  "language_info": {
   "codemirror_mode": {
    "name": "ipython",
    "version": 3
   },
   "file_extension": ".py",
   "mimetype": "text/x-python",
   "name": "python",
   "nbconvert_exporter": "python",
   "pygments_lexer": "ipython3",
   "version": "3.10.6"
  }
 },
 "nbformat": 4,
 "nbformat_minor": 5
}
