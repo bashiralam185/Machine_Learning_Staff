{
 "cells": [
  {
   "cell_type": "code",
   "execution_count": 1,
   "id": "e7d16243",
   "metadata": {},
   "outputs": [
    {
     "name": "stdout",
     "output_type": "stream",
     "text": [
      "How to learn Python for machine learning?\n"
     ]
    }
   ],
   "source": [
    "# printing how to learn python\n",
    "print(\"How to learn Python for machine learning?\")"
   ]
  },
  {
   "cell_type": "code",
   "execution_count": 2,
   "id": "b49bbe01",
   "metadata": {},
   "outputs": [
    {
     "name": "stdout",
     "output_type": "stream",
     "text": [
      "How to learn Python for machine learning\n",
      "How to learn python for machine learning\n",
      "1000\n",
      "1500\n",
      "My age is : 23\n"
     ]
    }
   ],
   "source": [
    "# printing message\n",
    "print(\"How to learn Python for machine learning\")\n",
    "\n",
    "# printing using variable\n",
    "message = 'How to learn python for machine learning'\n",
    "print(message)\n",
    "\n",
    "# printing numeric value\n",
    "print(1000)\n",
    "\n",
    "# printing operation\n",
    "print(1000+500)\n",
    "\n",
    "# printing message with number\n",
    "age = 23\n",
    "print(\"My age is :\", age)"
   ]
  },
  {
   "cell_type": "code",
   "execution_count": 3,
   "id": "7c6b4bc5",
   "metadata": {},
   "outputs": [
    {
     "name": "stdout",
     "output_type": "stream",
     "text": [
      "what is your name? Bashir\n",
      "Bashir\n"
     ]
    }
   ],
   "source": [
    "# taking user input\n",
    "name = input(\"what is your name? \")\n",
    "\n",
    "# printing the name\n",
    "print(name)"
   ]
  },
  {
   "cell_type": "code",
   "execution_count": 5,
   "id": "beaeebcc",
   "metadata": {},
   "outputs": [
    {
     "name": "stdout",
     "output_type": "stream",
     "text": [
      "please enter your age 23\n",
      "23\n"
     ]
    }
   ],
   "source": [
    "# taking the age of user\n",
    "age = int(input(\"please enter your age \"))\n",
    "\n",
    "# printing \n",
    "print(age)"
   ]
  },
  {
   "cell_type": "code",
   "execution_count": 7,
   "id": "5787f566",
   "metadata": {},
   "outputs": [],
   "source": [
    "# Python multiline statement\n",
    "summation =  1 + 2 + 3 + \\\n",
    "    4 + 5 + 6 + \\\n",
    "    7 + 8 + 9"
   ]
  },
  {
   "cell_type": "code",
   "execution_count": 8,
   "id": "95dbdd0d",
   "metadata": {},
   "outputs": [],
   "source": [
    "# multiline statement using brackets\n",
    "summation = (1 + 2 + 3 +\n",
    "    4 + 5 + 6 +\n",
    "    7 + 8 + 9)\n",
    "\n",
    "# multi-line statement using square brackets\n",
    "colors = ['red',\n",
    "          'blue',\n",
    "          'green']\n",
    "\n"
   ]
  },
  {
   "cell_type": "code",
   "execution_count": 9,
   "id": "03794fc8",
   "metadata": {},
   "outputs": [
    {
     "name": "stdout",
     "output_type": "stream",
     "text": [
      "How to learn python for machine learning\n"
     ]
    }
   ],
   "source": [
    "# Python comment - how to learn python for machine learning\n",
    "print(\"How to learn python for machine learning\")\n",
    "# this line will also be ignore by python"
   ]
  },
  {
   "cell_type": "code",
   "execution_count": 10,
   "id": "7a60263c",
   "metadata": {},
   "outputs": [
    {
     "name": "stdout",
     "output_type": "stream",
     "text": [
      "how to learn python for machine learning\n"
     ]
    }
   ],
   "source": [
    "'''This is python multi-line commnet\n",
    "We will print how to learn python in machine learning\n",
    "in the next line'''\n",
    "\n",
    "print(\"how to learn python for machine learning\")"
   ]
  },
  {
   "cell_type": "code",
   "execution_count": 11,
   "id": "456c5e14",
   "metadata": {},
   "outputs": [],
   "source": [
    "# Python variables\n",
    "name = 'bashir'\n",
    "age = 23\n",
    "colors = ['red', 'blue', 'black']\n"
   ]
  },
  {
   "cell_type": "code",
   "execution_count": 14,
   "id": "785026a2",
   "metadata": {},
   "outputs": [
    {
     "name": "stdout",
     "output_type": "stream",
     "text": [
      "['False', 'None', 'True', 'and', 'as', 'assert', 'async', 'await', 'break', 'class', 'continue', 'def', 'del', 'elif', 'else', 'except', 'finally', 'for', 'from', 'global', 'if', 'import', 'in', 'is', 'lambda', 'nonlocal', 'not', 'or', 'pass', 'raise', 'return', 'try', 'while', 'with', 'yield']\n"
     ]
    }
   ],
   "source": [
    "# importing keywords\n",
    "import keyword\n",
    "\n",
    "# storing the keywords in variable\n",
    "s = keyword.kwlist\n",
    "\n",
    "# printing the keywords\n",
    "print(s)"
   ]
  },
  {
   "cell_type": "code",
   "execution_count": 15,
   "id": "a7eee337",
   "metadata": {},
   "outputs": [],
   "source": [
    "# floating number\n",
    "num = 8.343\n",
    "\n",
    "# integer\n",
    "integer = 4\n",
    "\n",
    "# complex number \n",
    "import math\n",
    "z = complex(23,3)\n",
    "\n",
    "# string in python\n",
    "string = 'how to learn python in machine learning'\n",
    "\n",
    "# python list\n",
    "list1 = [1,2,3,4,5,5]\n",
    "\n",
    "# python tuples\n",
    "tuple1 = (1,2,3,4,5,6)\n",
    "\n",
    "# boolean\n",
    "x = True\n",
    "y = False\n",
    "\n",
    "# set in python\n",
    "set1 = set([1,2,3,4])\n",
    "\n",
    "# dictionary in Python\n",
    "dic1 = {1:3, 4:2, 8:3}"
   ]
  },
  {
   "cell_type": "code",
   "execution_count": 1,
   "id": "f3813706",
   "metadata": {},
   "outputs": [
    {
     "name": "stdout",
     "output_type": "stream",
     "text": [
      "0\n",
      "1\n",
      "2\n",
      "3\n",
      "4\n",
      "5\n",
      "6\n",
      "7\n",
      "8\n",
      "9\n"
     ]
    }
   ],
   "source": [
    "# for loop to print numbers \n",
    "for i in range(10):\n",
    "    print(i)"
   ]
  },
  {
   "cell_type": "code",
   "execution_count": 2,
   "id": "4d1bca55",
   "metadata": {},
   "outputs": [
    {
     "name": "stdout",
     "output_type": "stream",
     "text": [
      "2\n",
      "3\n",
      "5\n",
      "6\n",
      "3\n",
      "6\n",
      "2\n",
      "7\n",
      "4\n",
      "7\n"
     ]
    }
   ],
   "source": [
    "# list\n",
    "list1 = [2,3,5,6,3,6,2,7,4,7]\n",
    "\n",
    "# for loop\n",
    "for i in list1\n",
    "    print(i)"
   ]
  },
  {
   "cell_type": "code",
   "execution_count": 3,
   "id": "79644eda",
   "metadata": {},
   "outputs": [
    {
     "name": "stdout",
     "output_type": "stream",
     "text": [
      "0\n",
      "1\n",
      "2\n",
      "3\n",
      "4\n",
      "5\n",
      "6\n"
     ]
    }
   ],
   "source": [
    "# condition\n",
    "num = 0\n",
    "\n",
    "# while loop\n",
    "while num <7:\n",
    "    print(num)\n",
    "    num+=1"
   ]
  },
  {
   "cell_type": "code",
   "execution_count": null,
   "id": "bb80a0f6",
   "metadata": {},
   "outputs": [],
   "source": []
  },
  {
   "cell_type": "code",
   "execution_count": 8,
   "id": "66f24718",
   "metadata": {},
   "outputs": [
    {
     "data": {
      "text/plain": [
       "900"
      ]
     },
     "execution_count": 8,
     "metadata": {},
     "output_type": "execute_result"
    }
   ],
   "source": [
    "# creating a function\n",
    "def main(num):\n",
    "    \n",
    "    # returning the product\n",
    "    return num*100\n",
    "\n",
    "# calling the function\n",
    "main(9)"
   ]
  },
  {
   "cell_type": "code",
   "execution_count": 10,
   "id": "547e6137",
   "metadata": {},
   "outputs": [
    {
     "data": {
      "text/plain": [
       "8"
      ]
     },
     "execution_count": 10,
     "metadata": {},
     "output_type": "execute_result"
    }
   ],
   "source": [
    "# list \n",
    "list1 = [1,2,3,4,5,6,7,8]\n",
    "\n",
    "# printing max\n",
    "max(list1)"
   ]
  },
  {
   "cell_type": "code",
   "execution_count": 13,
   "id": "f393f93d",
   "metadata": {},
   "outputs": [
    {
     "data": {
      "text/plain": [
       "3.0"
      ]
     },
     "execution_count": 13,
     "metadata": {},
     "output_type": "execute_result"
    }
   ],
   "source": [
    "# importing math module\n",
    "import math\n",
    "\n",
    "# printing the square root\n",
    "math.sqrt(9)"
   ]
  },
  {
   "cell_type": "code",
   "execution_count": null,
   "id": "86e30a48",
   "metadata": {},
   "outputs": [],
   "source": []
  }
 ],
 "metadata": {
  "kernelspec": {
   "display_name": "Python 3 (ipykernel)",
   "language": "python",
   "name": "python3"
  },
  "language_info": {
   "codemirror_mode": {
    "name": "ipython",
    "version": 3
   },
   "file_extension": ".py",
   "mimetype": "text/x-python",
   "name": "python",
   "nbconvert_exporter": "python",
   "pygments_lexer": "ipython3",
   "version": "3.10.6"
  }
 },
 "nbformat": 4,
 "nbformat_minor": 5
}
