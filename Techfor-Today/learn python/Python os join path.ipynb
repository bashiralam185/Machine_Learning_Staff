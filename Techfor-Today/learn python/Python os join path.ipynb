{
 "cells": [
  {
   "cell_type": "code",
   "execution_count": 1,
   "id": "e529e2bd",
   "metadata": {},
   "outputs": [],
   "source": [
    "# importing the os module\n",
    "import os"
   ]
  },
  {
   "cell_type": "code",
   "execution_count": 2,
   "id": "4b2627dc",
   "metadata": {},
   "outputs": [
    {
     "name": "stdout",
     "output_type": "stream",
     "text": [
      "posix\n"
     ]
    }
   ],
   "source": [
    "# importing os module\n",
    "import os  \n",
    "\n",
    "# os.name method\n",
    "print(os.name) \n"
   ]
  },
  {
   "cell_type": "code",
   "execution_count": 4,
   "id": "1a6ba052",
   "metadata": {},
   "outputs": [],
   "source": [
    "# importing os module\n",
    "import os   \n",
    "\n",
    "# os.mkdir method\n",
    "os.mkdir(\"Name of new folder\") \n"
   ]
  },
  {
   "cell_type": "code",
   "execution_count": 5,
   "id": "ab48e820",
   "metadata": {},
   "outputs": [
    {
     "name": "stdout",
     "output_type": "stream",
     "text": [
      "/home/student/Documents/Machine_Learning_Staff/Techfor-Today/learn python\n"
     ]
    }
   ],
   "source": [
    "# importing os module\n",
    "import os   \n",
    "\n",
    "# os.getcwd method\n",
    "print(os.getcwd())  "
   ]
  },
  {
   "cell_type": "code",
   "execution_count": null,
   "id": "e495d1cd",
   "metadata": {},
   "outputs": [],
   "source": [
    "# Python os path join method\n",
    "os.path.join(path1, path2..., pathn)"
   ]
  },
  {
   "cell_type": "code",
   "execution_count": 6,
   "id": "f9342cee",
   "metadata": {},
   "outputs": [
    {
     "name": "stdout",
     "output_type": "stream",
     "text": [
      "/Users/machine_learning/main_file.py\n"
     ]
    }
   ],
   "source": [
    "# Importing os module\n",
    "import os\n",
    "\n",
    "# python os path join method\n",
    "combined_path = os.path.join(\"/Users/machine_learning\", \"tutorial.py\")\n",
    "\n",
    "\n",
    "# printing the combined path\n",
    "print(combined_path)"
   ]
  },
  {
   "cell_type": "code",
   "execution_count": 7,
   "id": "a71ae6e8",
   "metadata": {},
   "outputs": [
    {
     "name": "stdout",
     "output_type": "stream",
     "text": [
      "/user/machine_learning/tutorial.py\n"
     ]
    }
   ],
   "source": [
    "# defining absolute path\n",
    "path = \"/user\"\n",
    "\n",
    "# python os path join method\n",
    "combined_path = os.path.join(path, \"machine_learning\", \"tutorial.py\")\n",
    "\n",
    "# printing the combined path\n",
    "print(combined_path)"
   ]
  },
  {
   "cell_type": "code",
   "execution_count": 8,
   "id": "4246c016",
   "metadata": {},
   "outputs": [
    {
     "name": "stdout",
     "output_type": "stream",
     "text": [
      "/user/tutorial.py\n"
     ]
    }
   ],
   "source": [
    "# defining absolute path\n",
    "path = \"/user\"\n",
    "\n",
    "# python os path join method\n",
    "combined_path = os.path.join(\"machine_learning\",path, \"tutorial.py\")\n",
    "\n",
    "# printing the combined path\n",
    "print(combined_path)"
   ]
  },
  {
   "cell_type": "code",
   "execution_count": 12,
   "id": "e785e0c6",
   "metadata": {},
   "outputs": [
    {
     "name": "stdout",
     "output_type": "stream",
     "text": [
      "/user\n"
     ]
    }
   ],
   "source": [
    "# defining absolute path\n",
    "path = [ \"machine_learning\", \"tutorial.py\",\"/user\"]\n",
    "\n",
    "# python os path join method\n",
    "combined_path = os.path.join(*path)\n",
    "\n",
    "# printing the combined path\n",
    "print(combined_path)"
   ]
  },
  {
   "cell_type": "code",
   "execution_count": null,
   "id": "a9d9d7bc",
   "metadata": {},
   "outputs": [],
   "source": []
  }
 ],
 "metadata": {
  "kernelspec": {
   "display_name": "Python 3 (ipykernel)",
   "language": "python",
   "name": "python3"
  },
  "language_info": {
   "codemirror_mode": {
    "name": "ipython",
    "version": 3
   },
   "file_extension": ".py",
   "mimetype": "text/x-python",
   "name": "python",
   "nbconvert_exporter": "python",
   "pygments_lexer": "ipython3",
   "version": "3.10.6"
  }
 },
 "nbformat": 4,
 "nbformat_minor": 5
}
