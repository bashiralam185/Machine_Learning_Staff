{
 "cells": [
  {
   "cell_type": "code",
   "execution_count": 1,
   "id": "f44bd8a6",
   "metadata": {},
   "outputs": [],
   "source": [
    "\n",
    "# # Import a library\n",
    "# import random\n",
    "\n",
    "\n",
    "# # Define constants\n",
    "# COLORS = (\"red\", \"blue\", \"yellow\", \"green\")\n",
    "# NAMES = (\"jake\", \"alam\", \"DK\")\n",
    "\n",
    "\n",
    "# # Define a custom class\n",
    "# class Person:\n",
    "\n",
    "#     #init method\n",
    "#     def __init__(self, color: str, name: str):\n",
    "#         self.color = color\n",
    "#         self.name = name\n",
    "        \n",
    "#     def __str__(self):\n",
    "#         return f\"Name: {self.name},  Fav color is:  {self.color}\"\n",
    "    \n",
    "    \n",
    "# # Define a custom function\n",
    "# def get_random_name():\n",
    "    \n",
    "#     # returning random names and colors\n",
    "#     return Person(random.choice(COLORS), random.choice(NAMES))\n",
    "\n",
    "# # Create a random object\n",
    "# random_person = get_random_name()"
   ]
  },
  {
   "cell_type": "code",
   "execution_count": 2,
   "id": "c4dd9763",
   "metadata": {},
   "outputs": [
    {
     "ename": "NameError",
     "evalue": "name 'get_random_name' is not defined",
     "output_type": "error",
     "traceback": [
      "\u001b[0;31m---------------------------------------------------------------------------\u001b[0m",
      "\u001b[0;31mNameError\u001b[0m                                 Traceback (most recent call last)",
      "\u001b[0;32m/tmp/ipykernel_203873/438139229.py\u001b[0m in \u001b[0;36m<module>\u001b[0;34m\u001b[0m\n\u001b[0;32m----> 1\u001b[0;31m \u001b[0;32mfrom\u001b[0m \u001b[0mmodule\u001b[0m \u001b[0;32mimport\u001b[0m \u001b[0;34m*\u001b[0m\u001b[0;34m\u001b[0m\u001b[0;34m\u001b[0m\u001b[0m\n\u001b[0m\u001b[1;32m      2\u001b[0m \u001b[0;34m\u001b[0m\u001b[0m\n\u001b[1;32m      3\u001b[0m \u001b[0mname\u001b[0m \u001b[0;34m=\u001b[0m \u001b[0m__get_random_name__\u001b[0m\u001b[0;34m(\u001b[0m\u001b[0;34m)\u001b[0m\u001b[0;34m\u001b[0m\u001b[0;34m\u001b[0m\u001b[0m\n",
      "\u001b[0;32m~/Documents/Machine_Learning_Staff/Techfor-Today/learn python/module.py\u001b[0m in \u001b[0;36m<module>\u001b[0;34m\u001b[0m\n\u001b[1;32m     35\u001b[0m \u001b[0;34m\u001b[0m\u001b[0m\n\u001b[1;32m     36\u001b[0m \u001b[0;31m# Create a random object\u001b[0m\u001b[0;34m\u001b[0m\u001b[0;34m\u001b[0m\u001b[0m\n\u001b[0;32m---> 37\u001b[0;31m \u001b[0mrandom_person\u001b[0m \u001b[0;34m=\u001b[0m \u001b[0mget_random_name\u001b[0m\u001b[0;34m(\u001b[0m\u001b[0;34m)\u001b[0m\u001b[0;34m\u001b[0m\u001b[0;34m\u001b[0m\u001b[0m\n\u001b[0m\u001b[1;32m     38\u001b[0m \u001b[0;34m\u001b[0m\u001b[0m\n\u001b[1;32m     39\u001b[0m \u001b[0;34m\u001b[0m\u001b[0m\n",
      "\u001b[0;31mNameError\u001b[0m: name 'get_random_name' is not defined"
     ]
    }
   ],
   "source": [
    "from module import *\n",
    "\n",
    "name = __get_random_name__()"
   ]
  },
  {
   "cell_type": "code",
   "execution_count": null,
   "id": "6fd9f799",
   "metadata": {},
   "outputs": [],
   "source": []
  },
  {
   "cell_type": "code",
   "execution_count": null,
   "id": "fca58cdc",
   "metadata": {},
   "outputs": [],
   "source": []
  }
 ],
 "metadata": {
  "kernelspec": {
   "display_name": "Python 3 (ipykernel)",
   "language": "python",
   "name": "python3"
  },
  "language_info": {
   "codemirror_mode": {
    "name": "ipython",
    "version": 3
   },
   "file_extension": ".py",
   "mimetype": "text/x-python",
   "name": "python",
   "nbconvert_exporter": "python",
   "pygments_lexer": "ipython3",
   "version": "3.10.6"
  }
 },
 "nbformat": 4,
 "nbformat_minor": 5
}
