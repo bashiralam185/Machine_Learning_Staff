{
 "cells": [
  {
   "cell_type": "code",
   "execution_count": 4,
   "id": "fc2dca40",
   "metadata": {},
   "outputs": [
    {
     "name": "stdout",
     "output_type": "stream",
     "text": [
      "Str1 is upper case:  True\n",
      "Str2 is upper case:  False\n",
      "Str3 is upper case:  False\n"
     ]
    }
   ],
   "source": [
    "# creating different strings\n",
    "str1 = \"I AM UPPERCASE\"\n",
    "str2 = \"i am lowercase\"\n",
    "str3 = \"I am MixedCase\"\n",
    "\n",
    "# checking the string using python isupper\n",
    "print (\"Str1 is upper case: \", str1.isupper())\n",
    "print (\"Str2 is upper case: \", str2.isupper())      \n",
    "print (\"Str3 is upper case: \", str3.isupper())       "
   ]
  },
  {
   "cell_type": "code",
   "execution_count": 6,
   "id": "47c81d3b",
   "metadata": {},
   "outputs": [
    {
     "name": "stdout",
     "output_type": "stream",
     "text": [
      "Enter your String : BASHIR\n",
      "Is the input upper case? \n",
      "YES\n"
     ]
    }
   ],
   "source": [
    "# taking input from user\n",
    "str4 = input(\"Enter your String : \")\n",
    "\n",
    "# printing\n",
    "print('Is the input upper case? ')\n",
    "\n",
    "# checking the input using python isupper\n",
    "if str4.isupper() == True:\n",
    "    print(\"YES\")\n",
    "else:\n",
    "    print(\"NO\")"
   ]
  },
  {
   "cell_type": "code",
   "execution_count": 12,
   "id": "730b8422",
   "metadata": {},
   "outputs": [
    {
     "name": "stdout",
     "output_type": "stream",
     "text": [
      "The item is upper case :  THIS\n",
      "The item is converted to upper case :  IS\n",
      "The item is upper case :  BASHIR\n",
      "The item is converted to upper case :  ALAM,\n",
      "The item is converted to upper case :  MAJORING\n",
      "The item is upper case :  IN\n",
      "The item is converted to upper case :  COMPUTER\n",
      "The item is upper case :  SECINCE\n",
      "\n",
      "--------------------summary-----------------------------------\n",
      "Total upper case words in the string are: 4\n",
      "Total upper case words in the string are: 4\n",
      "\n",
      "The string after conversion:  THIS IS BASHIR ALAM, MAJORING IN COMPUTER SECINCE\n"
     ]
    }
   ],
   "source": [
    "# creating a string\n",
    "test = \"THIS is BASHIR alam, MAjoring IN computer SECINCE\"\n",
    "\n",
    "# using split function to split the sentence\n",
    "liststr = test.split()\n",
    "\n",
    "# total count\n",
    "count = 0\n",
    "lower = 0\n",
    "# for loop to iterate through the words\n",
    "for i in liststr:\n",
    "    if (i.isupper()):\n",
    "        count = count + 1\n",
    "        print(\"The item is upper case : \",i)\n",
    "    else:\n",
    "        lower = lower+1\n",
    "        print(\"The item is converted to upper case : \",i.upper())\n",
    "       \n",
    "print('\\n--------------------summary-----------------------------------')\n",
    "print (\"Total upper case words in the string are: \" + str(count))\n",
    "print (\"Total upper case words in the string are: \" + str(lower))\n",
    "print(\"\\nThe string after conversion: \",test.upper())\n"
   ]
  },
  {
   "cell_type": "code",
   "execution_count": null,
   "id": "e20394b6",
   "metadata": {},
   "outputs": [],
   "source": [
    "test = \"THIS is a TEST string for ISUPPER function\"\n",
    "liststr = test.split()\n",
    "c = 0\n",
    "a=0\n",
    "for i in liststr:\n",
    "    if (i.isupper()):\n",
    "        c = c + 1\n",
    "        print(\"The item is upper case : \",i)\n",
    "    else:\n",
    "      a = a + 1\n",
    "      print(\"The item is converted to upper case : \",i.upper())\n",
    "\n",
    "print (\"\\nTotal upper case words in the string are: \" + str(c))\n",
    "print (\"Total upper case words in the string are: \" + str(a))\n",
    "print(\"\\nThe string after conversion: \",test.upper())"
   ]
  }
 ],
 "metadata": {
  "kernelspec": {
   "display_name": "Python 3 (ipykernel)",
   "language": "python",
   "name": "python3"
  },
  "language_info": {
   "codemirror_mode": {
    "name": "ipython",
    "version": 3
   },
   "file_extension": ".py",
   "mimetype": "text/x-python",
   "name": "python",
   "nbconvert_exporter": "python",
   "pygments_lexer": "ipython3",
   "version": "3.10.6"
  }
 },
 "nbformat": 4,
 "nbformat_minor": 5
}
