{
 "cells": [
  {
   "cell_type": "code",
   "execution_count": 2,
   "id": "6c4ecfc1",
   "metadata": {},
   "outputs": [
    {
     "name": "stdout",
     "output_type": "stream",
     "text": [
      "<class 'int'>\n",
      "<class 'float'>\n",
      "<class 'str'>\n",
      "<class 'list'>\n"
     ]
    }
   ],
   "source": [
    "# decaring and initializing varible in Python\n",
    "var1 = 23\n",
    "var2 = 2.333\n",
    "var3 = 'this is me'\n",
    "var4 = [1,2,3,4]\n",
    "\n",
    "# printing the data types\n",
    "print(type(var1))\n",
    "print(type(var2))\n",
    "print(type(var3))\n",
    "print(type(var4))"
   ]
  },
  {
   "cell_type": "code",
   "execution_count": 3,
   "id": "4d66eda0",
   "metadata": {},
   "outputs": [
    {
     "name": "stdout",
     "output_type": "stream",
     "text": [
      "25\n"
     ]
    },
    {
     "ename": "NameError",
     "evalue": "name 'var' is not defined",
     "output_type": "error",
     "traceback": [
      "\u001b[0;31m---------------------------------------------------------------------------\u001b[0m",
      "\u001b[0;31mNameError\u001b[0m                                 Traceback (most recent call last)",
      "\u001b[0;32m/tmp/ipykernel_72943/729348950.py\u001b[0m in \u001b[0;36m<module>\u001b[0;34m\u001b[0m\n\u001b[1;32m      9\u001b[0m \u001b[0;34m\u001b[0m\u001b[0m\n\u001b[1;32m     10\u001b[0m \u001b[0;31m# printig\u001b[0m\u001b[0;34m\u001b[0m\u001b[0;34m\u001b[0m\u001b[0m\n\u001b[0;32m---> 11\u001b[0;31m \u001b[0mprint\u001b[0m\u001b[0;34m(\u001b[0m\u001b[0mvar\u001b[0m\u001b[0;34m)\u001b[0m\u001b[0;34m\u001b[0m\u001b[0;34m\u001b[0m\u001b[0m\n\u001b[0m",
      "\u001b[0;31mNameError\u001b[0m: name 'var' is not defined"
     ]
    }
   ],
   "source": [
    "# variable\n",
    "var = 25\n",
    "\n",
    "# printing variable\n",
    "print(var)\n",
    "\n",
    "# deleing variable\n",
    "del var\n",
    "\n",
    "# printig\n",
    "print(var)"
   ]
  },
  {
   "cell_type": "code",
   "execution_count": 4,
   "id": "2ea93b60",
   "metadata": {},
   "outputs": [],
   "source": [
    "# decaring and initializing varible in Python\n",
    "var1 = 23\n",
    "var2 = 2.333\n",
    "var3 = 'this is me'\n",
    "var4 = [1,2,3,4]\n",
    "\n",
    "# Python delete variable\n",
    "del var1, var2, var3, var4"
   ]
  },
  {
   "cell_type": "code",
   "execution_count": 5,
   "id": "0fdfd3ef",
   "metadata": {},
   "outputs": [
    {
     "name": "stdout",
     "output_type": "stream",
     "text": [
      "['In', 'Out', '_', '__', '___', '__builtin__', '__builtins__', '__doc__', '__loader__', '__name__', '__package__', '__spec__', '_dh', '_i', '_i1', '_i2', '_i3', '_i4', '_i5', '_ih', '_ii', '_iii', '_oh', 'exit', 'get_ipython', 'quit', 'var1', 'var2', 'var3', 'var4']\n"
     ]
    }
   ],
   "source": [
    "# decaring and initializing varible in Python\n",
    "var1 = 23\n",
    "var2 = 2.333\n",
    "var3 = 'this is me'\n",
    "var4 = [1,2,3,4]\n",
    "\n",
    "\n",
    "#inititalizing d with dir()\n",
    "d = dir()\n",
    "\n",
    "#printing the directory\n",
    "print(d)"
   ]
  },
  {
   "cell_type": "code",
   "execution_count": 7,
   "id": "1f14ca06",
   "metadata": {},
   "outputs": [
    {
     "name": "stdout",
     "output_type": "stream",
     "text": [
      "10\n"
     ]
    }
   ],
   "source": [
    "# importing gc module\n",
    "import gc\n",
    "\n",
    "# defining variable\n",
    "var=10\n",
    "\n",
    "gc.collect()\n",
    "print(var)"
   ]
  },
  {
   "cell_type": "code",
   "execution_count": null,
   "id": "1e4cfb57",
   "metadata": {},
   "outputs": [],
   "source": []
  }
 ],
 "metadata": {
  "kernelspec": {
   "display_name": "Python 3 (ipykernel)",
   "language": "python",
   "name": "python3"
  },
  "language_info": {
   "codemirror_mode": {
    "name": "ipython",
    "version": 3
   },
   "file_extension": ".py",
   "mimetype": "text/x-python",
   "name": "python",
   "nbconvert_exporter": "python",
   "pygments_lexer": "ipython3",
   "version": "3.10.6"
  }
 },
 "nbformat": 4,
 "nbformat_minor": 5
}
