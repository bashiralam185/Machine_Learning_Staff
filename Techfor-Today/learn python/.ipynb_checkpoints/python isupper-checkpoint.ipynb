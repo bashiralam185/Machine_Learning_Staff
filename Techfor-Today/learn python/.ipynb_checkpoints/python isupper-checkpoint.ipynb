{
 "cells": [
  {
   "cell_type": "code",
   "execution_count": 3,
   "id": "4dfe170b",
   "metadata": {},
   "outputs": [
    {
     "name": "stdout",
     "output_type": "stream",
     "text": [
      "Str1 is upper case True\n",
      "Str2 is upper case False\n",
      "Str3 is upper case False\n"
     ]
    }
   ],
   "source": [
    "# creating different strings\n",
    "str1 = \"I AM UPPERCASE\"\n",
    "str2 = \"i am lowercase\"\n",
    "str3 = \"I am MixedCase\"\n",
    "\n",
    "# checking the string using python isupper\n",
    "print (\"Str1 is upper case: \", str1.isupper())\n",
    "print (\"Str2 is upper case: \", str2.isupper())      \n",
    "print (\"Str3 is upper case: \", str3.isupper())       "
   ]
  },
  {
   "cell_type": "code",
   "execution_count": null,
   "id": "04327ba7",
   "metadata": {},
   "outputs": [],
   "source": []
  }
 ],
 "metadata": {
  "kernelspec": {
   "display_name": "Python 3 (ipykernel)",
   "language": "python",
   "name": "python3"
  },
  "language_info": {
   "codemirror_mode": {
    "name": "ipython",
    "version": 3
   },
   "file_extension": ".py",
   "mimetype": "text/x-python",
   "name": "python",
   "nbconvert_exporter": "python",
   "pygments_lexer": "ipython3",
   "version": "3.10.6"
  }
 },
 "nbformat": 4,
 "nbformat_minor": 5
}
