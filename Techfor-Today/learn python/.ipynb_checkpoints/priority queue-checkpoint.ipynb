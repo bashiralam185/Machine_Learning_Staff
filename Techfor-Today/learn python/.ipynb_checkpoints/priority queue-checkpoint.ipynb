{
 "cells": [
  {
   "cell_type": "code",
   "execution_count": 1,
   "id": "5456062c",
   "metadata": {},
   "outputs": [],
   "source": [
    "# importing priority queue\n",
    "from queue import PriorityQueue\n",
    "\n",
    "# initializing priority queue\n",
    "Queue = PriorityQueue()"
   ]
  },
  {
   "cell_type": "code",
   "execution_count": 3,
   "id": "f54f4cd8",
   "metadata": {},
   "outputs": [],
   "source": [
    "# importing priority queue\n",
    "from queue import PriorityQueue\n",
    "\n",
    "# initializing priority queue\n",
    "Queue = PriorityQueue()\n",
    "\n",
    "# adding elements in priority level\n",
    "Queue.put((2, \"Bashir\"))\n",
    "Queue.put((1, \"alam\"))\n",
    "Queue.put((3, \"Erlam\"))"
   ]
  },
  {
   "cell_type": "code",
   "execution_count": 4,
   "id": "e397cebc",
   "metadata": {},
   "outputs": [
    {
     "name": "stdout",
     "output_type": "stream",
     "text": [
      "(1, 'alam')\n"
     ]
    }
   ],
   "source": [
    "# getting elements \n",
    "element = Queue.get()\n",
    "\n",
    "# printing element\n",
    "print(element)"
   ]
  },
  {
   "cell_type": "code",
   "execution_count": 7,
   "id": "c4e9be0b",
   "metadata": {},
   "outputs": [
    {
     "name": "stdout",
     "output_type": "stream",
     "text": [
      "the size of queue is: 2\n"
     ]
    }
   ],
   "source": [
    "# importing priority queue\n",
    "from queue import PriorityQueue\n",
    "\n",
    "# initializing priority queue\n",
    "Queue = PriorityQueue()\n",
    "\n",
    "# adding elements in priority level\n",
    "Queue.put((4, \"Bashir\"))\n",
    "Queue.put((2, \"alam\"))\n",
    "\n",
    "# get size of priority queue in python\n",
    "print('the size of queue is:', Queue.qsize())"
   ]
  },
  {
   "cell_type": "code",
   "execution_count": null,
   "id": "d68509af",
   "metadata": {},
   "outputs": [],
   "source": [
    "# importing priority queue\n",
    "from queue import PriorityQueue\n",
    "\n",
    "# initializing priority queue\n",
    "Queue = PriorityQueue()\n",
    "\n",
    "# printing the size of queue\n",
    "print('the size of queue is:', Queue.qsize())"
   ]
  }
 ],
 "metadata": {
  "kernelspec": {
   "display_name": "Python 3 (ipykernel)",
   "language": "python",
   "name": "python3"
  },
  "language_info": {
   "codemirror_mode": {
    "name": "ipython",
    "version": 3
   },
   "file_extension": ".py",
   "mimetype": "text/x-python",
   "name": "python",
   "nbconvert_exporter": "python",
   "pygments_lexer": "ipython3",
   "version": "3.10.6"
  }
 },
 "nbformat": 4,
 "nbformat_minor": 5
}
