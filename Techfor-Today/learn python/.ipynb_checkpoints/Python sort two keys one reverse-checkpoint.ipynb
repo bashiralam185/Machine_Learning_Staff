{
 "cells": [
  {
   "cell_type": "code",
   "execution_count": 3,
   "id": "54824ae7",
   "metadata": {},
   "outputs": [
    {
     "name": "stdout",
     "output_type": "stream",
     "text": [
      "[0, 1, 2, 2, 3, 4, 6, 8, 8]\n"
     ]
    }
   ],
   "source": [
    "# random list\n",
    "list1 = [4,3,6,8,2,0,8,2,1]\n",
    "\n",
    "# sorting list\n",
    "sorted_list = sorted(list1)\n",
    "\n",
    "# printing sorted list\n",
    "print(sorted_list)"
   ]
  },
  {
   "cell_type": "code",
   "execution_count": 2,
   "id": "2935412f",
   "metadata": {},
   "outputs": [
    {
     "ename": "TypeError",
     "evalue": "'<' not supported between instances of 'int' and 'str'",
     "output_type": "error",
     "traceback": [
      "\u001b[0;31m---------------------------------------------------------------------------\u001b[0m",
      "\u001b[0;31mTypeError\u001b[0m                                 Traceback (most recent call last)",
      "\u001b[0;32m/tmp/ipykernel_139339/1229631517.py\u001b[0m in \u001b[0;36m<module>\u001b[0;34m\u001b[0m\n\u001b[1;32m      3\u001b[0m \u001b[0;34m\u001b[0m\u001b[0m\n\u001b[1;32m      4\u001b[0m \u001b[0;31m# sorting list\u001b[0m\u001b[0;34m\u001b[0m\u001b[0;34m\u001b[0m\u001b[0m\n\u001b[0;32m----> 5\u001b[0;31m \u001b[0msorted_list\u001b[0m \u001b[0;34m=\u001b[0m \u001b[0msorted\u001b[0m\u001b[0;34m(\u001b[0m\u001b[0mlist2\u001b[0m\u001b[0;34m)\u001b[0m\u001b[0;34m\u001b[0m\u001b[0;34m\u001b[0m\u001b[0m\n\u001b[0m\u001b[1;32m      6\u001b[0m \u001b[0;34m\u001b[0m\u001b[0m\n\u001b[1;32m      7\u001b[0m \u001b[0;31m# printing sorted list\u001b[0m\u001b[0;34m\u001b[0m\u001b[0;34m\u001b[0m\u001b[0m\n",
      "\u001b[0;31mTypeError\u001b[0m: '<' not supported between instances of 'int' and 'str'"
     ]
    }
   ],
   "source": [
    "# random list\n",
    "list2 = ['a', 'A', 'd', 'D', 1,2 ,3, 5, 6]\n",
    "\n",
    "# sorting list\n",
    "sorted_list = sorted(list2)\n",
    "\n",
    "# printing sorted list\n",
    "print(sorted_list)"
   ]
  },
  {
   "cell_type": "code",
   "execution_count": 5,
   "id": "f10f916a",
   "metadata": {},
   "outputs": [
    {
     "data": {
      "text/plain": [
       "[('c', 'd'), ('C', 'D'), ('a', 'b'), ('A', 'B')]"
      ]
     },
     "execution_count": 5,
     "metadata": {},
     "output_type": "execute_result"
    }
   ],
   "source": [
    "List4 = [('A', 'B'),('C', \"D\"),('a', 'b'),('c', 'd')]\n",
    "\n",
    "# sortedList = sorted(List4, key = lambda y: (y[0].lower(), y[1]))\n",
    "\n",
    "List = sorted(List4, key = lambda y: (y[0].lower(), y[1]), reverse = True)\n",
    "List"
   ]
  },
  {
   "cell_type": "code",
   "execution_count": 7,
   "id": "0e38d5f3",
   "metadata": {},
   "outputs": [
    {
     "data": {
      "text/plain": [
       "[('c', 'd'), ('C', 'D'), ('a', 'b'), ('A', 'B')]"
      ]
     },
     "execution_count": 7,
     "metadata": {},
     "output_type": "execute_result"
    }
   ],
   "source": [
    "sortedList = sorted(List4, key = lambda y: (y[0].lower(), y[1]), reverse=True)\n",
    "sortedList"
   ]
  },
  {
   "cell_type": "code",
   "execution_count": 8,
   "id": "4db3721c",
   "metadata": {},
   "outputs": [],
   "source": [
    "class reversor:\n",
    "    def __init__(self, obj):\n",
    "        self.obj = obj\n",
    "\n",
    "    def __eq__(self, other):\n",
    "        return other.obj == self.obj\n",
    "\n",
    "    def __lt__(self, other):\n",
    "           return other.obj < self.obj\n",
    "        "
   ]
  },
  {
   "cell_type": "code",
   "execution_count": 9,
   "id": "6d3ed892",
   "metadata": {},
   "outputs": [
    {
     "data": {
      "text/plain": [
       "[('a', 'b'), ('A', 'B'), ('c', 'd'), ('C', 'D')]"
      ]
     },
     "execution_count": 9,
     "metadata": {},
     "output_type": "execute_result"
    }
   ],
   "source": [
    "sortedList1 = sorted(List4, key=lambda y: (y[0].lower(), reversor(y[1])))\n",
    "sortedList1"
   ]
  },
  {
   "cell_type": "code",
   "execution_count": 10,
   "id": "f944193a",
   "metadata": {},
   "outputs": [
    {
     "data": {
      "text/plain": [
       "[('a', 'b'), ('A', 'B'), ('c', 'd'), ('C', 'D')]"
      ]
     },
     "execution_count": 10,
     "metadata": {},
     "output_type": "execute_result"
    }
   ],
   "source": [
    "class case_insensitive_and_2nd_reversed:\n",
    "    def __init__(self, obj, *args):\n",
    "        self.first = obj[0].lower()\n",
    "        self.second = obj[1]\n",
    "    def __lt__(self, other):\n",
    "        return self.first < other.first or self.first == other.first and other.second < self.second\n",
    "    def __gt__(self, other):\n",
    "        return self.first > other.first or self.first == other.first and other.second > self.second\n",
    "    def __le__(self, other):\n",
    "        return self.first < other.first or self.first == other.first and other.second <= self.second\n",
    "    def __ge__(self, other):\n",
    "        return self.first > other.first or self.first == other.first and other.second >= self.second\n",
    "    def __eq__(self, other):\n",
    "        return self.first == other.first and self.second == other.second\n",
    "    def __ne__(self, other):\n",
    "        return self.first != other.first and self.second != other.second\n",
    "\n",
    "sortedList2 = sorted(List4, key = case_insensitive_and_2nd_reversed)\n",
    "\n",
    "sortedList2"
   ]
  },
  {
   "cell_type": "code",
   "execution_count": 12,
   "id": "8fbc8878",
   "metadata": {},
   "outputs": [
    {
     "ename": "SyntaxError",
     "evalue": "invalid syntax (3840487068.py, line 1)",
     "output_type": "error",
     "traceback": [
      "\u001b[0;36m  File \u001b[0;32m\"/tmp/ipykernel_139339/3840487068.py\"\u001b[0;36m, line \u001b[0;32m1\u001b[0m\n\u001b[0;31m    sortedList3 = sorted(sorted(List4, key=lambda (a,b):b, reverse=True), key=lambda(a,b):a)\u001b[0m\n\u001b[0m                                                  ^\u001b[0m\n\u001b[0;31mSyntaxError\u001b[0m\u001b[0;31m:\u001b[0m invalid syntax\n"
     ]
    }
   ],
   "source": [
    "sortedList3 = sorted(sorted(List4, key=lambda (a,b):b, reverse=True), key=lambda(a,b):a)\n",
    "sortedList3"
   ]
  },
  {
   "cell_type": "code",
   "execution_count": 15,
   "id": "3cc1b16f",
   "metadata": {},
   "outputs": [
    {
     "ename": "SyntaxError",
     "evalue": "invalid syntax (4220204151.py, line 1)",
     "output_type": "error",
     "traceback": [
      "\u001b[0;36m  File \u001b[0;32m\"/tmp/ipykernel_139339/4220204151.py\"\u001b[0;36m, line \u001b[0;32m1\u001b[0m\n\u001b[0;31m    tempList = sorted(List4, key=lambda (a,b):b, reverse=True)\u001b[0m\n\u001b[0m                                        ^\u001b[0m\n\u001b[0;31mSyntaxError\u001b[0m\u001b[0;31m:\u001b[0m invalid syntax\n"
     ]
    }
   ],
   "source": [
    "tempList = sorted(List4, key=lambda (a,b):b, reverse=True)\n",
    "sortedList = sorted(tempList, key=lambda(a,b):a)"
   ]
  },
  {
   "cell_type": "code",
   "execution_count": 16,
   "id": "c04cfd41",
   "metadata": {},
   "outputs": [
    {
     "ename": "SyntaxError",
     "evalue": "invalid syntax (2811062466.py, line 1)",
     "output_type": "error",
     "traceback": [
      "\u001b[0;36m  File \u001b[0;32m\"/tmp/ipykernel_139339/2811062466.py\"\u001b[0;36m, line \u001b[0;32m1\u001b[0m\n\u001b[0;31m    sorted(List4, key=lambda(a,b):(a,1.0/b))\u001b[0m\n\u001b[0m                            ^\u001b[0m\n\u001b[0;31mSyntaxError\u001b[0m\u001b[0;31m:\u001b[0m invalid syntax\n"
     ]
    }
   ],
   "source": [
    "sorted(List4, key=lambda(a,b):(a,1.0/b))"
   ]
  },
  {
   "cell_type": "code",
   "execution_count": 17,
   "id": "ca68c0ff",
   "metadata": {},
   "outputs": [
    {
     "ename": "TypeError",
     "evalue": "'cmp' is an invalid keyword argument for sort()",
     "output_type": "error",
     "traceback": [
      "\u001b[0;31m---------------------------------------------------------------------------\u001b[0m",
      "\u001b[0;31mTypeError\u001b[0m                                 Traceback (most recent call last)",
      "\u001b[0;32m/tmp/ipykernel_139339/3926712397.py\u001b[0m in \u001b[0;36m<module>\u001b[0;34m\u001b[0m\n\u001b[1;32m      9\u001b[0m         \u001b[0;32mreturn\u001b[0m \u001b[0;34m-\u001b[0m\u001b[0;36m1\u001b[0m\u001b[0;34m\u001b[0m\u001b[0;34m\u001b[0m\u001b[0m\n\u001b[1;32m     10\u001b[0m \u001b[0;34m\u001b[0m\u001b[0m\n\u001b[0;32m---> 11\u001b[0;31m \u001b[0msortedList4\u001b[0m \u001b[0;34m=\u001b[0m \u001b[0msorted\u001b[0m\u001b[0;34m(\u001b[0m\u001b[0mList4\u001b[0m\u001b[0;34m,\u001b[0m \u001b[0mcmp\u001b[0m\u001b[0;34m=\u001b[0m\u001b[0mcompare_func\u001b[0m\u001b[0;34m)\u001b[0m\u001b[0;34m\u001b[0m\u001b[0;34m\u001b[0m\u001b[0m\n\u001b[0m",
      "\u001b[0;31mTypeError\u001b[0m: 'cmp' is an invalid keyword argument for sort()"
     ]
    }
   ],
   "source": [
    "def compare_func(x, y):\n",
    "    tup1 = (x[0], y[1])\n",
    "    tup2 = (x[1], y[0])\n",
    "    if tup1 == tup2:\n",
    "        return 0\n",
    "    elif tup1 > tup2:\n",
    "        return 1\n",
    "    else:\n",
    "        return -1\n",
    "\n",
    "sortedList4 = sorted(List4, cmp=compare_func)"
   ]
  },
  {
   "cell_type": "code",
   "execution_count": null,
   "id": "c14a8787",
   "metadata": {},
   "outputs": [],
   "source": []
  }
 ],
 "metadata": {
  "kernelspec": {
   "display_name": "Python 3 (ipykernel)",
   "language": "python",
   "name": "python3"
  },
  "language_info": {
   "codemirror_mode": {
    "name": "ipython",
    "version": 3
   },
   "file_extension": ".py",
   "mimetype": "text/x-python",
   "name": "python",
   "nbconvert_exporter": "python",
   "pygments_lexer": "ipython3",
   "version": "3.10.6"
  }
 },
 "nbformat": 4,
 "nbformat_minor": 5
}
