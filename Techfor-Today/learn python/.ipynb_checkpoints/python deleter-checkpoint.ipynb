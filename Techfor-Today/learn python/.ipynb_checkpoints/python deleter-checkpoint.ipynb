{
 "cells": [
  {
   "cell_type": "code",
   "execution_count": 3,
   "id": "49fe4217",
   "metadata": {},
   "outputs": [],
   "source": [
    "class Car:\n",
    " \n",
    "    # Instance attribute\n",
    "    def __init__(self, name, model):\n",
    "        self.name = name\n",
    "        self.model = model"
   ]
  },
  {
   "cell_type": "code",
   "execution_count": 5,
   "id": "b4243bab",
   "metadata": {},
   "outputs": [],
   "source": [
    "# creating objects\n",
    "car1 = Car('black', 2019)\n",
    "car2 = Car('white', 2020)\n"
   ]
  },
  {
   "cell_type": "code",
   "execution_count": 6,
   "id": "b4ef039a",
   "metadata": {},
   "outputs": [
    {
     "name": "stdout",
     "output_type": "stream",
     "text": [
      "Car 1 is\n",
      "black\n",
      "2019\n",
      "Car 12 is\n",
      "white\n",
      "2020\n"
     ]
    }
   ],
   "source": [
    "#printing property of car1\n",
    "print('Car 1 is')\n",
    "print(car1.name)\n",
    "print(car1.model)\n",
    "\n",
    "#printing property of car2\n",
    "print('Car 12 is')\n",
    "print(car2.name)\n",
    "print(car2.model)\n"
   ]
  },
  {
   "cell_type": "code",
   "execution_count": 7,
   "id": "ef984539",
   "metadata": {},
   "outputs": [],
   "source": [
    "# creating the class\n",
    "class Person:\n",
    "\n",
    "    # initializing\n",
    "    def __init__(self, name):\n",
    "        \n",
    "        # private varibale or property in Python\n",
    "        self.__name = name\n",
    "\n",
    "    #getter method to get the property\n",
    "    def get(self):\n",
    "        return self.__name\n",
    "\n",
    "    #setter method to change the value\n",
    "    def set_a(self, name):\n",
    "        self.__name = name"
   ]
  },
  {
   "cell_type": "code",
   "execution_count": null,
   "id": "b708b9d1",
   "metadata": {},
   "outputs": [],
   "source": []
  }
 ],
 "metadata": {
  "kernelspec": {
   "display_name": "Python 3 (ipykernel)",
   "language": "python",
   "name": "python3"
  },
  "language_info": {
   "codemirror_mode": {
    "name": "ipython",
    "version": 3
   },
   "file_extension": ".py",
   "mimetype": "text/x-python",
   "name": "python",
   "nbconvert_exporter": "python",
   "pygments_lexer": "ipython3",
   "version": "3.10.6"
  }
 },
 "nbformat": 4,
 "nbformat_minor": 5
}
