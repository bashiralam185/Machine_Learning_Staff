{
 "cells": [
  {
   "cell_type": "code",
   "execution_count": 1,
   "id": "2f303dfb",
   "metadata": {},
   "outputs": [],
   "source": [
    "# importing pandas module\n",
    "import pandas as pd"
   ]
  },
  {
   "cell_type": "code",
   "execution_count": 2,
   "id": "b3a852f2",
   "metadata": {},
   "outputs": [
    {
     "name": "stdout",
     "output_type": "stream",
     "text": [
      "2002-03-24 02:01:33\n"
     ]
    }
   ],
   "source": [
    "# Creating a time period\n",
    "timePeriod = pd.Period(freq ='S', year = 2002, month = 3, day = 24,\n",
    "                         hour = 2, minute = 1, second = 33)\n",
    "  \n",
    "# Print the Period object\n",
    "print(timePeriod)"
   ]
  },
  {
   "cell_type": "code",
   "execution_count": 3,
   "id": "c7788206",
   "metadata": {},
   "outputs": [
    {
     "name": "stdout",
     "output_type": "stream",
     "text": [
      "<class 'pandas._libs.tslibs.period.Period'>\n"
     ]
    }
   ],
   "source": [
    "# printing the type of the variable\n",
    "print(type(timePeriod))"
   ]
  },
  {
   "cell_type": "code",
   "execution_count": 4,
   "id": "9b8955fe",
   "metadata": {},
   "outputs": [
    {
     "name": "stdout",
     "output_type": "stream",
     "text": [
      "2002-03-24 02:01:33\n"
     ]
    }
   ],
   "source": [
    "# converting period to timestamp\n",
    "timeStamp =timePeriod.to_timestamp()\n",
    "\n",
    "# printing\n",
    "print(timeStamp)"
   ]
  },
  {
   "cell_type": "code",
   "execution_count": 5,
   "id": "beb2c76a",
   "metadata": {},
   "outputs": [
    {
     "name": "stdout",
     "output_type": "stream",
     "text": [
      "<class 'pandas._libs.tslibs.timestamps.Timestamp'>\n"
     ]
    }
   ],
   "source": [
    "# printing the type of the variable\n",
    "print(type(timeStamp))"
   ]
  },
  {
   "cell_type": "code",
   "execution_count": null,
   "id": "c69181f9",
   "metadata": {},
   "outputs": [],
   "source": [
    "# Creating a time period\n",
    "timePeriod = pd.Period(year = 2002, month = 3, day = 24,\n",
    "                         hour = 2, minute = 1, second = 33)\n",
    "\n",
    "# 'T' represents minutely frequency\n",
    "# converting period to timestamp\n",
    "timeStamp =timePeriod.to_timestamp(freq =\"T\")"
   ]
  },
  {
   "cell_type": "code",
   "execution_count": null,
   "id": "a1380234",
   "metadata": {},
   "outputs": [],
   "source": []
  }
 ],
 "metadata": {
  "kernelspec": {
   "display_name": "Python 3 (ipykernel)",
   "language": "python",
   "name": "python3"
  },
  "language_info": {
   "codemirror_mode": {
    "name": "ipython",
    "version": 3
   },
   "file_extension": ".py",
   "mimetype": "text/x-python",
   "name": "python",
   "nbconvert_exporter": "python",
   "pygments_lexer": "ipython3",
   "version": "3.10.6"
  }
 },
 "nbformat": 4,
 "nbformat_minor": 5
}
