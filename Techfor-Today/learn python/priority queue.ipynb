{
 "cells": [
  {
   "cell_type": "code",
   "execution_count": 1,
   "id": "da5d9281",
   "metadata": {},
   "outputs": [],
   "source": [
    "# importing priority queue\n",
    "from queue import PriorityQueue\n",
    "\n",
    "# initializing priority queue\n",
    "Queue = PriorityQueue()"
   ]
  },
  {
   "cell_type": "code",
   "execution_count": 3,
   "id": "f86606bc",
   "metadata": {},
   "outputs": [],
   "source": [
    "# importing priority queue\n",
    "from queue import PriorityQueue\n",
    "\n",
    "# initializing priority queue\n",
    "Queue = PriorityQueue()\n",
    "\n",
    "# adding elements in priority level\n",
    "Queue.put((2, \"Bashir\"))\n",
    "Queue.put((1, \"alam\"))\n",
    "Queue.put((3, \"Erlam\"))"
   ]
  },
  {
   "cell_type": "code",
   "execution_count": 4,
   "id": "a21552e8",
   "metadata": {},
   "outputs": [
    {
     "name": "stdout",
     "output_type": "stream",
     "text": [
      "(1, 'alam')\n"
     ]
    }
   ],
   "source": [
    "# getting elements \n",
    "element = Queue.get()\n",
    "\n",
    "# printing element\n",
    "print(element)"
   ]
  },
  {
   "cell_type": "code",
   "execution_count": 8,
   "id": "845c91ea",
   "metadata": {},
   "outputs": [
    {
     "name": "stdout",
     "output_type": "stream",
     "text": [
      "the size of queue is: 2\n"
     ]
    }
   ],
   "source": [
    "# importing priority queue\n",
    "from queue import PriorityQueue\n",
    "\n",
    "# initializing priority queue\n",
    "Queue = PriorityQueue()\n",
    "\n",
    "# adding elements in priority level\n",
    "Queue.put((4, \"Bashir\"))\n",
    "Queue.put((2, \"alam\"))\n",
    "\n",
    "# get size of priority queue in python\n",
    "print('the size of queue is:', Queue.qsize())"
   ]
  },
  {
   "cell_type": "code",
   "execution_count": 9,
   "id": "014cd6c1",
   "metadata": {},
   "outputs": [
    {
     "name": "stdout",
     "output_type": "stream",
     "text": [
      "the size of queue is: 4\n"
     ]
    }
   ],
   "source": [
    "# importing priority queue\n",
    "from queue import PriorityQueue\n",
    "\n",
    "# initializing priority queue\n",
    "Queue = PriorityQueue()\n",
    "\n",
    "# adding elements in priority level\n",
    "Queue.put((4, \"Bashir\"))\n",
    "Queue.put((2, \"alam\"))\n",
    "Queue.put((3, \"erlan\"))\n",
    "Queue.put((1, \"al\"))\n",
    "\n",
    "\n",
    "# get size of priority queue in python\n",
    "print('the size of queue is:', Queue.qsize())"
   ]
  },
  {
   "cell_type": "code",
   "execution_count": 10,
   "id": "926183f2",
   "metadata": {},
   "outputs": [
    {
     "name": "stdout",
     "output_type": "stream",
     "text": [
      "the size of queue is: 3\n"
     ]
    }
   ],
   "source": [
    "# getting elements from queue\n",
    "Queue.get()\n",
    "\n",
    "# get size of priority queue in python\n",
    "print('the size of queue is:', Queue.qsize())"
   ]
  },
  {
   "cell_type": "code",
   "execution_count": null,
   "id": "16deef0b",
   "metadata": {},
   "outputs": [],
   "source": []
  }
 ],
 "metadata": {
  "kernelspec": {
   "display_name": "Python 3 (ipykernel)",
   "language": "python",
   "name": "python3"
  },
  "language_info": {
   "codemirror_mode": {
    "name": "ipython",
    "version": 3
   },
   "file_extension": ".py",
   "mimetype": "text/x-python",
   "name": "python",
   "nbconvert_exporter": "python",
   "pygments_lexer": "ipython3",
   "version": "3.10.6"
  }
 },
 "nbformat": 4,
 "nbformat_minor": 5
}
