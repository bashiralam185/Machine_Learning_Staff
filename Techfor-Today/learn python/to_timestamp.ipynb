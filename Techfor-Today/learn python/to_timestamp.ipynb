{
 "cells": [
  {
   "cell_type": "code",
   "execution_count": 1,
   "id": "2f303dfb",
   "metadata": {},
   "outputs": [],
   "source": [
    "# importing pandas module\n",
    "import pandas as pd"
   ]
  },
  {
   "cell_type": "code",
   "execution_count": 2,
   "id": "b3a852f2",
   "metadata": {},
   "outputs": [
    {
     "name": "stdout",
     "output_type": "stream",
     "text": [
      "2002-03-24 02:01:33\n"
     ]
    }
   ],
   "source": [
    "# Creating a time period\n",
    "timePeriod = pd.Period(freq ='S', year = 2002, month = 3, day = 24,\n",
    "                         hour = 2, minute = 1, second = 33)\n",
    "  \n",
    "# Print the Period object\n",
    "print(timePeriod)"
   ]
  },
  {
   "cell_type": "code",
   "execution_count": 3,
   "id": "c7788206",
   "metadata": {},
   "outputs": [
    {
     "name": "stdout",
     "output_type": "stream",
     "text": [
      "<class 'pandas._libs.tslibs.period.Period'>\n"
     ]
    }
   ],
   "source": [
    "# printing the type of the variable\n",
    "print(type(timePeriod))"
   ]
  },
  {
   "cell_type": "code",
   "execution_count": 4,
   "id": "9b8955fe",
   "metadata": {},
   "outputs": [
    {
     "name": "stdout",
     "output_type": "stream",
     "text": [
      "2002-03-24 02:01:33\n"
     ]
    }
   ],
   "source": [
    "# converting period to timestamp\n",
    "timeStamp =timePeriod.to_timestamp()\n",
    "\n",
    "# printing\n",
    "print(timeStamp)"
   ]
  },
  {
   "cell_type": "code",
   "execution_count": 5,
   "id": "beb2c76a",
   "metadata": {},
   "outputs": [
    {
     "name": "stdout",
     "output_type": "stream",
     "text": [
      "<class 'pandas._libs.tslibs.timestamps.Timestamp'>\n"
     ]
    }
   ],
   "source": [
    "# printing the type of the variable\n",
    "print(type(timeStamp))"
   ]
  },
  {
   "cell_type": "code",
   "execution_count": 14,
   "id": "c69181f9",
   "metadata": {},
   "outputs": [
    {
     "name": "stdout",
     "output_type": "stream",
     "text": [
      "2002-03-24 02:01:33\n",
      "<class 'pandas._libs.tslibs.timestamps.Timestamp'>\n"
     ]
    }
   ],
   "source": [
    "# Creating a time period\n",
    "timePeriod = pd.Period(freq='S',year = 2002, month = 3, day = 24,\n",
    "                         hour = 2, minute = 1, second = 33)\n",
    "\n",
    "# T shows minutely frequency\n",
    "timeStamp =timePeriod.to_timestamp()\n",
    "\n",
    "# print\n",
    "print(timeStamp)\n",
    "print(type(timeStamp))"
   ]
  },
  {
   "cell_type": "code",
   "execution_count": 19,
   "id": "84b677f0",
   "metadata": {},
   "outputs": [
    {
     "name": "stdout",
     "output_type": "stream",
     "text": [
      "2015-11-05 20:17:53\n",
      "<class 'datetime.datetime'>\n"
     ]
    }
   ],
   "source": [
    "# importing datetime module\n",
    "from datetime import datetime\n",
    "\n",
    "# creating a random number to have time stamp\n",
    "timeStamp = 1446733073\n",
    "\n",
    "# converting timestamp to datetime\n",
    "dt= datetime.fromtimestamp(timestamp)\n",
    "\n",
    "# printing\n",
    "print(dt)\n",
    "print(type(dt))\n"
   ]
  },
  {
   "cell_type": "code",
   "execution_count": 35,
   "id": "09b88996",
   "metadata": {},
   "outputs": [
    {
     "name": "stdout",
     "output_type": "stream",
     "text": [
      "       DATE  IPG2211A2N\n",
      "0  1/1/1985     72.5052\n",
      "1  2/1/1985     70.6720\n",
      "2  3/1/1985     62.4502\n",
      "3  4/1/1985     57.4714\n",
      "4  5/1/1985     55.3151\n"
     ]
    }
   ],
   "source": [
    "# importing dataset\n",
    "data = pd.read_csv(\"Electric_Production.csv\")\n",
    "\n",
    "# printing \n",
    "print(data.head())"
   ]
  },
  {
   "cell_type": "code",
   "execution_count": 32,
   "id": "00042e73",
   "metadata": {},
   "outputs": [
    {
     "name": "stdout",
     "output_type": "stream",
     "text": [
      "<class 'pandas.core.frame.DataFrame'>\n",
      "RangeIndex: 397 entries, 0 to 396\n",
      "Data columns (total 2 columns):\n",
      " #   Column      Non-Null Count  Dtype  \n",
      "---  ------      --------------  -----  \n",
      " 0   DATE        397 non-null    object \n",
      " 1   IPG2211A2N  397 non-null    float64\n",
      "dtypes: float64(1), object(1)\n",
      "memory usage: 6.3+ KB\n"
     ]
    }
   ],
   "source": [
    "data.info()"
   ]
  },
  {
   "cell_type": "code",
   "execution_count": 36,
   "id": "05507313",
   "metadata": {},
   "outputs": [],
   "source": [
    "# creating new row and converting the date into time stamp\n",
    "data['new'] = data['DATE'].to_timestamp"
   ]
  },
  {
   "cell_type": "code",
   "execution_count": 37,
   "id": "5141fca9",
   "metadata": {},
   "outputs": [
    {
     "name": "stdout",
     "output_type": "stream",
     "text": [
      "       DATE  IPG2211A2N                                                new\n",
      "0  1/1/1985     72.5052  <bound method Series.to_timestamp of 0       1...\n",
      "1  2/1/1985     70.6720  <bound method Series.to_timestamp of 0       1...\n",
      "2  3/1/1985     62.4502  <bound method Series.to_timestamp of 0       1...\n",
      "3  4/1/1985     57.4714  <bound method Series.to_timestamp of 0       1...\n",
      "4  5/1/1985     55.3151  <bound method Series.to_timestamp of 0       1...\n"
     ]
    }
   ],
   "source": []
  },
  {
   "cell_type": "code",
   "execution_count": null,
   "id": "3c406430",
   "metadata": {},
   "outputs": [],
   "source": []
  }
 ],
 "metadata": {
  "kernelspec": {
   "display_name": "Python 3 (ipykernel)",
   "language": "python",
   "name": "python3"
  },
  "language_info": {
   "codemirror_mode": {
    "name": "ipython",
    "version": 3
   },
   "file_extension": ".py",
   "mimetype": "text/x-python",
   "name": "python",
   "nbconvert_exporter": "python",
   "pygments_lexer": "ipython3",
   "version": "3.10.6"
  }
 },
 "nbformat": 4,
 "nbformat_minor": 5
}
