{
 "cells": [
  {
   "cell_type": "code",
   "execution_count": 3,
   "id": "0e303c07",
   "metadata": {},
   "outputs": [],
   "source": [
    "class Car:\n",
    " \n",
    "    # Instance attribute\n",
    "    def __init__(self, name, model):\n",
    "        self.name = name\n",
    "        self.model = model"
   ]
  },
  {
   "cell_type": "code",
   "execution_count": 5,
   "id": "5c4de4c5",
   "metadata": {},
   "outputs": [],
   "source": [
    "# creating objects\n",
    "car1 = Car('black', 2019)\n",
    "car2 = Car('white', 2020)\n"
   ]
  },
  {
   "cell_type": "code",
   "execution_count": 6,
   "id": "d37e1e94",
   "metadata": {},
   "outputs": [
    {
     "name": "stdout",
     "output_type": "stream",
     "text": [
      "Car 1 is\n",
      "black\n",
      "2019\n",
      "Car 12 is\n",
      "white\n",
      "2020\n"
     ]
    }
   ],
   "source": [
    "#printing property of car1\n",
    "print('Car 1 is')\n",
    "print(car1.name)\n",
    "print(car1.model)\n",
    "\n",
    "#printing property of car2\n",
    "print('Car 12 is')\n",
    "print(car2.name)\n",
    "print(car2.model)\n"
   ]
  },
  {
   "cell_type": "code",
   "execution_count": 10,
   "id": "a91bd689",
   "metadata": {},
   "outputs": [],
   "source": [
    "# creating the class\n",
    "class Person:\n",
    "\n",
    "    # initializing\n",
    "    def __init__(self, name):\n",
    "        \n",
    "        # private varibale or property in Python\n",
    "        self.__name = name\n",
    "\n",
    "    #getter method to get the property\n",
    "    def get(self):\n",
    "        return self.__name\n",
    "\n",
    "    #setter method to change the value\n",
    "    def set_a(self, name):\n",
    "        self.__name = name"
   ]
  },
  {
   "cell_type": "code",
   "execution_count": 11,
   "id": "98b96dcc",
   "metadata": {},
   "outputs": [
    {
     "data": {
      "text/plain": [
       "'Jacky'"
      ]
     },
     "execution_count": 11,
     "metadata": {},
     "output_type": "execute_result"
    }
   ],
   "source": [
    "# creating an object\n",
    "person = Person(\"Jacky\")\n",
    "\n",
    "# getting the method\n",
    "person.get()"
   ]
  },
  {
   "cell_type": "code",
   "execution_count": 12,
   "id": "b45e23f8",
   "metadata": {},
   "outputs": [
    {
     "name": "stdout",
     "output_type": "stream",
     "text": [
      "Jonson\n"
     ]
    }
   ],
   "source": [
    "## setting a new value\n",
    "person.set_a('Jonson')\n",
    "\n",
    "## getting the value of model\n",
    "print(person.get())\n"
   ]
  },
  {
   "cell_type": "code",
   "execution_count": 13,
   "id": "8708518e",
   "metadata": {},
   "outputs": [],
   "source": [
    "# creating a class\n",
    "class Person:\n",
    "    \n",
    "    def __init__(self, name):\n",
    "        self._name = name\n",
    "\n",
    "    # using decorator for property\n",
    "    @property\n",
    "    def name(self):\n",
    "        return self._name\n",
    "\n",
    "    # using decorators for setter\n",
    "    @name.setter\n",
    "    def name(self, value):\n",
    "        self._name = value\n",
    "\n",
    "    #using decorator for python deleter\n",
    "    @name.deleter\n",
    "    def name(self):\n",
    "        del self._name"
   ]
  },
  {
   "cell_type": "code",
   "execution_count": 15,
   "id": "b377ff41",
   "metadata": {},
   "outputs": [
    {
     "name": "stdout",
     "output_type": "stream",
     "text": [
      "Micke\n"
     ]
    }
   ],
   "source": [
    "# creating new object\n",
    "person = Person('Micke')\n",
    "\n",
    "# printing the name\n",
    "print(person.name)"
   ]
  },
  {
   "cell_type": "code",
   "execution_count": 16,
   "id": "5f86a8ed",
   "metadata": {},
   "outputs": [
    {
     "ename": "AttributeError",
     "evalue": "'Person' object has no attribute '_name'",
     "output_type": "error",
     "traceback": [
      "\u001b[0;31m---------------------------------------------------------------------------\u001b[0m",
      "\u001b[0;31mAttributeError\u001b[0m                            Traceback (most recent call last)",
      "\u001b[0;32m/tmp/ipykernel_110198/220876538.py\u001b[0m in \u001b[0;36m<module>\u001b[0;34m\u001b[0m\n\u001b[1;32m      3\u001b[0m \u001b[0;34m\u001b[0m\u001b[0m\n\u001b[1;32m      4\u001b[0m \u001b[0;31m# calling name\u001b[0m\u001b[0;34m\u001b[0m\u001b[0;34m\u001b[0m\u001b[0m\n\u001b[0;32m----> 5\u001b[0;31m \u001b[0mprint\u001b[0m\u001b[0;34m(\u001b[0m\u001b[0mperson\u001b[0m\u001b[0;34m.\u001b[0m\u001b[0mname\u001b[0m\u001b[0;34m)\u001b[0m\u001b[0;34m\u001b[0m\u001b[0;34m\u001b[0m\u001b[0m\n\u001b[0m",
      "\u001b[0;32m/tmp/ipykernel_110198/3040291070.py\u001b[0m in \u001b[0;36mname\u001b[0;34m(self)\u001b[0m\n\u001b[1;32m      8\u001b[0m     \u001b[0;34m@\u001b[0m\u001b[0mproperty\u001b[0m\u001b[0;34m\u001b[0m\u001b[0;34m\u001b[0m\u001b[0m\n\u001b[1;32m      9\u001b[0m     \u001b[0;32mdef\u001b[0m \u001b[0mname\u001b[0m\u001b[0;34m(\u001b[0m\u001b[0mself\u001b[0m\u001b[0;34m)\u001b[0m\u001b[0;34m:\u001b[0m\u001b[0;34m\u001b[0m\u001b[0;34m\u001b[0m\u001b[0m\n\u001b[0;32m---> 10\u001b[0;31m         \u001b[0;32mreturn\u001b[0m \u001b[0mself\u001b[0m\u001b[0;34m.\u001b[0m\u001b[0m_name\u001b[0m\u001b[0;34m\u001b[0m\u001b[0;34m\u001b[0m\u001b[0m\n\u001b[0m\u001b[1;32m     11\u001b[0m \u001b[0;34m\u001b[0m\u001b[0m\n\u001b[1;32m     12\u001b[0m     \u001b[0;31m# using decorators for setter\u001b[0m\u001b[0;34m\u001b[0m\u001b[0;34m\u001b[0m\u001b[0m\n",
      "\u001b[0;31mAttributeError\u001b[0m: 'Person' object has no attribute '_name'"
     ]
    }
   ],
   "source": [
    "# deleting the name \n",
    "del person.name\n",
    "\n",
    "# calling name \n",
    "print(person.name)"
   ]
  },
  {
   "cell_type": "code",
   "execution_count": 17,
   "id": "c162288a",
   "metadata": {},
   "outputs": [],
   "source": [
    "# creating the class\n",
    "class Person:\n",
    "\n",
    "    # initializing\n",
    "    def __init__(self, name):\n",
    "        \n",
    "        # private varibale or property in Python\n",
    "        self.__name = name\n",
    "\n",
    "    #getter method to get the property\n",
    "    def get(self):\n",
    "        return self.__name\n",
    "\n",
    "    #setter method to change the value\n",
    "    def set_a(self, name):\n",
    "        self.__name = name\n",
    "    \n",
    "    # creating python deleter\n",
    "    def deleter(self):\n",
    "        del self.name"
   ]
  },
  {
   "cell_type": "code",
   "execution_count": 19,
   "id": "2058346f",
   "metadata": {},
   "outputs": [
    {
     "name": "stdout",
     "output_type": "stream",
     "text": [
      "Micke\n"
     ]
    }
   ],
   "source": [
    "# creating an object\n",
    "person = Person(\"Micke\")\n",
    "\n",
    "# accessing the name of the student\n",
    "print(person.get())"
   ]
  },
  {
   "cell_type": "code",
   "execution_count": 20,
   "id": "bf21e1a2",
   "metadata": {},
   "outputs": [
    {
     "ename": "AttributeError",
     "evalue": "name",
     "output_type": "error",
     "traceback": [
      "\u001b[0;31m---------------------------------------------------------------------------\u001b[0m",
      "\u001b[0;31mAttributeError\u001b[0m                            Traceback (most recent call last)",
      "\u001b[0;32m/tmp/ipykernel_110198/1845789711.py\u001b[0m in \u001b[0;36m<module>\u001b[0;34m\u001b[0m\n\u001b[1;32m      1\u001b[0m \u001b[0;31m# calling python deleter\u001b[0m\u001b[0;34m\u001b[0m\u001b[0;34m\u001b[0m\u001b[0m\n\u001b[0;32m----> 2\u001b[0;31m \u001b[0mperson\u001b[0m\u001b[0;34m.\u001b[0m\u001b[0mdeleter\u001b[0m\u001b[0;34m(\u001b[0m\u001b[0;34m)\u001b[0m\u001b[0;34m\u001b[0m\u001b[0;34m\u001b[0m\u001b[0m\n\u001b[0m\u001b[1;32m      3\u001b[0m \u001b[0;34m\u001b[0m\u001b[0m\n\u001b[1;32m      4\u001b[0m \u001b[0;31m# printing the name\u001b[0m\u001b[0;34m\u001b[0m\u001b[0;34m\u001b[0m\u001b[0m\n\u001b[1;32m      5\u001b[0m \u001b[0mprint\u001b[0m\u001b[0;34m(\u001b[0m\u001b[0mperson\u001b[0m\u001b[0;34m.\u001b[0m\u001b[0mget\u001b[0m\u001b[0;34m(\u001b[0m\u001b[0;34m)\u001b[0m\u001b[0;34m)\u001b[0m\u001b[0;34m\u001b[0m\u001b[0;34m\u001b[0m\u001b[0m\n",
      "\u001b[0;32m/tmp/ipykernel_110198/575497875.py\u001b[0m in \u001b[0;36mdeleter\u001b[0;34m(self)\u001b[0m\n\u001b[1;32m     18\u001b[0m     \u001b[0;31m# creating python deleter\u001b[0m\u001b[0;34m\u001b[0m\u001b[0;34m\u001b[0m\u001b[0m\n\u001b[1;32m     19\u001b[0m     \u001b[0;32mdef\u001b[0m \u001b[0mdeleter\u001b[0m\u001b[0;34m(\u001b[0m\u001b[0mself\u001b[0m\u001b[0;34m)\u001b[0m\u001b[0;34m:\u001b[0m\u001b[0;34m\u001b[0m\u001b[0;34m\u001b[0m\u001b[0m\n\u001b[0;32m---> 20\u001b[0;31m         \u001b[0;32mdel\u001b[0m \u001b[0mself\u001b[0m\u001b[0;34m.\u001b[0m\u001b[0mname\u001b[0m\u001b[0;34m\u001b[0m\u001b[0;34m\u001b[0m\u001b[0m\n\u001b[0m",
      "\u001b[0;31mAttributeError\u001b[0m: name"
     ]
    }
   ],
   "source": [
    "# calling python deleter\n",
    "person.deleter()\n",
    "\n",
    "# printing the name\n",
    "print(person.get())"
   ]
  },
  {
   "cell_type": "code",
   "execution_count": null,
   "id": "6961c44e",
   "metadata": {},
   "outputs": [],
   "source": []
  }
 ],
 "metadata": {
  "kernelspec": {
   "display_name": "Python 3 (ipykernel)",
   "language": "python",
   "name": "python3"
  },
  "language_info": {
   "codemirror_mode": {
    "name": "ipython",
    "version": 3
   },
   "file_extension": ".py",
   "mimetype": "text/x-python",
   "name": "python",
   "nbconvert_exporter": "python",
   "pygments_lexer": "ipython3",
   "version": "3.10.6"
  }
 },
 "nbformat": 4,
 "nbformat_minor": 5
}
