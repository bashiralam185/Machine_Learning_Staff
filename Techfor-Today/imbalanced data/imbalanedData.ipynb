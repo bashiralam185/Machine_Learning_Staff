{
 "cells": [
  {
   "cell_type": "code",
   "execution_count": 76,
   "id": "01ea873e",
   "metadata": {},
   "outputs": [
    {
     "data": {
      "text/html": [
       "<div>\n",
       "<style scoped>\n",
       "    .dataframe tbody tr th:only-of-type {\n",
       "        vertical-align: middle;\n",
       "    }\n",
       "\n",
       "    .dataframe tbody tr th {\n",
       "        vertical-align: top;\n",
       "    }\n",
       "\n",
       "    .dataframe thead th {\n",
       "        text-align: right;\n",
       "    }\n",
       "</style>\n",
       "<table border=\"1\" class=\"dataframe\">\n",
       "  <thead>\n",
       "    <tr style=\"text-align: right;\">\n",
       "      <th></th>\n",
       "      <th>Unnamed: 0</th>\n",
       "      <th>Time</th>\n",
       "      <th>V1</th>\n",
       "      <th>V2</th>\n",
       "      <th>V3</th>\n",
       "      <th>V4</th>\n",
       "      <th>V5</th>\n",
       "      <th>V6</th>\n",
       "      <th>V7</th>\n",
       "      <th>V8</th>\n",
       "      <th>...</th>\n",
       "      <th>V21</th>\n",
       "      <th>V22</th>\n",
       "      <th>V23</th>\n",
       "      <th>V24</th>\n",
       "      <th>V25</th>\n",
       "      <th>V26</th>\n",
       "      <th>V27</th>\n",
       "      <th>V28</th>\n",
       "      <th>Amount</th>\n",
       "      <th>Class</th>\n",
       "    </tr>\n",
       "  </thead>\n",
       "  <tbody>\n",
       "    <tr>\n",
       "      <th>0</th>\n",
       "      <td>541</td>\n",
       "      <td>406.0</td>\n",
       "      <td>-2.312227</td>\n",
       "      <td>1.951992</td>\n",
       "      <td>-1.609851</td>\n",
       "      <td>3.997906</td>\n",
       "      <td>-0.522188</td>\n",
       "      <td>-1.426545</td>\n",
       "      <td>-2.537387</td>\n",
       "      <td>1.391657</td>\n",
       "      <td>...</td>\n",
       "      <td>0.517232</td>\n",
       "      <td>-0.035049</td>\n",
       "      <td>-0.465211</td>\n",
       "      <td>0.320198</td>\n",
       "      <td>0.044519</td>\n",
       "      <td>0.177840</td>\n",
       "      <td>0.261145</td>\n",
       "      <td>-0.143276</td>\n",
       "      <td>0.00</td>\n",
       "      <td>1.0</td>\n",
       "    </tr>\n",
       "    <tr>\n",
       "      <th>1</th>\n",
       "      <td>623</td>\n",
       "      <td>472.0</td>\n",
       "      <td>-3.043541</td>\n",
       "      <td>-3.157307</td>\n",
       "      <td>1.088463</td>\n",
       "      <td>2.288644</td>\n",
       "      <td>1.359805</td>\n",
       "      <td>-1.064823</td>\n",
       "      <td>0.325574</td>\n",
       "      <td>-0.067794</td>\n",
       "      <td>...</td>\n",
       "      <td>0.661696</td>\n",
       "      <td>0.435477</td>\n",
       "      <td>1.375966</td>\n",
       "      <td>-0.293803</td>\n",
       "      <td>0.279798</td>\n",
       "      <td>-0.145362</td>\n",
       "      <td>-0.252773</td>\n",
       "      <td>0.035764</td>\n",
       "      <td>529.00</td>\n",
       "      <td>1.0</td>\n",
       "    </tr>\n",
       "    <tr>\n",
       "      <th>2</th>\n",
       "      <td>4920</td>\n",
       "      <td>4462.0</td>\n",
       "      <td>-2.303350</td>\n",
       "      <td>1.759247</td>\n",
       "      <td>-0.359745</td>\n",
       "      <td>2.330243</td>\n",
       "      <td>-0.821628</td>\n",
       "      <td>-0.075788</td>\n",
       "      <td>0.562320</td>\n",
       "      <td>-0.399147</td>\n",
       "      <td>...</td>\n",
       "      <td>-0.294166</td>\n",
       "      <td>-0.932391</td>\n",
       "      <td>0.172726</td>\n",
       "      <td>-0.087330</td>\n",
       "      <td>-0.156114</td>\n",
       "      <td>-0.542628</td>\n",
       "      <td>0.039566</td>\n",
       "      <td>-0.153029</td>\n",
       "      <td>239.93</td>\n",
       "      <td>1.0</td>\n",
       "    </tr>\n",
       "    <tr>\n",
       "      <th>3</th>\n",
       "      <td>6108</td>\n",
       "      <td>6986.0</td>\n",
       "      <td>-4.397974</td>\n",
       "      <td>1.358367</td>\n",
       "      <td>-2.592844</td>\n",
       "      <td>2.679787</td>\n",
       "      <td>-1.128131</td>\n",
       "      <td>-1.706536</td>\n",
       "      <td>-3.496197</td>\n",
       "      <td>-0.248778</td>\n",
       "      <td>...</td>\n",
       "      <td>0.573574</td>\n",
       "      <td>0.176968</td>\n",
       "      <td>-0.436207</td>\n",
       "      <td>-0.053502</td>\n",
       "      <td>0.252405</td>\n",
       "      <td>-0.657488</td>\n",
       "      <td>-0.827136</td>\n",
       "      <td>0.849573</td>\n",
       "      <td>59.00</td>\n",
       "      <td>1.0</td>\n",
       "    </tr>\n",
       "    <tr>\n",
       "      <th>4</th>\n",
       "      <td>6329</td>\n",
       "      <td>7519.0</td>\n",
       "      <td>1.234235</td>\n",
       "      <td>3.019740</td>\n",
       "      <td>-4.304597</td>\n",
       "      <td>4.732795</td>\n",
       "      <td>3.624201</td>\n",
       "      <td>-1.357746</td>\n",
       "      <td>1.713445</td>\n",
       "      <td>-0.496358</td>\n",
       "      <td>...</td>\n",
       "      <td>-0.379068</td>\n",
       "      <td>-0.704181</td>\n",
       "      <td>-0.656805</td>\n",
       "      <td>-1.632653</td>\n",
       "      <td>1.488901</td>\n",
       "      <td>0.566797</td>\n",
       "      <td>-0.010016</td>\n",
       "      <td>0.146793</td>\n",
       "      <td>1.00</td>\n",
       "      <td>1.0</td>\n",
       "    </tr>\n",
       "  </tbody>\n",
       "</table>\n",
       "<p>5 rows × 32 columns</p>\n",
       "</div>"
      ],
      "text/plain": [
       "   Unnamed: 0    Time        V1        V2        V3        V4        V5  \\\n",
       "0         541   406.0 -2.312227  1.951992 -1.609851  3.997906 -0.522188   \n",
       "1         623   472.0 -3.043541 -3.157307  1.088463  2.288644  1.359805   \n",
       "2        4920  4462.0 -2.303350  1.759247 -0.359745  2.330243 -0.821628   \n",
       "3        6108  6986.0 -4.397974  1.358367 -2.592844  2.679787 -1.128131   \n",
       "4        6329  7519.0  1.234235  3.019740 -4.304597  4.732795  3.624201   \n",
       "\n",
       "         V6        V7        V8  ...       V21       V22       V23       V24  \\\n",
       "0 -1.426545 -2.537387  1.391657  ...  0.517232 -0.035049 -0.465211  0.320198   \n",
       "1 -1.064823  0.325574 -0.067794  ...  0.661696  0.435477  1.375966 -0.293803   \n",
       "2 -0.075788  0.562320 -0.399147  ... -0.294166 -0.932391  0.172726 -0.087330   \n",
       "3 -1.706536 -3.496197 -0.248778  ...  0.573574  0.176968 -0.436207 -0.053502   \n",
       "4 -1.357746  1.713445 -0.496358  ... -0.379068 -0.704181 -0.656805 -1.632653   \n",
       "\n",
       "        V25       V26       V27       V28  Amount  Class  \n",
       "0  0.044519  0.177840  0.261145 -0.143276    0.00    1.0  \n",
       "1  0.279798 -0.145362 -0.252773  0.035764  529.00    1.0  \n",
       "2 -0.156114 -0.542628  0.039566 -0.153029  239.93    1.0  \n",
       "3  0.252405 -0.657488 -0.827136  0.849573   59.00    1.0  \n",
       "4  1.488901  0.566797 -0.010016  0.146793    1.00    1.0  \n",
       "\n",
       "[5 rows x 32 columns]"
      ]
     },
     "execution_count": 76,
     "metadata": {},
     "output_type": "execute_result"
    }
   ],
   "source": [
    "# importing pandas\n",
    "import pandas as pd\n",
    "\n",
    "# loading dataset\n",
    "data = pd.read_csv('data.csv')\n",
    "\n",
    "# heading\n",
    "data.head()"
   ]
  },
  {
   "cell_type": "code",
   "execution_count": 47,
   "id": "4e153f01",
   "metadata": {},
   "outputs": [
    {
     "name": "stdout",
     "output_type": "stream",
     "text": [
      "<class 'pandas.core.frame.DataFrame'>\n",
      "RangeIndex: 3074 entries, 0 to 3073\n",
      "Data columns (total 32 columns):\n",
      " #   Column      Non-Null Count  Dtype  \n",
      "---  ------      --------------  -----  \n",
      " 0   Unnamed: 0  3074 non-null   int64  \n",
      " 1   Time        3074 non-null   float64\n",
      " 2   V1          3074 non-null   float64\n",
      " 3   V2          3074 non-null   float64\n",
      " 4   V3          3074 non-null   float64\n",
      " 5   V4          3074 non-null   float64\n",
      " 6   V5          3074 non-null   float64\n",
      " 7   V6          3074 non-null   float64\n",
      " 8   V7          3074 non-null   float64\n",
      " 9   V8          3074 non-null   float64\n",
      " 10  V9          3074 non-null   float64\n",
      " 11  V10         3074 non-null   float64\n",
      " 12  V11         3073 non-null   float64\n",
      " 13  V12         3073 non-null   float64\n",
      " 14  V13         3073 non-null   float64\n",
      " 15  V14         3073 non-null   float64\n",
      " 16  V15         3073 non-null   float64\n",
      " 17  V16         3073 non-null   float64\n",
      " 18  V17         3073 non-null   float64\n",
      " 19  V18         3073 non-null   float64\n",
      " 20  V19         3073 non-null   float64\n",
      " 21  V20         3073 non-null   float64\n",
      " 22  V21         3073 non-null   float64\n",
      " 23  V22         3073 non-null   float64\n",
      " 24  V23         3073 non-null   float64\n",
      " 25  V24         3073 non-null   float64\n",
      " 26  V25         3073 non-null   float64\n",
      " 27  V26         3073 non-null   float64\n",
      " 28  V27         3073 non-null   float64\n",
      " 29  V28         3073 non-null   float64\n",
      " 30  Amount      3073 non-null   float64\n",
      " 31  Class       3073 non-null   float64\n",
      "dtypes: float64(31), int64(1)\n",
      "memory usage: 768.6 KB\n"
     ]
    }
   ],
   "source": [
    "data.info()"
   ]
  },
  {
   "cell_type": "code",
   "execution_count": null,
   "id": "b6504394",
   "metadata": {},
   "outputs": [],
   "source": []
  },
  {
   "cell_type": "code",
   "execution_count": 48,
   "id": "5a00709a",
   "metadata": {},
   "outputs": [
    {
     "data": {
      "text/plain": [
       "<AxesSubplot:xlabel='Class', ylabel='count'>"
      ]
     },
     "execution_count": 48,
     "metadata": {},
     "output_type": "execute_result"
    },
    {
     "data": {
      "image/png": "[encoded data removed]",
      "text/plain": [
       "<Figure size 432x288 with 1 Axes>"
      ]
     },
     "metadata": {
      "needs_background": "light"
     },
     "output_type": "display_data"
    }
   ],
   "source": [
    "# importing the seaborn module\n",
    "import seaborn as sns\n",
    "\n",
    "# plotting the bar charts\n",
    "sns.countplot(data = data, x = data['Class'])"
   ]
  },
  {
   "cell_type": "code",
   "execution_count": null,
   "id": "c36ca11b",
   "metadata": {},
   "outputs": [],
   "source": []
  },
  {
   "cell_type": "code",
   "execution_count": null,
   "id": "c8a2adbb",
   "metadata": {},
   "outputs": [],
   "source": []
  },
  {
   "cell_type": "code",
   "execution_count": 49,
   "id": "0dbf6c90",
   "metadata": {},
   "outputs": [
    {
     "name": "stdout",
     "output_type": "stream",
     "text": [
      "2581\n",
      "492\n"
     ]
    }
   ],
   "source": [
    "# counting output classes\n",
    "class_0, class_1 = data['Class'].value_counts()\n",
    "\n",
    "# printing classes\n",
    "print(class_0)\n",
    "print(class_1)"
   ]
  },
  {
   "cell_type": "code",
   "execution_count": 57,
   "id": "8b2f2f07",
   "metadata": {},
   "outputs": [
    {
     "name": "stdout",
     "output_type": "stream",
     "text": [
      "class 0: (2581, 32)\n",
      "class 1: (492, 32)\n"
     ]
    }
   ],
   "source": [
    "# two different datasets\n",
    "Class_0 = data[data['Class'] == 0]\n",
    "\n",
    "# second dataset\n",
    "Class_1 = data[data['Class'] == 1]\n",
    "\n",
    "# printing the shape of the classes\n",
    "print('class 0:', Class_0.shape)\n",
    "print('class 1:', Class_1.shape)"
   ]
  },
  {
   "cell_type": "code",
   "execution_count": 41,
   "id": "2b79401d",
   "metadata": {},
   "outputs": [
    {
     "name": "stdout",
     "output_type": "stream",
     "text": [
      "class 0: (492, 32)\n",
      "class 1: (492, 32)\n"
     ]
    }
   ],
   "source": [
    "# undersampling the majority class\n",
    "class_0_under = Class_0.sample(class_1)\n",
    "\n",
    "# concatinating the dataset\n",
    "test_under = pd.concat([class_0_under, Class_1], axis=0)\n",
    "\n",
    "# printing the shape of the classes\n",
    "# two different datasets\n",
    "Class_0 = test_under[test_under['Class'] == 0]\n",
    "\n",
    "# second dataset\n",
    "Class_1 = test_under[test_under['Class'] == 1]\n",
    "\n",
    "# printing the shape of the classes\n",
    "print('class 0:', Class_0.shape)\n",
    "print('class 1:', Class_1.shape)"
   ]
  },
  {
   "cell_type": "code",
   "execution_count": 64,
   "id": "ec7d1d2f",
   "metadata": {},
   "outputs": [
    {
     "name": "stdout",
     "output_type": "stream",
     "text": [
      "class 0: (2581, 32)\n",
      "class 1: (2581, 32)\n"
     ]
    }
   ],
   "source": [
    "class_count_0, class_count_1 = data['Class'].value_counts()\n",
    "\n",
    "# Separate class\n",
    "class_0 = data[data['Class'] == 0]\n",
    "class_1 = data[data['Class'] == 1]\n",
    "\n",
    "\n",
    "class_1_over = class_1.sample(class_count_0, replace=True)\n",
    "\n",
    "test_over = pd.concat([class_1_over, class_0], axis=0)\n",
    "\n",
    "\n",
    "# two different datasets\n",
    "Class_0 = test_over[test_over['Class'] == 0]\n",
    "\n",
    "# second dataset\n",
    "Class_1 = test_over[test_over['Class'] == 1]\n",
    "\n",
    "\n",
    "# printing the shape of the classes\n",
    "print('class 0:', Class_0.shape)\n",
    "print('class 1:', Class_1.shape)"
   ]
  },
  {
   "cell_type": "code",
   "execution_count": 65,
   "id": "1d6bfd5c",
   "metadata": {},
   "outputs": [
    {
     "data": {
      "text/plain": [
       "<AxesSubplot:xlabel='Class', ylabel='count'>"
      ]
     },
     "execution_count": 65,
     "metadata": {},
     "output_type": "execute_result"
    },
    {
     "data": {
      "image/png": "[encoded data removed]",
      "text/plain": [
       "<Figure size 432x288 with 1 Axes>"
      ]
     },
     "metadata": {
      "needs_background": "light"
     },
     "output_type": "display_data"
    }
   ],
   "source": [
    "# plotting the bar charts\n",
    "sns.countplot(data = test_over, x = test_over['Class'])"
   ]
  },
  {
   "cell_type": "code",
   "execution_count": 79,
   "id": "1c2f977d",
   "metadata": {},
   "outputs": [
    {
     "name": "stdout",
     "output_type": "stream",
     "text": [
      "Original dataset shape Counter({1: 900, 0: 100})\n",
      "Resampled dataset shape Counter({0: 100, 1: 100})\n"
     ]
    }
   ],
   "source": [
    "from collections import Counter\n",
    "from sklearn.datasets import make_classification\n",
    "from imblearn.under_sampling import RandomUnderSampler \n",
    "X, y = make_classification(n_classes=2, class_sep=2,\n",
    " weights=[0.1, 0.9], n_informative=3, n_redundant=1, flip_y=0,\n",
    "n_features=20, n_clusters_per_class=1, n_samples=1000, random_state=10)\n",
    "print('Original dataset shape %s' % Counter(y))\n",
    "rus = RandomUnderSampler(random_state=42)\n",
    "X_res, y_res = rus.fit_resample(X, y)\n",
    "print('Resampled dataset shape %s' % Counter(y_res))\n"
   ]
  },
  {
   "cell_type": "code",
   "execution_count": 93,
   "id": "189a6c5a",
   "metadata": {},
   "outputs": [
    {
     "data": {
      "text/plain": [
       "<BarContainer object of 2 artists>"
      ]
     },
     "execution_count": 93,
     "metadata": {},
     "output_type": "execute_result"
    },
    {
     "data": {
      "image/png": "[encoded data removed]",
      "text/plain": [
       "<Figure size 432x288 with 1 Axes>"
      ]
     },
     "metadata": {
      "needs_background": "light"
     },
     "output_type": "display_data"
    }
   ],
   "source": [
    "# inporting the modules\n",
    "from sklearn.datasets import make_classification\n",
    "import matplotlib.pyplot as plt\n",
    "\n",
    "# creaating a random classifition dataset\n",
    "X, y = make_classification(n_classes=2, class_sep=2,\n",
    " weights=[0.1, 0.9], n_informative=3, n_redundant=1, flip_y=0,\n",
    "n_features=20, n_clusters_per_class=1, n_samples=1200, random_state=10)\n",
    "\n",
    "# plotting bar charts\n",
    "plt.bar([1,0],[np.count_nonzero(y == 0),np.count_nonzero(y == 1)])"
   ]
  },
  {
   "cell_type": "code",
   "execution_count": 95,
   "id": "8e917e97",
   "metadata": {},
   "outputs": [
    {
     "name": "stdout",
     "output_type": "stream",
     "text": [
      "original dataset shape: Counter({1: 1080, 0: 120})\n",
      "Resample dataset shape Counter({0: 120, 1: 120})\n"
     ]
    }
   ],
   "source": [
    "# importing the random under sampler\n",
    "from imblearn.under_sampling import RandomUnderSampler\n",
    "\n",
    "# initializing the random sampler\n",
    "rus = RandomUnderSampler(random_state=42, replacement=True)\n",
    "\n",
    "# fitting x and y\n",
    "x_rus, y_rus = rus.fit_resample(X, y)\n",
    "\n",
    "# checking the orignal and resamples shaped\n",
    "print('original dataset shape:', Counter(y))\n",
    "print('Resample dataset shape', Counter(y_rus))\n"
   ]
  },
  {
   "cell_type": "code",
   "execution_count": 96,
   "id": "efe8e647",
   "metadata": {},
   "outputs": [
    {
     "name": "stdout",
     "output_type": "stream",
     "text": [
      "Original dataset shape Counter({1: 1080, 0: 120})\n",
      "Resample dataset shape Counter({1: 1080, 0: 1080})\n"
     ]
    }
   ],
   "source": [
    "# importing the module\n",
    "from imblearn.over_sampling import RandomOverSampler\n",
    "\n",
    "# initializing the random sample\n",
    "ros = RandomOverSampler(random_state=0)\n",
    "\n",
    "# fitting the data\n",
    "x_ros, y_ros = ros.fit_resample(X, y)\n",
    "\n",
    "print('Original dataset shape', Counter(y))\n",
    "print('Resample dataset shape', Counter(y_ros))"
   ]
  },
  {
   "cell_type": "code",
   "execution_count": 118,
   "id": "94673bf3",
   "metadata": {},
   "outputs": [
    {
     "name": "stdout",
     "output_type": "stream",
     "text": [
      "Original dataset shape Counter({1: 1080, 0: 120})\n",
      "Resample dataset shape Counter({1: 1080, 0: 1080})\n"
     ]
    }
   ],
   "source": [
    "# importing the tomeklinks\n",
    "from imblearn.under_sampling import TomekLinks\n",
    "\n",
    "# initializing the model\n",
    "tl = RandomOverSampler(sampling_strategy='minity')\n",
    "\n",
    "# fit predictor and target variable\n",
    "x_tl, y_tl = ros.fit_resample(X, y)\n",
    "\n",
    "print('Original dataset shape', Counter(y))\n",
    "print('Resample dataset shape', Counter(y_ros))"
   ]
  },
  {
   "cell_type": "code",
   "execution_count": 119,
   "id": "4adf7129",
   "metadata": {},
   "outputs": [
    {
     "name": "stdout",
     "output_type": "stream",
     "text": [
      "Original dataset shape Counter({1: 1080, 0: 120})\n",
      "Resample dataset shape Counter({1: 1080, 0: 1080})\n"
     ]
    }
   ],
   "source": [
    "# import the smote library\n",
    "from imblearn.over_sampling import SMOTE\n",
    "\n",
    "# initializing the smote\n",
    "smote = SMOTE()\n",
    "\n",
    "# fit predictor and target variable\n",
    "x_smote, y_smote = smote.fit_resample(X, y)\n",
    "\n",
    "\n",
    "# printing\n",
    "print('Original dataset shape', Counter(y))\n",
    "print('Resample dataset shape', Counter(y_ros))\n"
   ]
  },
  {
   "cell_type": "code",
   "execution_count": 121,
   "id": "0783b8e6",
   "metadata": {},
   "outputs": [
    {
     "name": "stdout",
     "output_type": "stream",
     "text": [
      "Original dataset shape: Counter({1: 1080, 0: 120})\n",
      "Resample dataset shape: Counter({0: 120, 1: 120})\n"
     ]
    }
   ],
   "source": [
    "# importing the module\n",
    "from imblearn.under_sampling import NearMiss\n",
    "\n",
    "# initializing nearmiss\n",
    "nm = NearMiss()\n",
    "\n",
    "# training the model\n",
    "x_nm, y_nm = nm.fit_resample(X, y)\n",
    "\n",
    "# handle imbalanced data in machine learning\n",
    "print('Original dataset shape:', Counter(y))\n",
    "print('Resample dataset shape:', Counter(y_nm))"
   ]
  },
  {
   "cell_type": "code",
   "execution_count": null,
   "id": "e7e91275",
   "metadata": {},
   "outputs": [],
   "source": []
  }
 ],
 "metadata": {
  "kernelspec": {
   "display_name": "Python 3 (ipykernel)",
   "language": "python",
   "name": "python3"
  },
  "language_info": {
   "codemirror_mode": {
    "name": "ipython",
    "version": 3
   },
   "file_extension": ".py",
   "mimetype": "text/x-python",
   "name": "python",
   "nbconvert_exporter": "python",
   "pygments_lexer": "ipython3",
   "version": "3.10.6"
  }
 },
 "nbformat": 4,
 "nbformat_minor": 5
}
