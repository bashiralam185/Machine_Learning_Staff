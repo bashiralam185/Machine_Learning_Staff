{
 "cells": [
  {
   "cell_type": "code",
   "execution_count": 3,
   "id": "5c446dd3",
   "metadata": {},
   "outputs": [],
   "source": [
    "# creating sets in Python\n",
    "A = {1,2,3,4,5,6,7,8}\n",
    "B = {4,5,6,7,8,9,0,10,11}"
   ]
  },
  {
   "cell_type": "code",
   "execution_count": 4,
   "id": "69ffa675",
   "metadata": {},
   "outputs": [
    {
     "name": "stdout",
     "output_type": "stream",
     "text": [
      "{0, 1, 2, 3, 9, 10, 11}\n"
     ]
    }
   ],
   "source": [
    "# returns the symmetric difference \n",
    "result = A.symmetric_difference(B)\n",
    "\n",
    "# printing the result\n",
    "print(result)"
   ]
  },
  {
   "cell_type": "code",
   "execution_count": 6,
   "id": "fb4a1b93",
   "metadata": {},
   "outputs": [
    {
     "name": "stdout",
     "output_type": "stream",
     "text": [
      "set()\n"
     ]
    }
   ],
   "source": [
    "# returns the symmetric difference \n",
    "result = B.symmetric_difference(B)\n",
    "\n",
    "# printing the result\n",
    "print(result)"
   ]
  },
  {
   "cell_type": "code",
   "execution_count": 7,
   "id": "7d0ea532",
   "metadata": {},
   "outputs": [],
   "source": []
  },
  {
   "cell_type": "code",
   "execution_count": 10,
   "id": "8f33652c",
   "metadata": {},
   "outputs": [
    {
     "name": "stdout",
     "output_type": "stream",
     "text": [
      "{0, 1, 6, 7, 8, 11, 12, 13, 14, 15, 16}\n"
     ]
    }
   ],
   "source": [
    "# creating sets in Python\n",
    "A = {1,2,3,4,5,6,7,8}\n",
    "B = {4,5,6,7,8,9,0,10,11}\n",
    "C = { 2,6,8,10,12,14,16}\n",
    "D = {3,7,9,13,15}\n",
    "\n",
    "# returns the symmetric difference \n",
    "result = A.symmetric_difference(B.symmetric_difference(C.symmetric_difference(D)))\n",
    "\n",
    "# printing the result\n",
    "print(result)"
   ]
  },
  {
   "cell_type": "code",
   "execution_count": 11,
   "id": "a88a9f9c",
   "metadata": {},
   "outputs": [
    {
     "name": "stdout",
     "output_type": "stream",
     "text": [
      "{0, 1, 2, 3, 9, 10, 11}\n"
     ]
    }
   ],
   "source": [
    "# creating sets in Python\n",
    "A = {1,2,3,4,5,6,7,8}\n",
    "B = {4,5,6,7,8,9,0,10,11}\n",
    "\n",
    "# works as (A).symmetric_difference(B)\n",
    "print(A ^ B)"
   ]
  },
  {
   "cell_type": "code",
   "execution_count": 12,
   "id": "521c94e1",
   "metadata": {},
   "outputs": [
    {
     "name": "stdout",
     "output_type": "stream",
     "text": [
      "{0, 1, 2, 3, 9, 10, 11}\n"
     ]
    }
   ],
   "source": [
    "# creating sets in Python\n",
    "A = {1,2,3,4,5,6,7,8}\n",
    "B = {4,5,6,7,8,9,0,10,11}\n",
    "\n",
    "# works as (A).symmetric_difference(B)\n",
    "print(B ^ A)"
   ]
  },
  {
   "cell_type": "code",
   "execution_count": 14,
   "id": "84b00e63",
   "metadata": {},
   "outputs": [
    {
     "name": "stdout",
     "output_type": "stream",
     "text": [
      "{0, 1, 6, 7, 8, 11, 12, 13, 14, 15, 16}\n"
     ]
    }
   ],
   "source": [
    "# creating sets in Python\n",
    "A = {1,2,3,4,5,6,7,8}\n",
    "B = {4,5,6,7,8,9,0,10,11}\n",
    "C = { 2,6,8,10,12,14,16}\n",
    "D = {3,7,9,13,15}\n",
    "\n",
    "# works as (A).symmetric_difference(B)\n",
    "print(C ^ A ^ B ^ D)"
   ]
  },
  {
   "cell_type": "code",
   "execution_count": null,
   "id": "2251e53f",
   "metadata": {},
   "outputs": [],
   "source": []
  }
 ],
 "metadata": {
  "kernelspec": {
   "display_name": "Python 3 (ipykernel)",
   "language": "python",
   "name": "python3"
  },
  "language_info": {
   "codemirror_mode": {
    "name": "ipython",
    "version": 3
   },
   "file_extension": ".py",
   "mimetype": "text/x-python",
   "name": "python",
   "nbconvert_exporter": "python",
   "pygments_lexer": "ipython3",
   "version": "3.10.6"
  }
 },
 "nbformat": 4,
 "nbformat_minor": 5
}
